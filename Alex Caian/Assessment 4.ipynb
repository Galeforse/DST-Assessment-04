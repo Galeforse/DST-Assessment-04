{
 "cells": [
  {
   "cell_type": "markdown",
   "metadata": {},
   "source": [
    "## 1. Pre-requisites"
   ]
  },
  {
   "cell_type": "code",
   "execution_count": 1,
   "metadata": {},
   "outputs": [
    {
     "name": "stderr",
     "output_type": "stream",
     "text": [
      "Warning message:\n",
      "\"package 'plotrix' was built under R version 3.6.3\"Warning message:\n",
      "\"package 'mice' was built under R version 3.6.3\"\n",
      "Attaching package: 'mice'\n",
      "\n",
      "The following object is masked from 'package:stats':\n",
      "\n",
      "    filter\n",
      "\n",
      "The following objects are masked from 'package:base':\n",
      "\n",
      "    cbind, rbind\n",
      "\n",
      "Warning message:\n",
      "\"package 'VIM' was built under R version 3.6.3\"Loading required package: colorspace\n",
      "Loading required package: grid\n",
      "Loading required package: data.table\n",
      "VIM is ready to use. \n",
      " Since version 4.0.0 the GUI is in its own package VIMGUI.\n",
      "\n",
      "          Please use the package to use the new (and old) GUI.\n",
      "\n",
      "Suggestions and bug-reports can be submitted at: https://github.com/alexkowa/VIM/issues\n",
      "\n",
      "Attaching package: 'VIM'\n",
      "\n",
      "The following object is masked from 'package:datasets':\n",
      "\n",
      "    sleep\n",
      "\n",
      "Warning message:\n",
      "\"package 'lattice' was built under R version 3.6.3\"Warning message:\n",
      "\"package 'tidyr' was built under R version 3.6.3\"Warning message:\n",
      "\"package 'dplyr' was built under R version 3.6.3\"\n",
      "Attaching package: 'dplyr'\n",
      "\n",
      "The following objects are masked from 'package:data.table':\n",
      "\n",
      "    between, first, last\n",
      "\n",
      "The following objects are masked from 'package:stats':\n",
      "\n",
      "    filter, lag\n",
      "\n",
      "The following objects are masked from 'package:base':\n",
      "\n",
      "    intersect, setdiff, setequal, union\n",
      "\n"
     ]
    }
   ],
   "source": [
    "# install.packages(\"plotrix\")\n",
    "# install.packages(\"mice\")\n",
    "# install.packages(\"VIM\")\n",
    "# install.packages(\"lattice\") \n",
    "# install.packages(\"tidyr\")\n",
    "\n",
    "set.seed(5)\n",
    "library(plotrix)\n",
    "library(mice)\n",
    "library(VIM)\n",
    "library(lattice)\n",
    "library(tidyr)\n",
    "library(dplyr)"
   ]
  },
  {
   "cell_type": "code",
   "execution_count": 2,
   "metadata": {},
   "outputs": [],
   "source": [
    "setwd(\"D://R-4.0.2//ExcelWorks\")\n",
    "df1 <- read.csv(file = \"UNS1.csv\", header = F, stringsAsFactors=FALSE)\n",
    "df2 <- read.csv(file = \"UNS2.csv\", header = F, stringsAsFactors=FALSE)\n",
    "df3 <- read.csv(file = \"UNS3.csv\", header = F, stringsAsFactors=FALSE)\n",
    "df4 <- read.csv(file = \"UNS4.csv\", header = F, stringsAsFactors=FALSE)"
   ]
  },
  {
   "cell_type": "code",
   "execution_count": 3,
   "metadata": {},
   "outputs": [],
   "source": [
    "df<- base::rbind(df1,df2,df3,df4)"
   ]
  },
  {
   "cell_type": "code",
   "execution_count": 4,
   "metadata": {},
   "outputs": [
    {
     "data": {
      "text/html": [
       "<table>\n",
       "<thead><tr><th scope=col>source_ip</th><th scope=col>source_port</th><th scope=col>dest_ip</th><th scope=col>dest_port</th><th scope=col>proto</th><th scope=col>state</th><th scope=col>duration</th><th scope=col>source_bytes</th><th scope=col>dest_bytes</th><th scope=col>source_ttl</th><th scope=col>...</th><th scope=col>count_ftp_cmd</th><th scope=col>count_srv_source</th><th scope=col>count_srv_dest</th><th scope=col>count_dest_ltm</th><th scope=col>count_source_ltm</th><th scope=col>count_source_destport_ltm</th><th scope=col>count_dest_sourceport_ltm</th><th scope=col>counts_dest_source_ltm</th><th scope=col>attack_cat</th><th scope=col>Label</th></tr></thead>\n",
       "<tbody>\n",
       "\t<tr><td>ï»¿59.166.0.0</td><td>1390         </td><td>149.171.126.6</td><td>53           </td><td>udp          </td><td>CON          </td><td>0.001055     </td><td>132          </td><td>164          </td><td>31           </td><td>...          </td><td>0            </td><td> 3           </td><td>7            </td><td>1            </td><td>3            </td><td>1            </td><td>1            </td><td>1            </td><td>             </td><td>0            </td></tr>\n",
       "\t<tr><td>59.166.0.0   </td><td>33661        </td><td>149.171.126.9</td><td>1024         </td><td>udp          </td><td>CON          </td><td>0.036133     </td><td>528          </td><td>304          </td><td>31           </td><td>...          </td><td>0            </td><td> 2           </td><td>4            </td><td>2            </td><td>3            </td><td>1            </td><td>1            </td><td>2            </td><td>             </td><td>0            </td></tr>\n",
       "\t<tr><td>59.166.0.6   </td><td>1464         </td><td>149.171.126.7</td><td>53           </td><td>udp          </td><td>CON          </td><td>0.001119     </td><td>146          </td><td>178          </td><td>31           </td><td>...          </td><td>0            </td><td>12           </td><td>8            </td><td>1            </td><td>2            </td><td>2            </td><td>1            </td><td>1            </td><td>             </td><td>0            </td></tr>\n",
       "\t<tr><td>59.166.0.5   </td><td>3593         </td><td>149.171.126.5</td><td>53           </td><td>udp          </td><td>CON          </td><td>0.001209     </td><td>132          </td><td>164          </td><td>31           </td><td>...          </td><td>0            </td><td> 6           </td><td>9            </td><td>1            </td><td>1            </td><td>1            </td><td>1            </td><td>1            </td><td>             </td><td>0            </td></tr>\n",
       "\t<tr><td>59.166.0.3   </td><td>49664        </td><td>149.171.126.0</td><td>53           </td><td>udp          </td><td>CON          </td><td>0.001169     </td><td>146          </td><td>178          </td><td>31           </td><td>...          </td><td>0            </td><td> 7           </td><td>9            </td><td>1            </td><td>1            </td><td>1            </td><td>1            </td><td>1            </td><td>             </td><td>0            </td></tr>\n",
       "\t<tr><td>59.166.0.0   </td><td>32119        </td><td>149.171.126.9</td><td>111          </td><td>udp          </td><td>CON          </td><td>0.078339     </td><td>568          </td><td>312          </td><td>31           </td><td>...          </td><td>0            </td><td> 2           </td><td>4            </td><td>2            </td><td>3            </td><td>1            </td><td>1            </td><td>2            </td><td>             </td><td>0            </td></tr>\n",
       "</tbody>\n",
       "</table>\n"
      ],
      "text/latex": [
       "\\begin{tabular}{r|lllllllllllllllllllllllllllllllllllllllllllllllll}\n",
       " source\\_ip & source\\_port & dest\\_ip & dest\\_port & proto & state & duration & source\\_bytes & dest\\_bytes & source\\_ttl & ... & count\\_ftp\\_cmd & count\\_srv\\_source & count\\_srv\\_dest & count\\_dest\\_ltm & count\\_source\\_ltm & count\\_source\\_destport\\_ltm & count\\_dest\\_sourceport\\_ltm & counts\\_dest\\_source\\_ltm & attack\\_cat & Label\\\\\n",
       "\\hline\n",
       "\t ï»¿59.166.0.0 & 1390          & 149.171.126.6 & 53            & udp           & CON           & 0.001055      & 132           & 164           & 31            & ...           & 0             &  3            & 7             & 1             & 3             & 1             & 1             & 1             &               & 0            \\\\\n",
       "\t 59.166.0.0    & 33661         & 149.171.126.9 & 1024          & udp           & CON           & 0.036133      & 528           & 304           & 31            & ...           & 0             &  2            & 4             & 2             & 3             & 1             & 1             & 2             &               & 0            \\\\\n",
       "\t 59.166.0.6    & 1464          & 149.171.126.7 & 53            & udp           & CON           & 0.001119      & 146           & 178           & 31            & ...           & 0             & 12            & 8             & 1             & 2             & 2             & 1             & 1             &               & 0            \\\\\n",
       "\t 59.166.0.5    & 3593          & 149.171.126.5 & 53            & udp           & CON           & 0.001209      & 132           & 164           & 31            & ...           & 0             &  6            & 9             & 1             & 1             & 1             & 1             & 1             &               & 0            \\\\\n",
       "\t 59.166.0.3    & 49664         & 149.171.126.0 & 53            & udp           & CON           & 0.001169      & 146           & 178           & 31            & ...           & 0             &  7            & 9             & 1             & 1             & 1             & 1             & 1             &               & 0            \\\\\n",
       "\t 59.166.0.0    & 32119         & 149.171.126.9 & 111           & udp           & CON           & 0.078339      & 568           & 312           & 31            & ...           & 0             &  2            & 4             & 2             & 3             & 1             & 1             & 2             &               & 0            \\\\\n",
       "\\end{tabular}\n"
      ],
      "text/markdown": [
       "\n",
       "| source_ip | source_port | dest_ip | dest_port | proto | state | duration | source_bytes | dest_bytes | source_ttl | ... | count_ftp_cmd | count_srv_source | count_srv_dest | count_dest_ltm | count_source_ltm | count_source_destport_ltm | count_dest_sourceport_ltm | counts_dest_source_ltm | attack_cat | Label |\n",
       "|---|---|---|---|---|---|---|---|---|---|---|---|---|---|---|---|---|---|---|---|---|\n",
       "| ï»¿59.166.0.0 | 1390          | 149.171.126.6 | 53            | udp           | CON           | 0.001055      | 132           | 164           | 31            | ...           | 0             |  3            | 7             | 1             | 3             | 1             | 1             | 1             |               | 0             |\n",
       "| 59.166.0.0    | 33661         | 149.171.126.9 | 1024          | udp           | CON           | 0.036133      | 528           | 304           | 31            | ...           | 0             |  2            | 4             | 2             | 3             | 1             | 1             | 2             |               | 0             |\n",
       "| 59.166.0.6    | 1464          | 149.171.126.7 | 53            | udp           | CON           | 0.001119      | 146           | 178           | 31            | ...           | 0             | 12            | 8             | 1             | 2             | 2             | 1             | 1             |               | 0             |\n",
       "| 59.166.0.5    | 3593          | 149.171.126.5 | 53            | udp           | CON           | 0.001209      | 132           | 164           | 31            | ...           | 0             |  6            | 9             | 1             | 1             | 1             | 1             | 1             |               | 0             |\n",
       "| 59.166.0.3    | 49664         | 149.171.126.0 | 53            | udp           | CON           | 0.001169      | 146           | 178           | 31            | ...           | 0             |  7            | 9             | 1             | 1             | 1             | 1             | 1             |               | 0             |\n",
       "| 59.166.0.0    | 32119         | 149.171.126.9 | 111           | udp           | CON           | 0.078339      | 568           | 312           | 31            | ...           | 0             |  2            | 4             | 2             | 3             | 1             | 1             | 2             |               | 0             |\n",
       "\n"
      ],
      "text/plain": [
       "  source_ip     source_port dest_ip       dest_port proto state duration\n",
       "1 ï»¿59.166.0.0 1390        149.171.126.6 53        udp   CON   0.001055\n",
       "2 59.166.0.0    33661       149.171.126.9 1024      udp   CON   0.036133\n",
       "3 59.166.0.6    1464        149.171.126.7 53        udp   CON   0.001119\n",
       "4 59.166.0.5    3593        149.171.126.5 53        udp   CON   0.001209\n",
       "5 59.166.0.3    49664       149.171.126.0 53        udp   CON   0.001169\n",
       "6 59.166.0.0    32119       149.171.126.9 111       udp   CON   0.078339\n",
       "  source_bytes dest_bytes source_ttl ... count_ftp_cmd count_srv_source\n",
       "1 132          164        31         ... 0              3              \n",
       "2 528          304        31         ... 0              2              \n",
       "3 146          178        31         ... 0             12              \n",
       "4 132          164        31         ... 0              6              \n",
       "5 146          178        31         ... 0              7              \n",
       "6 568          312        31         ... 0              2              \n",
       "  count_srv_dest count_dest_ltm count_source_ltm count_source_destport_ltm\n",
       "1 7              1              3                1                        \n",
       "2 4              2              3                1                        \n",
       "3 8              1              2                2                        \n",
       "4 9              1              1                1                        \n",
       "5 9              1              1                1                        \n",
       "6 4              2              3                1                        \n",
       "  count_dest_sourceport_ltm counts_dest_source_ltm attack_cat Label\n",
       "1 1                         1                                 0    \n",
       "2 1                         2                                 0    \n",
       "3 1                         1                                 0    \n",
       "4 1                         1                                 0    \n",
       "5 1                         1                                 0    \n",
       "6 1                         2                                 0    "
      ]
     },
     "metadata": {},
     "output_type": "display_data"
    }
   ],
   "source": [
    "colnames(df) <- c('source_ip', 'source_port', 'dest_ip', 'dest_port', 'proto', 'state', 'duration', 'source_bytes', 'dest_bytes', 'source_ttl',\n",
    "'dest_ttl', 'source_loss', 'dest_loss', 'service', 'source_load', 'dest_load', 'source_pkts', 'dest_pkts', 'source_TP_win', 'dest_TP_win', \n",
    "'source_tcp_bn', 'dest_tcp_bn', 'source_mean_sz', 'dest_mean_sz', 'trans_depth', 'res_bdy_len', 'source_jitter', 'dest_jitter', 'start_time',\n",
    "'last_time', 'source_int_pk_time', 'dest_int_pk_time', 'tcp_rtt', 'synack', 'ackdat', 'is_sm_ips_ports', 'count_state_ttl', \n",
    "'count_flw_http_mthd', 'is_ftp_login', 'count_ftp_cmd', 'count_srv_source', 'count_srv_dest', 'count_dest_ltm',\n",
    "'count_source_ltm', 'count_source_destport_ltm', 'count_dest_sourceport_ltm', 'counts_dest_source_ltm', 'attack_cat', 'Label')\n",
    "head(df)\n"
   ]
  },
  {
   "cell_type": "code",
   "execution_count": 5,
   "metadata": {},
   "outputs": [
    {
     "data": {
      "text/plain": [
       "\n",
       "                          Fuzzers         Fuzzers   Reconnaissance  \n",
       "         2218764             5051            19195            12228 \n",
       "      Shellcode          Analysis         Backdoor        Backdoors \n",
       "            1288             2677             1795              534 \n",
       "             DoS         Exploits          Generic   Reconnaissance \n",
       "           16353            44525           215481             1759 \n",
       "       Shellcode            Worms \n",
       "             223              174 "
      ]
     },
     "metadata": {},
     "output_type": "display_data"
    }
   ],
   "source": [
    "table(df$attack_cat) # This exhibits a couple of problems, most notable\n",
    "\t\t     # the NULL ones"
   ]
  },
  {
   "cell_type": "code",
   "execution_count": 6,
   "metadata": {},
   "outputs": [
    {
     "data": {
      "text/html": [
       "<strong> Fuzzers :</strong> 19195"
      ],
      "text/latex": [
       "\\textbf{ Fuzzers :} 19195"
      ],
      "text/markdown": [
       "** Fuzzers :** 19195"
      ],
      "text/plain": [
       " Fuzzers  \n",
       "    19195 "
      ]
     },
     "metadata": {},
     "output_type": "display_data"
    },
    {
     "data": {
      "text/html": [
       "<strong>Backdoors:</strong> 2329"
      ],
      "text/latex": [
       "\\textbf{Backdoors:} 2329"
      ],
      "text/markdown": [
       "**Backdoors:** 2329"
      ],
      "text/plain": [
       "Backdoors \n",
       "     2329 "
      ]
     },
     "metadata": {},
     "output_type": "display_data"
    },
    {
     "data": {
      "text/plain": [
       "\n",
       "        Fuzzers   Reconnaissance        Shellcode          Analysis \n",
       "           19195            12228             1288             2677 \n",
       "       Backdoors              DoS         Exploits          Generic \n",
       "            2329            16353            44525           215481 \n",
       "  Reconnaissance        Shellcode            Worms \n",
       "            1759              223              174 "
      ]
     },
     "metadata": {},
     "output_type": "display_data"
    }
   ],
   "source": [
    "t <- table(df$attack_cat, exclude = \"\")\n",
    "t[1] <- t[1] + t[2]\n",
    "t[2]\n",
    "t <- t[-1]\n",
    "t[6] <- t[5] + t[6]\n",
    "t[6]\n",
    "t<- t[-5]\n",
    "t"
   ]
  },
  {
   "cell_type": "code",
   "execution_count": 7,
   "metadata": {},
   "outputs": [
    {
     "data": {
      "text/html": [
       "<strong> Shellcode :</strong> 1511"
      ],
      "text/latex": [
       "\\textbf{ Shellcode :} 1511"
      ],
      "text/markdown": [
       "** Shellcode :** 1511"
      ],
      "text/plain": [
       " Shellcode  \n",
       "       1511 "
      ]
     },
     "metadata": {},
     "output_type": "display_data"
    },
    {
     "data": {
      "text/html": [
       "<strong> Reconnaissance :</strong> 13987"
      ],
      "text/latex": [
       "\\textbf{ Reconnaissance :} 13987"
      ],
      "text/markdown": [
       "** Reconnaissance :** 13987"
      ],
      "text/plain": [
       " Reconnaissance  \n",
       "           13987 "
      ]
     },
     "metadata": {},
     "output_type": "display_data"
    },
    {
     "data": {
      "text/plain": [
       "\n",
       "        Fuzzers   Reconnaissance        Shellcode          Analysis \n",
       "           19195            13987             1511             2677 \n",
       "       Backdoors              DoS         Exploits          Generic \n",
       "            2329            16353            44525           215481 \n",
       "           Worms \n",
       "             174 "
      ]
     },
     "metadata": {},
     "output_type": "display_data"
    }
   ],
   "source": [
    "t[3]<- t[3]+ t[10]\n",
    "t[3]\n",
    "t <- t[-10]\n",
    "t[2]<- t[2]+t[9]\n",
    "t[2]\n",
    "t<- t[-9]\n",
    "t"
   ]
  },
  {
   "cell_type": "code",
   "execution_count": 8,
   "metadata": {},
   "outputs": [
    {
     "data": {
      "image/png": "[encoded data removed]",
      "text/plain": [
       "Plot with title \"Breakdown of attack types\""
      ]
     },
     "metadata": {},
     "output_type": "display_data"
    }
   ],
   "source": [
    "pie3D(t, labels = names(t), explode = 0.2, theta = pi/4,\n",
    "labelcex= 1.35, radius = 1.1, main = \"Breakdown of attack types\")"
   ]
  },
  {
   "cell_type": "markdown",
   "metadata": {},
   "source": [
    "## 2.1 Data cleaning and dealing with missingness"
   ]
  },
  {
   "cell_type": "code",
   "execution_count": 9,
   "metadata": {},
   "outputs": [],
   "source": [
    "## First row has been corrupted by our binding for some reason:\n",
    "df<- df[-1,]"
   ]
  },
  {
   "cell_type": "code",
   "execution_count": 10,
   "metadata": {},
   "outputs": [
    {
     "data": {
      "text/plain": [
       "\n",
       "    10.40.170.2     10.40.182.1     10.40.182.3     10.40.182.6      10.40.85.1 \n",
       "           2094            3984            2105            3492            4018 \n",
       "    10.40.85.10     10.40.85.30       127.0.0.1   149.171.126.0   149.171.126.1 \n",
       "            793            2138               1             261             311 \n",
       " 149.171.126.10  149.171.126.11  149.171.126.12  149.171.126.13  149.171.126.14 \n",
       "          30365              28           16082             218           41047 \n",
       " 149.171.126.15  149.171.126.16  149.171.126.17  149.171.126.18  149.171.126.19 \n",
       "          44883               9              22           81680              21 \n",
       "  149.171.126.2   149.171.126.3   149.171.126.4   149.171.126.5   149.171.126.6 \n",
       "            295             311             300             339             298 \n",
       "  149.171.126.7   149.171.126.8   149.171.126.9    175.45.176.0    175.45.176.1 \n",
       "            270             291             285           82999          127998 \n",
       "   175.45.176.2    175.45.176.3 192.168.241.243      59.166.0.0      59.166.0.1 \n",
       "          32026          118673             108          197527          197680 \n",
       "     59.166.0.2      59.166.0.3      59.166.0.4      59.166.0.5      59.166.0.6 \n",
       "         197550          195953          197959          197626          189419 \n",
       "     59.166.0.7      59.166.0.8      59.166.0.9 \n",
       "         189059          189341          190187 "
      ]
     },
     "metadata": {},
     "output_type": "display_data"
    }
   ],
   "source": [
    "table(df$source_ip)"
   ]
  },
  {
   "cell_type": "code",
   "execution_count": 11,
   "metadata": {},
   "outputs": [
    {
     "name": "stdout",
     "output_type": "stream",
     "text": [
      "       source_ip source_port   dest_ip dest_port proto state duration\n",
      "500014 127.0.0.1       52129 127.0.0.1        25   tcp   RST  1.1e-05\n",
      "       source_bytes dest_bytes source_ttl dest_ttl source_loss dest_loss\n",
      "500014           60         40         64       64           0         0\n",
      "       service source_load dest_load source_pkts dest_pkts source_TP_win\n",
      "500014       -           0         0           1         1           255\n",
      "       dest_TP_win source_tcp_bn dest_tcp_bn source_mean_sz dest_mean_sz\n",
      "500014           0    2627775599           0             60           40\n",
      "       trans_depth res_bdy_len source_jitter dest_jitter start_time  last_time\n",
      "500014           0           0             0           0 1421946164 1421946164\n",
      "       source_int_pk_time dest_int_pk_time tcp_rtt synack ackdat\n",
      "500014                  0                0       0      0      0\n",
      "       is_sm_ips_ports count_state_ttl count_flw_http_mthd is_ftp_login\n",
      "500014               0               0                   0            0\n",
      "       count_ftp_cmd count_srv_source count_srv_dest count_dest_ltm\n",
      "500014             0                1              1              1\n",
      "       count_source_ltm count_source_destport_ltm count_dest_sourceport_ltm\n",
      "500014                1                         1                         1\n",
      "       counts_dest_source_ltm attack_cat Label\n",
      "500014                      1                0\n"
     ]
    }
   ],
   "source": [
    "# What's the unique IP case?\n",
    "print(df[df$source_ip==\"127.0.0.1\",])"
   ]
  },
  {
   "cell_type": "code",
   "execution_count": 12,
   "metadata": {},
   "outputs": [
    {
     "data": {
      "image/png": "[encoded data removed]",
      "text/plain": [
       "plot without title"
      ]
     },
     "metadata": {},
     "output_type": "display_data"
    },
    {
     "data": {
      "image/png": "[encoded data removed]",
      "text/plain": [
       "plot without title"
      ]
     },
     "metadata": {},
     "output_type": "display_data"
    },
    {
     "data": {
      "image/png": "[encoded data removed]",
      "text/plain": [
       "plot without title"
      ]
     },
     "metadata": {},
     "output_type": "display_data"
    },
    {
     "data": {
      "image/png": "[encoded data removed]",
      "text/plain": [
       "plot without title"
      ]
     },
     "metadata": {},
     "output_type": "display_data"
    },
    {
     "data": {
      "image/png": "[encoded data removed]",
      "text/plain": [
       "plot without title"
      ]
     },
     "metadata": {},
     "output_type": "display_data"
    },
    {
     "data": {
      "image/png": "[encoded data removed]",
      "text/plain": [
       "plot without title"
      ]
     },
     "metadata": {},
     "output_type": "display_data"
    },
    {
     "data": {
      "image/png": "[encoded data removed]",
      "text/plain": [
       "plot without title"
      ]
     },
     "metadata": {},
     "output_type": "display_data"
    },
    {
     "data": {
      "image/png": "[encoded data removed]",
      "text/plain": [
       "plot without title"
      ]
     },
     "metadata": {},
     "output_type": "display_data"
    },
    {
     "data": {
      "image/png": "[encoded data removed]",
      "text/plain": [
       "plot without title"
      ]
     },
     "metadata": {},
     "output_type": "display_data"
    }
   ],
   "source": [
    "op <- par(mfrow = c(3,3))\n",
    "for(i in 1:9) {\n",
    "\tset.seed(i)\n",
    "\tsome <- sample(1:nrow(df), round(nrow(df)*0.05))\n",
    "\tdf_t <- df[some, ]\n",
    "\taggr(df_t, col = c(2*i,2*i+1))\n",
    "\t}\n",
    "par(op)"
   ]
  },
  {
   "cell_type": "code",
   "execution_count": 13,
   "metadata": {},
   "outputs": [
    {
     "data": {
      "text/plain": [
       "\n",
       "      0       1       2       4 \n",
       "1066592   43389      30     156 "
      ]
     },
     "metadata": {},
     "output_type": "display_data"
    },
    {
     "data": {
      "text/html": [
       "FALSE"
      ],
      "text/latex": [
       "FALSE"
      ],
      "text/markdown": [
       "FALSE"
      ],
      "text/plain": [
       "[1] FALSE"
      ]
     },
     "metadata": {},
     "output_type": "display_data"
    }
   ],
   "source": [
    "## Lots of the missingness is spread across 3 main features\n",
    "table(df$is_ftp_login)\n",
    "identical(sum(table(df$is_ftp_login)), nrow(df)) # Should be TRUE, but it is FALSE\n",
    "\t## More than half of the data is missing in that \n",
    "    ## This missingness does NOT count towards the total amount of datapoints => 'spooky' missingness"
   ]
  },
  {
   "cell_type": "code",
   "execution_count": 14,
   "metadata": {},
   "outputs": [
    {
     "data": {
      "text/html": [
       "<ol class=list-inline>\n",
       "\t<li>TRUE</li>\n",
       "\t<li>TRUE</li>\n",
       "\t<li>TRUE</li>\n",
       "\t<li>TRUE</li>\n",
       "\t<li>TRUE</li>\n",
       "\t<li>TRUE</li>\n",
       "\t<li>TRUE</li>\n",
       "\t<li>TRUE</li>\n",
       "\t<li>TRUE</li>\n",
       "\t<li>TRUE</li>\n",
       "\t<li>TRUE</li>\n",
       "\t<li>TRUE</li>\n",
       "\t<li>TRUE</li>\n",
       "\t<li>TRUE</li>\n",
       "\t<li>TRUE</li>\n",
       "\t<li>TRUE</li>\n",
       "\t<li>TRUE</li>\n",
       "\t<li>TRUE</li>\n",
       "\t<li>TRUE</li>\n",
       "\t<li>TRUE</li>\n",
       "\t<li>TRUE</li>\n",
       "\t<li>TRUE</li>\n",
       "\t<li>TRUE</li>\n",
       "\t<li>TRUE</li>\n",
       "\t<li>TRUE</li>\n",
       "\t<li>TRUE</li>\n",
       "\t<li>TRUE</li>\n",
       "\t<li>TRUE</li>\n",
       "\t<li>TRUE</li>\n",
       "\t<li>TRUE</li>\n",
       "\t<li>TRUE</li>\n",
       "\t<li>TRUE</li>\n",
       "\t<li>TRUE</li>\n",
       "\t<li>TRUE</li>\n",
       "\t<li>TRUE</li>\n",
       "\t<li>TRUE</li>\n",
       "\t<li>TRUE</li>\n",
       "\t<li>FALSE</li>\n",
       "\t<li>FALSE</li>\n",
       "\t<li>FALSE</li>\n",
       "\t<li>TRUE</li>\n",
       "\t<li>TRUE</li>\n",
       "\t<li>TRUE</li>\n",
       "\t<li>TRUE</li>\n",
       "\t<li>TRUE</li>\n",
       "\t<li>TRUE</li>\n",
       "\t<li>TRUE</li>\n",
       "\t<li>TRUE</li>\n",
       "\t<li>TRUE</li>\n",
       "</ol>\n"
      ],
      "text/latex": [
       "\\begin{enumerate*}\n",
       "\\item TRUE\n",
       "\\item TRUE\n",
       "\\item TRUE\n",
       "\\item TRUE\n",
       "\\item TRUE\n",
       "\\item TRUE\n",
       "\\item TRUE\n",
       "\\item TRUE\n",
       "\\item TRUE\n",
       "\\item TRUE\n",
       "\\item TRUE\n",
       "\\item TRUE\n",
       "\\item TRUE\n",
       "\\item TRUE\n",
       "\\item TRUE\n",
       "\\item TRUE\n",
       "\\item TRUE\n",
       "\\item TRUE\n",
       "\\item TRUE\n",
       "\\item TRUE\n",
       "\\item TRUE\n",
       "\\item TRUE\n",
       "\\item TRUE\n",
       "\\item TRUE\n",
       "\\item TRUE\n",
       "\\item TRUE\n",
       "\\item TRUE\n",
       "\\item TRUE\n",
       "\\item TRUE\n",
       "\\item TRUE\n",
       "\\item TRUE\n",
       "\\item TRUE\n",
       "\\item TRUE\n",
       "\\item TRUE\n",
       "\\item TRUE\n",
       "\\item TRUE\n",
       "\\item TRUE\n",
       "\\item FALSE\n",
       "\\item FALSE\n",
       "\\item FALSE\n",
       "\\item TRUE\n",
       "\\item TRUE\n",
       "\\item TRUE\n",
       "\\item TRUE\n",
       "\\item TRUE\n",
       "\\item TRUE\n",
       "\\item TRUE\n",
       "\\item TRUE\n",
       "\\item TRUE\n",
       "\\end{enumerate*}\n"
      ],
      "text/markdown": [
       "1. TRUE\n",
       "2. TRUE\n",
       "3. TRUE\n",
       "4. TRUE\n",
       "5. TRUE\n",
       "6. TRUE\n",
       "7. TRUE\n",
       "8. TRUE\n",
       "9. TRUE\n",
       "10. TRUE\n",
       "11. TRUE\n",
       "12. TRUE\n",
       "13. TRUE\n",
       "14. TRUE\n",
       "15. TRUE\n",
       "16. TRUE\n",
       "17. TRUE\n",
       "18. TRUE\n",
       "19. TRUE\n",
       "20. TRUE\n",
       "21. TRUE\n",
       "22. TRUE\n",
       "23. TRUE\n",
       "24. TRUE\n",
       "25. TRUE\n",
       "26. TRUE\n",
       "27. TRUE\n",
       "28. TRUE\n",
       "29. TRUE\n",
       "30. TRUE\n",
       "31. TRUE\n",
       "32. TRUE\n",
       "33. TRUE\n",
       "34. TRUE\n",
       "35. TRUE\n",
       "36. TRUE\n",
       "37. TRUE\n",
       "38. FALSE\n",
       "39. FALSE\n",
       "40. FALSE\n",
       "41. TRUE\n",
       "42. TRUE\n",
       "43. TRUE\n",
       "44. TRUE\n",
       "45. TRUE\n",
       "46. TRUE\n",
       "47. TRUE\n",
       "48. TRUE\n",
       "49. TRUE\n",
       "\n",
       "\n"
      ],
      "text/plain": [
       " [1]  TRUE  TRUE  TRUE  TRUE  TRUE  TRUE  TRUE  TRUE  TRUE  TRUE  TRUE  TRUE\n",
       "[13]  TRUE  TRUE  TRUE  TRUE  TRUE  TRUE  TRUE  TRUE  TRUE  TRUE  TRUE  TRUE\n",
       "[25]  TRUE  TRUE  TRUE  TRUE  TRUE  TRUE  TRUE  TRUE  TRUE  TRUE  TRUE  TRUE\n",
       "[37]  TRUE FALSE FALSE FALSE  TRUE  TRUE  TRUE  TRUE  TRUE  TRUE  TRUE  TRUE\n",
       "[49]  TRUE"
      ]
     },
     "metadata": {},
     "output_type": "display_data"
    }
   ],
   "source": [
    "## Let's check the same result for the whole feature space\n",
    "## Check if all missingness in the data is 'spooky'\n",
    "idt <- vector(len = ncol(df))\n",
    "for(i in 1:ncol(df)) {\n",
    "\tidt[i]<- identical(sum(table(df[,i])), nrow(df))\n",
    "\t\t}\n",
    "idt"
   ]
  },
  {
   "cell_type": "code",
   "execution_count": 15,
   "metadata": {},
   "outputs": [
    {
     "name": "stdout",
     "output_type": "stream",
     "text": [
      "[1] \"The number of anomalous features is 3\"\n"
     ]
    }
   ],
   "source": [
    "p<- paste(\"The number of anomalous features is\", ncol(df)-sum(idt), sep=\" \")\n",
    "print(p)"
   ]
  },
  {
   "cell_type": "code",
   "execution_count": 16,
   "metadata": {},
   "outputs": [
    {
     "data": {
      "text/html": [
       "<table>\n",
       "<thead><tr><th scope=col>login</th><th scope=col>cmd</th><th scope=col>http</th></tr></thead>\n",
       "<tbody>\n",
       "\t<tr><td>0</td><td>0</td><td>0</td></tr>\n",
       "\t<tr><td>0</td><td>0</td><td>0</td></tr>\n",
       "\t<tr><td>0</td><td>0</td><td>0</td></tr>\n",
       "\t<tr><td>0</td><td>0</td><td>0</td></tr>\n",
       "\t<tr><td>0</td><td>0</td><td>0</td></tr>\n",
       "\t<tr><td>0</td><td>0</td><td>0</td></tr>\n",
       "\t<tr><td>0</td><td>0</td><td>0</td></tr>\n",
       "\t<tr><td>0</td><td>0</td><td>0</td></tr>\n",
       "\t<tr><td>0</td><td>0</td><td>0</td></tr>\n",
       "\t<tr><td>0</td><td>0</td><td>0</td></tr>\n",
       "\t<tr><td>0</td><td>0</td><td>0</td></tr>\n",
       "\t<tr><td>0</td><td>0</td><td>0</td></tr>\n",
       "\t<tr><td>0</td><td>0</td><td>0</td></tr>\n",
       "\t<tr><td>0</td><td>0</td><td>0</td></tr>\n",
       "\t<tr><td>0</td><td>0</td><td>0</td></tr>\n",
       "\t<tr><td>0</td><td>0</td><td>0</td></tr>\n",
       "\t<tr><td>0</td><td>0</td><td>0</td></tr>\n",
       "\t<tr><td>0</td><td>0</td><td>0</td></tr>\n",
       "\t<tr><td>0</td><td>0</td><td>0</td></tr>\n",
       "\t<tr><td>0</td><td>0</td><td>0</td></tr>\n",
       "</tbody>\n",
       "</table>\n"
      ],
      "text/latex": [
       "\\begin{tabular}{r|lll}\n",
       " login & cmd & http\\\\\n",
       "\\hline\n",
       "\t 0 & 0 & 0\\\\\n",
       "\t 0 & 0 & 0\\\\\n",
       "\t 0 & 0 & 0\\\\\n",
       "\t 0 & 0 & 0\\\\\n",
       "\t 0 & 0 & 0\\\\\n",
       "\t 0 & 0 & 0\\\\\n",
       "\t 0 & 0 & 0\\\\\n",
       "\t 0 & 0 & 0\\\\\n",
       "\t 0 & 0 & 0\\\\\n",
       "\t 0 & 0 & 0\\\\\n",
       "\t 0 & 0 & 0\\\\\n",
       "\t 0 & 0 & 0\\\\\n",
       "\t 0 & 0 & 0\\\\\n",
       "\t 0 & 0 & 0\\\\\n",
       "\t 0 & 0 & 0\\\\\n",
       "\t 0 & 0 & 0\\\\\n",
       "\t 0 & 0 & 0\\\\\n",
       "\t 0 & 0 & 0\\\\\n",
       "\t 0 & 0 & 0\\\\\n",
       "\t 0 & 0 & 0\\\\\n",
       "\\end{tabular}\n"
      ],
      "text/markdown": [
       "\n",
       "| login | cmd | http |\n",
       "|---|---|---|\n",
       "| 0 | 0 | 0 |\n",
       "| 0 | 0 | 0 |\n",
       "| 0 | 0 | 0 |\n",
       "| 0 | 0 | 0 |\n",
       "| 0 | 0 | 0 |\n",
       "| 0 | 0 | 0 |\n",
       "| 0 | 0 | 0 |\n",
       "| 0 | 0 | 0 |\n",
       "| 0 | 0 | 0 |\n",
       "| 0 | 0 | 0 |\n",
       "| 0 | 0 | 0 |\n",
       "| 0 | 0 | 0 |\n",
       "| 0 | 0 | 0 |\n",
       "| 0 | 0 | 0 |\n",
       "| 0 | 0 | 0 |\n",
       "| 0 | 0 | 0 |\n",
       "| 0 | 0 | 0 |\n",
       "| 0 | 0 | 0 |\n",
       "| 0 | 0 | 0 |\n",
       "| 0 | 0 | 0 |\n",
       "\n"
      ],
      "text/plain": [
       "   login cmd http\n",
       "1  0     0   0   \n",
       "2  0     0   0   \n",
       "3  0     0   0   \n",
       "4  0     0   0   \n",
       "5  0     0   0   \n",
       "6  0     0   0   \n",
       "7  0     0   0   \n",
       "8  0     0   0   \n",
       "9  0     0   0   \n",
       "10 0     0   0   \n",
       "11 0     0   0   \n",
       "12 0     0   0   \n",
       "13 0     0   0   \n",
       "14 0     0   0   \n",
       "15 0     0   0   \n",
       "16 0     0   0   \n",
       "17 0     0   0   \n",
       "18 0     0   0   \n",
       "19 0     0   0   \n",
       "20 0     0   0   "
      ]
     },
     "metadata": {},
     "output_type": "display_data"
    },
    {
     "data": {
      "text/plain": [
       "\n",
       "      0       1       2       4 \n",
       "1066592   43389      30     156 "
      ]
     },
     "metadata": {},
     "output_type": "display_data"
    },
    {
     "data": {
      "text/plain": [
       "\n",
       "      0       1       2       3       4       5       6       8 \n",
       "1066497   40077    1264     729     960     290     332      18 "
      ]
     },
     "metadata": {},
     "output_type": "display_data"
    },
    {
     "data": {
      "text/plain": [
       "\n",
       "     0      1      2      3      4      5      6      8      9     10     12 \n",
       "986790 188008    588    738   6564    430   7902     56    270     30    132 \n",
       "    14     16     25     30     36 \n",
       "   224     48     25     60     36 "
      ]
     },
     "metadata": {},
     "output_type": "display_data"
    }
   ],
   "source": [
    "## Using the missingness visualisation, we deduce a strong correlation between the\n",
    "## missingness of the three features, and can also identify them as:\n",
    "\n",
    "df_miss <- cbind(df$is_ftp_login, df$count_ftp_cmd, df$count_flw_http_mthd)\n",
    "colnames(df_miss) <- c(\"login\", \"cmd\", \"http\")\n",
    "df_miss <- as.data.frame(df_miss)\n",
    "head(df_miss, 20) # Still too large to work with, easy trick:\n",
    "table(df_miss$login)\n",
    "table(df_miss$cmd)\n",
    "table(df_miss$http)"
   ]
  },
  {
   "cell_type": "code",
   "execution_count": 17,
   "metadata": {},
   "outputs": [
    {
     "data": {
      "text/html": [
       "<ol class=list-inline>\n",
       "\t<li>1430065</li>\n",
       "\t<li>3</li>\n",
       "</ol>\n"
      ],
      "text/latex": [
       "\\begin{enumerate*}\n",
       "\\item 1430065\n",
       "\\item 3\n",
       "\\end{enumerate*}\n"
      ],
      "text/markdown": [
       "1. 1430065\n",
       "2. 3\n",
       "\n",
       "\n"
      ],
      "text/plain": [
       "[1] 1430065       3"
      ]
     },
     "metadata": {},
     "output_type": "display_data"
    },
    {
     "data": {
      "text/html": [
       "<table>\n",
       "<thead><tr><th></th><th scope=col>login</th><th scope=col>cmd</th><th scope=col>http</th></tr></thead>\n",
       "<tbody>\n",
       "\t<tr><th scope=row>NA</th><td>NA</td><td>NA</td><td>NA</td></tr>\n",
       "\t<tr><th scope=row>NA.1</th><td>NA</td><td>NA</td><td>NA</td></tr>\n",
       "\t<tr><th scope=row>NA.2</th><td>NA</td><td>NA</td><td>NA</td></tr>\n",
       "\t<tr><th scope=row>NA.3</th><td>NA</td><td>NA</td><td>NA</td></tr>\n",
       "\t<tr><th scope=row>NA.4</th><td>NA</td><td>NA</td><td>NA</td></tr>\n",
       "\t<tr><th scope=row>NA.5</th><td>NA</td><td>NA</td><td>NA</td></tr>\n",
       "\t<tr><th scope=row>NA.6</th><td>NA</td><td>NA</td><td>NA</td></tr>\n",
       "\t<tr><th scope=row>NA.7</th><td>NA</td><td>NA</td><td>NA</td></tr>\n",
       "\t<tr><th scope=row>NA.8</th><td>NA</td><td>NA</td><td>NA</td></tr>\n",
       "\t<tr><th scope=row>NA.9</th><td>NA</td><td>NA</td><td>NA</td></tr>\n",
       "\t<tr><th scope=row>NA.10</th><td>NA</td><td>NA</td><td>NA</td></tr>\n",
       "\t<tr><th scope=row>NA.11</th><td>NA</td><td>NA</td><td>NA</td></tr>\n",
       "\t<tr><th scope=row>NA.12</th><td>NA</td><td>NA</td><td>NA</td></tr>\n",
       "\t<tr><th scope=row>NA.13</th><td>NA</td><td>NA</td><td>NA</td></tr>\n",
       "\t<tr><th scope=row>NA.14</th><td>NA</td><td>NA</td><td>NA</td></tr>\n",
       "</tbody>\n",
       "</table>\n"
      ],
      "text/latex": [
       "\\begin{tabular}{r|lll}\n",
       "  & login & cmd & http\\\\\n",
       "\\hline\n",
       "\tNA & NA & NA & NA\\\\\n",
       "\tNA.1 & NA & NA & NA\\\\\n",
       "\tNA.2 & NA & NA & NA\\\\\n",
       "\tNA.3 & NA & NA & NA\\\\\n",
       "\tNA.4 & NA & NA & NA\\\\\n",
       "\tNA.5 & NA & NA & NA\\\\\n",
       "\tNA.6 & NA & NA & NA\\\\\n",
       "\tNA.7 & NA & NA & NA\\\\\n",
       "\tNA.8 & NA & NA & NA\\\\\n",
       "\tNA.9 & NA & NA & NA\\\\\n",
       "\tNA.10 & NA & NA & NA\\\\\n",
       "\tNA.11 & NA & NA & NA\\\\\n",
       "\tNA.12 & NA & NA & NA\\\\\n",
       "\tNA.13 & NA & NA & NA\\\\\n",
       "\tNA.14 & NA & NA & NA\\\\\n",
       "\\end{tabular}\n"
      ],
      "text/markdown": [
       "\n",
       "| <!--/--> | login | cmd | http |\n",
       "|---|---|---|---|\n",
       "| NA | NA | NA | NA |\n",
       "| NA.1 | NA | NA | NA |\n",
       "| NA.2 | NA | NA | NA |\n",
       "| NA.3 | NA | NA | NA |\n",
       "| NA.4 | NA | NA | NA |\n",
       "| NA.5 | NA | NA | NA |\n",
       "| NA.6 | NA | NA | NA |\n",
       "| NA.7 | NA | NA | NA |\n",
       "| NA.8 | NA | NA | NA |\n",
       "| NA.9 | NA | NA | NA |\n",
       "| NA.10 | NA | NA | NA |\n",
       "| NA.11 | NA | NA | NA |\n",
       "| NA.12 | NA | NA | NA |\n",
       "| NA.13 | NA | NA | NA |\n",
       "| NA.14 | NA | NA | NA |\n",
       "\n"
      ],
      "text/plain": [
       "      login cmd http\n",
       "NA    NA    NA  NA  \n",
       "NA.1  NA    NA  NA  \n",
       "NA.2  NA    NA  NA  \n",
       "NA.3  NA    NA  NA  \n",
       "NA.4  NA    NA  NA  \n",
       "NA.5  NA    NA  NA  \n",
       "NA.6  NA    NA  NA  \n",
       "NA.7  NA    NA  NA  \n",
       "NA.8  NA    NA  NA  \n",
       "NA.9  NA    NA  NA  \n",
       "NA.10 NA    NA  NA  \n",
       "NA.11 NA    NA  NA  \n",
       "NA.12 NA    NA  NA  \n",
       "NA.13 NA    NA  NA  \n",
       "NA.14 NA    NA  NA  "
      ]
     },
     "metadata": {},
     "output_type": "display_data"
    }
   ],
   "source": [
    "df_miss_2 <- df_miss[df_miss$login!=0 & df_miss$login!=1, ]\n",
    "dim(df_miss_2) # Checks out\n",
    "head(df_miss_2, 15)\n",
    "    ## We found the root of the problem. Weirdly enough, the lines themselves are listed across as\n",
    "\t## NA.1, NA.2 etc. - which is why table() failed to pick them up.\n"
   ]
  },
  {
   "cell_type": "code",
   "execution_count": 18,
   "metadata": {},
   "outputs": [
    {
     "data": {
      "text/html": [
       "<ol class=list-inline>\n",
       "\t<li>0</li>\n",
       "\t<li>0</li>\n",
       "\t<li>0</li>\n",
       "</ol>\n"
      ],
      "text/latex": [
       "\\begin{enumerate*}\n",
       "\\item 0\n",
       "\\item 0\n",
       "\\item 0\n",
       "\\end{enumerate*}\n"
      ],
      "text/markdown": [
       "1. 0\n",
       "2. 0\n",
       "3. 0\n",
       "\n",
       "\n"
      ],
      "text/plain": [
       "[1] 0 0 0"
      ]
     },
     "metadata": {},
     "output_type": "display_data"
    }
   ],
   "source": [
    "l1 <- median(df_miss$login, na.rm = TRUE)\n",
    "l2 <- median(df_miss$cmd, na.rm = TRUE)\n",
    "l3 <- median(df_miss$http, na.rm = TRUE)\n",
    "c(l1,l2,l3) # All 0"
   ]
  },
  {
   "cell_type": "code",
   "execution_count": 19,
   "metadata": {},
   "outputs": [],
   "source": [
    "###### FAILED REPLACEMENT ATTEMPT\n",
    "r1<- replace_na(data = df_miss$login, replace = l1)\n",
    "r2<- replace_na(data = df_miss$cmd, replace = l2)\n",
    "r3<- replace_na(data = df_miss$http, replace = l3)\n",
    "\n",
    "l<- 3*nrow(df_miss) - (sum(table(df_miss$login))+sum(table(df_miss$cmd))+sum(table(df_miss$http)))\n",
    "ll<- as.list(rep(0, times = l))\n",
    "dd <- replace_na(data = df_miss, replace = ll)\n",
    "###### END OF FAILED REPLACEMENT ATTEMPT"
   ]
  },
  {
   "cell_type": "code",
   "execution_count": 20,
   "metadata": {},
   "outputs": [
    {
     "data": {
      "text/plain": [
       "\n",
       "      0       1       2       4 \n",
       "1066592   43389      30     156 "
      ]
     },
     "metadata": {},
     "output_type": "display_data"
    }
   ],
   "source": [
    "table(dd$login)\n",
    "    ## NAs aren't picked up properly (?)"
   ]
  },
  {
   "cell_type": "code",
   "execution_count": 22,
   "metadata": {},
   "outputs": [],
   "source": [
    "## GOOD attempt [With solution 1]\n",
    "df$is_ftp_login[is.na(df$is_ftp_login)] <- l1\n",
    "df$count_ftp_cmd[is.na(df$count_ftp_cmd)] <- l2\n",
    "df$count_flw_http_mthd[is.na(df$count_flw_http_mthd)] <- l3"
   ]
  },
  {
   "cell_type": "code",
   "execution_count": 27,
   "metadata": {},
   "outputs": [],
   "source": [
    "## GOOD attempt [With solution 2]\n",
    "# df$[is.na(df$is_ftp_login),] <- l1\n",
    "# df$[is.na(df$count_ftp_cmd),] <- l2\n",
    "# df$[is.na(df$count_flw_http_mthd),] <- l3"
   ]
  },
  {
   "cell_type": "code",
   "execution_count": 23,
   "metadata": {},
   "outputs": [
    {
     "name": "stdout",
     "output_type": "stream",
     "text": [
      "[1] \"The number of anomalous features is 0\"\n"
     ]
    }
   ],
   "source": [
    "## Let's check if it worked\n",
    "for(i in 1:ncol(df)) {\n",
    "\tidt[i]<- identical(sum(table(df[,i])), nrow(df))\n",
    "\t\t}\n",
    "p<- paste(\"The number of anomalous features is\", ncol(df)-sum(idt), sep=\" \")\n",
    "print(p)"
   ]
  },
  {
   "cell_type": "code",
   "execution_count": 25,
   "metadata": {},
   "outputs": [
    {
     "data": {
      "text/plain": [
       "\n",
       "      0       1       2       4 \n",
       "2496471   43389      30     156 "
      ]
     },
     "metadata": {},
     "output_type": "display_data"
    }
   ],
   "source": [
    "table(df$is_ftp_login)\n",
    "    ## We somehow got rid of the '2' and '4' as well in the process USING SOLUTION 2\n",
    "    ## We DO NOT get rid of them USING SOLUTION 1"
   ]
  },
  {
   "cell_type": "code",
   "execution_count": 26,
   "metadata": {},
   "outputs": [
    {
     "data": {
      "text/plain": [
       "\n",
       "    10.40.170.2     10.40.182.1     10.40.182.3     10.40.182.6      10.40.85.1 \n",
       "           2094            3984            2105            3492            4018 \n",
       "    10.40.85.10     10.40.85.30       127.0.0.1   149.171.126.0   149.171.126.1 \n",
       "            793            2138               1             261             311 \n",
       " 149.171.126.10  149.171.126.11  149.171.126.12  149.171.126.13  149.171.126.14 \n",
       "          30365              28           16082             218           41047 \n",
       " 149.171.126.15  149.171.126.16  149.171.126.17  149.171.126.18  149.171.126.19 \n",
       "          44883               9              22           81680              21 \n",
       "  149.171.126.2   149.171.126.3   149.171.126.4   149.171.126.5   149.171.126.6 \n",
       "            295             311             300             339             298 \n",
       "  149.171.126.7   149.171.126.8   149.171.126.9    175.45.176.0    175.45.176.1 \n",
       "            270             291             285           82999          127998 \n",
       "   175.45.176.2    175.45.176.3 192.168.241.243      59.166.0.0      59.166.0.1 \n",
       "          32026          118673             108          197527          197680 \n",
       "     59.166.0.2      59.166.0.3      59.166.0.4      59.166.0.5      59.166.0.6 \n",
       "         197550          195953          197959          197626          189419 \n",
       "     59.166.0.7      59.166.0.8      59.166.0.9 \n",
       "         189059          189341          190187 "
      ]
     },
     "metadata": {},
     "output_type": "display_data"
    }
   ],
   "source": [
    "table(df$source_ip)"
   ]
  },
  {
   "cell_type": "code",
   "execution_count": 28,
   "metadata": {},
   "outputs": [],
   "source": [
    "g1 <- grepl(pattern = \"59.166\", x= df$source_ip)\n",
    "s1<- sum(table(df$source_ip[g1]))\n",
    "s2<- sum(table(df$source_ip[df$source_ip!=0]))-s1\n",
    "g2 <- grepl(pattern = \"149.171\", x= df$dest_ip)\n",
    "s3<- sum(table(df$dest_ip[g2]))\n",
    "s4<- sum(table(df$dest_ip[df$dest_ip!=0]))-s3"
   ]
  },
  {
   "cell_type": "code",
   "execution_count": 29,
   "metadata": {},
   "outputs": [
    {
     "data": {
      "image/png": "[encoded data removed]",
      "text/plain": [
       "Plot with title \"Dest IPs\""
      ]
     },
     "metadata": {},
     "output_type": "display_data"
    }
   ],
   "source": [
    "op <- par(mfrow=c(1,2))\n",
    "pie3D(c(s1,s2), col=c(\"red\",\"blue\"), labels = c(\"59.166 IPs\", \"other IPs\"), main = \"Source IPs\", explode = 0.1, theta = pi/4)\n",
    "pie3D(c(s3,s4), col=c(\"red\",\"blue\"), labels = c(\"149.171 IPs\", \"other IPs\"), main = \"Dest IPs\", explode = 0.1, theta = pi/4)\n",
    "par(op)"
   ]
  },
  {
   "cell_type": "markdown",
   "metadata": {},
   "source": [
    "## 2.2 Facultative data cleaning"
   ]
  },
  {
   "cell_type": "code",
   "execution_count": 57,
   "metadata": {},
   "outputs": [
    {
     "data": {
      "text/plain": [
       "\n",
       "10.40.170.2 10.40.182.1 10.40.182.3 10.40.182.6  10.40.85.1 10.40.85.10 \n",
       "       2094        3984        2105        3492        4018         793 "
      ]
     },
     "metadata": {},
     "output_type": "display_data"
    },
    {
     "data": {
      "text/plain": [
       "\n",
       "  10.40.170.2 10.40.182.255   10.40.182.3   10.40.182.6  10.40.198.10 \n",
       "         2094          3480          3824            11           265 \n",
       "   10.40.85.1 \n",
       "         2407 "
      ]
     },
     "metadata": {},
     "output_type": "display_data"
    },
    {
     "data": {
      "text/plain": [
       "\n",
       "      3pc       a/n aes-sp3-d       any     argus      aris \n",
       "      137       137       137       411       137       137 "
      ]
     },
     "metadata": {},
     "output_type": "display_data"
    }
   ],
   "source": [
    "                          ## Carry on with this section ONLY IF you have zeroes in any of the following tables\n",
    "head(table(df$source_ip)) ## If you see any zeroes in here, you most likely used method 2 for cleaning\n",
    "head(table(df$dest_ip))\n",
    "head(table(df$proto))"
   ]
  },
  {
   "cell_type": "code",
   "execution_count": 30,
   "metadata": {},
   "outputs": [
    {
     "data": {
      "text/html": [
       "1"
      ],
      "text/latex": [
       "1"
      ],
      "text/markdown": [
       "1"
      ],
      "text/plain": [
       "[1] 1"
      ]
     },
     "metadata": {},
     "output_type": "display_data"
    },
    {
     "data": {
      "text/html": [
       "1"
      ],
      "text/latex": [
       "1"
      ],
      "text/markdown": [
       "1"
      ],
      "text/plain": [
       "[1] 1"
      ]
     },
     "metadata": {},
     "output_type": "display_data"
    }
   ],
   "source": [
    "tt1 <- table(df$source_ip[g1])\n",
    "probs1 <- vector(len = 10)\n",
    "for(i in 1:10) {\n",
    "    probs1[i] <- as.numeric(tt1[i]/s1)\n",
    "}\n",
    "\n",
    "tt2 <- table(df$dest_ip[g2])\n",
    "probs2 <- vector(len = 20)\n",
    "for(i in 1:20) {\n",
    "    probs2[i] <- as.numeric(tt2[i]/s3)\n",
    "}\n",
    "\n",
    "sum(probs1)\n",
    "sum(probs2)    # Should be 1, check"
   ]
  },
  {
   "cell_type": "code",
   "execution_count": 31,
   "metadata": {},
   "outputs": [
    {
     "data": {
      "text/html": [
       "<ol class=list-inline>\n",
       "\t<li>'59.166.0.1'</li>\n",
       "\t<li>'59.166.0.9'</li>\n",
       "\t<li>'59.166.0.7'</li>\n",
       "\t<li>'59.166.0.5'</li>\n",
       "\t<li>'59.166.0.1'</li>\n",
       "\t<li>'59.166.0.9'</li>\n",
       "</ol>\n"
      ],
      "text/latex": [
       "\\begin{enumerate*}\n",
       "\\item '59.166.0.1'\n",
       "\\item '59.166.0.9'\n",
       "\\item '59.166.0.7'\n",
       "\\item '59.166.0.5'\n",
       "\\item '59.166.0.1'\n",
       "\\item '59.166.0.9'\n",
       "\\end{enumerate*}\n"
      ],
      "text/markdown": [
       "1. '59.166.0.1'\n",
       "2. '59.166.0.9'\n",
       "3. '59.166.0.7'\n",
       "4. '59.166.0.5'\n",
       "5. '59.166.0.1'\n",
       "6. '59.166.0.9'\n",
       "\n",
       "\n"
      ],
      "text/plain": [
       "[1] \"59.166.0.1\" \"59.166.0.9\" \"59.166.0.7\" \"59.166.0.5\" \"59.166.0.1\"\n",
       "[6] \"59.166.0.9\""
      ]
     },
     "metadata": {},
     "output_type": "display_data"
    },
    {
     "data": {
      "text/html": [
       "1452844"
      ],
      "text/latex": [
       "1452844"
      ],
      "text/markdown": [
       "1452844"
      ],
      "text/plain": [
       "[1] 1452844"
      ]
     },
     "metadata": {},
     "output_type": "display_data"
    }
   ],
   "source": [
    "set.seed(5)\n",
    "repl1 <- sample(c(paste0(\"59.166.0.\", c(0:9))), size= 1452844, replace = TRUE, prob=probs1)\n",
    "head(repl1)\n",
    "length(repl1)"
   ]
  },
  {
   "cell_type": "code",
   "execution_count": 32,
   "metadata": {},
   "outputs": [
    {
     "data": {
      "text/html": [
       "<ol class=list-inline>\n",
       "\t<li>'149.171.126.14'</li>\n",
       "\t<li>'149.171.126.16'</li>\n",
       "\t<li>'149.171.126.6'</li>\n",
       "\t<li>'149.171.126.1'</li>\n",
       "\t<li>'149.171.126.12'</li>\n",
       "\t<li>'149.171.126.16'</li>\n",
       "</ol>\n"
      ],
      "text/latex": [
       "\\begin{enumerate*}\n",
       "\\item '149.171.126.14'\n",
       "\\item '149.171.126.16'\n",
       "\\item '149.171.126.6'\n",
       "\\item '149.171.126.1'\n",
       "\\item '149.171.126.12'\n",
       "\\item '149.171.126.16'\n",
       "\\end{enumerate*}\n"
      ],
      "text/markdown": [
       "1. '149.171.126.14'\n",
       "2. '149.171.126.16'\n",
       "3. '149.171.126.6'\n",
       "4. '149.171.126.1'\n",
       "5. '149.171.126.12'\n",
       "6. '149.171.126.16'\n",
       "\n",
       "\n"
      ],
      "text/plain": [
       "[1] \"149.171.126.14\" \"149.171.126.16\" \"149.171.126.6\"  \"149.171.126.1\" \n",
       "[5] \"149.171.126.12\" \"149.171.126.16\""
      ]
     },
     "metadata": {},
     "output_type": "display_data"
    },
    {
     "data": {
      "text/html": [
       "1452844"
      ],
      "text/latex": [
       "1452844"
      ],
      "text/markdown": [
       "1452844"
      ],
      "text/plain": [
       "[1] 1452844"
      ]
     },
     "metadata": {},
     "output_type": "display_data"
    }
   ],
   "source": [
    "set.seed(5)\n",
    "repl2 <- sample(c(paste0(\"149.171.126.\", c(0:19))), size= 1452844, replace = TRUE, prob=probs2)\n",
    "head(repl2)\n",
    "length(repl2)"
   ]
  },
  {
   "cell_type": "code",
   "execution_count": 33,
   "metadata": {},
   "outputs": [
    {
     "data": {
      "text/html": [
       "TRUE"
      ],
      "text/latex": [
       "TRUE"
      ],
      "text/markdown": [
       "TRUE"
      ],
      "text/plain": [
       "[1] TRUE"
      ]
     },
     "metadata": {},
     "output_type": "display_data"
    },
    {
     "data": {
      "text/html": [
       "TRUE"
      ],
      "text/latex": [
       "TRUE"
      ],
      "text/markdown": [
       "TRUE"
      ],
      "text/plain": [
       "[1] TRUE"
      ]
     },
     "metadata": {},
     "output_type": "display_data"
    }
   ],
   "source": [
    "# df$source_ip[df$source_ip == '0'] <- NA\n",
    "# df$source_ip[is.na(df$source_ip)] <- repl1\n",
    "identical(sum(table(df$source_ip)), nrow(df))\n",
    "\n",
    "# df$dest_ip[df$dest_ip == '0'] <- NA\n",
    "# df$dest_ip[is.na(df$dest_ip)] <- repl2\n",
    "identical(sum(table(df$dest_ip)), nrow(df))"
   ]
  },
  {
   "cell_type": "code",
   "execution_count": 34,
   "metadata": {},
   "outputs": [
    {
     "data": {
      "text/html": [
       "1"
      ],
      "text/latex": [
       "1"
      ],
      "text/markdown": [
       "1"
      ],
      "text/plain": [
       "[1] 1"
      ]
     },
     "metadata": {},
     "output_type": "display_data"
    }
   ],
   "source": [
    "probs3 <- vector(len = 3)\n",
    "ss <- 772181 + 301601 + 6556  # tcp + udp + arp\n",
    "probs3[1]=772181/ss\n",
    "probs3[2]=301601/ss\n",
    "probs3[3]=6556/ss\n",
    "\n",
    "sum(probs3)"
   ]
  },
  {
   "cell_type": "code",
   "execution_count": 35,
   "metadata": {},
   "outputs": [
    {
     "data": {
      "text/html": [
       "<ol class=list-inline>\n",
       "\t<li>'tcp'</li>\n",
       "\t<li>'tcp'</li>\n",
       "\t<li>'udp'</li>\n",
       "\t<li>'tcp'</li>\n",
       "\t<li>'tcp'</li>\n",
       "\t<li>'tcp'</li>\n",
       "</ol>\n"
      ],
      "text/latex": [
       "\\begin{enumerate*}\n",
       "\\item 'tcp'\n",
       "\\item 'tcp'\n",
       "\\item 'udp'\n",
       "\\item 'tcp'\n",
       "\\item 'tcp'\n",
       "\\item 'tcp'\n",
       "\\end{enumerate*}\n"
      ],
      "text/markdown": [
       "1. 'tcp'\n",
       "2. 'tcp'\n",
       "3. 'udp'\n",
       "4. 'tcp'\n",
       "5. 'tcp'\n",
       "6. 'tcp'\n",
       "\n",
       "\n"
      ],
      "text/plain": [
       "[1] \"tcp\" \"tcp\" \"udp\" \"tcp\" \"tcp\" \"tcp\""
      ]
     },
     "metadata": {},
     "output_type": "display_data"
    },
    {
     "data": {
      "text/html": [
       "1452844"
      ],
      "text/latex": [
       "1452844"
      ],
      "text/markdown": [
       "1452844"
      ],
      "text/plain": [
       "[1] 1452844"
      ]
     },
     "metadata": {},
     "output_type": "display_data"
    }
   ],
   "source": [
    "set.seed(5)\n",
    "repl3 <- sample(c(\"tcp\", \"udp\", \"arp\"), size = 1452844 , replace = TRUE, prob = probs3)\n",
    "head(repl3)\n",
    "length(repl3)"
   ]
  },
  {
   "cell_type": "code",
   "execution_count": 36,
   "metadata": {},
   "outputs": [
    {
     "data": {
      "text/html": [
       "TRUE"
      ],
      "text/latex": [
       "TRUE"
      ],
      "text/markdown": [
       "TRUE"
      ],
      "text/plain": [
       "[1] TRUE"
      ]
     },
     "metadata": {},
     "output_type": "display_data"
    }
   ],
   "source": [
    "# df$proto[df$proto == '0'] <- NA\n",
    "# df$proto[is.na(df$proto)] <- repl3\n",
    "identical(sum(table(df$proto)), nrow(df))\n",
    "        ## We've replaced the crucial ones, all others are very likely to be picked up by the NN since they're mostly unimportant for the analysis"
   ]
  },
  {
   "cell_type": "code",
   "execution_count": 37,
   "metadata": {},
   "outputs": [
    {
     "data": {
      "image/png": "[encoded data removed]",
      "text/plain": [
       "plot without title"
      ]
     },
     "metadata": {},
     "output_type": "display_data"
    }
   ],
   "source": [
    "tab <- table(df$proto)\n",
    "tab <- tab[order(tab, decreasing = TRUE)]\n",
    "\n",
    "pie3D(tab, labels=c(\"tcp\", \"udp\", \"others\"), col = c(2:length(tab)), explode = 0.1)"
   ]
  },
  {
   "cell_type": "markdown",
   "metadata": {},
   "source": [
    "## 3. 5-fold CV"
   ]
  },
  {
   "cell_type": "code",
   "execution_count": 46,
   "metadata": {},
   "outputs": [
    {
     "data": {
      "text/html": [
       "<table>\n",
       "<thead><tr><th></th><th scope=col>source_ip</th><th scope=col>source_port</th><th scope=col>dest_ip</th><th scope=col>dest_port</th><th scope=col>proto</th><th scope=col>state</th><th scope=col>duration</th><th scope=col>source_bytes</th><th scope=col>dest_bytes</th><th scope=col>source_ttl</th><th scope=col>...</th><th scope=col>count_ftp_cmd</th><th scope=col>count_srv_source</th><th scope=col>count_srv_dest</th><th scope=col>count_dest_ltm</th><th scope=col>count_source_ltm</th><th scope=col>count_source_destport_ltm</th><th scope=col>count_dest_sourceport_ltm</th><th scope=col>counts_dest_source_ltm</th><th scope=col>attack_cat</th><th scope=col>Label</th></tr></thead>\n",
       "<tbody>\n",
       "\t<tr><th scope=row>110444</th><td>59.166.0.0   </td><td>4248         </td><td>149.171.126.9</td><td>56378        </td><td>udp          </td><td>CON          </td><td> 0.002432    </td><td> 536         </td><td>  304        </td><td>31           </td><td>...          </td><td>0            </td><td>9            </td><td>4            </td><td>6            </td><td>8            </td><td>1            </td><td>1            </td><td>5            </td><td>             </td><td>0            </td></tr>\n",
       "\t<tr><th scope=row>701306</th><td>10.40.182.1  </td><td>0            </td><td>10.40.182.3  </td><td>0            </td><td>arp          </td><td>CON          </td><td>43.460464    </td><td>  84         </td><td>  138        </td><td> 0           </td><td>...          </td><td>0            </td><td>2            </td><td>2            </td><td>2            </td><td>2            </td><td>2            </td><td>2            </td><td>2            </td><td>             </td><td>0            </td></tr>\n",
       "\t<tr><th scope=row>1907784</th><td>59.166.0.7   </td><td>50980        </td><td>149.171.126.0</td><td>80           </td><td>tcp          </td><td>FIN          </td><td> 1.506006    </td><td>1684         </td><td>10168        </td><td>31           </td><td>...          </td><td>0            </td><td>3            </td><td>1            </td><td>1            </td><td>3            </td><td>2            </td><td>1            </td><td>1            </td><td>             </td><td>0            </td></tr>\n",
       "</tbody>\n",
       "</table>\n"
      ],
      "text/latex": [
       "\\begin{tabular}{r|lllllllllllllllllllllllllllllllllllllllllllllllll}\n",
       "  & source\\_ip & source\\_port & dest\\_ip & dest\\_port & proto & state & duration & source\\_bytes & dest\\_bytes & source\\_ttl & ... & count\\_ftp\\_cmd & count\\_srv\\_source & count\\_srv\\_dest & count\\_dest\\_ltm & count\\_source\\_ltm & count\\_source\\_destport\\_ltm & count\\_dest\\_sourceport\\_ltm & counts\\_dest\\_source\\_ltm & attack\\_cat & Label\\\\\n",
       "\\hline\n",
       "\t110444 & 59.166.0.0    & 4248          & 149.171.126.9 & 56378         & udp           & CON           &  0.002432     &  536          &   304         & 31            & ...           & 0             & 9             & 4             & 6             & 8             & 1             & 1             & 5             &               & 0            \\\\\n",
       "\t701306 & 10.40.182.1   & 0             & 10.40.182.3   & 0             & arp           & CON           & 43.460464     &   84          &   138         &  0            & ...           & 0             & 2             & 2             & 2             & 2             & 2             & 2             & 2             &               & 0            \\\\\n",
       "\t1907784 & 59.166.0.7    & 50980         & 149.171.126.0 & 80            & tcp           & FIN           &  1.506006     & 1684          & 10168         & 31            & ...           & 0             & 3             & 1             & 1             & 3             & 2             & 1             & 1             &               & 0            \\\\\n",
       "\\end{tabular}\n"
      ],
      "text/markdown": [
       "\n",
       "| <!--/--> | source_ip | source_port | dest_ip | dest_port | proto | state | duration | source_bytes | dest_bytes | source_ttl | ... | count_ftp_cmd | count_srv_source | count_srv_dest | count_dest_ltm | count_source_ltm | count_source_destport_ltm | count_dest_sourceport_ltm | counts_dest_source_ltm | attack_cat | Label |\n",
       "|---|---|---|---|---|---|---|---|---|---|---|---|---|---|---|---|---|---|---|---|---|---|\n",
       "| 110444 | 59.166.0.0    | 4248          | 149.171.126.9 | 56378         | udp           | CON           |  0.002432     |  536          |   304         | 31            | ...           | 0             | 9             | 4             | 6             | 8             | 1             | 1             | 5             |               | 0             |\n",
       "| 701306 | 10.40.182.1   | 0             | 10.40.182.3   | 0             | arp           | CON           | 43.460464     |   84          |   138         |  0            | ...           | 0             | 2             | 2             | 2             | 2             | 2             | 2             | 2             |               | 0             |\n",
       "| 1907784 | 59.166.0.7    | 50980         | 149.171.126.0 | 80            | tcp           | FIN           |  1.506006     | 1684          | 10168         | 31            | ...           | 0             | 3             | 1             | 1             | 3             | 2             | 1             | 1             |               | 0             |\n",
       "\n"
      ],
      "text/plain": [
       "        source_ip   source_port dest_ip       dest_port proto state duration \n",
       "110444  59.166.0.0  4248        149.171.126.9 56378     udp   CON    0.002432\n",
       "701306  10.40.182.1 0           10.40.182.3   0         arp   CON   43.460464\n",
       "1907784 59.166.0.7  50980       149.171.126.0 80        tcp   FIN    1.506006\n",
       "        source_bytes dest_bytes source_ttl ... count_ftp_cmd count_srv_source\n",
       "110444   536           304      31         ... 0             9               \n",
       "701306    84           138       0         ... 0             2               \n",
       "1907784 1684         10168      31         ... 0             3               \n",
       "        count_srv_dest count_dest_ltm count_source_ltm\n",
       "110444  4              6              8               \n",
       "701306  2              2              2               \n",
       "1907784 1              1              3               \n",
       "        count_source_destport_ltm count_dest_sourceport_ltm\n",
       "110444  1                         1                        \n",
       "701306  2                         2                        \n",
       "1907784 2                         1                        \n",
       "        counts_dest_source_ltm attack_cat Label\n",
       "110444  5                                 0    \n",
       "701306  2                                 0    \n",
       "1907784 1                                 0    "
      ]
     },
     "metadata": {},
     "output_type": "display_data"
    },
    {
     "data": {
      "text/html": [
       "<ol class=list-inline>\n",
       "\t<li>2032036</li>\n",
       "\t<li>49</li>\n",
       "</ol>\n"
      ],
      "text/latex": [
       "\\begin{enumerate*}\n",
       "\\item 2032036\n",
       "\\item 49\n",
       "\\end{enumerate*}\n"
      ],
      "text/markdown": [
       "1. 2032036\n",
       "2. 49\n",
       "\n",
       "\n"
      ],
      "text/plain": [
       "[1] 2032036      49"
      ]
     },
     "metadata": {},
     "output_type": "display_data"
    },
    {
     "data": {
      "text/html": [
       "<table>\n",
       "<thead><tr><th></th><th scope=col>source_ip</th><th scope=col>source_port</th><th scope=col>dest_ip</th><th scope=col>dest_port</th><th scope=col>proto</th><th scope=col>state</th><th scope=col>duration</th><th scope=col>source_bytes</th><th scope=col>dest_bytes</th><th scope=col>source_ttl</th><th scope=col>...</th><th scope=col>count_ftp_cmd</th><th scope=col>count_srv_source</th><th scope=col>count_srv_dest</th><th scope=col>count_dest_ltm</th><th scope=col>count_source_ltm</th><th scope=col>count_source_destport_ltm</th><th scope=col>count_dest_sourceport_ltm</th><th scope=col>counts_dest_source_ltm</th><th scope=col>attack_cat</th><th scope=col>Label</th></tr></thead>\n",
       "<tbody>\n",
       "\t<tr><th scope=row>2</th><td>59.166.0.0   </td><td>33661        </td><td>149.171.126.9</td><td>1024         </td><td>udp          </td><td>CON          </td><td>0.036133     </td><td>528          </td><td>304          </td><td>31           </td><td>...          </td><td>0            </td><td> 2           </td><td>4            </td><td>2            </td><td>3            </td><td>1            </td><td>1            </td><td>2            </td><td>             </td><td>0            </td></tr>\n",
       "\t<tr><th scope=row>4</th><td>59.166.0.5   </td><td>3593         </td><td>149.171.126.5</td><td>53           </td><td>udp          </td><td>CON          </td><td>0.001209     </td><td>132          </td><td>164          </td><td>31           </td><td>...          </td><td>0            </td><td> 6           </td><td>9            </td><td>1            </td><td>1            </td><td>1            </td><td>1            </td><td>1            </td><td>             </td><td>0            </td></tr>\n",
       "\t<tr><th scope=row>7</th><td>59.166.0.6   </td><td>2142         </td><td>149.171.126.4</td><td>53           </td><td>udp          </td><td>CON          </td><td>0.001134     </td><td>132          </td><td>164          </td><td>31           </td><td>...          </td><td>0            </td><td>12           </td><td>7            </td><td>1            </td><td>2            </td><td>2            </td><td>1            </td><td>1            </td><td>             </td><td>0            </td></tr>\n",
       "</tbody>\n",
       "</table>\n"
      ],
      "text/latex": [
       "\\begin{tabular}{r|lllllllllllllllllllllllllllllllllllllllllllllllll}\n",
       "  & source\\_ip & source\\_port & dest\\_ip & dest\\_port & proto & state & duration & source\\_bytes & dest\\_bytes & source\\_ttl & ... & count\\_ftp\\_cmd & count\\_srv\\_source & count\\_srv\\_dest & count\\_dest\\_ltm & count\\_source\\_ltm & count\\_source\\_destport\\_ltm & count\\_dest\\_sourceport\\_ltm & counts\\_dest\\_source\\_ltm & attack\\_cat & Label\\\\\n",
       "\\hline\n",
       "\t2 & 59.166.0.0    & 33661         & 149.171.126.9 & 1024          & udp           & CON           & 0.036133      & 528           & 304           & 31            & ...           & 0             &  2            & 4             & 2             & 3             & 1             & 1             & 2             &               & 0            \\\\\n",
       "\t4 & 59.166.0.5    & 3593          & 149.171.126.5 & 53            & udp           & CON           & 0.001209      & 132           & 164           & 31            & ...           & 0             &  6            & 9             & 1             & 1             & 1             & 1             & 1             &               & 0            \\\\\n",
       "\t7 & 59.166.0.6    & 2142          & 149.171.126.4 & 53            & udp           & CON           & 0.001134      & 132           & 164           & 31            & ...           & 0             & 12            & 7             & 1             & 2             & 2             & 1             & 1             &               & 0            \\\\\n",
       "\\end{tabular}\n"
      ],
      "text/markdown": [
       "\n",
       "| <!--/--> | source_ip | source_port | dest_ip | dest_port | proto | state | duration | source_bytes | dest_bytes | source_ttl | ... | count_ftp_cmd | count_srv_source | count_srv_dest | count_dest_ltm | count_source_ltm | count_source_destport_ltm | count_dest_sourceport_ltm | counts_dest_source_ltm | attack_cat | Label |\n",
       "|---|---|---|---|---|---|---|---|---|---|---|---|---|---|---|---|---|---|---|---|---|---|\n",
       "| 2 | 59.166.0.0    | 33661         | 149.171.126.9 | 1024          | udp           | CON           | 0.036133      | 528           | 304           | 31            | ...           | 0             |  2            | 4             | 2             | 3             | 1             | 1             | 2             |               | 0             |\n",
       "| 4 | 59.166.0.5    | 3593          | 149.171.126.5 | 53            | udp           | CON           | 0.001209      | 132           | 164           | 31            | ...           | 0             |  6            | 9             | 1             | 1             | 1             | 1             | 1             |               | 0             |\n",
       "| 7 | 59.166.0.6    | 2142          | 149.171.126.4 | 53            | udp           | CON           | 0.001134      | 132           | 164           | 31            | ...           | 0             | 12            | 7             | 1             | 2             | 2             | 1             | 1             |               | 0             |\n",
       "\n"
      ],
      "text/plain": [
       "  source_ip  source_port dest_ip       dest_port proto state duration\n",
       "2 59.166.0.0 33661       149.171.126.9 1024      udp   CON   0.036133\n",
       "4 59.166.0.5 3593        149.171.126.5 53        udp   CON   0.001209\n",
       "7 59.166.0.6 2142        149.171.126.4 53        udp   CON   0.001134\n",
       "  source_bytes dest_bytes source_ttl ... count_ftp_cmd count_srv_source\n",
       "2 528          304        31         ... 0              2              \n",
       "4 132          164        31         ... 0              6              \n",
       "7 132          164        31         ... 0             12              \n",
       "  count_srv_dest count_dest_ltm count_source_ltm count_source_destport_ltm\n",
       "2 4              2              3                1                        \n",
       "4 9              1              1                1                        \n",
       "7 7              1              2                2                        \n",
       "  count_dest_sourceport_ltm counts_dest_source_ltm attack_cat Label\n",
       "2 1                         2                                 0    \n",
       "4 1                         1                                 0    \n",
       "7 1                         1                                 0    "
      ]
     },
     "metadata": {},
     "output_type": "display_data"
    },
    {
     "data": {
      "text/html": [
       "<ol class=list-inline>\n",
       "\t<li>508010</li>\n",
       "\t<li>49</li>\n",
       "</ol>\n"
      ],
      "text/latex": [
       "\\begin{enumerate*}\n",
       "\\item 508010\n",
       "\\item 49\n",
       "\\end{enumerate*}\n"
      ],
      "text/markdown": [
       "1. 508010\n",
       "2. 49\n",
       "\n",
       "\n"
      ],
      "text/plain": [
       "[1] 508010     49"
      ]
     },
     "metadata": {},
     "output_type": "display_data"
    }
   ],
   "source": [
    "set.seed(5)\n",
    "dft <- sample(1:nrow(df), size = nrow(df)*0.8, replace = FALSE)\n",
    "df_train <- df[dft,]\n",
    "df_test <- df[-dft,]\n",
    "\n",
    "head(df_train,3)\n",
    "dim(df_train)\n",
    "head(df_test, 3)\n",
    "dim(df_test)"
   ]
  },
  {
   "cell_type": "code",
   "execution_count": 53,
   "metadata": {},
   "outputs": [
    {
     "data": {
      "text/html": [
       "<table>\n",
       "<thead><tr><th></th><th scope=col>source_ip</th><th scope=col>source_port</th><th scope=col>dest_ip</th><th scope=col>dest_port</th><th scope=col>proto</th><th scope=col>state</th><th scope=col>duration</th><th scope=col>source_bytes</th><th scope=col>dest_bytes</th><th scope=col>source_ttl</th><th scope=col>...</th><th scope=col>count_ftp_cmd</th><th scope=col>count_srv_source</th><th scope=col>count_srv_dest</th><th scope=col>count_dest_ltm</th><th scope=col>count_source_ltm</th><th scope=col>count_source_destport_ltm</th><th scope=col>count_dest_sourceport_ltm</th><th scope=col>counts_dest_source_ltm</th><th scope=col>attack_cat</th><th scope=col>Label</th></tr></thead>\n",
       "<tbody>\n",
       "\t<tr><th scope=row>110444</th><td>59.166.0.0   </td><td>4248         </td><td>149.171.126.9</td><td>56378        </td><td>udp          </td><td>CON          </td><td> 0.002432    </td><td> 536         </td><td>  304        </td><td>31           </td><td>...          </td><td>0            </td><td>9            </td><td>4            </td><td>6            </td><td>8            </td><td>1            </td><td>1            </td><td>5            </td><td>             </td><td>0            </td></tr>\n",
       "\t<tr><th scope=row>701306</th><td>10.40.182.1  </td><td>0            </td><td>10.40.182.3  </td><td>0            </td><td>arp          </td><td>CON          </td><td>43.460464    </td><td>  84         </td><td>  138        </td><td> 0           </td><td>...          </td><td>0            </td><td>2            </td><td>2            </td><td>2            </td><td>2            </td><td>2            </td><td>2            </td><td>2            </td><td>             </td><td>0            </td></tr>\n",
       "\t<tr><th scope=row>1907784</th><td>59.166.0.7   </td><td>50980        </td><td>149.171.126.0</td><td>80           </td><td>tcp          </td><td>FIN          </td><td> 1.506006    </td><td>1684         </td><td>10168        </td><td>31           </td><td>...          </td><td>0            </td><td>3            </td><td>1            </td><td>1            </td><td>3            </td><td>2            </td><td>1            </td><td>1            </td><td>             </td><td>0            </td></tr>\n",
       "</tbody>\n",
       "</table>\n"
      ],
      "text/latex": [
       "\\begin{tabular}{r|lllllllllllllllllllllllllllllllllllllllllllllllll}\n",
       "  & source\\_ip & source\\_port & dest\\_ip & dest\\_port & proto & state & duration & source\\_bytes & dest\\_bytes & source\\_ttl & ... & count\\_ftp\\_cmd & count\\_srv\\_source & count\\_srv\\_dest & count\\_dest\\_ltm & count\\_source\\_ltm & count\\_source\\_destport\\_ltm & count\\_dest\\_sourceport\\_ltm & counts\\_dest\\_source\\_ltm & attack\\_cat & Label\\\\\n",
       "\\hline\n",
       "\t110444 & 59.166.0.0    & 4248          & 149.171.126.9 & 56378         & udp           & CON           &  0.002432     &  536          &   304         & 31            & ...           & 0             & 9             & 4             & 6             & 8             & 1             & 1             & 5             &               & 0            \\\\\n",
       "\t701306 & 10.40.182.1   & 0             & 10.40.182.3   & 0             & arp           & CON           & 43.460464     &   84          &   138         &  0            & ...           & 0             & 2             & 2             & 2             & 2             & 2             & 2             & 2             &               & 0            \\\\\n",
       "\t1907784 & 59.166.0.7    & 50980         & 149.171.126.0 & 80            & tcp           & FIN           &  1.506006     & 1684          & 10168         & 31            & ...           & 0             & 3             & 1             & 1             & 3             & 2             & 1             & 1             &               & 0            \\\\\n",
       "\\end{tabular}\n"
      ],
      "text/markdown": [
       "\n",
       "| <!--/--> | source_ip | source_port | dest_ip | dest_port | proto | state | duration | source_bytes | dest_bytes | source_ttl | ... | count_ftp_cmd | count_srv_source | count_srv_dest | count_dest_ltm | count_source_ltm | count_source_destport_ltm | count_dest_sourceport_ltm | counts_dest_source_ltm | attack_cat | Label |\n",
       "|---|---|---|---|---|---|---|---|---|---|---|---|---|---|---|---|---|---|---|---|---|---|\n",
       "| 110444 | 59.166.0.0    | 4248          | 149.171.126.9 | 56378         | udp           | CON           |  0.002432     |  536          |   304         | 31            | ...           | 0             | 9             | 4             | 6             | 8             | 1             | 1             | 5             |               | 0             |\n",
       "| 701306 | 10.40.182.1   | 0             | 10.40.182.3   | 0             | arp           | CON           | 43.460464     |   84          |   138         |  0            | ...           | 0             | 2             | 2             | 2             | 2             | 2             | 2             | 2             |               | 0             |\n",
       "| 1907784 | 59.166.0.7    | 50980         | 149.171.126.0 | 80            | tcp           | FIN           |  1.506006     | 1684          | 10168         | 31            | ...           | 0             | 3             | 1             | 1             | 3             | 2             | 1             | 1             |               | 0             |\n",
       "\n"
      ],
      "text/plain": [
       "        source_ip   source_port dest_ip       dest_port proto state duration \n",
       "110444  59.166.0.0  4248        149.171.126.9 56378     udp   CON    0.002432\n",
       "701306  10.40.182.1 0           10.40.182.3   0         arp   CON   43.460464\n",
       "1907784 59.166.0.7  50980       149.171.126.0 80        tcp   FIN    1.506006\n",
       "        source_bytes dest_bytes source_ttl ... count_ftp_cmd count_srv_source\n",
       "110444   536           304      31         ... 0             9               \n",
       "701306    84           138       0         ... 0             2               \n",
       "1907784 1684         10168      31         ... 0             3               \n",
       "        count_srv_dest count_dest_ltm count_source_ltm\n",
       "110444  4              6              8               \n",
       "701306  2              2              2               \n",
       "1907784 1              1              3               \n",
       "        count_source_destport_ltm count_dest_sourceport_ltm\n",
       "110444  1                         1                        \n",
       "701306  2                         2                        \n",
       "1907784 2                         1                        \n",
       "        counts_dest_source_ltm attack_cat Label\n",
       "110444  5                                 0    \n",
       "701306  2                                 0    \n",
       "1907784 1                                 0    "
      ]
     },
     "metadata": {},
     "output_type": "display_data"
    },
    {
     "data": {
      "text/html": [
       "<ol class=list-inline>\n",
       "\t<li>1016018</li>\n",
       "\t<li>49</li>\n",
       "</ol>\n"
      ],
      "text/latex": [
       "\\begin{enumerate*}\n",
       "\\item 1016018\n",
       "\\item 49\n",
       "\\end{enumerate*}\n"
      ],
      "text/markdown": [
       "1. 1016018\n",
       "2. 49\n",
       "\n",
       "\n"
      ],
      "text/plain": [
       "[1] 1016018      49"
      ]
     },
     "metadata": {},
     "output_type": "display_data"
    },
    {
     "data": {
      "text/html": [
       "<table>\n",
       "<thead><tr><th></th><th scope=col>source_ip</th><th scope=col>source_port</th><th scope=col>dest_ip</th><th scope=col>dest_port</th><th scope=col>proto</th><th scope=col>state</th><th scope=col>duration</th><th scope=col>source_bytes</th><th scope=col>dest_bytes</th><th scope=col>source_ttl</th><th scope=col>...</th><th scope=col>count_ftp_cmd</th><th scope=col>count_srv_source</th><th scope=col>count_srv_dest</th><th scope=col>count_dest_ltm</th><th scope=col>count_source_ltm</th><th scope=col>count_source_destport_ltm</th><th scope=col>count_dest_sourceport_ltm</th><th scope=col>counts_dest_source_ltm</th><th scope=col>attack_cat</th><th scope=col>Label</th></tr></thead>\n",
       "<tbody>\n",
       "\t<tr><th scope=row>1159485</th><td>59.166.0.0    </td><td>9834          </td><td>149.171.126.8 </td><td>8427          </td><td>tcp           </td><td>FIN           </td><td>0.932498      </td><td>5008          </td><td>3080          </td><td> 31           </td><td>...           </td><td>0             </td><td> 7            </td><td> 7            </td><td> 4            </td><td> 2            </td><td> 1            </td><td> 1            </td><td> 3            </td><td>              </td><td>0             </td></tr>\n",
       "\t<tr><th scope=row>1709332</th><td>175.45.176.1  </td><td>1043          </td><td>149.171.126.18</td><td>53            </td><td>udp           </td><td>INT           </td><td>0.000005      </td><td> 114          </td><td>   0          </td><td>254           </td><td>...           </td><td>0             </td><td>44            </td><td>44            </td><td>34            </td><td>34            </td><td>34            </td><td>19            </td><td>44            </td><td>Generic       </td><td>1             </td></tr>\n",
       "\t<tr><th scope=row>2434371</th><td>175.45.176.0  </td><td>1043          </td><td>149.171.126.10</td><td>53            </td><td>udp           </td><td>INT           </td><td>0.000003      </td><td> 114          </td><td>   0          </td><td>254           </td><td>...           </td><td>0             </td><td>15            </td><td>15            </td><td>15            </td><td>15            </td><td>15            </td><td>15            </td><td>15            </td><td>Generic       </td><td>1             </td></tr>\n",
       "</tbody>\n",
       "</table>\n"
      ],
      "text/latex": [
       "\\begin{tabular}{r|lllllllllllllllllllllllllllllllllllllllllllllllll}\n",
       "  & source\\_ip & source\\_port & dest\\_ip & dest\\_port & proto & state & duration & source\\_bytes & dest\\_bytes & source\\_ttl & ... & count\\_ftp\\_cmd & count\\_srv\\_source & count\\_srv\\_dest & count\\_dest\\_ltm & count\\_source\\_ltm & count\\_source\\_destport\\_ltm & count\\_dest\\_sourceport\\_ltm & counts\\_dest\\_source\\_ltm & attack\\_cat & Label\\\\\n",
       "\\hline\n",
       "\t1159485 & 59.166.0.0     & 9834           & 149.171.126.8  & 8427           & tcp            & FIN            & 0.932498       & 5008           & 3080           &  31            & ...            & 0              &  7             &  7             &  4             &  2             &  1             &  1             &  3             &                & 0             \\\\\n",
       "\t1709332 & 175.45.176.1   & 1043           & 149.171.126.18 & 53             & udp            & INT            & 0.000005       &  114           &    0           & 254            & ...            & 0              & 44             & 44             & 34             & 34             & 34             & 19             & 44             & Generic        & 1             \\\\\n",
       "\t2434371 & 175.45.176.0   & 1043           & 149.171.126.10 & 53             & udp            & INT            & 0.000003       &  114           &    0           & 254            & ...            & 0              & 15             & 15             & 15             & 15             & 15             & 15             & 15             & Generic        & 1             \\\\\n",
       "\\end{tabular}\n"
      ],
      "text/markdown": [
       "\n",
       "| <!--/--> | source_ip | source_port | dest_ip | dest_port | proto | state | duration | source_bytes | dest_bytes | source_ttl | ... | count_ftp_cmd | count_srv_source | count_srv_dest | count_dest_ltm | count_source_ltm | count_source_destport_ltm | count_dest_sourceport_ltm | counts_dest_source_ltm | attack_cat | Label |\n",
       "|---|---|---|---|---|---|---|---|---|---|---|---|---|---|---|---|---|---|---|---|---|---|\n",
       "| 1159485 | 59.166.0.0     | 9834           | 149.171.126.8  | 8427           | tcp            | FIN            | 0.932498       | 5008           | 3080           |  31            | ...            | 0              |  7             |  7             |  4             |  2             |  1             |  1             |  3             |                | 0              |\n",
       "| 1709332 | 175.45.176.1   | 1043           | 149.171.126.18 | 53             | udp            | INT            | 0.000005       |  114           |    0           | 254            | ...            | 0              | 44             | 44             | 34             | 34             | 34             | 19             | 44             | Generic        | 1              |\n",
       "| 2434371 | 175.45.176.0   | 1043           | 149.171.126.10 | 53             | udp            | INT            | 0.000003       |  114           |    0           | 254            | ...            | 0              | 15             | 15             | 15             | 15             | 15             | 15             | 15             | Generic        | 1              |\n",
       "\n"
      ],
      "text/plain": [
       "        source_ip    source_port dest_ip        dest_port proto state duration\n",
       "1159485 59.166.0.0   9834        149.171.126.8  8427      tcp   FIN   0.932498\n",
       "1709332 175.45.176.1 1043        149.171.126.18 53        udp   INT   0.000005\n",
       "2434371 175.45.176.0 1043        149.171.126.10 53        udp   INT   0.000003\n",
       "        source_bytes dest_bytes source_ttl ... count_ftp_cmd count_srv_source\n",
       "1159485 5008         3080        31        ... 0              7              \n",
       "1709332  114            0       254        ... 0             44              \n",
       "2434371  114            0       254        ... 0             15              \n",
       "        count_srv_dest count_dest_ltm count_source_ltm\n",
       "1159485  7              4              2              \n",
       "1709332 44             34             34              \n",
       "2434371 15             15             15              \n",
       "        count_source_destport_ltm count_dest_sourceport_ltm\n",
       "1159485  1                         1                       \n",
       "1709332 34                        19                       \n",
       "2434371 15                        15                       \n",
       "        counts_dest_source_ltm attack_cat Label\n",
       "1159485  3                                0    \n",
       "1709332 44                     Generic    1    \n",
       "2434371 15                     Generic    1    "
      ]
     },
     "metadata": {},
     "output_type": "display_data"
    },
    {
     "data": {
      "text/html": [
       "<ol class=list-inline>\n",
       "\t<li>1016018</li>\n",
       "\t<li>49</li>\n",
       "</ol>\n"
      ],
      "text/latex": [
       "\\begin{enumerate*}\n",
       "\\item 1016018\n",
       "\\item 49\n",
       "\\end{enumerate*}\n"
      ],
      "text/markdown": [
       "1. 1016018\n",
       "2. 49\n",
       "\n",
       "\n"
      ],
      "text/plain": [
       "[1] 1016018      49"
      ]
     },
     "metadata": {},
     "output_type": "display_data"
    }
   ],
   "source": [
    "df_train_1 <- df_train[1:(nrow(df_train)/2),]\n",
    "df_train_2 <- df_train[-(1:nrow(df_train_1)), ]\n",
    "\n",
    "head(df_train_1, 3)\n",
    "dim(df_train_1)\n",
    "head(df_train_2, 3)\n",
    "dim(df_train_2)"
   ]
  },
  {
   "cell_type": "code",
   "execution_count": 56,
   "metadata": {},
   "outputs": [],
   "source": [
    "    ## The training set overall is too large to upload in a single go on Git\n",
    "    ## Split into 2 equal files: Can be merged together consecutively to reconstruct the whole 'df_train' with ease\n",
    "\n",
    "# write.csv(df_train, file = \"Utrain.csv\")\n",
    "# write.csv(df_train_1, file=\"Utrain1.csv\")\n",
    "# write.csv(df_train_2, file=\"Utrain2.csv\")\n",
    "# write.csv(df_test, file=\"Utest.csv\")"
   ]
  },
  {
   "cell_type": "markdown",
   "metadata": {},
   "source": [
    "**Alternative reading of the training/testing split once you downloaded them**"
   ]
  },
  {
   "cell_type": "code",
   "execution_count": 2,
   "metadata": {},
   "outputs": [
    {
     "data": {
      "text/html": [
       "<table>\n",
       "<thead><tr><th scope=col>X</th><th scope=col>source_ip</th><th scope=col>source_port</th><th scope=col>dest_ip</th><th scope=col>dest_port</th><th scope=col>proto</th><th scope=col>state</th><th scope=col>duration</th><th scope=col>source_bytes</th><th scope=col>dest_bytes</th><th scope=col>...</th><th scope=col>count_ftp_cmd</th><th scope=col>count_srv_source</th><th scope=col>count_srv_dest</th><th scope=col>count_dest_ltm</th><th scope=col>count_source_ltm</th><th scope=col>count_source_destport_ltm</th><th scope=col>count_dest_sourceport_ltm</th><th scope=col>counts_dest_source_ltm</th><th scope=col>attack_cat</th><th scope=col>Label</th></tr></thead>\n",
       "<tbody>\n",
       "\t<tr><td> 110444       </td><td>59.166.0.0    </td><td>4248          </td><td>149.171.126.9 </td><td>56378         </td><td>udp           </td><td>CON           </td><td> 0.002432     </td><td> 536          </td><td>  304         </td><td>...           </td><td>0             </td><td> 9            </td><td> 4            </td><td> 6            </td><td> 8            </td><td> 1            </td><td> 1            </td><td> 5            </td><td>              </td><td>0             </td></tr>\n",
       "\t<tr><td> 701306       </td><td>10.40.182.1   </td><td>0             </td><td>10.40.182.3   </td><td>0             </td><td>arp           </td><td>CON           </td><td>43.460464     </td><td>  84          </td><td>  138         </td><td>...           </td><td>0             </td><td> 2            </td><td> 2            </td><td> 2            </td><td> 2            </td><td> 2            </td><td> 2            </td><td> 2            </td><td>              </td><td>0             </td></tr>\n",
       "\t<tr><td>1907784       </td><td>59.166.0.7    </td><td>50980         </td><td>149.171.126.0 </td><td>80            </td><td>tcp           </td><td>FIN           </td><td> 1.506006     </td><td>1684          </td><td>10168         </td><td>...           </td><td>0             </td><td> 3            </td><td> 1            </td><td> 1            </td><td> 3            </td><td> 2            </td><td> 1            </td><td> 1            </td><td>              </td><td>0             </td></tr>\n",
       "\t<tr><td> 167719       </td><td>59.166.0.3    </td><td>11660         </td><td>149.171.126.4 </td><td>10328         </td><td>tcp           </td><td>FIN           </td><td> 0.035045     </td><td>2542          </td><td>21006         </td><td>...           </td><td>0             </td><td> 7            </td><td> 7            </td><td> 4            </td><td> 3            </td><td> 1            </td><td> 1            </td><td> 1            </td><td>              </td><td>0             </td></tr>\n",
       "\t<tr><td>1038235       </td><td>59.166.0.3    </td><td>42071         </td><td>149.171.126.3 </td><td>6881          </td><td>tcp           </td><td>FIN           </td><td> 0.013793     </td><td>1540          </td><td> 1644         </td><td>...           </td><td>0             </td><td>13            </td><td>11            </td><td> 9            </td><td>10            </td><td> 4            </td><td> 1            </td><td> 7            </td><td>              </td><td>0             </td></tr>\n",
       "\t<tr><td>2406529       </td><td>175.45.176.0  </td><td>47439         </td><td>149.171.126.10</td><td>53            </td><td>udp           </td><td>INT           </td><td> 0.000001     </td><td> 114          </td><td>    0         </td><td>...           </td><td>0             </td><td>29            </td><td>29            </td><td>17            </td><td>16            </td><td>16            </td><td>16            </td><td>29            </td><td>Generic       </td><td>1             </td></tr>\n",
       "</tbody>\n",
       "</table>\n"
      ],
      "text/latex": [
       "\\begin{tabular}{r|llllllllllllllllllllllllllllllllllllllllllllllllll}\n",
       " X & source\\_ip & source\\_port & dest\\_ip & dest\\_port & proto & state & duration & source\\_bytes & dest\\_bytes & ... & count\\_ftp\\_cmd & count\\_srv\\_source & count\\_srv\\_dest & count\\_dest\\_ltm & count\\_source\\_ltm & count\\_source\\_destport\\_ltm & count\\_dest\\_sourceport\\_ltm & counts\\_dest\\_source\\_ltm & attack\\_cat & Label\\\\\n",
       "\\hline\n",
       "\t  110444        & 59.166.0.0     & 4248           & 149.171.126.9  & 56378          & udp            & CON            &  0.002432      &  536           &   304          & ...            & 0              &  9             &  4             &  6             &  8             &  1             &  1             &  5             &                & 0             \\\\\n",
       "\t  701306        & 10.40.182.1    & 0              & 10.40.182.3    & 0              & arp            & CON            & 43.460464      &   84           &   138          & ...            & 0              &  2             &  2             &  2             &  2             &  2             &  2             &  2             &                & 0             \\\\\n",
       "\t 1907784        & 59.166.0.7     & 50980          & 149.171.126.0  & 80             & tcp            & FIN            &  1.506006      & 1684           & 10168          & ...            & 0              &  3             &  1             &  1             &  3             &  2             &  1             &  1             &                & 0             \\\\\n",
       "\t  167719        & 59.166.0.3     & 11660          & 149.171.126.4  & 10328          & tcp            & FIN            &  0.035045      & 2542           & 21006          & ...            & 0              &  7             &  7             &  4             &  3             &  1             &  1             &  1             &                & 0             \\\\\n",
       "\t 1038235        & 59.166.0.3     & 42071          & 149.171.126.3  & 6881           & tcp            & FIN            &  0.013793      & 1540           &  1644          & ...            & 0              & 13             & 11             &  9             & 10             &  4             &  1             &  7             &                & 0             \\\\\n",
       "\t 2406529        & 175.45.176.0   & 47439          & 149.171.126.10 & 53             & udp            & INT            &  0.000001      &  114           &     0          & ...            & 0              & 29             & 29             & 17             & 16             & 16             & 16             & 29             & Generic        & 1             \\\\\n",
       "\\end{tabular}\n"
      ],
      "text/markdown": [
       "\n",
       "| X | source_ip | source_port | dest_ip | dest_port | proto | state | duration | source_bytes | dest_bytes | ... | count_ftp_cmd | count_srv_source | count_srv_dest | count_dest_ltm | count_source_ltm | count_source_destport_ltm | count_dest_sourceport_ltm | counts_dest_source_ltm | attack_cat | Label |\n",
       "|---|---|---|---|---|---|---|---|---|---|---|---|---|---|---|---|---|---|---|---|---|\n",
       "|  110444        | 59.166.0.0     | 4248           | 149.171.126.9  | 56378          | udp            | CON            |  0.002432      |  536           |   304          | ...            | 0              |  9             |  4             |  6             |  8             |  1             |  1             |  5             |                | 0              |\n",
       "|  701306        | 10.40.182.1    | 0              | 10.40.182.3    | 0              | arp            | CON            | 43.460464      |   84           |   138          | ...            | 0              |  2             |  2             |  2             |  2             |  2             |  2             |  2             |                | 0              |\n",
       "| 1907784        | 59.166.0.7     | 50980          | 149.171.126.0  | 80             | tcp            | FIN            |  1.506006      | 1684           | 10168          | ...            | 0              |  3             |  1             |  1             |  3             |  2             |  1             |  1             |                | 0              |\n",
       "|  167719        | 59.166.0.3     | 11660          | 149.171.126.4  | 10328          | tcp            | FIN            |  0.035045      | 2542           | 21006          | ...            | 0              |  7             |  7             |  4             |  3             |  1             |  1             |  1             |                | 0              |\n",
       "| 1038235        | 59.166.0.3     | 42071          | 149.171.126.3  | 6881           | tcp            | FIN            |  0.013793      | 1540           |  1644          | ...            | 0              | 13             | 11             |  9             | 10             |  4             |  1             |  7             |                | 0              |\n",
       "| 2406529        | 175.45.176.0   | 47439          | 149.171.126.10 | 53             | udp            | INT            |  0.000001      |  114           |     0          | ...            | 0              | 29             | 29             | 17             | 16             | 16             | 16             | 29             | Generic        | 1              |\n",
       "\n"
      ],
      "text/plain": [
       "  X       source_ip    source_port dest_ip        dest_port proto state\n",
       "1  110444 59.166.0.0   4248        149.171.126.9  56378     udp   CON  \n",
       "2  701306 10.40.182.1  0           10.40.182.3    0         arp   CON  \n",
       "3 1907784 59.166.0.7   50980       149.171.126.0  80        tcp   FIN  \n",
       "4  167719 59.166.0.3   11660       149.171.126.4  10328     tcp   FIN  \n",
       "5 1038235 59.166.0.3   42071       149.171.126.3  6881      tcp   FIN  \n",
       "6 2406529 175.45.176.0 47439       149.171.126.10 53        udp   INT  \n",
       "  duration  source_bytes dest_bytes ... count_ftp_cmd count_srv_source\n",
       "1  0.002432  536           304      ... 0              9              \n",
       "2 43.460464   84           138      ... 0              2              \n",
       "3  1.506006 1684         10168      ... 0              3              \n",
       "4  0.035045 2542         21006      ... 0              7              \n",
       "5  0.013793 1540          1644      ... 0             13              \n",
       "6  0.000001  114             0      ... 0             29              \n",
       "  count_srv_dest count_dest_ltm count_source_ltm count_source_destport_ltm\n",
       "1  4              6              8                1                       \n",
       "2  2              2              2                2                       \n",
       "3  1              1              3                2                       \n",
       "4  7              4              3                1                       \n",
       "5 11              9             10                4                       \n",
       "6 29             17             16               16                       \n",
       "  count_dest_sourceport_ltm counts_dest_source_ltm attack_cat Label\n",
       "1  1                         5                                0    \n",
       "2  2                         2                                0    \n",
       "3  1                         1                                0    \n",
       "4  1                         1                                0    \n",
       "5  1                         7                                0    \n",
       "6 16                        29                     Generic    1    "
      ]
     },
     "metadata": {},
     "output_type": "display_data"
    },
    {
     "data": {
      "text/html": [
       "<ol class=list-inline>\n",
       "\t<li>2032036</li>\n",
       "\t<li>50</li>\n",
       "</ol>\n"
      ],
      "text/latex": [
       "\\begin{enumerate*}\n",
       "\\item 2032036\n",
       "\\item 50\n",
       "\\end{enumerate*}\n"
      ],
      "text/markdown": [
       "1. 2032036\n",
       "2. 50\n",
       "\n",
       "\n"
      ],
      "text/plain": [
       "[1] 2032036      50"
      ]
     },
     "metadata": {},
     "output_type": "display_data"
    }
   ],
   "source": [
    "setwd(\"D://R-4.0.2//ExcelWorks\")\n",
    "dff_train <- read.csv(file = \"Utrain.csv\", header=T)\n",
    "dff_test <- read.csv(file = \"Utest.csv\", header = T)\n",
    "\n",
    "head(dff_train)\n",
    "dim(dff_train)"
   ]
  },
  {
   "cell_type": "code",
   "execution_count": 3,
   "metadata": {},
   "outputs": [
    {
     "data": {
      "text/html": [
       "<table>\n",
       "<thead><tr><th scope=col>X</th><th scope=col>source_ip</th><th scope=col>source_port</th><th scope=col>dest_ip</th><th scope=col>dest_port</th><th scope=col>proto</th><th scope=col>state</th><th scope=col>duration</th><th scope=col>source_bytes</th><th scope=col>dest_bytes</th><th scope=col>...</th><th scope=col>count_ftp_cmd</th><th scope=col>count_srv_source</th><th scope=col>count_srv_dest</th><th scope=col>count_dest_ltm</th><th scope=col>count_source_ltm</th><th scope=col>count_source_destport_ltm</th><th scope=col>count_dest_sourceport_ltm</th><th scope=col>counts_dest_source_ltm</th><th scope=col>attack_cat</th><th scope=col>Label</th></tr></thead>\n",
       "<tbody>\n",
       "\t<tr><td> 2           </td><td>59.166.0.0   </td><td>33661        </td><td>149.171.126.9</td><td>1024         </td><td>udp          </td><td>CON          </td><td>0.036133     </td><td>528          </td><td>304          </td><td>...          </td><td>0            </td><td> 2           </td><td>4            </td><td>2            </td><td>3            </td><td>1            </td><td>1            </td><td>2            </td><td>             </td><td>0            </td></tr>\n",
       "\t<tr><td> 4           </td><td>59.166.0.5   </td><td> 3593        </td><td>149.171.126.5</td><td>53           </td><td>udp          </td><td>CON          </td><td>0.001209     </td><td>132          </td><td>164          </td><td>...          </td><td>0            </td><td> 6           </td><td>9            </td><td>1            </td><td>1            </td><td>1            </td><td>1            </td><td>1            </td><td>             </td><td>0            </td></tr>\n",
       "\t<tr><td> 7           </td><td>59.166.0.6   </td><td> 2142        </td><td>149.171.126.4</td><td>53           </td><td>udp          </td><td>CON          </td><td>0.001134     </td><td>132          </td><td>164          </td><td>...          </td><td>0            </td><td>12           </td><td>7            </td><td>1            </td><td>2            </td><td>2            </td><td>1            </td><td>1            </td><td>             </td><td>0            </td></tr>\n",
       "\t<tr><td>10           </td><td>59.166.0.7   </td><td>12660        </td><td>149.171.126.4</td><td>53           </td><td>udp          </td><td>CON          </td><td>0.001167     </td><td>132          </td><td>164          </td><td>...          </td><td>0            </td><td> 6           </td><td>7            </td><td>2            </td><td>1            </td><td>1            </td><td>1            </td><td>1            </td><td>             </td><td>0            </td></tr>\n",
       "\t<tr><td>16           </td><td>59.166.0.1   </td><td>10393        </td><td>149.171.126.6</td><td>44307        </td><td>udp          </td><td>CON          </td><td>0.001749     </td><td>528          </td><td>304          </td><td>...          </td><td>0            </td><td> 8           </td><td>2            </td><td>3            </td><td>5            </td><td>1            </td><td>1            </td><td>2            </td><td>             </td><td>0            </td></tr>\n",
       "\t<tr><td>19           </td><td>59.166.0.1   </td><td> 8989        </td><td>149.171.126.6</td><td>111          </td><td>udp          </td><td>CON          </td><td>0.004898     </td><td>568          </td><td>312          </td><td>...          </td><td>0            </td><td> 8           </td><td>2            </td><td>3            </td><td>5            </td><td>2            </td><td>1            </td><td>2            </td><td>             </td><td>0            </td></tr>\n",
       "</tbody>\n",
       "</table>\n"
      ],
      "text/latex": [
       "\\begin{tabular}{r|llllllllllllllllllllllllllllllllllllllllllllllllll}\n",
       " X & source\\_ip & source\\_port & dest\\_ip & dest\\_port & proto & state & duration & source\\_bytes & dest\\_bytes & ... & count\\_ftp\\_cmd & count\\_srv\\_source & count\\_srv\\_dest & count\\_dest\\_ltm & count\\_source\\_ltm & count\\_source\\_destport\\_ltm & count\\_dest\\_sourceport\\_ltm & counts\\_dest\\_source\\_ltm & attack\\_cat & Label\\\\\n",
       "\\hline\n",
       "\t  2            & 59.166.0.0    & 33661         & 149.171.126.9 & 1024          & udp           & CON           & 0.036133      & 528           & 304           & ...           & 0             &  2            & 4             & 2             & 3             & 1             & 1             & 2             &               & 0            \\\\\n",
       "\t  4            & 59.166.0.5    &  3593         & 149.171.126.5 & 53            & udp           & CON           & 0.001209      & 132           & 164           & ...           & 0             &  6            & 9             & 1             & 1             & 1             & 1             & 1             &               & 0            \\\\\n",
       "\t  7            & 59.166.0.6    &  2142         & 149.171.126.4 & 53            & udp           & CON           & 0.001134      & 132           & 164           & ...           & 0             & 12            & 7             & 1             & 2             & 2             & 1             & 1             &               & 0            \\\\\n",
       "\t 10            & 59.166.0.7    & 12660         & 149.171.126.4 & 53            & udp           & CON           & 0.001167      & 132           & 164           & ...           & 0             &  6            & 7             & 2             & 1             & 1             & 1             & 1             &               & 0            \\\\\n",
       "\t 16            & 59.166.0.1    & 10393         & 149.171.126.6 & 44307         & udp           & CON           & 0.001749      & 528           & 304           & ...           & 0             &  8            & 2             & 3             & 5             & 1             & 1             & 2             &               & 0            \\\\\n",
       "\t 19            & 59.166.0.1    &  8989         & 149.171.126.6 & 111           & udp           & CON           & 0.004898      & 568           & 312           & ...           & 0             &  8            & 2             & 3             & 5             & 2             & 1             & 2             &               & 0            \\\\\n",
       "\\end{tabular}\n"
      ],
      "text/markdown": [
       "\n",
       "| X | source_ip | source_port | dest_ip | dest_port | proto | state | duration | source_bytes | dest_bytes | ... | count_ftp_cmd | count_srv_source | count_srv_dest | count_dest_ltm | count_source_ltm | count_source_destport_ltm | count_dest_sourceport_ltm | counts_dest_source_ltm | attack_cat | Label |\n",
       "|---|---|---|---|---|---|---|---|---|---|---|---|---|---|---|---|---|---|---|---|---|\n",
       "|  2            | 59.166.0.0    | 33661         | 149.171.126.9 | 1024          | udp           | CON           | 0.036133      | 528           | 304           | ...           | 0             |  2            | 4             | 2             | 3             | 1             | 1             | 2             |               | 0             |\n",
       "|  4            | 59.166.0.5    |  3593         | 149.171.126.5 | 53            | udp           | CON           | 0.001209      | 132           | 164           | ...           | 0             |  6            | 9             | 1             | 1             | 1             | 1             | 1             |               | 0             |\n",
       "|  7            | 59.166.0.6    |  2142         | 149.171.126.4 | 53            | udp           | CON           | 0.001134      | 132           | 164           | ...           | 0             | 12            | 7             | 1             | 2             | 2             | 1             | 1             |               | 0             |\n",
       "| 10            | 59.166.0.7    | 12660         | 149.171.126.4 | 53            | udp           | CON           | 0.001167      | 132           | 164           | ...           | 0             |  6            | 7             | 2             | 1             | 1             | 1             | 1             |               | 0             |\n",
       "| 16            | 59.166.0.1    | 10393         | 149.171.126.6 | 44307         | udp           | CON           | 0.001749      | 528           | 304           | ...           | 0             |  8            | 2             | 3             | 5             | 1             | 1             | 2             |               | 0             |\n",
       "| 19            | 59.166.0.1    |  8989         | 149.171.126.6 | 111           | udp           | CON           | 0.004898      | 568           | 312           | ...           | 0             |  8            | 2             | 3             | 5             | 2             | 1             | 2             |               | 0             |\n",
       "\n"
      ],
      "text/plain": [
       "  X  source_ip  source_port dest_ip       dest_port proto state duration\n",
       "1  2 59.166.0.0 33661       149.171.126.9 1024      udp   CON   0.036133\n",
       "2  4 59.166.0.5  3593       149.171.126.5 53        udp   CON   0.001209\n",
       "3  7 59.166.0.6  2142       149.171.126.4 53        udp   CON   0.001134\n",
       "4 10 59.166.0.7 12660       149.171.126.4 53        udp   CON   0.001167\n",
       "5 16 59.166.0.1 10393       149.171.126.6 44307     udp   CON   0.001749\n",
       "6 19 59.166.0.1  8989       149.171.126.6 111       udp   CON   0.004898\n",
       "  source_bytes dest_bytes ... count_ftp_cmd count_srv_source count_srv_dest\n",
       "1 528          304        ... 0              2               4             \n",
       "2 132          164        ... 0              6               9             \n",
       "3 132          164        ... 0             12               7             \n",
       "4 132          164        ... 0              6               7             \n",
       "5 528          304        ... 0              8               2             \n",
       "6 568          312        ... 0              8               2             \n",
       "  count_dest_ltm count_source_ltm count_source_destport_ltm\n",
       "1 2              3                1                        \n",
       "2 1              1                1                        \n",
       "3 1              2                2                        \n",
       "4 2              1                1                        \n",
       "5 3              5                1                        \n",
       "6 3              5                2                        \n",
       "  count_dest_sourceport_ltm counts_dest_source_ltm attack_cat Label\n",
       "1 1                         2                                 0    \n",
       "2 1                         1                                 0    \n",
       "3 1                         1                                 0    \n",
       "4 1                         1                                 0    \n",
       "5 1                         2                                 0    \n",
       "6 1                         2                                 0    "
      ]
     },
     "metadata": {},
     "output_type": "display_data"
    },
    {
     "data": {
      "text/html": [
       "<ol class=list-inline>\n",
       "\t<li>508010</li>\n",
       "\t<li>50</li>\n",
       "</ol>\n"
      ],
      "text/latex": [
       "\\begin{enumerate*}\n",
       "\\item 508010\n",
       "\\item 50\n",
       "\\end{enumerate*}\n"
      ],
      "text/markdown": [
       "1. 508010\n",
       "2. 50\n",
       "\n",
       "\n"
      ],
      "text/plain": [
       "[1] 508010     50"
      ]
     },
     "metadata": {},
     "output_type": "display_data"
    }
   ],
   "source": [
    "head(dff_test)\n",
    "dim(dff_test)"
   ]
  },
  {
   "cell_type": "code",
   "execution_count": 4,
   "metadata": {},
   "outputs": [],
   "source": [
    "dff_train <- dff_train[,-1]\n",
    "dff_test <- dff_test[,-1]"
   ]
  },
  {
   "cell_type": "code",
   "execution_count": 5,
   "metadata": {},
   "outputs": [
    {
     "data": {
      "text/plain": [
       "\n",
       "10.40.170.2 10.40.182.1 10.40.182.3 10.40.182.6  10.40.85.1 10.40.85.10 \n",
       "       1685        3162        1689        2764        3188         639 "
      ]
     },
     "metadata": {},
     "output_type": "display_data"
    },
    {
     "data": {
      "text/plain": [
       "\n",
       "10.40.170.2 10.40.182.1 10.40.182.3 10.40.182.6  10.40.85.1 10.40.85.10 \n",
       "        409         822         416         728         830         154 "
      ]
     },
     "metadata": {},
     "output_type": "display_data"
    }
   ],
   "source": [
    "head(table(dff_train$source_ip))\n",
    "head(table(dff_test$source_ip))"
   ]
  },
  {
   "cell_type": "code",
   "execution_count": 6,
   "metadata": {},
   "outputs": [
    {
     "data": {
      "image/png": "[encoded data removed]",
      "text/plain": [
       "plot without title"
      ]
     },
     "metadata": {},
     "output_type": "display_data"
    }
   ],
   "source": [
    "aggr(dff_test) ## Should have no missingess whatsoever "
   ]
  },
  {
   "cell_type": "markdown",
   "metadata": {},
   "source": [
    "## 4. Neuralnet - A first attempt at NN modelling\n",
    "\n"
   ]
  },
  {
   "cell_type": "code",
   "execution_count": 7,
   "metadata": {},
   "outputs": [
    {
     "name": "stderr",
     "output_type": "stream",
     "text": [
      "Warning message:\n",
      "\"package 'neuralnet' was built under R version 3.6.3\"\n",
      "Attaching package: 'neuralnet'\n",
      "\n",
      "The following object is masked from 'package:dplyr':\n",
      "\n",
      "    compute\n",
      "\n"
     ]
    }
   ],
   "source": [
    "# install.packages(\"neuralnet\")\n",
    "library(neuralnet)"
   ]
  },
  {
   "cell_type": "code",
   "execution_count": 8,
   "metadata": {},
   "outputs": [
    {
     "data": {
      "text/html": [
       "<table>\n",
       "<thead><tr><th></th><th scope=col>source_ip</th><th scope=col>source_port</th><th scope=col>dest_ip</th><th scope=col>dest_port</th><th scope=col>proto</th><th scope=col>state</th><th scope=col>duration</th><th scope=col>source_bytes</th><th scope=col>dest_bytes</th><th scope=col>source_ttl</th><th scope=col>...</th><th scope=col>count_ftp_cmd</th><th scope=col>count_srv_source</th><th scope=col>count_srv_dest</th><th scope=col>count_dest_ltm</th><th scope=col>count_source_ltm</th><th scope=col>count_source_destport_ltm</th><th scope=col>count_dest_sourceport_ltm</th><th scope=col>counts_dest_source_ltm</th><th scope=col>attack_cat</th><th scope=col>Label</th></tr></thead>\n",
       "<tbody>\n",
       "\t<tr><th scope=row>110443</th><td>149.171.126.18</td><td>47439         </td><td>175.45.176.1  </td><td>53            </td><td>udp           </td><td>INT           </td><td>0.000004      </td><td> 264          </td><td>    0         </td><td>60            </td><td>...           </td><td>0             </td><td>21            </td><td>21            </td><td>21            </td><td>21            </td><td>21            </td><td>11            </td><td>21            </td><td>              </td><td>0             </td></tr>\n",
       "\t<tr><th scope=row>1591503</th><td>59.166.0.8    </td><td>12997         </td><td>149.171.126.9 </td><td>143           </td><td>tcp           </td><td>FIN           </td><td>0.597719      </td><td>7810          </td><td>15446         </td><td>31            </td><td>...           </td><td>0             </td><td> 1            </td><td> 4            </td><td> 6            </td><td> 2            </td><td> 1            </td><td> 1            </td><td> 1            </td><td>              </td><td>0             </td></tr>\n",
       "\t<tr><th scope=row>701305</th><td>59.166.0.8    </td><td>45448         </td><td>149.171.126.5 </td><td>6500          </td><td>udp           </td><td>CON           </td><td>0.001836      </td><td> 528          </td><td>  304         </td><td>31            </td><td>...           </td><td>0             </td><td>18            </td><td> 7            </td><td> 4            </td><td> 5            </td><td> 1            </td><td> 1            </td><td> 3            </td><td>              </td><td>0             </td></tr>\n",
       "</tbody>\n",
       "</table>\n"
      ],
      "text/latex": [
       "\\begin{tabular}{r|lllllllllllllllllllllllllllllllllllllllllllllllll}\n",
       "  & source\\_ip & source\\_port & dest\\_ip & dest\\_port & proto & state & duration & source\\_bytes & dest\\_bytes & source\\_ttl & ... & count\\_ftp\\_cmd & count\\_srv\\_source & count\\_srv\\_dest & count\\_dest\\_ltm & count\\_source\\_ltm & count\\_source\\_destport\\_ltm & count\\_dest\\_sourceport\\_ltm & counts\\_dest\\_source\\_ltm & attack\\_cat & Label\\\\\n",
       "\\hline\n",
       "\t110443 & 149.171.126.18 & 47439          & 175.45.176.1   & 53             & udp            & INT            & 0.000004       &  264           &     0          & 60             & ...            & 0              & 21             & 21             & 21             & 21             & 21             & 11             & 21             &                & 0             \\\\\n",
       "\t1591503 & 59.166.0.8     & 12997          & 149.171.126.9  & 143            & tcp            & FIN            & 0.597719       & 7810           & 15446          & 31             & ...            & 0              &  1             &  4             &  6             &  2             &  1             &  1             &  1             &                & 0             \\\\\n",
       "\t701305 & 59.166.0.8     & 45448          & 149.171.126.5  & 6500           & udp            & CON            & 0.001836       &  528           &   304          & 31             & ...            & 0              & 18             &  7             &  4             &  5             &  1             &  1             &  3             &                & 0             \\\\\n",
       "\\end{tabular}\n"
      ],
      "text/markdown": [
       "\n",
       "| <!--/--> | source_ip | source_port | dest_ip | dest_port | proto | state | duration | source_bytes | dest_bytes | source_ttl | ... | count_ftp_cmd | count_srv_source | count_srv_dest | count_dest_ltm | count_source_ltm | count_source_destport_ltm | count_dest_sourceport_ltm | counts_dest_source_ltm | attack_cat | Label |\n",
       "|---|---|---|---|---|---|---|---|---|---|---|---|---|---|---|---|---|---|---|---|---|---|\n",
       "| 110443 | 149.171.126.18 | 47439          | 175.45.176.1   | 53             | udp            | INT            | 0.000004       |  264           |     0          | 60             | ...            | 0              | 21             | 21             | 21             | 21             | 21             | 11             | 21             |                | 0              |\n",
       "| 1591503 | 59.166.0.8     | 12997          | 149.171.126.9  | 143            | tcp            | FIN            | 0.597719       | 7810           | 15446          | 31             | ...            | 0              |  1             |  4             |  6             |  2             |  1             |  1             |  1             |                | 0              |\n",
       "| 701305 | 59.166.0.8     | 45448          | 149.171.126.5  | 6500           | udp            | CON            | 0.001836       |  528           |   304          | 31             | ...            | 0              | 18             |  7             |  4             |  5             |  1             |  1             |  3             |                | 0              |\n",
       "\n"
      ],
      "text/plain": [
       "        source_ip      source_port dest_ip       dest_port proto state duration\n",
       "110443  149.171.126.18 47439       175.45.176.1  53        udp   INT   0.000004\n",
       "1591503 59.166.0.8     12997       149.171.126.9 143       tcp   FIN   0.597719\n",
       "701305  59.166.0.8     45448       149.171.126.5 6500      udp   CON   0.001836\n",
       "        source_bytes dest_bytes source_ttl ... count_ftp_cmd count_srv_source\n",
       "110443   264             0      60         ... 0             21              \n",
       "1591503 7810         15446      31         ... 0              1              \n",
       "701305   528           304      31         ... 0             18              \n",
       "        count_srv_dest count_dest_ltm count_source_ltm\n",
       "110443  21             21             21              \n",
       "1591503  4              6              2              \n",
       "701305   7              4              5              \n",
       "        count_source_destport_ltm count_dest_sourceport_ltm\n",
       "110443  21                        11                       \n",
       "1591503  1                         1                       \n",
       "701305   1                         1                       \n",
       "        counts_dest_source_ltm attack_cat Label\n",
       "110443  21                                0    \n",
       "1591503  1                                0    \n",
       "701305   3                                0    "
      ]
     },
     "metadata": {},
     "output_type": "display_data"
    },
    {
     "data": {
      "text/html": [
       "<ol class=list-inline>\n",
       "\t<li>60961</li>\n",
       "\t<li>49</li>\n",
       "</ol>\n"
      ],
      "text/latex": [
       "\\begin{enumerate*}\n",
       "\\item 60961\n",
       "\\item 49\n",
       "\\end{enumerate*}\n"
      ],
      "text/markdown": [
       "1. 60961\n",
       "2. 49\n",
       "\n",
       "\n"
      ],
      "text/plain": [
       "[1] 60961    49"
      ]
     },
     "metadata": {},
     "output_type": "display_data"
    }
   ],
   "source": [
    "set.seed(5)\n",
    "sandbox <- sample(1:nrow(dff_train), size=nrow(dff_train)*0.03, replace=FALSE)\n",
    "df_play <- dff_train[sandbox, ]\n",
    "\n",
    "head(df_play, 3)\n",
    "dim(df_play)"
   ]
  },
  {
   "cell_type": "code",
   "execution_count": 9,
   "metadata": {},
   "outputs": [
    {
     "data": {
      "text/html": [
       "<ol class=list-inline>\n",
       "\t<li></li>\n",
       "\t<li>Generic</li>\n",
       "\t<li>Exploits</li>\n",
       "\t<li>DoS</li>\n",
       "\t<li> Fuzzers </li>\n",
       "\t<li> Reconnaissance </li>\n",
       "\t<li> Shellcode </li>\n",
       "\t<li>Analysis</li>\n",
       "\t<li>Backdoor</li>\n",
       "\t<li> Fuzzers</li>\n",
       "\t<li>Worms</li>\n",
       "\t<li>Reconnaissance</li>\n",
       "\t<li>Backdoors</li>\n",
       "\t<li>Shellcode</li>\n",
       "</ol>\n",
       "\n",
       "<details>\n",
       "\t<summary style=display:list-item;cursor:pointer>\n",
       "\t\t<strong>Levels</strong>:\n",
       "\t</summary>\n",
       "\t<ol class=list-inline>\n",
       "\t\t<li>''</li>\n",
       "\t\t<li>' Fuzzers'</li>\n",
       "\t\t<li>' Fuzzers '</li>\n",
       "\t\t<li>' Reconnaissance '</li>\n",
       "\t\t<li>' Shellcode '</li>\n",
       "\t\t<li>'Analysis'</li>\n",
       "\t\t<li>'Backdoor'</li>\n",
       "\t\t<li>'Backdoors'</li>\n",
       "\t\t<li>'DoS'</li>\n",
       "\t\t<li>'Exploits'</li>\n",
       "\t\t<li>'Generic'</li>\n",
       "\t\t<li>'Reconnaissance'</li>\n",
       "\t\t<li>'Shellcode'</li>\n",
       "\t\t<li>'Worms'</li>\n",
       "\t</ol>\n",
       "</details>"
      ],
      "text/latex": [
       "\\begin{enumerate*}\n",
       "\\item \n",
       "\\item Generic\n",
       "\\item Exploits\n",
       "\\item DoS\n",
       "\\item  Fuzzers \n",
       "\\item  Reconnaissance \n",
       "\\item  Shellcode \n",
       "\\item Analysis\n",
       "\\item Backdoor\n",
       "\\item  Fuzzers\n",
       "\\item Worms\n",
       "\\item Reconnaissance\n",
       "\\item Backdoors\n",
       "\\item Shellcode\n",
       "\\end{enumerate*}\n",
       "\n",
       "\\emph{Levels}: \\begin{enumerate*}\n",
       "\\item ''\n",
       "\\item ' Fuzzers'\n",
       "\\item ' Fuzzers '\n",
       "\\item ' Reconnaissance '\n",
       "\\item ' Shellcode '\n",
       "\\item 'Analysis'\n",
       "\\item 'Backdoor'\n",
       "\\item 'Backdoors'\n",
       "\\item 'DoS'\n",
       "\\item 'Exploits'\n",
       "\\item 'Generic'\n",
       "\\item 'Reconnaissance'\n",
       "\\item 'Shellcode'\n",
       "\\item 'Worms'\n",
       "\\end{enumerate*}\n"
      ],
      "text/markdown": [
       "1. \n",
       "2. Generic\n",
       "3. Exploits\n",
       "4. DoS\n",
       "5.  Fuzzers \n",
       "6.  Reconnaissance \n",
       "7.  Shellcode \n",
       "8. Analysis\n",
       "9. Backdoor\n",
       "10.  Fuzzers\n",
       "11. Worms\n",
       "12. Reconnaissance\n",
       "13. Backdoors\n",
       "14. Shellcode\n",
       "\n",
       "\n",
       "\n",
       "**Levels**: 1. ''\n",
       "2. ' Fuzzers'\n",
       "3. ' Fuzzers '\n",
       "4. ' Reconnaissance '\n",
       "5. ' Shellcode '\n",
       "6. 'Analysis'\n",
       "7. 'Backdoor'\n",
       "8. 'Backdoors'\n",
       "9. 'DoS'\n",
       "10. 'Exploits'\n",
       "11. 'Generic'\n",
       "12. 'Reconnaissance'\n",
       "13. 'Shellcode'\n",
       "14. 'Worms'\n",
       "\n",
       "\n"
      ],
      "text/plain": [
       " [1]                  Generic          Exploits         DoS             \n",
       " [5]  Fuzzers          Reconnaissance   Shellcode       Analysis        \n",
       " [9] Backdoor          Fuzzers         Worms            Reconnaissance  \n",
       "[13] Backdoors        Shellcode       \n",
       "14 Levels:   Fuzzers  Fuzzers   Reconnaissance   Shellcode  ... Worms"
      ]
     },
     "metadata": {},
     "output_type": "display_data"
    }
   ],
   "source": [
    "unique(df_play$attack_cat)"
   ]
  },
  {
   "cell_type": "code",
   "execution_count": 10,
   "metadata": {},
   "outputs": [],
   "source": [
    "training <- sample(1:nrow(df_play), size=nrow(df_play)*2/3, replace=FALSE)"
   ]
  },
  {
   "cell_type": "code",
   "execution_count": 11,
   "metadata": {},
   "outputs": [],
   "source": [
    "df_sandbox <- data.frame(nrow=nrow(df_play))\n",
    "for(i in 1:ncol(df_play)) {\n",
    "    if(class(df_play[,i])=='numeric' | class(df_play[,i])==\"integer\") {\n",
    "        df_sandbox <- cbind(df_sandbox, df_play[,i])\n",
    "    }\n",
    "}"
   ]
  },
  {
   "cell_type": "code",
   "execution_count": 12,
   "metadata": {},
   "outputs": [],
   "source": [
    "df_sandbox <- df_sandbox[, -1]\n",
    "colnames(df_sandbox) <- c(paste0(\"Feature\", c(1:ncol(df_sandbox))))"
   ]
  },
  {
   "cell_type": "code",
   "execution_count": 135,
   "metadata": {},
   "outputs": [
    {
     "data": {
      "text/html": [
       "<table>\n",
       "<thead><tr><th scope=col>Feature1</th><th scope=col>Feature2</th><th scope=col>Feature3</th><th scope=col>Feature4</th><th scope=col>Feature5</th><th scope=col>Feature6</th><th scope=col>Feature7</th><th scope=col>Feature8</th><th scope=col>Feature9</th><th scope=col>Feature10</th><th scope=col>...</th><th scope=col>Feature32</th><th scope=col>Feature33</th><th scope=col>Feature34</th><th scope=col>Feature35</th><th scope=col>Feature36</th><th scope=col>Feature37</th><th scope=col>Feature38</th><th scope=col>Feature39</th><th scope=col>Feature40</th><th scope=col>Feature41</th></tr></thead>\n",
       "<tbody>\n",
       "\t<tr><td>0.000004   </td><td> 264       </td><td>    0      </td><td>60         </td><td> 0         </td><td> 0         </td><td> 0         </td><td>264000000.0</td><td>     0.0   </td><td>  2        </td><td>...        </td><td>0          </td><td>0          </td><td>21         </td><td>21         </td><td>21         </td><td>21         </td><td>21         </td><td>11         </td><td>21         </td><td>0          </td></tr>\n",
       "\t<tr><td>0.597719   </td><td>7810       </td><td>15446      </td><td>31         </td><td>29         </td><td>30         </td><td>32         </td><td>   103674.1</td><td>205099.7   </td><td>122        </td><td>...        </td><td>0          </td><td>0          </td><td> 1         </td><td> 4         </td><td> 6         </td><td> 2         </td><td> 1         </td><td> 1         </td><td> 1         </td><td>0          </td></tr>\n",
       "\t<tr><td>0.001836   </td><td> 528       </td><td>  304      </td><td>31         </td><td>29         </td><td> 0         </td><td> 0         </td><td>  1725490.1</td><td>993464.1   </td><td>  4        </td><td>...        </td><td>0          </td><td>0          </td><td>18         </td><td> 7         </td><td> 4         </td><td> 5         </td><td> 1         </td><td> 1         </td><td> 3         </td><td>0          </td></tr>\n",
       "</tbody>\n",
       "</table>\n"
      ],
      "text/latex": [
       "\\begin{tabular}{r|lllllllllllllllllllllllllllllllllllllllll}\n",
       " Feature1 & Feature2 & Feature3 & Feature4 & Feature5 & Feature6 & Feature7 & Feature8 & Feature9 & Feature10 & ... & Feature32 & Feature33 & Feature34 & Feature35 & Feature36 & Feature37 & Feature38 & Feature39 & Feature40 & Feature41\\\\\n",
       "\\hline\n",
       "\t 0.000004    &  264        &     0       & 60          &  0          &  0          &  0          & 264000000.0 &      0.0    &   2         & ...         & 0           & 0           & 21          & 21          & 21          & 21          & 21          & 11          & 21          & 0          \\\\\n",
       "\t 0.597719    & 7810        & 15446       & 31          & 29          & 30          & 32          &    103674.1 & 205099.7    & 122         & ...         & 0           & 0           &  1          &  4          &  6          &  2          &  1          &  1          &  1          & 0          \\\\\n",
       "\t 0.001836    &  528        &   304       & 31          & 29          &  0          &  0          &   1725490.1 & 993464.1    &   4         & ...         & 0           & 0           & 18          &  7          &  4          &  5          &  1          &  1          &  3          & 0          \\\\\n",
       "\\end{tabular}\n"
      ],
      "text/markdown": [
       "\n",
       "| Feature1 | Feature2 | Feature3 | Feature4 | Feature5 | Feature6 | Feature7 | Feature8 | Feature9 | Feature10 | ... | Feature32 | Feature33 | Feature34 | Feature35 | Feature36 | Feature37 | Feature38 | Feature39 | Feature40 | Feature41 |\n",
       "|---|---|---|---|---|---|---|---|---|---|---|---|---|---|---|---|---|---|---|---|---|\n",
       "| 0.000004    |  264        |     0       | 60          |  0          |  0          |  0          | 264000000.0 |      0.0    |   2         | ...         | 0           | 0           | 21          | 21          | 21          | 21          | 21          | 11          | 21          | 0           |\n",
       "| 0.597719    | 7810        | 15446       | 31          | 29          | 30          | 32          |    103674.1 | 205099.7    | 122         | ...         | 0           | 0           |  1          |  4          |  6          |  2          |  1          |  1          |  1          | 0           |\n",
       "| 0.001836    |  528        |   304       | 31          | 29          |  0          |  0          |   1725490.1 | 993464.1    |   4         | ...         | 0           | 0           | 18          |  7          |  4          |  5          |  1          |  1          |  3          | 0           |\n",
       "\n"
      ],
      "text/plain": [
       "  Feature1 Feature2 Feature3 Feature4 Feature5 Feature6 Feature7 Feature8   \n",
       "1 0.000004  264         0    60        0        0        0       264000000.0\n",
       "2 0.597719 7810     15446    31       29       30       32          103674.1\n",
       "3 0.001836  528       304    31       29        0        0         1725490.1\n",
       "  Feature9 Feature10 ... Feature32 Feature33 Feature34 Feature35 Feature36\n",
       "1      0.0   2       ... 0         0         21        21        21       \n",
       "2 205099.7 122       ... 0         0          1         4         6       \n",
       "3 993464.1   4       ... 0         0         18         7         4       \n",
       "  Feature37 Feature38 Feature39 Feature40 Feature41\n",
       "1 21        21        11        21        0        \n",
       "2  2         1         1         1        0        \n",
       "3  5         1         1         3        0        "
      ]
     },
     "metadata": {},
     "output_type": "display_data"
    },
    {
     "name": "stdout",
     "output_type": "stream",
     "text": [
      "'data.frame':\t60961 obs. of  41 variables:\n",
      " $ Feature1 : num  0.000004 0.597719 0.001836 0.262825 0.40132 ...\n",
      " $ Feature2 : int  264 7810 528 3728 5000 2934 3614 1920 4862 2646 ...\n",
      " $ Feature3 : int  0 15446 304 5474 3080 3740 45396 4312 80850 25684 ...\n",
      " $ Feature4 : int  60 31 31 31 31 31 31 31 31 31 ...\n",
      " $ Feature5 : int  0 29 29 29 29 29 29 29 29 29 ...\n",
      " $ Feature6 : int  0 30 0 7 7 11 7 6 7 7 ...\n",
      " $ Feature7 : int  0 32 0 7 7 15 24 6 36 15 ...\n",
      " $ Feature8 : num  2.64e+08 1.04e+05 1.73e+06 1.10e+05 9.61e+04 ...\n",
      " $ Feature9 : num  0 205100 993464 159680 59364 ...\n",
      " $ Feature10: int  2 122 4 32 28 52 60 22 84 42 ...\n",
      " $ Feature11: int  0 126 4 24 30 54 62 24 86 44 ...\n",
      " $ Feature12: int  0 255 0 255 255 255 255 255 255 255 ...\n",
      " $ Feature13: int  0 255 0 255 255 255 255 255 255 255 ...\n",
      " $ Feature14: num  0.00 3.69e+09 0.00 3.78e+09 1.17e+09 ...\n",
      " $ Feature15: num  0.00 1.55e+09 0.00 1.64e+09 1.23e+09 ...\n",
      " $ Feature16: int  132 64 132 117 179 56 60 87 58 63 ...\n",
      " $ Feature17: int  0 123 76 228 103 69 732 180 940 584 ...\n",
      " $ Feature18: int  0 0 0 0 0 0 0 0 0 0 ...\n",
      " $ Feature19: int  0 0 0 0 0 0 0 0 0 0 ...\n",
      " $ Feature20: num  0 410.332 0.668 562.128 844.293 ...\n",
      " $ Feature21: num  0 403.183 0.325 17.308 21.628 ...\n",
      " $ Feature22: int  1424238117 1424235237 1421944049 1424223373 1421949783 1421972342 1421945379 1424250655 1424242555 1424260384 ...\n",
      " $ Feature23: int  1424238117 1424235238 1421944049 1424223373 1421949783 1421972342 1421945379 1424250655 1424242555 1424260384 ...\n",
      " $ Feature24: num  0.004 5.02 0.476 8.478 14.852 ...\n",
      " $ Feature25: num  0 4.778 0.233 11.397 13.819 ...\n",
      " $ Feature26: num  0 0.000606 0 0.000721 0.000716 ...\n",
      " $ Feature27: num  0 0.000484 0 0.000572 0.000576 ...\n",
      " $ Feature28: num  0 0.000122 0 0.000149 0.00014 0.000147 0.000171 0.000147 0.00013 0.000113 ...\n",
      " $ Feature29: int  0 0 0 0 0 0 0 0 0 0 ...\n",
      " $ Feature30: int  0 0 0 0 0 0 0 0 0 0 ...\n",
      " $ Feature31: int  0 0 0 0 0 0 0 0 0 0 ...\n",
      " $ Feature32: int  0 0 0 0 0 1 0 0 0 0 ...\n",
      " $ Feature33: int  0 0 0 0 0 1 0 0 0 0 ...\n",
      " $ Feature34: int  21 1 18 1 16 1 7 4 9 5 ...\n",
      " $ Feature35: int  21 4 7 1 14 1 8 6 8 1 ...\n",
      " $ Feature36: int  21 6 4 2 6 7 8 3 2 1 ...\n",
      " $ Feature37: int  21 2 5 2 3 7 7 1 4 2 ...\n",
      " $ Feature38: int  21 1 1 1 1 1 4 1 1 1 ...\n",
      " $ Feature39: int  11 1 1 1 1 1 4 1 1 1 ...\n",
      " $ Feature40: int  21 1 3 2 3 5 4 1 2 1 ...\n",
      " $ Feature41: int  0 0 0 0 0 0 0 0 0 0 ...\n"
     ]
    }
   ],
   "source": [
    "head(df_sandbox, 3)\n",
    "str(df_sandbox)"
   ]
  },
  {
   "cell_type": "code",
   "execution_count": 13,
   "metadata": {},
   "outputs": [],
   "source": [
    "df_sandbox <- cbind(df_sandbox, attacks = df_play$attack_cat)"
   ]
  },
  {
   "cell_type": "code",
   "execution_count": 14,
   "metadata": {},
   "outputs": [
    {
     "data": {
      "text/html": [
       "<table>\n",
       "<thead><tr><th scope=col>Feature1</th><th scope=col>Feature2</th><th scope=col>Feature3</th><th scope=col>Feature4</th><th scope=col>Feature5</th><th scope=col>Feature6</th><th scope=col>Feature7</th><th scope=col>Feature8</th><th scope=col>Feature9</th><th scope=col>Feature10</th><th scope=col>...</th><th scope=col>Feature33</th><th scope=col>Feature34</th><th scope=col>Feature35</th><th scope=col>Feature36</th><th scope=col>Feature37</th><th scope=col>Feature38</th><th scope=col>Feature39</th><th scope=col>Feature40</th><th scope=col>Feature41</th><th scope=col>attacks</th></tr></thead>\n",
       "<tbody>\n",
       "\t<tr><td>0.000004   </td><td> 264       </td><td>    0      </td><td>60         </td><td> 0         </td><td> 0         </td><td> 0         </td><td>264000000.0</td><td>     0.0   </td><td>  2        </td><td>...        </td><td>0          </td><td>21         </td><td>21         </td><td>21         </td><td>21         </td><td>21         </td><td>11         </td><td>21         </td><td>0          </td><td>           </td></tr>\n",
       "\t<tr><td>0.597719   </td><td>7810       </td><td>15446      </td><td>31         </td><td>29         </td><td>30         </td><td>32         </td><td>   103674.1</td><td>205099.7   </td><td>122        </td><td>...        </td><td>0          </td><td> 1         </td><td> 4         </td><td> 6         </td><td> 2         </td><td> 1         </td><td> 1         </td><td> 1         </td><td>0          </td><td>           </td></tr>\n",
       "\t<tr><td>0.001836   </td><td> 528       </td><td>  304      </td><td>31         </td><td>29         </td><td> 0         </td><td> 0         </td><td>  1725490.1</td><td>993464.1   </td><td>  4        </td><td>...        </td><td>0          </td><td>18         </td><td> 7         </td><td> 4         </td><td> 5         </td><td> 1         </td><td> 1         </td><td> 3         </td><td>0          </td><td>           </td></tr>\n",
       "</tbody>\n",
       "</table>\n"
      ],
      "text/latex": [
       "\\begin{tabular}{r|llllllllllllllllllllllllllllllllllllllllll}\n",
       " Feature1 & Feature2 & Feature3 & Feature4 & Feature5 & Feature6 & Feature7 & Feature8 & Feature9 & Feature10 & ... & Feature33 & Feature34 & Feature35 & Feature36 & Feature37 & Feature38 & Feature39 & Feature40 & Feature41 & attacks\\\\\n",
       "\\hline\n",
       "\t 0.000004    &  264        &     0       & 60          &  0          &  0          &  0          & 264000000.0 &      0.0    &   2         & ...         & 0           & 21          & 21          & 21          & 21          & 21          & 11          & 21          & 0           &            \\\\\n",
       "\t 0.597719    & 7810        & 15446       & 31          & 29          & 30          & 32          &    103674.1 & 205099.7    & 122         & ...         & 0           &  1          &  4          &  6          &  2          &  1          &  1          &  1          & 0           &            \\\\\n",
       "\t 0.001836    &  528        &   304       & 31          & 29          &  0          &  0          &   1725490.1 & 993464.1    &   4         & ...         & 0           & 18          &  7          &  4          &  5          &  1          &  1          &  3          & 0           &            \\\\\n",
       "\\end{tabular}\n"
      ],
      "text/markdown": [
       "\n",
       "| Feature1 | Feature2 | Feature3 | Feature4 | Feature5 | Feature6 | Feature7 | Feature8 | Feature9 | Feature10 | ... | Feature33 | Feature34 | Feature35 | Feature36 | Feature37 | Feature38 | Feature39 | Feature40 | Feature41 | attacks |\n",
       "|---|---|---|---|---|---|---|---|---|---|---|---|---|---|---|---|---|---|---|---|---|\n",
       "| 0.000004    |  264        |     0       | 60          |  0          |  0          |  0          | 264000000.0 |      0.0    |   2         | ...         | 0           | 21          | 21          | 21          | 21          | 21          | 11          | 21          | 0           |             |\n",
       "| 0.597719    | 7810        | 15446       | 31          | 29          | 30          | 32          |    103674.1 | 205099.7    | 122         | ...         | 0           |  1          |  4          |  6          |  2          |  1          |  1          |  1          | 0           |             |\n",
       "| 0.001836    |  528        |   304       | 31          | 29          |  0          |  0          |   1725490.1 | 993464.1    |   4         | ...         | 0           | 18          |  7          |  4          |  5          |  1          |  1          |  3          | 0           |             |\n",
       "\n"
      ],
      "text/plain": [
       "  Feature1 Feature2 Feature3 Feature4 Feature5 Feature6 Feature7 Feature8   \n",
       "1 0.000004  264         0    60        0        0        0       264000000.0\n",
       "2 0.597719 7810     15446    31       29       30       32          103674.1\n",
       "3 0.001836  528       304    31       29        0        0         1725490.1\n",
       "  Feature9 Feature10 ... Feature33 Feature34 Feature35 Feature36 Feature37\n",
       "1      0.0   2       ... 0         21        21        21        21       \n",
       "2 205099.7 122       ... 0          1         4         6         2       \n",
       "3 993464.1   4       ... 0         18         7         4         5       \n",
       "  Feature38 Feature39 Feature40 Feature41 attacks\n",
       "1 21        11        21        0                \n",
       "2  1         1         1        0                \n",
       "3  1         1         3        0                "
      ]
     },
     "metadata": {},
     "output_type": "display_data"
    }
   ],
   "source": [
    "head(df_sandbox, 3)"
   ]
  },
  {
   "cell_type": "code",
   "execution_count": 15,
   "metadata": {},
   "outputs": [],
   "source": [
    "df_play_train <- df_sandbox[training, ]\n",
    "df_play_test <- df_sandbox[-training, ]"
   ]
  },
  {
   "cell_type": "code",
   "execution_count": 16,
   "metadata": {},
   "outputs": [],
   "source": [
    "y<- df_play_train$attacks\n",
    "y<- as.matrix(y)"
   ]
  },
  {
   "cell_type": "code",
   "execution_count": 17,
   "metadata": {},
   "outputs": [],
   "source": [
    "nn = neuralnet(y~Feature1+Feature2+Feature3+Feature4+Feature5+Feature6+Feature7+Feature8+Feature9+Feature10\n",
    "               +Feature11+Feature12+Feature13+Feature14+Feature15+Feature16+Feature17+Feature18+Feature19\n",
    "               +Feature20+Feature21+Feature22+Feature23+Feature24+Feature25+Feature26+Feature27+Feature28+Feature29\n",
    "               +Feature30+Feature31+Feature32+Feature33+Feature34+Feature35+Feature36+Feature37+Feature38\n",
    "               +Feature39+Feature40+Feature41, data=df_play_train, hidden = c(2,2))               "
   ]
  },
  {
   "cell_type": "code",
   "execution_count": 18,
   "metadata": {},
   "outputs": [
    {
     "data": {
      "image/png": "[encoded data removed]",
      "text/plain": [
       "plot without title"
      ]
     },
     "metadata": {},
     "output_type": "display_data"
    }
   ],
   "source": [
    "plot(nn, rep=\"best\")"
   ]
  },
  {
   "cell_type": "code",
   "execution_count": 19,
   "metadata": {},
   "outputs": [
    {
     "data": {
      "text/html": [
       "<table>\n",
       "<tbody>\n",
       "\t<tr><th scope=row>error</th><td> 4.502240e+03</td></tr>\n",
       "\t<tr><th scope=row>reached.threshold</th><td> 9.571904e-03</td></tr>\n",
       "\t<tr><th scope=row>steps</th><td> 1.060200e+04</td></tr>\n",
       "\t<tr><th scope=row>Intercept.to.1layhid1</th><td> 7.791678e-01</td></tr>\n",
       "\t<tr><th scope=row>Feature1.to.1layhid1</th><td>-8.810581e-01</td></tr>\n",
       "\t<tr><th scope=row>Feature2.to.1layhid1</th><td> 2.675507e-01</td></tr>\n",
       "\t<tr><th scope=row>Feature3.to.1layhid1</th><td>-1.358748e-01</td></tr>\n",
       "\t<tr><th scope=row>Feature4.to.1layhid1</th><td> 3.921517e-01</td></tr>\n",
       "\t<tr><th scope=row>Feature5.to.1layhid1</th><td>-1.588260e+00</td></tr>\n",
       "\t<tr><th scope=row>Feature6.to.1layhid1</th><td> 1.133058e+00</td></tr>\n",
       "</tbody>\n",
       "</table>\n"
      ],
      "text/latex": [
       "\\begin{tabular}{r|l}\n",
       "\terror &  4.502240e+03\\\\\n",
       "\treached.threshold &  9.571904e-03\\\\\n",
       "\tsteps &  1.060200e+04\\\\\n",
       "\tIntercept.to.1layhid1 &  7.791678e-01\\\\\n",
       "\tFeature1.to.1layhid1 & -8.810581e-01\\\\\n",
       "\tFeature2.to.1layhid1 &  2.675507e-01\\\\\n",
       "\tFeature3.to.1layhid1 & -1.358748e-01\\\\\n",
       "\tFeature4.to.1layhid1 &  3.921517e-01\\\\\n",
       "\tFeature5.to.1layhid1 & -1.588260e+00\\\\\n",
       "\tFeature6.to.1layhid1 &  1.133058e+00\\\\\n",
       "\\end{tabular}\n"
      ],
      "text/markdown": [
       "\n",
       "| error |  4.502240e+03 |\n",
       "| reached.threshold |  9.571904e-03 |\n",
       "| steps |  1.060200e+04 |\n",
       "| Intercept.to.1layhid1 |  7.791678e-01 |\n",
       "| Feature1.to.1layhid1 | -8.810581e-01 |\n",
       "| Feature2.to.1layhid1 |  2.675507e-01 |\n",
       "| Feature3.to.1layhid1 | -1.358748e-01 |\n",
       "| Feature4.to.1layhid1 |  3.921517e-01 |\n",
       "| Feature5.to.1layhid1 | -1.588260e+00 |\n",
       "| Feature6.to.1layhid1 |  1.133058e+00 |\n",
       "\n"
      ],
      "text/plain": [
       "                      [,1]         \n",
       "error                  4.502240e+03\n",
       "reached.threshold      9.571904e-03\n",
       "steps                  1.060200e+04\n",
       "Intercept.to.1layhid1  7.791678e-01\n",
       "Feature1.to.1layhid1  -8.810581e-01\n",
       "Feature2.to.1layhid1   2.675507e-01\n",
       "Feature3.to.1layhid1  -1.358748e-01\n",
       "Feature4.to.1layhid1   3.921517e-01\n",
       "Feature5.to.1layhid1  -1.588260e+00\n",
       "Feature6.to.1layhid1   1.133058e+00"
      ]
     },
     "metadata": {},
     "output_type": "display_data"
    }
   ],
   "source": [
    "head(nn$result.matrix,10)"
   ]
  },
  {
   "cell_type": "code",
   "execution_count": 20,
   "metadata": {},
   "outputs": [
    {
     "data": {
      "text/html": [
       "'matrix'"
      ],
      "text/latex": [
       "'matrix'"
      ],
      "text/markdown": [
       "'matrix'"
      ],
      "text/plain": [
       "[1] \"matrix\""
      ]
     },
     "metadata": {},
     "output_type": "display_data"
    }
   ],
   "source": [
    "pred <- predict(nn, df_play_test)\n",
    "class(pred)"
   ]
  },
  {
   "cell_type": "code",
   "execution_count": 21,
   "metadata": {},
   "outputs": [
    {
     "data": {
      "text/html": [
       "<table>\n",
       "<thead><tr><th></th><th scope=col>Feature1</th><th scope=col>Feature2</th><th scope=col>Feature3</th><th scope=col>Feature4</th><th scope=col>Feature5</th><th scope=col>Feature6</th><th scope=col>Feature7</th><th scope=col>Feature8</th><th scope=col>Feature9</th><th scope=col>Feature10</th><th scope=col>...</th><th scope=col>Feature33</th><th scope=col>Feature34</th><th scope=col>Feature35</th><th scope=col>Feature36</th><th scope=col>Feature37</th><th scope=col>Feature38</th><th scope=col>Feature39</th><th scope=col>Feature40</th><th scope=col>Feature41</th><th scope=col>attacks</th></tr></thead>\n",
       "<tbody>\n",
       "\t<tr><th scope=row>29311</th><td>0.390371    </td><td>4720        </td><td>3080        </td><td>31          </td><td>29          </td><td> 7          </td><td> 7          </td><td>    93285.62</td><td> 61029.12   </td><td>28          </td><td>...         </td><td>0           </td><td>13          </td><td> 8          </td><td> 4          </td><td> 5          </td><td> 1          </td><td> 1          </td><td> 3          </td><td>0           </td><td>            </td></tr>\n",
       "\t<tr><th scope=row>37901</th><td>0.000005    </td><td> 264        </td><td>   0        </td><td>60          </td><td> 0          </td><td> 0          </td><td> 0          </td><td>211200000.00</td><td>     0.00   </td><td> 2          </td><td>...         </td><td>0           </td><td>35          </td><td>35          </td><td>29          </td><td>27          </td><td>27          </td><td>14          </td><td>35          </td><td>0           </td><td>            </td></tr>\n",
       "\t<tr><th scope=row>23343</th><td>0.040242    </td><td>2934        </td><td>3740        </td><td>31          </td><td>29          </td><td>11          </td><td>15          </td><td>   572138.56</td><td>729784.75   </td><td>52          </td><td>...         </td><td>1           </td><td> 1          </td><td> 1          </td><td> 5          </td><td> 6          </td><td> 1          </td><td> 1          </td><td> 6          </td><td>0           </td><td>            </td></tr>\n",
       "</tbody>\n",
       "</table>\n"
      ],
      "text/latex": [
       "\\begin{tabular}{r|llllllllllllllllllllllllllllllllllllllllll}\n",
       "  & Feature1 & Feature2 & Feature3 & Feature4 & Feature5 & Feature6 & Feature7 & Feature8 & Feature9 & Feature10 & ... & Feature33 & Feature34 & Feature35 & Feature36 & Feature37 & Feature38 & Feature39 & Feature40 & Feature41 & attacks\\\\\n",
       "\\hline\n",
       "\t29311 & 0.390371     & 4720         & 3080         & 31           & 29           &  7           &  7           &     93285.62 &  61029.12    & 28           & ...          & 0            & 13           &  8           &  4           &  5           &  1           &  1           &  3           & 0            &             \\\\\n",
       "\t37901 & 0.000005     &  264         &    0         & 60           &  0           &  0           &  0           & 211200000.00 &      0.00    &  2           & ...          & 0            & 35           & 35           & 29           & 27           & 27           & 14           & 35           & 0            &             \\\\\n",
       "\t23343 & 0.040242     & 2934         & 3740         & 31           & 29           & 11           & 15           &    572138.56 & 729784.75    & 52           & ...          & 1            &  1           &  1           &  5           &  6           &  1           &  1           &  6           & 0            &             \\\\\n",
       "\\end{tabular}\n"
      ],
      "text/markdown": [
       "\n",
       "| <!--/--> | Feature1 | Feature2 | Feature3 | Feature4 | Feature5 | Feature6 | Feature7 | Feature8 | Feature9 | Feature10 | ... | Feature33 | Feature34 | Feature35 | Feature36 | Feature37 | Feature38 | Feature39 | Feature40 | Feature41 | attacks |\n",
       "|---|---|---|---|---|---|---|---|---|---|---|---|---|---|---|---|---|---|---|---|---|---|\n",
       "| 29311 | 0.390371     | 4720         | 3080         | 31           | 29           |  7           |  7           |     93285.62 |  61029.12    | 28           | ...          | 0            | 13           |  8           |  4           |  5           |  1           |  1           |  3           | 0            |              |\n",
       "| 37901 | 0.000005     |  264         |    0         | 60           |  0           |  0           |  0           | 211200000.00 |      0.00    |  2           | ...          | 0            | 35           | 35           | 29           | 27           | 27           | 14           | 35           | 0            |              |\n",
       "| 23343 | 0.040242     | 2934         | 3740         | 31           | 29           | 11           | 15           |    572138.56 | 729784.75    | 52           | ...          | 1            |  1           |  1           |  5           |  6           |  1           |  1           |  6           | 0            |              |\n",
       "\n"
      ],
      "text/plain": [
       "      Feature1 Feature2 Feature3 Feature4 Feature5 Feature6 Feature7\n",
       "29311 0.390371 4720     3080     31       29        7        7      \n",
       "37901 0.000005  264        0     60        0        0        0      \n",
       "23343 0.040242 2934     3740     31       29       11       15      \n",
       "      Feature8     Feature9  Feature10 ... Feature33 Feature34 Feature35\n",
       "29311     93285.62  61029.12 28        ... 0         13         8       \n",
       "37901 211200000.00      0.00  2        ... 0         35        35       \n",
       "23343    572138.56 729784.75 52        ... 1          1         1       \n",
       "      Feature36 Feature37 Feature38 Feature39 Feature40 Feature41 attacks\n",
       "29311  4         5         1         1         3        0                \n",
       "37901 29        27        27        14        35        0                \n",
       "23343  5         6         1         1         6        0                "
      ]
     },
     "metadata": {},
     "output_type": "display_data"
    },
    {
     "data": {
      "text/html": [
       "<table>\n",
       "<thead><tr><th></th><th scope=col>Feature1</th><th scope=col>Feature2</th><th scope=col>Feature3</th><th scope=col>Feature4</th><th scope=col>Feature5</th><th scope=col>Feature6</th><th scope=col>Feature7</th><th scope=col>Feature8</th><th scope=col>Feature9</th><th scope=col>Feature10</th><th scope=col>...</th><th scope=col>Feature33</th><th scope=col>Feature34</th><th scope=col>Feature35</th><th scope=col>Feature36</th><th scope=col>Feature37</th><th scope=col>Feature38</th><th scope=col>Feature39</th><th scope=col>Feature40</th><th scope=col>Feature41</th><th scope=col>attacks</th></tr></thead>\n",
       "<tbody>\n",
       "\t<tr><th scope=row>4</th><td>0.262825  </td><td>3728      </td><td>5474      </td><td> 31       </td><td>29        </td><td> 7        </td><td> 7        </td><td>  109943.9</td><td> 159680.4 </td><td>32        </td><td>...       </td><td>0         </td><td> 1        </td><td> 1        </td><td>2         </td><td>2         </td><td>1         </td><td>1         </td><td> 2        </td><td>0         </td><td>          </td></tr>\n",
       "\t<tr><th scope=row>6</th><td>0.022621  </td><td>2934      </td><td>3740      </td><td> 31       </td><td>29        </td><td>11        </td><td>15        </td><td> 1017815.3</td><td>1298262.6 </td><td>52        </td><td>...       </td><td>1         </td><td> 1        </td><td> 1        </td><td>7         </td><td>7         </td><td>1         </td><td>1         </td><td> 5        </td><td>0         </td><td>          </td></tr>\n",
       "\t<tr><th scope=row>11</th><td>0.000009  </td><td> 114      </td><td>   0      </td><td>254       </td><td> 0        </td><td> 0        </td><td> 0        </td><td>50666664.0</td><td>      0.0 </td><td> 2        </td><td>...       </td><td>0         </td><td>26        </td><td>26        </td><td>9         </td><td>9         </td><td>9         </td><td>6         </td><td>26        </td><td>1         </td><td>Generic   </td></tr>\n",
       "</tbody>\n",
       "</table>\n"
      ],
      "text/latex": [
       "\\begin{tabular}{r|llllllllllllllllllllllllllllllllllllllllll}\n",
       "  & Feature1 & Feature2 & Feature3 & Feature4 & Feature5 & Feature6 & Feature7 & Feature8 & Feature9 & Feature10 & ... & Feature33 & Feature34 & Feature35 & Feature36 & Feature37 & Feature38 & Feature39 & Feature40 & Feature41 & attacks\\\\\n",
       "\\hline\n",
       "\t4 & 0.262825   & 3728       & 5474       &  31        & 29         &  7         &  7         &   109943.9 &  159680.4  & 32         & ...        & 0          &  1         &  1         & 2          & 2          & 1          & 1          &  2         & 0          &           \\\\\n",
       "\t6 & 0.022621   & 2934       & 3740       &  31        & 29         & 11         & 15         &  1017815.3 & 1298262.6  & 52         & ...        & 1          &  1         &  1         & 7          & 7          & 1          & 1          &  5         & 0          &           \\\\\n",
       "\t11 & 0.000009   &  114       &    0       & 254        &  0         &  0         &  0         & 50666664.0 &       0.0  &  2         & ...        & 0          & 26         & 26         & 9          & 9          & 9          & 6          & 26         & 1          & Generic   \\\\\n",
       "\\end{tabular}\n"
      ],
      "text/markdown": [
       "\n",
       "| <!--/--> | Feature1 | Feature2 | Feature3 | Feature4 | Feature5 | Feature6 | Feature7 | Feature8 | Feature9 | Feature10 | ... | Feature33 | Feature34 | Feature35 | Feature36 | Feature37 | Feature38 | Feature39 | Feature40 | Feature41 | attacks |\n",
       "|---|---|---|---|---|---|---|---|---|---|---|---|---|---|---|---|---|---|---|---|---|---|\n",
       "| 4 | 0.262825   | 3728       | 5474       |  31        | 29         |  7         |  7         |   109943.9 |  159680.4  | 32         | ...        | 0          |  1         |  1         | 2          | 2          | 1          | 1          |  2         | 0          |            |\n",
       "| 6 | 0.022621   | 2934       | 3740       |  31        | 29         | 11         | 15         |  1017815.3 | 1298262.6  | 52         | ...        | 1          |  1         |  1         | 7          | 7          | 1          | 1          |  5         | 0          |            |\n",
       "| 11 | 0.000009   |  114       |    0       | 254        |  0         |  0         |  0         | 50666664.0 |       0.0  |  2         | ...        | 0          | 26         | 26         | 9          | 9          | 9          | 6          | 26         | 1          | Generic    |\n",
       "\n"
      ],
      "text/plain": [
       "   Feature1 Feature2 Feature3 Feature4 Feature5 Feature6 Feature7 Feature8  \n",
       "4  0.262825 3728     5474      31      29        7        7         109943.9\n",
       "6  0.022621 2934     3740      31      29       11       15        1017815.3\n",
       "11 0.000009  114        0     254       0        0        0       50666664.0\n",
       "   Feature9  Feature10 ... Feature33 Feature34 Feature35 Feature36 Feature37\n",
       "4   159680.4 32        ... 0          1         1        2         2        \n",
       "6  1298262.6 52        ... 1          1         1        7         7        \n",
       "11       0.0  2        ... 0         26        26        9         9        \n",
       "   Feature38 Feature39 Feature40 Feature41 attacks\n",
       "4  1         1          2        0                \n",
       "6  1         1          5        0                \n",
       "11 9         6         26        1         Generic"
      ]
     },
     "metadata": {},
     "output_type": "display_data"
    }
   ],
   "source": [
    "head(df_play_train,3)\n",
    "head(df_play_test, 3)"
   ]
  },
  {
   "cell_type": "code",
   "execution_count": 22,
   "metadata": {},
   "outputs": [
    {
     "data": {
      "text/plain": [
       "                  \n",
       "                       1\n",
       "                   17753\n",
       "   Fuzzers            36\n",
       "   Fuzzers           134\n",
       "   Reconnaissance    101\n",
       "   Shellcode           9\n",
       "  Analysis            23\n",
       "  Backdoor             6\n",
       "  Backdoors            2\n",
       "  DoS                146\n",
       "  Exploits           390\n",
       "  Generic           1703\n",
       "  Reconnaissance      14\n",
       "  Shellcode            2\n",
       "  Worms                2"
      ]
     },
     "metadata": {},
     "output_type": "display_data"
    }
   ],
   "source": [
    "tabb <- table(df_play_test$attacks, apply(pred, 1, which.max))\n",
    "tabb"
   ]
  },
  {
   "cell_type": "code",
   "execution_count": 49,
   "metadata": {},
   "outputs": [
    {
     "data": {
      "text/plain": [
       "\n",
       "                          Fuzzers         Fuzzers   Reconnaissance  \n",
       "           17753               36              134              101 \n",
       "      Shellcode          Analysis         Backdoor        Backdoors \n",
       "               9               23                6                2 \n",
       "             DoS         Exploits          Generic   Reconnaissance \n",
       "             146              390             1703               14 \n",
       "       Shellcode            Worms \n",
       "               2                2 "
      ]
     },
     "metadata": {},
     "output_type": "display_data"
    }
   ],
   "source": [
    "table(df_play_test$attacks) ## So we have 100% accuracy -- overfitting!"
   ]
  },
  {
   "cell_type": "code",
   "execution_count": 51,
   "metadata": {},
   "outputs": [
    {
     "data": {
      "text/plain": [
       "       \n",
       "         TRUE\n",
       "  FALSE 20307\n",
       "  TRUE     14"
      ]
     },
     "metadata": {},
     "output_type": "display_data"
    }
   ],
   "source": [
    "table(df_play_test$attacks == \"Reconnaissance\", pred[, 1] >0.5)"
   ]
  },
  {
   "cell_type": "code",
   "execution_count": 44,
   "metadata": {},
   "outputs": [],
   "source": [
    "temp_test <- subset(df_play_test, select = c(paste0(\"Feature\",c(1:41))))\n",
    "nn.results <- compute(nn, temp_test)\n",
    "results <- data.frame(actual = df_play_test$attacks, prediction = nn.results$net.result)\n",
    "actual <- results$actual\n",
    "predicted <-results$prediction "
   ]
  },
  {
   "cell_type": "code",
   "execution_count": 46,
   "metadata": {},
   "outputs": [
    {
     "data": {
      "text/html": [
       "<table>\n",
       "<thead><tr><th></th><th scope=col>actual</th><th scope=col>prediction.1</th><th scope=col>prediction.2</th><th scope=col>prediction.3</th><th scope=col>prediction.4</th><th scope=col>prediction.5</th><th scope=col>prediction.6</th><th scope=col>prediction.7</th><th scope=col>prediction.8</th><th scope=col>prediction.9</th><th scope=col>prediction.10</th><th scope=col>prediction.11</th><th scope=col>prediction.12</th><th scope=col>prediction.13</th><th scope=col>prediction.14</th></tr></thead>\n",
       "<tbody>\n",
       "\t<tr><th scope=row>4</th><td>            </td><td>0.9601530   </td><td>0.002390829 </td><td>0.008128803 </td><td>0.003831823 </td><td>0.0007969487</td><td>0.0004088555</td><td>0.0001593917</td><td>1.760818e-05</td><td>0.002708747 </td><td>0.01817024  </td><td>0.002550119 </td><td>0.0006375925</td><td>4.662773e-08</td><td>7.969726e-05</td></tr>\n",
       "\t<tr><th scope=row>6</th><td>            </td><td>0.9601530   </td><td>0.002390829 </td><td>0.008128803 </td><td>0.003831823 </td><td>0.0007969487</td><td>0.0004088555</td><td>0.0001593917</td><td>1.760818e-05</td><td>0.002708747 </td><td>0.01817024  </td><td>0.002550119 </td><td>0.0006375925</td><td>4.662773e-08</td><td>7.969726e-05</td></tr>\n",
       "\t<tr><th scope=row>11</th><td>Generic     </td><td>0.8361455   </td><td>0.001601875 </td><td>0.007511028 </td><td>0.004944971 </td><td>0.0004271634</td><td>0.0014195792</td><td>0.0008543341</td><td>2.415296e-04</td><td>0.009326855 </td><td>0.01580521  </td><td>0.120817356 </td><td>0.0006763307</td><td>1.779665e-04</td><td>3.559556e-05</td></tr>\n",
       "\t<tr><th scope=row>13</th><td>            </td><td>0.8361455   </td><td>0.001601875 </td><td>0.007511028 </td><td>0.004944971 </td><td>0.0004271634</td><td>0.0014195792</td><td>0.0008543341</td><td>2.415296e-04</td><td>0.009326855 </td><td>0.01580521  </td><td>0.120817356 </td><td>0.0006763307</td><td>1.779665e-04</td><td>3.559556e-05</td></tr>\n",
       "\t<tr><th scope=row>17</th><td>            </td><td>0.9601530   </td><td>0.002390829 </td><td>0.008128803 </td><td>0.003831823 </td><td>0.0007969487</td><td>0.0004088555</td><td>0.0001593917</td><td>1.760818e-05</td><td>0.002708747 </td><td>0.01817024  </td><td>0.002550119 </td><td>0.0006375925</td><td>4.662773e-08</td><td>7.969726e-05</td></tr>\n",
       "\t<tr><th scope=row>21</th><td>            </td><td>0.8361455   </td><td>0.001601875 </td><td>0.007511028 </td><td>0.004944971 </td><td>0.0004271634</td><td>0.0014195792</td><td>0.0008543341</td><td>2.415296e-04</td><td>0.009326855 </td><td>0.01580521  </td><td>0.120817356 </td><td>0.0006763307</td><td>1.779665e-04</td><td>3.559556e-05</td></tr>\n",
       "</tbody>\n",
       "</table>\n"
      ],
      "text/latex": [
       "\\begin{tabular}{r|lllllllllllllll}\n",
       "  & actual & prediction.1 & prediction.2 & prediction.3 & prediction.4 & prediction.5 & prediction.6 & prediction.7 & prediction.8 & prediction.9 & prediction.10 & prediction.11 & prediction.12 & prediction.13 & prediction.14\\\\\n",
       "\\hline\n",
       "\t4 &              & 0.9601530    & 0.002390829  & 0.008128803  & 0.003831823  & 0.0007969487 & 0.0004088555 & 0.0001593917 & 1.760818e-05 & 0.002708747  & 0.01817024   & 0.002550119  & 0.0006375925 & 4.662773e-08 & 7.969726e-05\\\\\n",
       "\t6 &              & 0.9601530    & 0.002390829  & 0.008128803  & 0.003831823  & 0.0007969487 & 0.0004088555 & 0.0001593917 & 1.760818e-05 & 0.002708747  & 0.01817024   & 0.002550119  & 0.0006375925 & 4.662773e-08 & 7.969726e-05\\\\\n",
       "\t11 & Generic      & 0.8361455    & 0.001601875  & 0.007511028  & 0.004944971  & 0.0004271634 & 0.0014195792 & 0.0008543341 & 2.415296e-04 & 0.009326855  & 0.01580521   & 0.120817356  & 0.0006763307 & 1.779665e-04 & 3.559556e-05\\\\\n",
       "\t13 &              & 0.8361455    & 0.001601875  & 0.007511028  & 0.004944971  & 0.0004271634 & 0.0014195792 & 0.0008543341 & 2.415296e-04 & 0.009326855  & 0.01580521   & 0.120817356  & 0.0006763307 & 1.779665e-04 & 3.559556e-05\\\\\n",
       "\t17 &              & 0.9601530    & 0.002390829  & 0.008128803  & 0.003831823  & 0.0007969487 & 0.0004088555 & 0.0001593917 & 1.760818e-05 & 0.002708747  & 0.01817024   & 0.002550119  & 0.0006375925 & 4.662773e-08 & 7.969726e-05\\\\\n",
       "\t21 &              & 0.8361455    & 0.001601875  & 0.007511028  & 0.004944971  & 0.0004271634 & 0.0014195792 & 0.0008543341 & 2.415296e-04 & 0.009326855  & 0.01580521   & 0.120817356  & 0.0006763307 & 1.779665e-04 & 3.559556e-05\\\\\n",
       "\\end{tabular}\n"
      ],
      "text/markdown": [
       "\n",
       "| <!--/--> | actual | prediction.1 | prediction.2 | prediction.3 | prediction.4 | prediction.5 | prediction.6 | prediction.7 | prediction.8 | prediction.9 | prediction.10 | prediction.11 | prediction.12 | prediction.13 | prediction.14 |\n",
       "|---|---|---|---|---|---|---|---|---|---|---|---|---|---|---|---|\n",
       "| 4 |              | 0.9601530    | 0.002390829  | 0.008128803  | 0.003831823  | 0.0007969487 | 0.0004088555 | 0.0001593917 | 1.760818e-05 | 0.002708747  | 0.01817024   | 0.002550119  | 0.0006375925 | 4.662773e-08 | 7.969726e-05 |\n",
       "| 6 |              | 0.9601530    | 0.002390829  | 0.008128803  | 0.003831823  | 0.0007969487 | 0.0004088555 | 0.0001593917 | 1.760818e-05 | 0.002708747  | 0.01817024   | 0.002550119  | 0.0006375925 | 4.662773e-08 | 7.969726e-05 |\n",
       "| 11 | Generic      | 0.8361455    | 0.001601875  | 0.007511028  | 0.004944971  | 0.0004271634 | 0.0014195792 | 0.0008543341 | 2.415296e-04 | 0.009326855  | 0.01580521   | 0.120817356  | 0.0006763307 | 1.779665e-04 | 3.559556e-05 |\n",
       "| 13 |              | 0.8361455    | 0.001601875  | 0.007511028  | 0.004944971  | 0.0004271634 | 0.0014195792 | 0.0008543341 | 2.415296e-04 | 0.009326855  | 0.01580521   | 0.120817356  | 0.0006763307 | 1.779665e-04 | 3.559556e-05 |\n",
       "| 17 |              | 0.9601530    | 0.002390829  | 0.008128803  | 0.003831823  | 0.0007969487 | 0.0004088555 | 0.0001593917 | 1.760818e-05 | 0.002708747  | 0.01817024   | 0.002550119  | 0.0006375925 | 4.662773e-08 | 7.969726e-05 |\n",
       "| 21 |              | 0.8361455    | 0.001601875  | 0.007511028  | 0.004944971  | 0.0004271634 | 0.0014195792 | 0.0008543341 | 2.415296e-04 | 0.009326855  | 0.01580521   | 0.120817356  | 0.0006763307 | 1.779665e-04 | 3.559556e-05 |\n",
       "\n"
      ],
      "text/plain": [
       "   actual  prediction.1 prediction.2 prediction.3 prediction.4 prediction.5\n",
       "4          0.9601530    0.002390829  0.008128803  0.003831823  0.0007969487\n",
       "6          0.9601530    0.002390829  0.008128803  0.003831823  0.0007969487\n",
       "11 Generic 0.8361455    0.001601875  0.007511028  0.004944971  0.0004271634\n",
       "13         0.8361455    0.001601875  0.007511028  0.004944971  0.0004271634\n",
       "17         0.9601530    0.002390829  0.008128803  0.003831823  0.0007969487\n",
       "21         0.8361455    0.001601875  0.007511028  0.004944971  0.0004271634\n",
       "   prediction.6 prediction.7 prediction.8 prediction.9 prediction.10\n",
       "4  0.0004088555 0.0001593917 1.760818e-05 0.002708747  0.01817024   \n",
       "6  0.0004088555 0.0001593917 1.760818e-05 0.002708747  0.01817024   \n",
       "11 0.0014195792 0.0008543341 2.415296e-04 0.009326855  0.01580521   \n",
       "13 0.0014195792 0.0008543341 2.415296e-04 0.009326855  0.01580521   \n",
       "17 0.0004088555 0.0001593917 1.760818e-05 0.002708747  0.01817024   \n",
       "21 0.0014195792 0.0008543341 2.415296e-04 0.009326855  0.01580521   \n",
       "   prediction.11 prediction.12 prediction.13 prediction.14\n",
       "4  0.002550119   0.0006375925  4.662773e-08  7.969726e-05 \n",
       "6  0.002550119   0.0006375925  4.662773e-08  7.969726e-05 \n",
       "11 0.120817356   0.0006763307  1.779665e-04  3.559556e-05 \n",
       "13 0.120817356   0.0006763307  1.779665e-04  3.559556e-05 \n",
       "17 0.002550119   0.0006375925  4.662773e-08  7.969726e-05 \n",
       "21 0.120817356   0.0006763307  1.779665e-04  3.559556e-05 "
      ]
     },
     "metadata": {},
     "output_type": "display_data"
    }
   ],
   "source": [
    "head(results)"
   ]
  },
  {
   "cell_type": "code",
   "execution_count": null,
   "metadata": {},
   "outputs": [],
   "source": []
  }
 ],
 "metadata": {
  "kernelspec": {
   "display_name": "R",
   "language": "R",
   "name": "ir"
  },
  "language_info": {
   "codemirror_mode": "r",
   "file_extension": ".r",
   "mimetype": "text/x-r-source",
   "name": "R",
   "pygments_lexer": "r",
   "version": "3.6.1"
  }
 },
 "nbformat": 4,
 "nbformat_minor": 4
}
