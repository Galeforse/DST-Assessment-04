{
 "cells": [
  {
   "cell_type": "code",
   "execution_count": 3,
   "metadata": {},
   "outputs": [
    {
     "name": "stderr",
     "output_type": "stream",
     "text": [
      "Warning message:\n",
      "\"package 'plotrix' was built under R version 3.6.3\"Warning message:\n",
      "\"package 'mice' was built under R version 3.6.3\"\n",
      "Attaching package: 'mice'\n",
      "\n",
      "The following object is masked from 'package:stats':\n",
      "\n",
      "    filter\n",
      "\n",
      "The following objects are masked from 'package:base':\n",
      "\n",
      "    cbind, rbind\n",
      "\n",
      "Warning message:\n",
      "\"package 'VIM' was built under R version 3.6.3\"Loading required package: colorspace\n",
      "Loading required package: grid\n",
      "Loading required package: data.table\n",
      "VIM is ready to use. \n",
      " Since version 4.0.0 the GUI is in its own package VIMGUI.\n",
      "\n",
      "          Please use the package to use the new (and old) GUI.\n",
      "\n",
      "Suggestions and bug-reports can be submitted at: https://github.com/alexkowa/VIM/issues\n",
      "\n",
      "Attaching package: 'VIM'\n",
      "\n",
      "The following object is masked from 'package:datasets':\n",
      "\n",
      "    sleep\n",
      "\n",
      "Warning message:\n",
      "\"package 'lattice' was built under R version 3.6.3\"Warning message:\n",
      "\"package 'tidyr' was built under R version 3.6.3\""
     ]
    }
   ],
   "source": [
    "# install.packages(\"plotrix\")\n",
    "# install.packages(\"mice\")\n",
    "# install.packages(\"VIM\")\n",
    "# install.packages(\"lattice\") \n",
    "# install.packages(\"tidyr\")\n",
    "\n",
    "library(plotrix)\n",
    "library(mice)\n",
    "library(VIM)\n",
    "library(lattice)\n",
    "library(tidyr)"
   ]
  },
  {
   "cell_type": "code",
   "execution_count": 1,
   "metadata": {},
   "outputs": [],
   "source": [
    "setwd(\"D://R-4.0.2//ExcelWorks\")\n",
    "df1 <- read.csv(file = \"UNS1.csv\", header = F, stringsAsFactors=FALSE)\n",
    "df2 <- read.csv(file = \"UNS2.csv\", header = F, stringsAsFactors=FALSE)\n",
    "df3 <- read.csv(file = \"UNS3.csv\", header = F, stringsAsFactors=FALSE)\n",
    "df4 <- read.csv(file = \"UNS4.csv\", header = F, stringsAsFactors=FALSE)"
   ]
  },
  {
   "cell_type": "code",
   "execution_count": 2,
   "metadata": {},
   "outputs": [],
   "source": [
    "df<- base::rbind(df1,df2,df3,df4)"
   ]
  },
  {
   "cell_type": "code",
   "execution_count": 4,
   "metadata": {},
   "outputs": [
    {
     "data": {
      "text/html": [
       "<table>\n",
       "<thead><tr><th scope=col>source_ip</th><th scope=col>source_port</th><th scope=col>dest_ip</th><th scope=col>dest_port</th><th scope=col>proto</th><th scope=col>state</th><th scope=col>duration</th><th scope=col>source_bytes</th><th scope=col>dest_bytes</th><th scope=col>source_ttl</th><th scope=col>...</th><th scope=col>count_ftp_cmd</th><th scope=col>count_srv_source</th><th scope=col>count_srv_dest</th><th scope=col>count_dest_ltm</th><th scope=col>count_source_ltm</th><th scope=col>count_source_destport_ltm</th><th scope=col>count_dest_sourceport_ltm</th><th scope=col>counts_dest_source_ltm</th><th scope=col>attack_cat</th><th scope=col>Label</th></tr></thead>\n",
       "<tbody>\n",
       "\t<tr><td>ï»¿59.166.0.0</td><td>1390         </td><td>149.171.126.6</td><td>53           </td><td>udp          </td><td>CON          </td><td>0.001055     </td><td>132          </td><td>164          </td><td>31           </td><td>...          </td><td>0            </td><td> 3           </td><td>7            </td><td>1            </td><td>3            </td><td>1            </td><td>1            </td><td>1            </td><td>             </td><td>0            </td></tr>\n",
       "\t<tr><td>59.166.0.0   </td><td>33661        </td><td>149.171.126.9</td><td>1024         </td><td>udp          </td><td>CON          </td><td>0.036133     </td><td>528          </td><td>304          </td><td>31           </td><td>...          </td><td>0            </td><td> 2           </td><td>4            </td><td>2            </td><td>3            </td><td>1            </td><td>1            </td><td>2            </td><td>             </td><td>0            </td></tr>\n",
       "\t<tr><td>59.166.0.6   </td><td>1464         </td><td>149.171.126.7</td><td>53           </td><td>udp          </td><td>CON          </td><td>0.001119     </td><td>146          </td><td>178          </td><td>31           </td><td>...          </td><td>0            </td><td>12           </td><td>8            </td><td>1            </td><td>2            </td><td>2            </td><td>1            </td><td>1            </td><td>             </td><td>0            </td></tr>\n",
       "\t<tr><td>59.166.0.5   </td><td>3593         </td><td>149.171.126.5</td><td>53           </td><td>udp          </td><td>CON          </td><td>0.001209     </td><td>132          </td><td>164          </td><td>31           </td><td>...          </td><td>0            </td><td> 6           </td><td>9            </td><td>1            </td><td>1            </td><td>1            </td><td>1            </td><td>1            </td><td>             </td><td>0            </td></tr>\n",
       "\t<tr><td>59.166.0.3   </td><td>49664        </td><td>149.171.126.0</td><td>53           </td><td>udp          </td><td>CON          </td><td>0.001169     </td><td>146          </td><td>178          </td><td>31           </td><td>...          </td><td>0            </td><td> 7           </td><td>9            </td><td>1            </td><td>1            </td><td>1            </td><td>1            </td><td>1            </td><td>             </td><td>0            </td></tr>\n",
       "\t<tr><td>59.166.0.0   </td><td>32119        </td><td>149.171.126.9</td><td>111          </td><td>udp          </td><td>CON          </td><td>0.078339     </td><td>568          </td><td>312          </td><td>31           </td><td>...          </td><td>0            </td><td> 2           </td><td>4            </td><td>2            </td><td>3            </td><td>1            </td><td>1            </td><td>2            </td><td>             </td><td>0            </td></tr>\n",
       "</tbody>\n",
       "</table>\n"
      ],
      "text/latex": [
       "\\begin{tabular}{r|lllllllllllllllllllllllllllllllllllllllllllllllll}\n",
       " source\\_ip & source\\_port & dest\\_ip & dest\\_port & proto & state & duration & source\\_bytes & dest\\_bytes & source\\_ttl & ... & count\\_ftp\\_cmd & count\\_srv\\_source & count\\_srv\\_dest & count\\_dest\\_ltm & count\\_source\\_ltm & count\\_source\\_destport\\_ltm & count\\_dest\\_sourceport\\_ltm & counts\\_dest\\_source\\_ltm & attack\\_cat & Label\\\\\n",
       "\\hline\n",
       "\t ï»¿59.166.0.0 & 1390          & 149.171.126.6 & 53            & udp           & CON           & 0.001055      & 132           & 164           & 31            & ...           & 0             &  3            & 7             & 1             & 3             & 1             & 1             & 1             &               & 0            \\\\\n",
       "\t 59.166.0.0    & 33661         & 149.171.126.9 & 1024          & udp           & CON           & 0.036133      & 528           & 304           & 31            & ...           & 0             &  2            & 4             & 2             & 3             & 1             & 1             & 2             &               & 0            \\\\\n",
       "\t 59.166.0.6    & 1464          & 149.171.126.7 & 53            & udp           & CON           & 0.001119      & 146           & 178           & 31            & ...           & 0             & 12            & 8             & 1             & 2             & 2             & 1             & 1             &               & 0            \\\\\n",
       "\t 59.166.0.5    & 3593          & 149.171.126.5 & 53            & udp           & CON           & 0.001209      & 132           & 164           & 31            & ...           & 0             &  6            & 9             & 1             & 1             & 1             & 1             & 1             &               & 0            \\\\\n",
       "\t 59.166.0.3    & 49664         & 149.171.126.0 & 53            & udp           & CON           & 0.001169      & 146           & 178           & 31            & ...           & 0             &  7            & 9             & 1             & 1             & 1             & 1             & 1             &               & 0            \\\\\n",
       "\t 59.166.0.0    & 32119         & 149.171.126.9 & 111           & udp           & CON           & 0.078339      & 568           & 312           & 31            & ...           & 0             &  2            & 4             & 2             & 3             & 1             & 1             & 2             &               & 0            \\\\\n",
       "\\end{tabular}\n"
      ],
      "text/markdown": [
       "\n",
       "| source_ip | source_port | dest_ip | dest_port | proto | state | duration | source_bytes | dest_bytes | source_ttl | ... | count_ftp_cmd | count_srv_source | count_srv_dest | count_dest_ltm | count_source_ltm | count_source_destport_ltm | count_dest_sourceport_ltm | counts_dest_source_ltm | attack_cat | Label |\n",
       "|---|---|---|---|---|---|---|---|---|---|---|---|---|---|---|---|---|---|---|---|---|\n",
       "| ï»¿59.166.0.0 | 1390          | 149.171.126.6 | 53            | udp           | CON           | 0.001055      | 132           | 164           | 31            | ...           | 0             |  3            | 7             | 1             | 3             | 1             | 1             | 1             |               | 0             |\n",
       "| 59.166.0.0    | 33661         | 149.171.126.9 | 1024          | udp           | CON           | 0.036133      | 528           | 304           | 31            | ...           | 0             |  2            | 4             | 2             | 3             | 1             | 1             | 2             |               | 0             |\n",
       "| 59.166.0.6    | 1464          | 149.171.126.7 | 53            | udp           | CON           | 0.001119      | 146           | 178           | 31            | ...           | 0             | 12            | 8             | 1             | 2             | 2             | 1             | 1             |               | 0             |\n",
       "| 59.166.0.5    | 3593          | 149.171.126.5 | 53            | udp           | CON           | 0.001209      | 132           | 164           | 31            | ...           | 0             |  6            | 9             | 1             | 1             | 1             | 1             | 1             |               | 0             |\n",
       "| 59.166.0.3    | 49664         | 149.171.126.0 | 53            | udp           | CON           | 0.001169      | 146           | 178           | 31            | ...           | 0             |  7            | 9             | 1             | 1             | 1             | 1             | 1             |               | 0             |\n",
       "| 59.166.0.0    | 32119         | 149.171.126.9 | 111           | udp           | CON           | 0.078339      | 568           | 312           | 31            | ...           | 0             |  2            | 4             | 2             | 3             | 1             | 1             | 2             |               | 0             |\n",
       "\n"
      ],
      "text/plain": [
       "  source_ip     source_port dest_ip       dest_port proto state duration\n",
       "1 ï»¿59.166.0.0 1390        149.171.126.6 53        udp   CON   0.001055\n",
       "2 59.166.0.0    33661       149.171.126.9 1024      udp   CON   0.036133\n",
       "3 59.166.0.6    1464        149.171.126.7 53        udp   CON   0.001119\n",
       "4 59.166.0.5    3593        149.171.126.5 53        udp   CON   0.001209\n",
       "5 59.166.0.3    49664       149.171.126.0 53        udp   CON   0.001169\n",
       "6 59.166.0.0    32119       149.171.126.9 111       udp   CON   0.078339\n",
       "  source_bytes dest_bytes source_ttl ... count_ftp_cmd count_srv_source\n",
       "1 132          164        31         ... 0              3              \n",
       "2 528          304        31         ... 0              2              \n",
       "3 146          178        31         ... 0             12              \n",
       "4 132          164        31         ... 0              6              \n",
       "5 146          178        31         ... 0              7              \n",
       "6 568          312        31         ... 0              2              \n",
       "  count_srv_dest count_dest_ltm count_source_ltm count_source_destport_ltm\n",
       "1 7              1              3                1                        \n",
       "2 4              2              3                1                        \n",
       "3 8              1              2                2                        \n",
       "4 9              1              1                1                        \n",
       "5 9              1              1                1                        \n",
       "6 4              2              3                1                        \n",
       "  count_dest_sourceport_ltm counts_dest_source_ltm attack_cat Label\n",
       "1 1                         1                                 0    \n",
       "2 1                         2                                 0    \n",
       "3 1                         1                                 0    \n",
       "4 1                         1                                 0    \n",
       "5 1                         1                                 0    \n",
       "6 1                         2                                 0    "
      ]
     },
     "metadata": {},
     "output_type": "display_data"
    }
   ],
   "source": [
    "colnames(df) <- c('source_ip', 'source_port', 'dest_ip', 'dest_port', 'proto', 'state', 'duration', 'source_bytes', 'dest_bytes', 'source_ttl',\n",
    "'dest_ttl', 'source_loss', 'dest_loss', 'service', 'source_load', 'dest_load', 'source_pkts', 'dest_pkts', 'source_TP_win', 'dest_TP_win', \n",
    "'source_tcp_bn', 'dest_tcp_bn', 'source_mean_sz', 'dest_mean_sz', 'trans_depth', 'res_bdy_len', 'source_jitter', 'dest_jitter', 'start_time',\n",
    "'last_time', 'source_int_pk_time', 'dest_int_pk_time', 'tcp_rtt', 'synack', 'ackdat', 'is_sm_ips_ports', 'count_state_ttl', \n",
    "'count_flw_http_mthd', 'is_ftp_login', 'count_ftp_cmd', 'count_srv_source', 'count_srv_dest', 'count_dest_ltm',\n",
    "'count_source_ltm', 'count_source_destport_ltm', 'count_dest_sourceport_ltm', 'counts_dest_source_ltm', 'attack_cat', 'Label')\n",
    "head(df)\n"
   ]
  },
  {
   "cell_type": "code",
   "execution_count": 5,
   "metadata": {},
   "outputs": [
    {
     "data": {
      "text/plain": [
       "\n",
       "                          Fuzzers         Fuzzers   Reconnaissance  \n",
       "         2218764             5051            19195            12228 \n",
       "      Shellcode          Analysis         Backdoor        Backdoors \n",
       "            1288             2677             1795              534 \n",
       "             DoS         Exploits          Generic   Reconnaissance \n",
       "           16353            44525           215481             1759 \n",
       "       Shellcode            Worms \n",
       "             223              174 "
      ]
     },
     "metadata": {},
     "output_type": "display_data"
    }
   ],
   "source": [
    "table(df$attack_cat) # This exhibits a couple of problems, most notable\n",
    "\t\t     # the NULL ones"
   ]
  },
  {
   "cell_type": "code",
   "execution_count": 9,
   "metadata": {},
   "outputs": [
    {
     "data": {
      "text/html": [
       "<strong> Fuzzers :</strong> 19195"
      ],
      "text/latex": [
       "\\textbf{ Fuzzers :} 19195"
      ],
      "text/markdown": [
       "** Fuzzers :** 19195"
      ],
      "text/plain": [
       " Fuzzers  \n",
       "    19195 "
      ]
     },
     "metadata": {},
     "output_type": "display_data"
    },
    {
     "data": {
      "text/html": [
       "<strong>Backdoors:</strong> 2329"
      ],
      "text/latex": [
       "\\textbf{Backdoors:} 2329"
      ],
      "text/markdown": [
       "**Backdoors:** 2329"
      ],
      "text/plain": [
       "Backdoors \n",
       "     2329 "
      ]
     },
     "metadata": {},
     "output_type": "display_data"
    },
    {
     "data": {
      "text/plain": [
       "\n",
       "        Fuzzers   Reconnaissance        Shellcode          Analysis \n",
       "           19195            12228             1288             2677 \n",
       "       Backdoors              DoS         Exploits          Generic \n",
       "            2329            16353            44525           215481 \n",
       "  Reconnaissance        Shellcode            Worms \n",
       "            1759              223              174 "
      ]
     },
     "metadata": {},
     "output_type": "display_data"
    }
   ],
   "source": [
    "t <- table(df$attack_cat, exclude = \"\")\n",
    "t[1] <- t[1] + t[2]\n",
    "t[2]\n",
    "t <- t[-1]\n",
    "t[6] <- t[5] + t[6]\n",
    "t[6]\n",
    "t<- t[-5]\n",
    "t"
   ]
  },
  {
   "cell_type": "code",
   "execution_count": 10,
   "metadata": {},
   "outputs": [
    {
     "data": {
      "text/html": [
       "<strong> Shellcode :</strong> 1511"
      ],
      "text/latex": [
       "\\textbf{ Shellcode :} 1511"
      ],
      "text/markdown": [
       "** Shellcode :** 1511"
      ],
      "text/plain": [
       " Shellcode  \n",
       "       1511 "
      ]
     },
     "metadata": {},
     "output_type": "display_data"
    },
    {
     "data": {
      "text/html": [
       "<strong> Reconnaissance :</strong> 13987"
      ],
      "text/latex": [
       "\\textbf{ Reconnaissance :} 13987"
      ],
      "text/markdown": [
       "** Reconnaissance :** 13987"
      ],
      "text/plain": [
       " Reconnaissance  \n",
       "           13987 "
      ]
     },
     "metadata": {},
     "output_type": "display_data"
    },
    {
     "data": {
      "text/plain": [
       "\n",
       "        Fuzzers   Reconnaissance        Shellcode          Analysis \n",
       "           19195            13987             1511             2677 \n",
       "       Backdoors              DoS         Exploits          Generic \n",
       "            2329            16353            44525           215481 \n",
       "           Worms \n",
       "             174 "
      ]
     },
     "metadata": {},
     "output_type": "display_data"
    }
   ],
   "source": [
    "t[3]<- t[3]+ t[10]\n",
    "t[3]\n",
    "t <- t[-10]\n",
    "t[2]<- t[2]+t[9]\n",
    "t[2]\n",
    "t<- t[-9]\n",
    "t"
   ]
  },
  {
   "cell_type": "code",
   "execution_count": 11,
   "metadata": {},
   "outputs": [
    {
     "data": {
      "image/png": "[encoded data removed]",
      "text/plain": [
       "Plot with title \"Breakdown of attack types\""
      ]
     },
     "metadata": {},
     "output_type": "display_data"
    }
   ],
   "source": [
    "pie3D(t, labels = names(t), explode = 0.2, theta = pi/4,\n",
    "labelcex= 1.35, radius = 1.1, main = \"Breakdown of attack types\")"
   ]
  },
  {
   "cell_type": "code",
   "execution_count": 12,
   "metadata": {},
   "outputs": [],
   "source": [
    "## First row has been corrupted by our binding for some reason:\n",
    "df<- df[-1,]"
   ]
  },
  {
   "cell_type": "code",
   "execution_count": 13,
   "metadata": {},
   "outputs": [
    {
     "data": {
      "text/plain": [
       "\n",
       "    10.40.170.2     10.40.182.1     10.40.182.3     10.40.182.6      10.40.85.1 \n",
       "           2094            3984            2105            3492            4018 \n",
       "    10.40.85.10     10.40.85.30       127.0.0.1   149.171.126.0   149.171.126.1 \n",
       "            793            2138               1             261             311 \n",
       " 149.171.126.10  149.171.126.11  149.171.126.12  149.171.126.13  149.171.126.14 \n",
       "          30365              28           16082             218           41047 \n",
       " 149.171.126.15  149.171.126.16  149.171.126.17  149.171.126.18  149.171.126.19 \n",
       "          44883               9              22           81680              21 \n",
       "  149.171.126.2   149.171.126.3   149.171.126.4   149.171.126.5   149.171.126.6 \n",
       "            295             311             300             339             298 \n",
       "  149.171.126.7   149.171.126.8   149.171.126.9    175.45.176.0    175.45.176.1 \n",
       "            270             291             285           82999          127998 \n",
       "   175.45.176.2    175.45.176.3 192.168.241.243      59.166.0.0      59.166.0.1 \n",
       "          32026          118673             108          197527          197680 \n",
       "     59.166.0.2      59.166.0.3      59.166.0.4      59.166.0.5      59.166.0.6 \n",
       "         197550          195953          197959          197626          189419 \n",
       "     59.166.0.7      59.166.0.8      59.166.0.9 \n",
       "         189059          189341          190187 "
      ]
     },
     "metadata": {},
     "output_type": "display_data"
    }
   ],
   "source": [
    "table(df$source_ip)"
   ]
  },
  {
   "cell_type": "code",
   "execution_count": 14,
   "metadata": {},
   "outputs": [
    {
     "name": "stdout",
     "output_type": "stream",
     "text": [
      "       source_ip source_port   dest_ip dest_port proto state duration\n",
      "500014 127.0.0.1       52129 127.0.0.1        25   tcp   RST  1.1e-05\n",
      "       source_bytes dest_bytes source_ttl dest_ttl source_loss dest_loss\n",
      "500014           60         40         64       64           0         0\n",
      "       service source_load dest_load source_pkts dest_pkts source_TP_win\n",
      "500014       -           0         0           1         1           255\n",
      "       dest_TP_win source_tcp_bn dest_tcp_bn source_mean_sz dest_mean_sz\n",
      "500014           0    2627775599           0             60           40\n",
      "       trans_depth res_bdy_len source_jitter dest_jitter start_time  last_time\n",
      "500014           0           0             0           0 1421946164 1421946164\n",
      "       source_int_pk_time dest_int_pk_time tcp_rtt synack ackdat\n",
      "500014                  0                0       0      0      0\n",
      "       is_sm_ips_ports count_state_ttl count_flw_http_mthd is_ftp_login\n",
      "500014               0               0                   0            0\n",
      "       count_ftp_cmd count_srv_source count_srv_dest count_dest_ltm\n",
      "500014             0                1              1              1\n",
      "       count_source_ltm count_source_destport_ltm count_dest_sourceport_ltm\n",
      "500014                1                         1                         1\n",
      "       counts_dest_source_ltm attack_cat Label\n",
      "500014                      1                0\n"
     ]
    }
   ],
   "source": [
    "# What's the unique IP case?\n",
    "print(df[df$source_ip==\"127.0.0.1\",])"
   ]
  },
  {
   "cell_type": "code",
   "execution_count": 15,
   "metadata": {},
   "outputs": [
    {
     "data": {
      "image/png": "[encoded data removed]",
      "text/plain": [
       "plot without title"
      ]
     },
     "metadata": {},
     "output_type": "display_data"
    },
    {
     "data": {
      "image/png": "[encoded data removed]",
      "text/plain": [
       "plot without title"
      ]
     },
     "metadata": {},
     "output_type": "display_data"
    },
    {
     "data": {
      "image/png": "[encoded data removed]",
      "text/plain": [
       "plot without title"
      ]
     },
     "metadata": {},
     "output_type": "display_data"
    },
    {
     "data": {
      "image/png": "[encoded data removed]",
      "text/plain": [
       "plot without title"
      ]
     },
     "metadata": {},
     "output_type": "display_data"
    },
    {
     "data": {
      "image/png": "[encoded data removed]",
      "text/plain": [
       "plot without title"
      ]
     },
     "metadata": {},
     "output_type": "display_data"
    },
    {
     "data": {
      "image/png": "[encoded data removed]",
      "text/plain": [
       "plot without title"
      ]
     },
     "metadata": {},
     "output_type": "display_data"
    },
    {
     "data": {
      "image/png": "[encoded data removed]",
      "text/plain": [
       "plot without title"
      ]
     },
     "metadata": {},
     "output_type": "display_data"
    },
    {
     "data": {
      "image/png": "[encoded data removed]",
      "text/plain": [
       "plot without title"
      ]
     },
     "metadata": {},
     "output_type": "display_data"
    },
    {
     "data": {
      "image/png": "[encoded data removed]",
      "text/plain": [
       "plot without title"
      ]
     },
     "metadata": {},
     "output_type": "display_data"
    }
   ],
   "source": [
    "op <- par(mfrow = c(3,3))\n",
    "for(i in 1:9) {\n",
    "\tset.seed(i)\n",
    "\tsome <- sample(1:nrow(df), round(nrow(df)*0.05))\n",
    "\tdf_t <- df[some, ]\n",
    "\taggr(df_t, col = c(2*i,2*i+1))\n",
    "\t}\n",
    "par(op)"
   ]
  },
  {
   "cell_type": "code",
   "execution_count": 16,
   "metadata": {},
   "outputs": [
    {
     "data": {
      "text/plain": [
       "\n",
       "      0       1       2       4 \n",
       "1066592   43389      30     156 "
      ]
     },
     "metadata": {},
     "output_type": "display_data"
    },
    {
     "data": {
      "text/html": [
       "FALSE"
      ],
      "text/latex": [
       "FALSE"
      ],
      "text/markdown": [
       "FALSE"
      ],
      "text/plain": [
       "[1] FALSE"
      ]
     },
     "metadata": {},
     "output_type": "display_data"
    }
   ],
   "source": [
    "## Lots of the missingness is spread across 3 main features\n",
    "table(df$is_ftp_login)\n",
    "identical(sum(table(df$is_ftp_login)), nrow(df)) # Should be TRUE, but it is FALSE\n",
    "\t## More than half of the data is missing in that \n",
    "    ## This missingness does NOT count towards the total amount of datapoints => 'spooky' missingness"
   ]
  },
  {
   "cell_type": "code",
   "execution_count": 17,
   "metadata": {},
   "outputs": [
    {
     "data": {
      "text/html": [
       "<ol class=list-inline>\n",
       "\t<li>TRUE</li>\n",
       "\t<li>TRUE</li>\n",
       "\t<li>TRUE</li>\n",
       "\t<li>TRUE</li>\n",
       "\t<li>TRUE</li>\n",
       "\t<li>TRUE</li>\n",
       "\t<li>TRUE</li>\n",
       "\t<li>TRUE</li>\n",
       "\t<li>TRUE</li>\n",
       "\t<li>TRUE</li>\n",
       "\t<li>TRUE</li>\n",
       "\t<li>TRUE</li>\n",
       "\t<li>TRUE</li>\n",
       "\t<li>TRUE</li>\n",
       "\t<li>TRUE</li>\n",
       "\t<li>TRUE</li>\n",
       "\t<li>TRUE</li>\n",
       "\t<li>TRUE</li>\n",
       "\t<li>TRUE</li>\n",
       "\t<li>TRUE</li>\n",
       "\t<li>TRUE</li>\n",
       "\t<li>TRUE</li>\n",
       "\t<li>TRUE</li>\n",
       "\t<li>TRUE</li>\n",
       "\t<li>TRUE</li>\n",
       "\t<li>TRUE</li>\n",
       "\t<li>TRUE</li>\n",
       "\t<li>TRUE</li>\n",
       "\t<li>TRUE</li>\n",
       "\t<li>TRUE</li>\n",
       "\t<li>TRUE</li>\n",
       "\t<li>TRUE</li>\n",
       "\t<li>TRUE</li>\n",
       "\t<li>TRUE</li>\n",
       "\t<li>TRUE</li>\n",
       "\t<li>TRUE</li>\n",
       "\t<li>TRUE</li>\n",
       "\t<li>FALSE</li>\n",
       "\t<li>FALSE</li>\n",
       "\t<li>FALSE</li>\n",
       "\t<li>TRUE</li>\n",
       "\t<li>TRUE</li>\n",
       "\t<li>TRUE</li>\n",
       "\t<li>TRUE</li>\n",
       "\t<li>TRUE</li>\n",
       "\t<li>TRUE</li>\n",
       "\t<li>TRUE</li>\n",
       "\t<li>TRUE</li>\n",
       "\t<li>TRUE</li>\n",
       "</ol>\n"
      ],
      "text/latex": [
       "\\begin{enumerate*}\n",
       "\\item TRUE\n",
       "\\item TRUE\n",
       "\\item TRUE\n",
       "\\item TRUE\n",
       "\\item TRUE\n",
       "\\item TRUE\n",
       "\\item TRUE\n",
       "\\item TRUE\n",
       "\\item TRUE\n",
       "\\item TRUE\n",
       "\\item TRUE\n",
       "\\item TRUE\n",
       "\\item TRUE\n",
       "\\item TRUE\n",
       "\\item TRUE\n",
       "\\item TRUE\n",
       "\\item TRUE\n",
       "\\item TRUE\n",
       "\\item TRUE\n",
       "\\item TRUE\n",
       "\\item TRUE\n",
       "\\item TRUE\n",
       "\\item TRUE\n",
       "\\item TRUE\n",
       "\\item TRUE\n",
       "\\item TRUE\n",
       "\\item TRUE\n",
       "\\item TRUE\n",
       "\\item TRUE\n",
       "\\item TRUE\n",
       "\\item TRUE\n",
       "\\item TRUE\n",
       "\\item TRUE\n",
       "\\item TRUE\n",
       "\\item TRUE\n",
       "\\item TRUE\n",
       "\\item TRUE\n",
       "\\item FALSE\n",
       "\\item FALSE\n",
       "\\item FALSE\n",
       "\\item TRUE\n",
       "\\item TRUE\n",
       "\\item TRUE\n",
       "\\item TRUE\n",
       "\\item TRUE\n",
       "\\item TRUE\n",
       "\\item TRUE\n",
       "\\item TRUE\n",
       "\\item TRUE\n",
       "\\end{enumerate*}\n"
      ],
      "text/markdown": [
       "1. TRUE\n",
       "2. TRUE\n",
       "3. TRUE\n",
       "4. TRUE\n",
       "5. TRUE\n",
       "6. TRUE\n",
       "7. TRUE\n",
       "8. TRUE\n",
       "9. TRUE\n",
       "10. TRUE\n",
       "11. TRUE\n",
       "12. TRUE\n",
       "13. TRUE\n",
       "14. TRUE\n",
       "15. TRUE\n",
       "16. TRUE\n",
       "17. TRUE\n",
       "18. TRUE\n",
       "19. TRUE\n",
       "20. TRUE\n",
       "21. TRUE\n",
       "22. TRUE\n",
       "23. TRUE\n",
       "24. TRUE\n",
       "25. TRUE\n",
       "26. TRUE\n",
       "27. TRUE\n",
       "28. TRUE\n",
       "29. TRUE\n",
       "30. TRUE\n",
       "31. TRUE\n",
       "32. TRUE\n",
       "33. TRUE\n",
       "34. TRUE\n",
       "35. TRUE\n",
       "36. TRUE\n",
       "37. TRUE\n",
       "38. FALSE\n",
       "39. FALSE\n",
       "40. FALSE\n",
       "41. TRUE\n",
       "42. TRUE\n",
       "43. TRUE\n",
       "44. TRUE\n",
       "45. TRUE\n",
       "46. TRUE\n",
       "47. TRUE\n",
       "48. TRUE\n",
       "49. TRUE\n",
       "\n",
       "\n"
      ],
      "text/plain": [
       " [1]  TRUE  TRUE  TRUE  TRUE  TRUE  TRUE  TRUE  TRUE  TRUE  TRUE  TRUE  TRUE\n",
       "[13]  TRUE  TRUE  TRUE  TRUE  TRUE  TRUE  TRUE  TRUE  TRUE  TRUE  TRUE  TRUE\n",
       "[25]  TRUE  TRUE  TRUE  TRUE  TRUE  TRUE  TRUE  TRUE  TRUE  TRUE  TRUE  TRUE\n",
       "[37]  TRUE FALSE FALSE FALSE  TRUE  TRUE  TRUE  TRUE  TRUE  TRUE  TRUE  TRUE\n",
       "[49]  TRUE"
      ]
     },
     "metadata": {},
     "output_type": "display_data"
    }
   ],
   "source": [
    "## Let's check the same result for the whole feature space\n",
    "## Check if all missingness in the data is 'spooky'\n",
    "idt <- vector(len = ncol(df))\n",
    "for(i in 1:ncol(df)) {\n",
    "\tidt[i]<- identical(sum(table(df[,i])), nrow(df))\n",
    "\t\t}\n",
    "idt"
   ]
  },
  {
   "cell_type": "code",
   "execution_count": 18,
   "metadata": {},
   "outputs": [
    {
     "name": "stdout",
     "output_type": "stream",
     "text": [
      "[1] \"The number of anomalous features is 3\"\n"
     ]
    }
   ],
   "source": [
    "p<- paste(\"The number of anomalous features is\", ncol(df)-sum(idt), sep=\" \")\n",
    "print(p)"
   ]
  },
  {
   "cell_type": "code",
   "execution_count": 19,
   "metadata": {},
   "outputs": [
    {
     "data": {
      "text/html": [
       "<table>\n",
       "<thead><tr><th scope=col>login</th><th scope=col>cmd</th><th scope=col>http</th></tr></thead>\n",
       "<tbody>\n",
       "\t<tr><td>0</td><td>0</td><td>0</td></tr>\n",
       "\t<tr><td>0</td><td>0</td><td>0</td></tr>\n",
       "\t<tr><td>0</td><td>0</td><td>0</td></tr>\n",
       "\t<tr><td>0</td><td>0</td><td>0</td></tr>\n",
       "\t<tr><td>0</td><td>0</td><td>0</td></tr>\n",
       "\t<tr><td>0</td><td>0</td><td>0</td></tr>\n",
       "\t<tr><td>0</td><td>0</td><td>0</td></tr>\n",
       "\t<tr><td>0</td><td>0</td><td>0</td></tr>\n",
       "\t<tr><td>0</td><td>0</td><td>0</td></tr>\n",
       "\t<tr><td>0</td><td>0</td><td>0</td></tr>\n",
       "\t<tr><td>0</td><td>0</td><td>0</td></tr>\n",
       "\t<tr><td>0</td><td>0</td><td>0</td></tr>\n",
       "\t<tr><td>0</td><td>0</td><td>0</td></tr>\n",
       "\t<tr><td>0</td><td>0</td><td>0</td></tr>\n",
       "\t<tr><td>0</td><td>0</td><td>0</td></tr>\n",
       "\t<tr><td>0</td><td>0</td><td>0</td></tr>\n",
       "\t<tr><td>0</td><td>0</td><td>0</td></tr>\n",
       "\t<tr><td>0</td><td>0</td><td>0</td></tr>\n",
       "\t<tr><td>0</td><td>0</td><td>0</td></tr>\n",
       "\t<tr><td>0</td><td>0</td><td>0</td></tr>\n",
       "</tbody>\n",
       "</table>\n"
      ],
      "text/latex": [
       "\\begin{tabular}{r|lll}\n",
       " login & cmd & http\\\\\n",
       "\\hline\n",
       "\t 0 & 0 & 0\\\\\n",
       "\t 0 & 0 & 0\\\\\n",
       "\t 0 & 0 & 0\\\\\n",
       "\t 0 & 0 & 0\\\\\n",
       "\t 0 & 0 & 0\\\\\n",
       "\t 0 & 0 & 0\\\\\n",
       "\t 0 & 0 & 0\\\\\n",
       "\t 0 & 0 & 0\\\\\n",
       "\t 0 & 0 & 0\\\\\n",
       "\t 0 & 0 & 0\\\\\n",
       "\t 0 & 0 & 0\\\\\n",
       "\t 0 & 0 & 0\\\\\n",
       "\t 0 & 0 & 0\\\\\n",
       "\t 0 & 0 & 0\\\\\n",
       "\t 0 & 0 & 0\\\\\n",
       "\t 0 & 0 & 0\\\\\n",
       "\t 0 & 0 & 0\\\\\n",
       "\t 0 & 0 & 0\\\\\n",
       "\t 0 & 0 & 0\\\\\n",
       "\t 0 & 0 & 0\\\\\n",
       "\\end{tabular}\n"
      ],
      "text/markdown": [
       "\n",
       "| login | cmd | http |\n",
       "|---|---|---|\n",
       "| 0 | 0 | 0 |\n",
       "| 0 | 0 | 0 |\n",
       "| 0 | 0 | 0 |\n",
       "| 0 | 0 | 0 |\n",
       "| 0 | 0 | 0 |\n",
       "| 0 | 0 | 0 |\n",
       "| 0 | 0 | 0 |\n",
       "| 0 | 0 | 0 |\n",
       "| 0 | 0 | 0 |\n",
       "| 0 | 0 | 0 |\n",
       "| 0 | 0 | 0 |\n",
       "| 0 | 0 | 0 |\n",
       "| 0 | 0 | 0 |\n",
       "| 0 | 0 | 0 |\n",
       "| 0 | 0 | 0 |\n",
       "| 0 | 0 | 0 |\n",
       "| 0 | 0 | 0 |\n",
       "| 0 | 0 | 0 |\n",
       "| 0 | 0 | 0 |\n",
       "| 0 | 0 | 0 |\n",
       "\n"
      ],
      "text/plain": [
       "   login cmd http\n",
       "1  0     0   0   \n",
       "2  0     0   0   \n",
       "3  0     0   0   \n",
       "4  0     0   0   \n",
       "5  0     0   0   \n",
       "6  0     0   0   \n",
       "7  0     0   0   \n",
       "8  0     0   0   \n",
       "9  0     0   0   \n",
       "10 0     0   0   \n",
       "11 0     0   0   \n",
       "12 0     0   0   \n",
       "13 0     0   0   \n",
       "14 0     0   0   \n",
       "15 0     0   0   \n",
       "16 0     0   0   \n",
       "17 0     0   0   \n",
       "18 0     0   0   \n",
       "19 0     0   0   \n",
       "20 0     0   0   "
      ]
     },
     "metadata": {},
     "output_type": "display_data"
    },
    {
     "data": {
      "text/plain": [
       "\n",
       "      0       1       2       4 \n",
       "1066592   43389      30     156 "
      ]
     },
     "metadata": {},
     "output_type": "display_data"
    },
    {
     "data": {
      "text/plain": [
       "\n",
       "      0       1       2       3       4       5       6       8 \n",
       "1066497   40077    1264     729     960     290     332      18 "
      ]
     },
     "metadata": {},
     "output_type": "display_data"
    },
    {
     "data": {
      "text/plain": [
       "\n",
       "     0      1      2      3      4      5      6      8      9     10     12 \n",
       "986790 188008    588    738   6564    430   7902     56    270     30    132 \n",
       "    14     16     25     30     36 \n",
       "   224     48     25     60     36 "
      ]
     },
     "metadata": {},
     "output_type": "display_data"
    }
   ],
   "source": [
    "## Using the missingness visualisation, we deduce a strong correlation between the\n",
    "## missingness of the three features, and can also identify them as:\n",
    "\n",
    "df_miss <- cbind(df$is_ftp_login, df$count_ftp_cmd, df$count_flw_http_mthd)\n",
    "colnames(df_miss) <- c(\"login\", \"cmd\", \"http\")\n",
    "df_miss <- as.data.frame(df_miss)\n",
    "head(df_miss, 20) # Still too large to work with, easy trick:\n",
    "table(df_miss$login)\n",
    "table(df_miss$cmd)\n",
    "table(df_miss$http)"
   ]
  },
  {
   "cell_type": "code",
   "execution_count": 20,
   "metadata": {},
   "outputs": [
    {
     "data": {
      "text/html": [
       "<ol class=list-inline>\n",
       "\t<li>1430065</li>\n",
       "\t<li>3</li>\n",
       "</ol>\n"
      ],
      "text/latex": [
       "\\begin{enumerate*}\n",
       "\\item 1430065\n",
       "\\item 3\n",
       "\\end{enumerate*}\n"
      ],
      "text/markdown": [
       "1. 1430065\n",
       "2. 3\n",
       "\n",
       "\n"
      ],
      "text/plain": [
       "[1] 1430065       3"
      ]
     },
     "metadata": {},
     "output_type": "display_data"
    },
    {
     "data": {
      "text/html": [
       "<table>\n",
       "<thead><tr><th></th><th scope=col>login</th><th scope=col>cmd</th><th scope=col>http</th></tr></thead>\n",
       "<tbody>\n",
       "\t<tr><th scope=row>NA</th><td>NA</td><td>NA</td><td>NA</td></tr>\n",
       "\t<tr><th scope=row>NA.1</th><td>NA</td><td>NA</td><td>NA</td></tr>\n",
       "\t<tr><th scope=row>NA.2</th><td>NA</td><td>NA</td><td>NA</td></tr>\n",
       "\t<tr><th scope=row>NA.3</th><td>NA</td><td>NA</td><td>NA</td></tr>\n",
       "\t<tr><th scope=row>NA.4</th><td>NA</td><td>NA</td><td>NA</td></tr>\n",
       "\t<tr><th scope=row>NA.5</th><td>NA</td><td>NA</td><td>NA</td></tr>\n",
       "\t<tr><th scope=row>NA.6</th><td>NA</td><td>NA</td><td>NA</td></tr>\n",
       "\t<tr><th scope=row>NA.7</th><td>NA</td><td>NA</td><td>NA</td></tr>\n",
       "\t<tr><th scope=row>NA.8</th><td>NA</td><td>NA</td><td>NA</td></tr>\n",
       "\t<tr><th scope=row>NA.9</th><td>NA</td><td>NA</td><td>NA</td></tr>\n",
       "\t<tr><th scope=row>NA.10</th><td>NA</td><td>NA</td><td>NA</td></tr>\n",
       "\t<tr><th scope=row>NA.11</th><td>NA</td><td>NA</td><td>NA</td></tr>\n",
       "\t<tr><th scope=row>NA.12</th><td>NA</td><td>NA</td><td>NA</td></tr>\n",
       "\t<tr><th scope=row>NA.13</th><td>NA</td><td>NA</td><td>NA</td></tr>\n",
       "\t<tr><th scope=row>NA.14</th><td>NA</td><td>NA</td><td>NA</td></tr>\n",
       "</tbody>\n",
       "</table>\n"
      ],
      "text/latex": [
       "\\begin{tabular}{r|lll}\n",
       "  & login & cmd & http\\\\\n",
       "\\hline\n",
       "\tNA & NA & NA & NA\\\\\n",
       "\tNA.1 & NA & NA & NA\\\\\n",
       "\tNA.2 & NA & NA & NA\\\\\n",
       "\tNA.3 & NA & NA & NA\\\\\n",
       "\tNA.4 & NA & NA & NA\\\\\n",
       "\tNA.5 & NA & NA & NA\\\\\n",
       "\tNA.6 & NA & NA & NA\\\\\n",
       "\tNA.7 & NA & NA & NA\\\\\n",
       "\tNA.8 & NA & NA & NA\\\\\n",
       "\tNA.9 & NA & NA & NA\\\\\n",
       "\tNA.10 & NA & NA & NA\\\\\n",
       "\tNA.11 & NA & NA & NA\\\\\n",
       "\tNA.12 & NA & NA & NA\\\\\n",
       "\tNA.13 & NA & NA & NA\\\\\n",
       "\tNA.14 & NA & NA & NA\\\\\n",
       "\\end{tabular}\n"
      ],
      "text/markdown": [
       "\n",
       "| <!--/--> | login | cmd | http |\n",
       "|---|---|---|---|\n",
       "| NA | NA | NA | NA |\n",
       "| NA.1 | NA | NA | NA |\n",
       "| NA.2 | NA | NA | NA |\n",
       "| NA.3 | NA | NA | NA |\n",
       "| NA.4 | NA | NA | NA |\n",
       "| NA.5 | NA | NA | NA |\n",
       "| NA.6 | NA | NA | NA |\n",
       "| NA.7 | NA | NA | NA |\n",
       "| NA.8 | NA | NA | NA |\n",
       "| NA.9 | NA | NA | NA |\n",
       "| NA.10 | NA | NA | NA |\n",
       "| NA.11 | NA | NA | NA |\n",
       "| NA.12 | NA | NA | NA |\n",
       "| NA.13 | NA | NA | NA |\n",
       "| NA.14 | NA | NA | NA |\n",
       "\n"
      ],
      "text/plain": [
       "      login cmd http\n",
       "NA    NA    NA  NA  \n",
       "NA.1  NA    NA  NA  \n",
       "NA.2  NA    NA  NA  \n",
       "NA.3  NA    NA  NA  \n",
       "NA.4  NA    NA  NA  \n",
       "NA.5  NA    NA  NA  \n",
       "NA.6  NA    NA  NA  \n",
       "NA.7  NA    NA  NA  \n",
       "NA.8  NA    NA  NA  \n",
       "NA.9  NA    NA  NA  \n",
       "NA.10 NA    NA  NA  \n",
       "NA.11 NA    NA  NA  \n",
       "NA.12 NA    NA  NA  \n",
       "NA.13 NA    NA  NA  \n",
       "NA.14 NA    NA  NA  "
      ]
     },
     "metadata": {},
     "output_type": "display_data"
    }
   ],
   "source": [
    "df_miss_2 <- df_miss[df_miss$login!=0 & df_miss$login!=1, ]\n",
    "dim(df_miss_2) # Checks out\n",
    "head(df_miss_2, 15)\n",
    "    ## We found the root of the problem. Weirdly enough, the lines themselves are listed across as\n",
    "\t## NA.1, NA.2 etc. - which is why table() failed to pick them up.\n"
   ]
  },
  {
   "cell_type": "code",
   "execution_count": 21,
   "metadata": {},
   "outputs": [
    {
     "data": {
      "text/html": [
       "<ol class=list-inline>\n",
       "\t<li>0</li>\n",
       "\t<li>0</li>\n",
       "\t<li>0</li>\n",
       "</ol>\n"
      ],
      "text/latex": [
       "\\begin{enumerate*}\n",
       "\\item 0\n",
       "\\item 0\n",
       "\\item 0\n",
       "\\end{enumerate*}\n"
      ],
      "text/markdown": [
       "1. 0\n",
       "2. 0\n",
       "3. 0\n",
       "\n",
       "\n"
      ],
      "text/plain": [
       "[1] 0 0 0"
      ]
     },
     "metadata": {},
     "output_type": "display_data"
    }
   ],
   "source": [
    "l1 <- median(df_miss$login, na.rm = TRUE)\n",
    "l2 <- median(df_miss$cmd, na.rm = TRUE)\n",
    "l3 <- median(df_miss$http, na.rm = TRUE)\n",
    "c(l1,l2,l3) # All 0"
   ]
  },
  {
   "cell_type": "code",
   "execution_count": 22,
   "metadata": {},
   "outputs": [],
   "source": [
    "###### FAILED REPLACEMENT ATTEMPT\n",
    "r1<- replace_na(data = df_miss$login, replace = l1)\n",
    "r2<- replace_na(data = df_miss$cmd, replace = l2)\n",
    "r3<- replace_na(data = df_miss$http, replace = l3)\n",
    "\n",
    "l<- 3*nrow(df_miss) - (sum(table(df_miss$login))+sum(table(df_miss$cmd))+sum(table(df_miss$http)))\n",
    "ll<- as.list(rep(0, times = l))\n",
    "dd <- replace_na(data = df_miss, replace = ll)\n",
    "###### END OF FAILED REPLACEMENT ATTEMPT"
   ]
  },
  {
   "cell_type": "code",
   "execution_count": 23,
   "metadata": {},
   "outputs": [
    {
     "data": {
      "text/plain": [
       "\n",
       "      0       1       2       4 \n",
       "1066592   43389      30     156 "
      ]
     },
     "metadata": {},
     "output_type": "display_data"
    }
   ],
   "source": [
    "table(dd$login)\n",
    "    ## NAs aren't picked up properly (?)"
   ]
  },
  {
   "cell_type": "code",
   "execution_count": 24,
   "metadata": {},
   "outputs": [],
   "source": [
    "## GOOD attempt\n",
    "df[is.na(df$is_ftp_login),] <- l1\n",
    "df[is.na(df$count_ftp_cmd),] <- l2\n",
    "df[is.na(df$count_flw_http_mthd),] <- l3"
   ]
  },
  {
   "cell_type": "code",
   "execution_count": 25,
   "metadata": {},
   "outputs": [
    {
     "name": "stdout",
     "output_type": "stream",
     "text": [
      "[1] \"The number of anomalous features is 0\"\n"
     ]
    }
   ],
   "source": [
    "## Let's check if it worked\n",
    "for(i in 1:ncol(df)) {\n",
    "\tidt[i]<- identical(sum(table(df[,i])), nrow(df))\n",
    "\t\t}\n",
    "p<- paste(\"The number of anomalous features is\", ncol(df)-sum(idt), sep=\" \")\n",
    "print(p)"
   ]
  },
  {
   "cell_type": "code",
   "execution_count": 26,
   "metadata": {},
   "outputs": [
    {
     "data": {
      "text/plain": [
       "\n",
       "      0       1 \n",
       "2519436   20610 "
      ]
     },
     "metadata": {},
     "output_type": "display_data"
    }
   ],
   "source": [
    "table(df$is_ftp_login)"
   ]
  },
  {
   "cell_type": "code",
   "execution_count": null,
   "metadata": {},
   "outputs": [],
   "source": []
  }
 ],
 "metadata": {
  "kernelspec": {
   "display_name": "R",
   "language": "R",
   "name": "ir"
  },
  "language_info": {
   "codemirror_mode": "r",
   "file_extension": ".r",
   "mimetype": "text/x-r-source",
   "name": "R",
   "pygments_lexer": "r",
   "version": "3.6.1"
  }
 },
 "nbformat": 4,
 "nbformat_minor": 4
}
