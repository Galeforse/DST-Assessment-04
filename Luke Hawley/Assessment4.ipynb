{
 "cells": [
  {
   "cell_type": "markdown",
   "metadata": {},
   "source": [
    "# Assessment 4 \n"
   ]
  },
  {
   "cell_type": "markdown",
   "metadata": {},
   "source": [
    "# Importing HPC Files\n",
    "\n",
    "Here we just import all of our data sets and we later combine them into one suitable data frame for our Neural Network and then perform some pre-processing of the data."
   ]
  },
  {
   "cell_type": "code",
   "execution_count": 1,
   "metadata": {},
   "outputs": [
    {
     "name": "stderr",
     "output_type": "stream",
     "text": [
      "/Users/lukehawley/opt/anaconda3/lib/python3.7/site-packages/IPython/core/interactiveshell.py:3156: DtypeWarning: Columns (1,3,47) have mixed types.Specify dtype option on import or set low_memory=False.\n",
      "  interactivity=interactivity, compiler=compiler, result=result)\n",
      "/Users/lukehawley/opt/anaconda3/lib/python3.7/site-packages/IPython/core/interactiveshell.py:3156: DtypeWarning: Columns (3,39,47) have mixed types.Specify dtype option on import or set low_memory=False.\n",
      "  interactivity=interactivity, compiler=compiler, result=result)\n"
     ]
    }
   ],
   "source": [
    "import pandas as pd\n",
    "import numpy as np\n",
    "import matplotlib.pyplot as plt\n",
    "np.random.seed(10)\n",
    "import pickle\n",
    "import matplotlib.pyplot as plt\n",
    "\n",
    "\n",
    "df_1 = pd.read_csv(\"https://github.com/Galeforse/DST-Assessment-04/raw/main/Data/UNS1.zip\",header=None)\n",
    "df_2 = pd.read_csv(\"https://github.com/Galeforse/DST-Assessment-04/raw/main/Data/UNS2.zip\",header=None)\n",
    "df_3 = pd.read_csv(\"https://github.com/Galeforse/DST-Assessment-04/raw/main/Data/UNS3.zip\",header=None)\n",
    "df_4 = pd.read_csv(\"https://github.com/Galeforse/DST-Assessment-04/raw/main/Data/UNS4.zip\",header=None)"
   ]
  },
  {
   "cell_type": "markdown",
   "metadata": {},
   "source": [
    "At this point we saw that the header names are not exactly easy to read so we just slightly adjust them from the original headers."
   ]
  },
  {
   "cell_type": "code",
   "execution_count": 2,
   "metadata": {},
   "outputs": [],
   "source": [
    "colnames = (['source_ip', 'source_port', 'dest_ip', 'dest_port', 'proto', 'state', 'duration', 'source_bytes', 'dest_bytes', 'source_ttl',\n",
    "             'dest_ttl', 'source_loss', 'dest_loss', 'service', 'source_load', 'dest_load', 'source_pkts', 'dest_pkts', 'source_TP_win', 'dest_TP_win', \n",
    "             'source_tcp_bn', 'dest_tcp_bn', 'source_mean_sz', 'dest_mean_sz', 'trans_depth', 'res_bdy_len', 'source_jitter', 'dest_jitter', 'start_time',\n",
    "             'last_time', 'source_int_pk_time', 'dest_int_pk_time', 'tcp_rtt', 'synack', 'ackdat', 'is_sm_ips_ports', 'count_state_ttl', \n",
    "             'count_flw_http_mthd', 'is_ftp_login', 'count_ftp_cmd', 'count_srv_source', 'count_srv_dest', 'count_dest_ltm',\n",
    "             'count_source_ltm', 'count_source_destport_ltm', 'count_dest_sourceport_ltm', 'counts_dest_source_ltm', 'attack_cat', 'Label'])\n",
    "df_1.columns = colnames\n",
    "df_2.columns = colnames\n",
    "df_3.columns = colnames\n",
    "df_4.columns = colnames"
   ]
  },
  {
   "cell_type": "code",
   "execution_count": 3,
   "metadata": {},
   "outputs": [],
   "source": [
    "data_frames = [df_1,df_2,df_3,df_4]\n",
    "data = pd.concat(data_frames)"
   ]
  },
  {
   "cell_type": "markdown",
   "metadata": {},
   "source": [
    "# EDA \n",
    "\n",
    "In this section, the aim is to get our data into a suitable format for running a neural network on it. This will involve checking for inf and NaN values, any missingnss in our data, scaling appropriately and ensuring our data is of the correct type to be classified, namely integer or float."
   ]
  },
  {
   "cell_type": "code",
   "execution_count": 4,
   "metadata": {},
   "outputs": [
    {
     "data": {
      "text/html": [
       "<div>\n",
       "<style scoped>\n",
       "    .dataframe tbody tr th:only-of-type {\n",
       "        vertical-align: middle;\n",
       "    }\n",
       "\n",
       "    .dataframe tbody tr th {\n",
       "        vertical-align: top;\n",
       "    }\n",
       "\n",
       "    .dataframe thead th {\n",
       "        text-align: right;\n",
       "    }\n",
       "</style>\n",
       "<table border=\"1\" class=\"dataframe\">\n",
       "  <thead>\n",
       "    <tr style=\"text-align: right;\">\n",
       "      <th></th>\n",
       "      <th>source_ip</th>\n",
       "      <th>source_port</th>\n",
       "      <th>dest_ip</th>\n",
       "      <th>dest_port</th>\n",
       "      <th>proto</th>\n",
       "      <th>state</th>\n",
       "      <th>duration</th>\n",
       "      <th>source_bytes</th>\n",
       "      <th>dest_bytes</th>\n",
       "      <th>source_ttl</th>\n",
       "      <th>...</th>\n",
       "      <th>count_ftp_cmd</th>\n",
       "      <th>count_srv_source</th>\n",
       "      <th>count_srv_dest</th>\n",
       "      <th>count_dest_ltm</th>\n",
       "      <th>count_source_ltm</th>\n",
       "      <th>count_source_destport_ltm</th>\n",
       "      <th>count_dest_sourceport_ltm</th>\n",
       "      <th>counts_dest_source_ltm</th>\n",
       "      <th>attack_cat</th>\n",
       "      <th>Label</th>\n",
       "    </tr>\n",
       "  </thead>\n",
       "  <tbody>\n",
       "    <tr>\n",
       "      <th>0</th>\n",
       "      <td>59.166.0.0</td>\n",
       "      <td>1390</td>\n",
       "      <td>149.171.126.6</td>\n",
       "      <td>53</td>\n",
       "      <td>udp</td>\n",
       "      <td>CON</td>\n",
       "      <td>0.001055</td>\n",
       "      <td>132</td>\n",
       "      <td>164</td>\n",
       "      <td>31</td>\n",
       "      <td>...</td>\n",
       "      <td>0</td>\n",
       "      <td>3</td>\n",
       "      <td>7</td>\n",
       "      <td>1</td>\n",
       "      <td>3</td>\n",
       "      <td>1</td>\n",
       "      <td>1</td>\n",
       "      <td>1</td>\n",
       "      <td>NaN</td>\n",
       "      <td>0</td>\n",
       "    </tr>\n",
       "    <tr>\n",
       "      <th>1</th>\n",
       "      <td>59.166.0.0</td>\n",
       "      <td>33661</td>\n",
       "      <td>149.171.126.9</td>\n",
       "      <td>1024</td>\n",
       "      <td>udp</td>\n",
       "      <td>CON</td>\n",
       "      <td>0.036133</td>\n",
       "      <td>528</td>\n",
       "      <td>304</td>\n",
       "      <td>31</td>\n",
       "      <td>...</td>\n",
       "      <td>0</td>\n",
       "      <td>2</td>\n",
       "      <td>4</td>\n",
       "      <td>2</td>\n",
       "      <td>3</td>\n",
       "      <td>1</td>\n",
       "      <td>1</td>\n",
       "      <td>2</td>\n",
       "      <td>NaN</td>\n",
       "      <td>0</td>\n",
       "    </tr>\n",
       "    <tr>\n",
       "      <th>2</th>\n",
       "      <td>59.166.0.6</td>\n",
       "      <td>1464</td>\n",
       "      <td>149.171.126.7</td>\n",
       "      <td>53</td>\n",
       "      <td>udp</td>\n",
       "      <td>CON</td>\n",
       "      <td>0.001119</td>\n",
       "      <td>146</td>\n",
       "      <td>178</td>\n",
       "      <td>31</td>\n",
       "      <td>...</td>\n",
       "      <td>0</td>\n",
       "      <td>12</td>\n",
       "      <td>8</td>\n",
       "      <td>1</td>\n",
       "      <td>2</td>\n",
       "      <td>2</td>\n",
       "      <td>1</td>\n",
       "      <td>1</td>\n",
       "      <td>NaN</td>\n",
       "      <td>0</td>\n",
       "    </tr>\n",
       "    <tr>\n",
       "      <th>3</th>\n",
       "      <td>59.166.0.5</td>\n",
       "      <td>3593</td>\n",
       "      <td>149.171.126.5</td>\n",
       "      <td>53</td>\n",
       "      <td>udp</td>\n",
       "      <td>CON</td>\n",
       "      <td>0.001209</td>\n",
       "      <td>132</td>\n",
       "      <td>164</td>\n",
       "      <td>31</td>\n",
       "      <td>...</td>\n",
       "      <td>0</td>\n",
       "      <td>6</td>\n",
       "      <td>9</td>\n",
       "      <td>1</td>\n",
       "      <td>1</td>\n",
       "      <td>1</td>\n",
       "      <td>1</td>\n",
       "      <td>1</td>\n",
       "      <td>NaN</td>\n",
       "      <td>0</td>\n",
       "    </tr>\n",
       "    <tr>\n",
       "      <th>4</th>\n",
       "      <td>59.166.0.3</td>\n",
       "      <td>49664</td>\n",
       "      <td>149.171.126.0</td>\n",
       "      <td>53</td>\n",
       "      <td>udp</td>\n",
       "      <td>CON</td>\n",
       "      <td>0.001169</td>\n",
       "      <td>146</td>\n",
       "      <td>178</td>\n",
       "      <td>31</td>\n",
       "      <td>...</td>\n",
       "      <td>0</td>\n",
       "      <td>7</td>\n",
       "      <td>9</td>\n",
       "      <td>1</td>\n",
       "      <td>1</td>\n",
       "      <td>1</td>\n",
       "      <td>1</td>\n",
       "      <td>1</td>\n",
       "      <td>NaN</td>\n",
       "      <td>0</td>\n",
       "    </tr>\n",
       "  </tbody>\n",
       "</table>\n",
       "<p>5 rows × 49 columns</p>\n",
       "</div>"
      ],
      "text/plain": [
       "    source_ip source_port        dest_ip dest_port proto state  duration  \\\n",
       "0  59.166.0.0        1390  149.171.126.6        53   udp   CON  0.001055   \n",
       "1  59.166.0.0       33661  149.171.126.9      1024   udp   CON  0.036133   \n",
       "2  59.166.0.6        1464  149.171.126.7        53   udp   CON  0.001119   \n",
       "3  59.166.0.5        3593  149.171.126.5        53   udp   CON  0.001209   \n",
       "4  59.166.0.3       49664  149.171.126.0        53   udp   CON  0.001169   \n",
       "\n",
       "   source_bytes  dest_bytes  source_ttl  ...  count_ftp_cmd  count_srv_source  \\\n",
       "0           132         164          31  ...              0                 3   \n",
       "1           528         304          31  ...              0                 2   \n",
       "2           146         178          31  ...              0                12   \n",
       "3           132         164          31  ...              0                 6   \n",
       "4           146         178          31  ...              0                 7   \n",
       "\n",
       "   count_srv_dest count_dest_ltm  count_source_ltm  count_source_destport_ltm  \\\n",
       "0               7              1                 3                          1   \n",
       "1               4              2                 3                          1   \n",
       "2               8              1                 2                          2   \n",
       "3               9              1                 1                          1   \n",
       "4               9              1                 1                          1   \n",
       "\n",
       "   count_dest_sourceport_ltm  counts_dest_source_ltm  attack_cat  Label  \n",
       "0                          1                       1         NaN      0  \n",
       "1                          1                       2         NaN      0  \n",
       "2                          1                       1         NaN      0  \n",
       "3                          1                       1         NaN      0  \n",
       "4                          1                       1         NaN      0  \n",
       "\n",
       "[5 rows x 49 columns]"
      ]
     },
     "execution_count": 4,
     "metadata": {},
     "output_type": "execute_result"
    }
   ],
   "source": [
    "data.head()"
   ]
  },
  {
   "cell_type": "code",
   "execution_count": 5,
   "metadata": {},
   "outputs": [
    {
     "name": "stdout",
     "output_type": "stream",
     "text": [
      "Data Quality Report\n"
     ]
    },
    {
     "data": {
      "text/html": [
       "<div>\n",
       "<style scoped>\n",
       "    .dataframe tbody tr th:only-of-type {\n",
       "        vertical-align: middle;\n",
       "    }\n",
       "\n",
       "    .dataframe tbody tr th {\n",
       "        vertical-align: top;\n",
       "    }\n",
       "\n",
       "    .dataframe thead th {\n",
       "        text-align: right;\n",
       "    }\n",
       "</style>\n",
       "<table border=\"1\" class=\"dataframe\">\n",
       "  <thead>\n",
       "    <tr style=\"text-align: right;\">\n",
       "      <th></th>\n",
       "      <th>Data Type</th>\n",
       "      <th>Unique Values</th>\n",
       "      <th>Missing Values</th>\n",
       "    </tr>\n",
       "  </thead>\n",
       "  <tbody>\n",
       "    <tr>\n",
       "      <th>source_ip</th>\n",
       "      <td>object</td>\n",
       "      <td>43</td>\n",
       "      <td>0</td>\n",
       "    </tr>\n",
       "    <tr>\n",
       "      <th>source_port</th>\n",
       "      <td>object</td>\n",
       "      <td>100341</td>\n",
       "      <td>0</td>\n",
       "    </tr>\n",
       "    <tr>\n",
       "      <th>dest_ip</th>\n",
       "      <td>object</td>\n",
       "      <td>47</td>\n",
       "      <td>0</td>\n",
       "    </tr>\n",
       "    <tr>\n",
       "      <th>dest_port</th>\n",
       "      <td>object</td>\n",
       "      <td>128297</td>\n",
       "      <td>0</td>\n",
       "    </tr>\n",
       "    <tr>\n",
       "      <th>proto</th>\n",
       "      <td>object</td>\n",
       "      <td>135</td>\n",
       "      <td>0</td>\n",
       "    </tr>\n",
       "    <tr>\n",
       "      <th>state</th>\n",
       "      <td>object</td>\n",
       "      <td>16</td>\n",
       "      <td>0</td>\n",
       "    </tr>\n",
       "    <tr>\n",
       "      <th>duration</th>\n",
       "      <td>float64</td>\n",
       "      <td>587303</td>\n",
       "      <td>0</td>\n",
       "    </tr>\n",
       "    <tr>\n",
       "      <th>source_bytes</th>\n",
       "      <td>int64</td>\n",
       "      <td>14155</td>\n",
       "      <td>0</td>\n",
       "    </tr>\n",
       "    <tr>\n",
       "      <th>dest_bytes</th>\n",
       "      <td>int64</td>\n",
       "      <td>19166</td>\n",
       "      <td>0</td>\n",
       "    </tr>\n",
       "    <tr>\n",
       "      <th>source_ttl</th>\n",
       "      <td>int64</td>\n",
       "      <td>13</td>\n",
       "      <td>0</td>\n",
       "    </tr>\n",
       "    <tr>\n",
       "      <th>dest_ttl</th>\n",
       "      <td>int64</td>\n",
       "      <td>11</td>\n",
       "      <td>0</td>\n",
       "    </tr>\n",
       "    <tr>\n",
       "      <th>source_loss</th>\n",
       "      <td>int64</td>\n",
       "      <td>544</td>\n",
       "      <td>0</td>\n",
       "    </tr>\n",
       "    <tr>\n",
       "      <th>dest_loss</th>\n",
       "      <td>int64</td>\n",
       "      <td>707</td>\n",
       "      <td>0</td>\n",
       "    </tr>\n",
       "    <tr>\n",
       "      <th>service</th>\n",
       "      <td>object</td>\n",
       "      <td>13</td>\n",
       "      <td>0</td>\n",
       "    </tr>\n",
       "    <tr>\n",
       "      <th>source_load</th>\n",
       "      <td>float64</td>\n",
       "      <td>1100258</td>\n",
       "      <td>0</td>\n",
       "    </tr>\n",
       "    <tr>\n",
       "      <th>dest_load</th>\n",
       "      <td>float64</td>\n",
       "      <td>1173739</td>\n",
       "      <td>0</td>\n",
       "    </tr>\n",
       "    <tr>\n",
       "      <th>source_pkts</th>\n",
       "      <td>int64</td>\n",
       "      <td>933</td>\n",
       "      <td>0</td>\n",
       "    </tr>\n",
       "    <tr>\n",
       "      <th>dest_pkts</th>\n",
       "      <td>int64</td>\n",
       "      <td>1255</td>\n",
       "      <td>0</td>\n",
       "    </tr>\n",
       "    <tr>\n",
       "      <th>source_TP_win</th>\n",
       "      <td>int64</td>\n",
       "      <td>36</td>\n",
       "      <td>0</td>\n",
       "    </tr>\n",
       "    <tr>\n",
       "      <th>dest_TP_win</th>\n",
       "      <td>int64</td>\n",
       "      <td>32</td>\n",
       "      <td>0</td>\n",
       "    </tr>\n",
       "    <tr>\n",
       "      <th>source_tcp_bn</th>\n",
       "      <td>int64</td>\n",
       "      <td>1429571</td>\n",
       "      <td>0</td>\n",
       "    </tr>\n",
       "    <tr>\n",
       "      <th>dest_tcp_bn</th>\n",
       "      <td>int64</td>\n",
       "      <td>1429031</td>\n",
       "      <td>0</td>\n",
       "    </tr>\n",
       "    <tr>\n",
       "      <th>source_mean_sz</th>\n",
       "      <td>int64</td>\n",
       "      <td>1415</td>\n",
       "      <td>0</td>\n",
       "    </tr>\n",
       "    <tr>\n",
       "      <th>dest_mean_sz</th>\n",
       "      <td>int64</td>\n",
       "      <td>1417</td>\n",
       "      <td>0</td>\n",
       "    </tr>\n",
       "    <tr>\n",
       "      <th>trans_depth</th>\n",
       "      <td>int64</td>\n",
       "      <td>14</td>\n",
       "      <td>0</td>\n",
       "    </tr>\n",
       "    <tr>\n",
       "      <th>res_bdy_len</th>\n",
       "      <td>int64</td>\n",
       "      <td>2907</td>\n",
       "      <td>0</td>\n",
       "    </tr>\n",
       "    <tr>\n",
       "      <th>source_jitter</th>\n",
       "      <td>float64</td>\n",
       "      <td>1381001</td>\n",
       "      <td>0</td>\n",
       "    </tr>\n",
       "    <tr>\n",
       "      <th>dest_jitter</th>\n",
       "      <td>float64</td>\n",
       "      <td>1424689</td>\n",
       "      <td>0</td>\n",
       "    </tr>\n",
       "    <tr>\n",
       "      <th>start_time</th>\n",
       "      <td>int64</td>\n",
       "      <td>85348</td>\n",
       "      <td>0</td>\n",
       "    </tr>\n",
       "    <tr>\n",
       "      <th>last_time</th>\n",
       "      <td>int64</td>\n",
       "      <td>85361</td>\n",
       "      <td>0</td>\n",
       "    </tr>\n",
       "    <tr>\n",
       "      <th>source_int_pk_time</th>\n",
       "      <td>float64</td>\n",
       "      <td>975275</td>\n",
       "      <td>0</td>\n",
       "    </tr>\n",
       "    <tr>\n",
       "      <th>dest_int_pk_time</th>\n",
       "      <td>float64</td>\n",
       "      <td>960353</td>\n",
       "      <td>0</td>\n",
       "    </tr>\n",
       "    <tr>\n",
       "      <th>tcp_rtt</th>\n",
       "      <td>float64</td>\n",
       "      <td>76931</td>\n",
       "      <td>0</td>\n",
       "    </tr>\n",
       "    <tr>\n",
       "      <th>synack</th>\n",
       "      <td>float64</td>\n",
       "      <td>66997</td>\n",
       "      <td>0</td>\n",
       "    </tr>\n",
       "    <tr>\n",
       "      <th>ackdat</th>\n",
       "      <td>float64</td>\n",
       "      <td>60844</td>\n",
       "      <td>0</td>\n",
       "    </tr>\n",
       "    <tr>\n",
       "      <th>is_sm_ips_ports</th>\n",
       "      <td>int64</td>\n",
       "      <td>2</td>\n",
       "      <td>0</td>\n",
       "    </tr>\n",
       "    <tr>\n",
       "      <th>count_state_ttl</th>\n",
       "      <td>int64</td>\n",
       "      <td>7</td>\n",
       "      <td>0</td>\n",
       "    </tr>\n",
       "    <tr>\n",
       "      <th>count_flw_http_mthd</th>\n",
       "      <td>float64</td>\n",
       "      <td>16</td>\n",
       "      <td>1348145</td>\n",
       "    </tr>\n",
       "    <tr>\n",
       "      <th>is_ftp_login</th>\n",
       "      <td>float64</td>\n",
       "      <td>4</td>\n",
       "      <td>1429879</td>\n",
       "    </tr>\n",
       "    <tr>\n",
       "      <th>count_ftp_cmd</th>\n",
       "      <td>object</td>\n",
       "      <td>13</td>\n",
       "      <td>0</td>\n",
       "    </tr>\n",
       "    <tr>\n",
       "      <th>count_srv_source</th>\n",
       "      <td>int64</td>\n",
       "      <td>65</td>\n",
       "      <td>0</td>\n",
       "    </tr>\n",
       "    <tr>\n",
       "      <th>count_srv_dest</th>\n",
       "      <td>int64</td>\n",
       "      <td>66</td>\n",
       "      <td>0</td>\n",
       "    </tr>\n",
       "    <tr>\n",
       "      <th>count_dest_ltm</th>\n",
       "      <td>int64</td>\n",
       "      <td>62</td>\n",
       "      <td>0</td>\n",
       "    </tr>\n",
       "    <tr>\n",
       "      <th>count_source_ltm</th>\n",
       "      <td>int64</td>\n",
       "      <td>62</td>\n",
       "      <td>0</td>\n",
       "    </tr>\n",
       "    <tr>\n",
       "      <th>count_source_destport_ltm</th>\n",
       "      <td>int64</td>\n",
       "      <td>62</td>\n",
       "      <td>0</td>\n",
       "    </tr>\n",
       "    <tr>\n",
       "      <th>count_dest_sourceport_ltm</th>\n",
       "      <td>int64</td>\n",
       "      <td>55</td>\n",
       "      <td>0</td>\n",
       "    </tr>\n",
       "    <tr>\n",
       "      <th>counts_dest_source_ltm</th>\n",
       "      <td>int64</td>\n",
       "      <td>65</td>\n",
       "      <td>0</td>\n",
       "    </tr>\n",
       "    <tr>\n",
       "      <th>attack_cat</th>\n",
       "      <td>object</td>\n",
       "      <td>13</td>\n",
       "      <td>2218764</td>\n",
       "    </tr>\n",
       "    <tr>\n",
       "      <th>Label</th>\n",
       "      <td>int64</td>\n",
       "      <td>2</td>\n",
       "      <td>0</td>\n",
       "    </tr>\n",
       "  </tbody>\n",
       "</table>\n",
       "</div>"
      ],
      "text/plain": [
       "                          Data Type Unique Values  Missing Values\n",
       "source_ip                    object            43               0\n",
       "source_port                  object        100341               0\n",
       "dest_ip                      object            47               0\n",
       "dest_port                    object        128297               0\n",
       "proto                        object           135               0\n",
       "state                        object            16               0\n",
       "duration                    float64        587303               0\n",
       "source_bytes                  int64         14155               0\n",
       "dest_bytes                    int64         19166               0\n",
       "source_ttl                    int64            13               0\n",
       "dest_ttl                      int64            11               0\n",
       "source_loss                   int64           544               0\n",
       "dest_loss                     int64           707               0\n",
       "service                      object            13               0\n",
       "source_load                 float64       1100258               0\n",
       "dest_load                   float64       1173739               0\n",
       "source_pkts                   int64           933               0\n",
       "dest_pkts                     int64          1255               0\n",
       "source_TP_win                 int64            36               0\n",
       "dest_TP_win                   int64            32               0\n",
       "source_tcp_bn                 int64       1429571               0\n",
       "dest_tcp_bn                   int64       1429031               0\n",
       "source_mean_sz                int64          1415               0\n",
       "dest_mean_sz                  int64          1417               0\n",
       "trans_depth                   int64            14               0\n",
       "res_bdy_len                   int64          2907               0\n",
       "source_jitter               float64       1381001               0\n",
       "dest_jitter                 float64       1424689               0\n",
       "start_time                    int64         85348               0\n",
       "last_time                     int64         85361               0\n",
       "source_int_pk_time          float64        975275               0\n",
       "dest_int_pk_time            float64        960353               0\n",
       "tcp_rtt                     float64         76931               0\n",
       "synack                      float64         66997               0\n",
       "ackdat                      float64         60844               0\n",
       "is_sm_ips_ports               int64             2               0\n",
       "count_state_ttl               int64             7               0\n",
       "count_flw_http_mthd         float64            16         1348145\n",
       "is_ftp_login                float64             4         1429879\n",
       "count_ftp_cmd                object            13               0\n",
       "count_srv_source              int64            65               0\n",
       "count_srv_dest                int64            66               0\n",
       "count_dest_ltm                int64            62               0\n",
       "count_source_ltm              int64            62               0\n",
       "count_source_destport_ltm     int64            62               0\n",
       "count_dest_sourceport_ltm     int64            55               0\n",
       "counts_dest_source_ltm        int64            65               0\n",
       "attack_cat                   object            13         2218764\n",
       "Label                         int64             2               0"
      ]
     },
     "execution_count": 5,
     "metadata": {},
     "output_type": "execute_result"
    }
   ],
   "source": [
    "#DataFrame with columns\n",
    "columns = pd.DataFrame(list(data.columns.values[1:]))\n",
    "\n",
    "#DataFrame with data types\n",
    "data_types = pd.DataFrame(data.dtypes, columns=['Data Type'])\n",
    "\n",
    "#DataFrame with unique values\n",
    "unique_value_counts = pd.DataFrame(columns=['Unique Values'])\n",
    "for v in list(data.columns.values):\n",
    "    unique_value_counts.loc[v] = [data[v].nunique()]\n",
    "\n",
    "missing_data_counts = pd.DataFrame(data.isnull().sum(), columns=['Missing Values'])\n",
    "data_quality_report = data_types.join(unique_value_counts).join(missing_data_counts)\n",
    "print('Data Quality Report')\n",
    "data_quality_report"
   ]
  },
  {
   "cell_type": "markdown",
   "metadata": {},
   "source": [
    "From this we can see that there are a number of columns of the wrong data type and several with missing values. Attack_cat is expected to have NaN values as this was touched upon into the introduction for the data. From Alex's analysis we know that count_flw_http_mthd and is_ftp_login are missing values and have NaN values which we know how to fix. \n",
    "\n",
    "Let us first try and replace some missing values."
   ]
  },
  {
   "cell_type": "markdown",
   "metadata": {},
   "source": [
    "From the description for is_ftp_login we see that the values should only be 0 or 1 but we have 2 and 4 and we are not quite sure why but since its median is 0 we will jsut impute the data as 0. Similarily for Count_flw_http_mthd, its median is also 0 so we also impute missing values as 0."
   ]
  },
  {
   "cell_type": "code",
   "execution_count": 6,
   "metadata": {},
   "outputs": [],
   "source": [
    "data =data.fillna(0)"
   ]
  },
  {
   "cell_type": "code",
   "execution_count": 7,
   "metadata": {},
   "outputs": [
    {
     "data": {
      "text/plain": [
       "count_flw_http_mthd\n",
       "0.0     2334936\n",
       "1.0      188008\n",
       "2.0         588\n",
       "3.0         738\n",
       "4.0        6564\n",
       "5.0         430\n",
       "6.0        7902\n",
       "8.0          56\n",
       "9.0         270\n",
       "10.0         30\n",
       "12.0        132\n",
       "14.0        224\n",
       "16.0         48\n",
       "25.0         25\n",
       "30.0         60\n",
       "36.0         36\n",
       "dtype: int64"
      ]
     },
     "execution_count": 7,
     "metadata": {},
     "output_type": "execute_result"
    }
   ],
   "source": [
    "data.groupby('count_flw_http_mthd').size()"
   ]
  },
  {
   "cell_type": "code",
   "execution_count": 8,
   "metadata": {},
   "outputs": [
    {
     "data": {
      "text/plain": [
       "is_ftp_login\n",
       "0.0    2496472\n",
       "1.0      43389\n",
       "2.0         30\n",
       "4.0        156\n",
       "dtype: int64"
      ]
     },
     "execution_count": 8,
     "metadata": {},
     "output_type": "execute_result"
    }
   ],
   "source": [
    "data.groupby('is_ftp_login').size()"
   ]
  },
  {
   "cell_type": "markdown",
   "metadata": {},
   "source": [
    "Lets see how count_ftp_cmd is made up."
   ]
  },
  {
   "cell_type": "code",
   "execution_count": 9,
   "metadata": {},
   "outputs": [
    {
     "data": {
      "text/plain": [
       "count_ftp_cmd\n",
       "0    1056339\n",
       "1      17087\n",
       "2       1234\n",
       "3        729\n",
       "4        804\n",
       "5        290\n",
       "6        332\n",
       "8         18\n",
       "     1429879\n",
       "0      10159\n",
       "1      22990\n",
       "2         30\n",
       "4        156\n",
       "dtype: int64"
      ]
     },
     "execution_count": 9,
     "metadata": {},
     "output_type": "execute_result"
    }
   ],
   "source": [
    "data.groupby('count_ftp_cmd').size()\n"
   ]
  },
  {
   "cell_type": "markdown",
   "metadata": {},
   "source": [
    "As there are just missing values we simply replace them with 0."
   ]
  },
  {
   "cell_type": "code",
   "execution_count": 10,
   "metadata": {},
   "outputs": [
    {
     "data": {
      "text/plain": [
       "count_ftp_cmd\n",
       "0    2486218\n",
       "1      17087\n",
       "2       1234\n",
       "3        729\n",
       "4        804\n",
       "5        290\n",
       "6        332\n",
       "8         18\n",
       "0      10159\n",
       "1      22990\n",
       "2         30\n",
       "4        156\n",
       "dtype: int64"
      ]
     },
     "execution_count": 10,
     "metadata": {},
     "output_type": "execute_result"
    }
   ],
   "source": [
    "data['count_ftp_cmd'] = data['count_ftp_cmd'].replace(' ',0)\n",
    "data.groupby('count_ftp_cmd').size()\n"
   ]
  },
  {
   "cell_type": "markdown",
   "metadata": {},
   "source": [
    "Now we must replace all the object data types to either float or integer types. I tried using to.numeric from pandas but due to the values we have, this proved more hassle than it was worth, especially given Matt has a tried and tested method which involes mapping the data to new columns and removing the old columns as follows."
   ]
  },
  {
   "cell_type": "code",
   "execution_count": 11,
   "metadata": {},
   "outputs": [],
   "source": [
    "data_source_ip = pd.DataFrame(data['source_ip'])\n",
    "data_source_port = pd.DataFrame(data['source_port'])\n",
    "data_dest_ip = pd.DataFrame(data['dest_ip'])\n",
    "data_dest_port = pd.DataFrame(data['dest_port'])\n",
    "data_proto = pd.DataFrame(data['proto'])\n",
    "data_state = pd.DataFrame(data['state'])\n",
    "data_service = pd.DataFrame(data['service'])\n",
    "data_count_ftp_cmd = pd.DataFrame(data['count_ftp_cmd'])\n",
    "data_attack_cat = pd.DataFrame(data['attack_cat'])"
   ]
  },
  {
   "cell_type": "code",
   "execution_count": 12,
   "metadata": {},
   "outputs": [],
   "source": [
    "sips = data.source_ip.unique()\n",
    "sip_dict = dict(zip(sips,range(len(sips))))\n",
    "\n",
    "sp = data.source_port.unique()\n",
    "sp_dict = dict(zip(sp,range(len(sp))))\n",
    "               \n",
    "dips = data.dest_ip.unique()\n",
    "dip_dict = dict(zip(dips,range(len(dips))))\n",
    "\n",
    "dp = data.dest_port.unique()\n",
    "dp_dict = dict(zip(dp,range(len(dp))))\n",
    "\n",
    "p = data.proto.unique()\n",
    "p_dict = dict(zip(p,range(len(p))))\n",
    "\n",
    "states = data.state.unique()\n",
    "state_dict = dict(zip(states,range(len(states))))\n",
    "\n",
    "services = data.service.unique()\n",
    "service_dict = dict(zip(services,range(len(services))))\n",
    "\n",
    "cfc = data.count_ftp_cmd.unique()\n",
    "cfc_dict = dict(zip(cfc,range(len(cfc))))\n",
    "\n",
    "ac = data.attack_cat.unique()\n",
    "ac_dict = dict(zip(ac,range(len(ac))))"
   ]
  },
  {
   "cell_type": "code",
   "execution_count": 13,
   "metadata": {},
   "outputs": [],
   "source": [
    "#Mapping the dictionaries to data frames \n",
    "data['source_ip_int'] = data['source_ip'].map(sip_dict)\n",
    "data['source_port_int'] = data['source_port'].map(sp_dict)\n",
    "data['dest_ip_int'] = data['dest_ip'].map(dip_dict)\n",
    "data['dest_port_int'] = data['dest_port'].map(dp_dict)\n",
    "data['proto_int'] = data['proto'].map(p_dict)\n",
    "data['state_int'] = data['state'].map(state_dict)\n",
    "data['service_int'] = data['service'].map(service_dict)\n",
    "data['count_ftp_cmd_int'] = data['count_ftp_cmd'].map(cfc_dict)\n",
    "data['attack_cat_int'] = data['attack_cat'].map(ac_dict)"
   ]
  },
  {
   "cell_type": "code",
   "execution_count": 14,
   "metadata": {},
   "outputs": [],
   "source": [
    "#Reomving the old data frames\n",
    "data = data.drop('source_ip',axis=1)\n",
    "data = data.drop('source_port',axis=1)\n",
    "data = data.drop('dest_ip',axis=1)\n",
    "data = data.drop('dest_port',axis=1)\n",
    "data = data.drop('proto',axis=1)\n",
    "data = data.drop('state',axis=1)\n",
    "data = data.drop('service',axis=1)\n",
    "data = data.drop('count_ftp_cmd',axis=1)\n",
    "data = data.drop('attack_cat',axis=1)"
   ]
  },
  {
   "cell_type": "code",
   "execution_count": 15,
   "metadata": {
    "scrolled": true
   },
   "outputs": [
    {
     "name": "stdout",
     "output_type": "stream",
     "text": [
      "Data Quality Report\n"
     ]
    },
    {
     "data": {
      "text/html": [
       "<div>\n",
       "<style scoped>\n",
       "    .dataframe tbody tr th:only-of-type {\n",
       "        vertical-align: middle;\n",
       "    }\n",
       "\n",
       "    .dataframe tbody tr th {\n",
       "        vertical-align: top;\n",
       "    }\n",
       "\n",
       "    .dataframe thead th {\n",
       "        text-align: right;\n",
       "    }\n",
       "</style>\n",
       "<table border=\"1\" class=\"dataframe\">\n",
       "  <thead>\n",
       "    <tr style=\"text-align: right;\">\n",
       "      <th></th>\n",
       "      <th>Data Type</th>\n",
       "      <th>Unique Values</th>\n",
       "      <th>Missing Values</th>\n",
       "    </tr>\n",
       "  </thead>\n",
       "  <tbody>\n",
       "    <tr>\n",
       "      <th>duration</th>\n",
       "      <td>float64</td>\n",
       "      <td>587303</td>\n",
       "      <td>0</td>\n",
       "    </tr>\n",
       "    <tr>\n",
       "      <th>source_bytes</th>\n",
       "      <td>int64</td>\n",
       "      <td>14155</td>\n",
       "      <td>0</td>\n",
       "    </tr>\n",
       "    <tr>\n",
       "      <th>dest_bytes</th>\n",
       "      <td>int64</td>\n",
       "      <td>19166</td>\n",
       "      <td>0</td>\n",
       "    </tr>\n",
       "    <tr>\n",
       "      <th>source_ttl</th>\n",
       "      <td>int64</td>\n",
       "      <td>13</td>\n",
       "      <td>0</td>\n",
       "    </tr>\n",
       "    <tr>\n",
       "      <th>dest_ttl</th>\n",
       "      <td>int64</td>\n",
       "      <td>11</td>\n",
       "      <td>0</td>\n",
       "    </tr>\n",
       "    <tr>\n",
       "      <th>source_loss</th>\n",
       "      <td>int64</td>\n",
       "      <td>544</td>\n",
       "      <td>0</td>\n",
       "    </tr>\n",
       "    <tr>\n",
       "      <th>dest_loss</th>\n",
       "      <td>int64</td>\n",
       "      <td>707</td>\n",
       "      <td>0</td>\n",
       "    </tr>\n",
       "    <tr>\n",
       "      <th>source_load</th>\n",
       "      <td>float64</td>\n",
       "      <td>1100258</td>\n",
       "      <td>0</td>\n",
       "    </tr>\n",
       "    <tr>\n",
       "      <th>dest_load</th>\n",
       "      <td>float64</td>\n",
       "      <td>1173739</td>\n",
       "      <td>0</td>\n",
       "    </tr>\n",
       "    <tr>\n",
       "      <th>source_pkts</th>\n",
       "      <td>int64</td>\n",
       "      <td>933</td>\n",
       "      <td>0</td>\n",
       "    </tr>\n",
       "    <tr>\n",
       "      <th>dest_pkts</th>\n",
       "      <td>int64</td>\n",
       "      <td>1255</td>\n",
       "      <td>0</td>\n",
       "    </tr>\n",
       "    <tr>\n",
       "      <th>source_TP_win</th>\n",
       "      <td>int64</td>\n",
       "      <td>36</td>\n",
       "      <td>0</td>\n",
       "    </tr>\n",
       "    <tr>\n",
       "      <th>dest_TP_win</th>\n",
       "      <td>int64</td>\n",
       "      <td>32</td>\n",
       "      <td>0</td>\n",
       "    </tr>\n",
       "    <tr>\n",
       "      <th>source_tcp_bn</th>\n",
       "      <td>int64</td>\n",
       "      <td>1429571</td>\n",
       "      <td>0</td>\n",
       "    </tr>\n",
       "    <tr>\n",
       "      <th>dest_tcp_bn</th>\n",
       "      <td>int64</td>\n",
       "      <td>1429031</td>\n",
       "      <td>0</td>\n",
       "    </tr>\n",
       "    <tr>\n",
       "      <th>source_mean_sz</th>\n",
       "      <td>int64</td>\n",
       "      <td>1415</td>\n",
       "      <td>0</td>\n",
       "    </tr>\n",
       "    <tr>\n",
       "      <th>dest_mean_sz</th>\n",
       "      <td>int64</td>\n",
       "      <td>1417</td>\n",
       "      <td>0</td>\n",
       "    </tr>\n",
       "    <tr>\n",
       "      <th>trans_depth</th>\n",
       "      <td>int64</td>\n",
       "      <td>14</td>\n",
       "      <td>0</td>\n",
       "    </tr>\n",
       "    <tr>\n",
       "      <th>res_bdy_len</th>\n",
       "      <td>int64</td>\n",
       "      <td>2907</td>\n",
       "      <td>0</td>\n",
       "    </tr>\n",
       "    <tr>\n",
       "      <th>source_jitter</th>\n",
       "      <td>float64</td>\n",
       "      <td>1381001</td>\n",
       "      <td>0</td>\n",
       "    </tr>\n",
       "    <tr>\n",
       "      <th>dest_jitter</th>\n",
       "      <td>float64</td>\n",
       "      <td>1424689</td>\n",
       "      <td>0</td>\n",
       "    </tr>\n",
       "    <tr>\n",
       "      <th>start_time</th>\n",
       "      <td>int64</td>\n",
       "      <td>85348</td>\n",
       "      <td>0</td>\n",
       "    </tr>\n",
       "    <tr>\n",
       "      <th>last_time</th>\n",
       "      <td>int64</td>\n",
       "      <td>85361</td>\n",
       "      <td>0</td>\n",
       "    </tr>\n",
       "    <tr>\n",
       "      <th>source_int_pk_time</th>\n",
       "      <td>float64</td>\n",
       "      <td>975275</td>\n",
       "      <td>0</td>\n",
       "    </tr>\n",
       "    <tr>\n",
       "      <th>dest_int_pk_time</th>\n",
       "      <td>float64</td>\n",
       "      <td>960353</td>\n",
       "      <td>0</td>\n",
       "    </tr>\n",
       "    <tr>\n",
       "      <th>tcp_rtt</th>\n",
       "      <td>float64</td>\n",
       "      <td>76931</td>\n",
       "      <td>0</td>\n",
       "    </tr>\n",
       "    <tr>\n",
       "      <th>synack</th>\n",
       "      <td>float64</td>\n",
       "      <td>66997</td>\n",
       "      <td>0</td>\n",
       "    </tr>\n",
       "    <tr>\n",
       "      <th>ackdat</th>\n",
       "      <td>float64</td>\n",
       "      <td>60844</td>\n",
       "      <td>0</td>\n",
       "    </tr>\n",
       "    <tr>\n",
       "      <th>is_sm_ips_ports</th>\n",
       "      <td>int64</td>\n",
       "      <td>2</td>\n",
       "      <td>0</td>\n",
       "    </tr>\n",
       "    <tr>\n",
       "      <th>count_state_ttl</th>\n",
       "      <td>int64</td>\n",
       "      <td>7</td>\n",
       "      <td>0</td>\n",
       "    </tr>\n",
       "    <tr>\n",
       "      <th>count_flw_http_mthd</th>\n",
       "      <td>float64</td>\n",
       "      <td>16</td>\n",
       "      <td>0</td>\n",
       "    </tr>\n",
       "    <tr>\n",
       "      <th>is_ftp_login</th>\n",
       "      <td>float64</td>\n",
       "      <td>4</td>\n",
       "      <td>0</td>\n",
       "    </tr>\n",
       "    <tr>\n",
       "      <th>count_srv_source</th>\n",
       "      <td>int64</td>\n",
       "      <td>65</td>\n",
       "      <td>0</td>\n",
       "    </tr>\n",
       "    <tr>\n",
       "      <th>count_srv_dest</th>\n",
       "      <td>int64</td>\n",
       "      <td>66</td>\n",
       "      <td>0</td>\n",
       "    </tr>\n",
       "    <tr>\n",
       "      <th>count_dest_ltm</th>\n",
       "      <td>int64</td>\n",
       "      <td>62</td>\n",
       "      <td>0</td>\n",
       "    </tr>\n",
       "    <tr>\n",
       "      <th>count_source_ltm</th>\n",
       "      <td>int64</td>\n",
       "      <td>62</td>\n",
       "      <td>0</td>\n",
       "    </tr>\n",
       "    <tr>\n",
       "      <th>count_source_destport_ltm</th>\n",
       "      <td>int64</td>\n",
       "      <td>62</td>\n",
       "      <td>0</td>\n",
       "    </tr>\n",
       "    <tr>\n",
       "      <th>count_dest_sourceport_ltm</th>\n",
       "      <td>int64</td>\n",
       "      <td>55</td>\n",
       "      <td>0</td>\n",
       "    </tr>\n",
       "    <tr>\n",
       "      <th>counts_dest_source_ltm</th>\n",
       "      <td>int64</td>\n",
       "      <td>65</td>\n",
       "      <td>0</td>\n",
       "    </tr>\n",
       "    <tr>\n",
       "      <th>Label</th>\n",
       "      <td>int64</td>\n",
       "      <td>2</td>\n",
       "      <td>0</td>\n",
       "    </tr>\n",
       "    <tr>\n",
       "      <th>source_ip_int</th>\n",
       "      <td>int64</td>\n",
       "      <td>43</td>\n",
       "      <td>0</td>\n",
       "    </tr>\n",
       "    <tr>\n",
       "      <th>source_port_int</th>\n",
       "      <td>int64</td>\n",
       "      <td>100341</td>\n",
       "      <td>0</td>\n",
       "    </tr>\n",
       "    <tr>\n",
       "      <th>dest_ip_int</th>\n",
       "      <td>int64</td>\n",
       "      <td>47</td>\n",
       "      <td>0</td>\n",
       "    </tr>\n",
       "    <tr>\n",
       "      <th>dest_port_int</th>\n",
       "      <td>int64</td>\n",
       "      <td>128297</td>\n",
       "      <td>0</td>\n",
       "    </tr>\n",
       "    <tr>\n",
       "      <th>proto_int</th>\n",
       "      <td>int64</td>\n",
       "      <td>135</td>\n",
       "      <td>0</td>\n",
       "    </tr>\n",
       "    <tr>\n",
       "      <th>state_int</th>\n",
       "      <td>int64</td>\n",
       "      <td>16</td>\n",
       "      <td>0</td>\n",
       "    </tr>\n",
       "    <tr>\n",
       "      <th>service_int</th>\n",
       "      <td>int64</td>\n",
       "      <td>13</td>\n",
       "      <td>0</td>\n",
       "    </tr>\n",
       "    <tr>\n",
       "      <th>count_ftp_cmd_int</th>\n",
       "      <td>int64</td>\n",
       "      <td>12</td>\n",
       "      <td>0</td>\n",
       "    </tr>\n",
       "    <tr>\n",
       "      <th>attack_cat_int</th>\n",
       "      <td>int64</td>\n",
       "      <td>14</td>\n",
       "      <td>0</td>\n",
       "    </tr>\n",
       "  </tbody>\n",
       "</table>\n",
       "</div>"
      ],
      "text/plain": [
       "                          Data Type Unique Values  Missing Values\n",
       "duration                    float64        587303               0\n",
       "source_bytes                  int64         14155               0\n",
       "dest_bytes                    int64         19166               0\n",
       "source_ttl                    int64            13               0\n",
       "dest_ttl                      int64            11               0\n",
       "source_loss                   int64           544               0\n",
       "dest_loss                     int64           707               0\n",
       "source_load                 float64       1100258               0\n",
       "dest_load                   float64       1173739               0\n",
       "source_pkts                   int64           933               0\n",
       "dest_pkts                     int64          1255               0\n",
       "source_TP_win                 int64            36               0\n",
       "dest_TP_win                   int64            32               0\n",
       "source_tcp_bn                 int64       1429571               0\n",
       "dest_tcp_bn                   int64       1429031               0\n",
       "source_mean_sz                int64          1415               0\n",
       "dest_mean_sz                  int64          1417               0\n",
       "trans_depth                   int64            14               0\n",
       "res_bdy_len                   int64          2907               0\n",
       "source_jitter               float64       1381001               0\n",
       "dest_jitter                 float64       1424689               0\n",
       "start_time                    int64         85348               0\n",
       "last_time                     int64         85361               0\n",
       "source_int_pk_time          float64        975275               0\n",
       "dest_int_pk_time            float64        960353               0\n",
       "tcp_rtt                     float64         76931               0\n",
       "synack                      float64         66997               0\n",
       "ackdat                      float64         60844               0\n",
       "is_sm_ips_ports               int64             2               0\n",
       "count_state_ttl               int64             7               0\n",
       "count_flw_http_mthd         float64            16               0\n",
       "is_ftp_login                float64             4               0\n",
       "count_srv_source              int64            65               0\n",
       "count_srv_dest                int64            66               0\n",
       "count_dest_ltm                int64            62               0\n",
       "count_source_ltm              int64            62               0\n",
       "count_source_destport_ltm     int64            62               0\n",
       "count_dest_sourceport_ltm     int64            55               0\n",
       "counts_dest_source_ltm        int64            65               0\n",
       "Label                         int64             2               0\n",
       "source_ip_int                 int64            43               0\n",
       "source_port_int               int64        100341               0\n",
       "dest_ip_int                   int64            47               0\n",
       "dest_port_int                 int64        128297               0\n",
       "proto_int                     int64           135               0\n",
       "state_int                     int64            16               0\n",
       "service_int                   int64            13               0\n",
       "count_ftp_cmd_int             int64            12               0\n",
       "attack_cat_int                int64            14               0"
      ]
     },
     "execution_count": 15,
     "metadata": {},
     "output_type": "execute_result"
    }
   ],
   "source": [
    "#DataFrame with columns\n",
    "columns = pd.DataFrame(list(data.columns.values[1:]))\n",
    "\n",
    "#DataFrame with data types\n",
    "data_types = pd.DataFrame(data.dtypes, columns=['Data Type'])\n",
    "\n",
    "#DataFrame with unique values\n",
    "unique_value_counts = pd.DataFrame(columns=['Unique Values'])\n",
    "for v in list(data.columns.values):\n",
    "    unique_value_counts.loc[v] = [data[v].nunique()]\n",
    "\n",
    "missing_data_counts = pd.DataFrame(data.isnull().sum(), columns=['Missing Values'])\n",
    "data_quality_report = data_types.join(unique_value_counts).join(missing_data_counts)\n",
    "print('Data Quality Report')\n",
    "data_quality_report"
   ]
  },
  {
   "cell_type": "markdown",
   "metadata": {},
   "source": [
    "As we can see from the data report, we have removed all of the missing values and all of the data types are now correct, allowing us to move onto the scaling stage for our data."
   ]
  },
  {
   "cell_type": "markdown",
   "metadata": {},
   "source": [
    "# Scaling"
   ]
  },
  {
   "cell_type": "markdown",
   "metadata": {},
   "source": [
    "We aim to get our data to be as similar as possible to the data we would feed into a Neural Network to ensure a direct comparison between our Naive Bayes (NB) classification model and our Neural Networks which will allow us to directly assess which method is optimal for such a problem.  "
   ]
  },
  {
   "cell_type": "markdown",
   "metadata": {},
   "source": [
    "Obviously for our classification problem we need some classes. Choosing Normal and Non-Normal traffic would be intutitive and we can draw upon similar things we used from Assessment 1. However, we have many types of attacks but fortunately Naive Bayes is equipped to handle this. We can see all our categories by calling ac_dict which was generated during the re-mapping of columns so we have all we need to feed this through the classifier and we can still use alot from what we learned in Assessment 1.\n",
    "\n",
    "For Neural Networks, certain data scaling is imposed as unscaled input variables can result in a slow learning process and sometimes causing the learning to fail completely and what to scale the data to depends on the activation function being used in the case. As we mentioned before we will be manipulating our data to be the same for Naive Bayes and Neural Networks. Luckily for us, this scaling will have minimal impact on NB since NB sets the priors based on the data we feed it and scale them to match our data."
   ]
  },
  {
   "cell_type": "code",
   "execution_count": 16,
   "metadata": {},
   "outputs": [],
   "source": [
    "from sklearn import preprocessing\n",
    "from sklearn.preprocessing import StandardScaler"
   ]
  },
  {
   "cell_type": "code",
   "execution_count": 17,
   "metadata": {},
   "outputs": [
    {
     "data": {
      "text/plain": [
       "(2540047, 49)"
      ]
     },
     "execution_count": 17,
     "metadata": {},
     "output_type": "execute_result"
    }
   ],
   "source": [
    "scaler = preprocessing.StandardScaler().fit(data)\n",
    "data_scaled = scaler.transform(data)\n",
    "data_scaled.shape"
   ]
  },
  {
   "cell_type": "markdown",
   "metadata": {},
   "source": [
    "# Classifier - Naive Bayes"
   ]
  },
  {
   "cell_type": "markdown",
   "metadata": {},
   "source": [
    "After our data is scaled we spilt it into training and test data sets as before in Assessment 1 and we would do the same for our Neural Network to see how well the model is able to learn and classify data."
   ]
  },
  {
   "cell_type": "code",
   "execution_count": 18,
   "metadata": {},
   "outputs": [],
   "source": [
    "from sklearn.model_selection import train_test_split\n",
    "import datetime as dt\n",
    "import seaborn as sns\n",
    "import matplotlib.pyplot as plt"
   ]
  },
  {
   "cell_type": "code",
   "execution_count": 19,
   "metadata": {},
   "outputs": [],
   "source": [
    "Y = data['attack_cat_int']\n",
    "X_train, X_test, Y_train, Y_test = train_test_split(data_scaled, Y, test_size = 0.1, random_state = 10)"
   ]
  },
  {
   "cell_type": "code",
   "execution_count": 20,
   "metadata": {},
   "outputs": [],
   "source": [
    "def model(model_name, X_train, Y_train, X_test, Y_test):\n",
    "    '''\n",
    "     Fits the model on train data and predict the performance on train and test data.\n",
    "     '''\n",
    "    print('Fitting the model and prediction on train data:')\n",
    "    start = dt.datetime.now()\n",
    "    model_name.fit(X_train, Y_train)\n",
    "    y_tr_pred = model_name.predict(X_train)\n",
    "    print('Completed')\n",
    "    print('Time taken:',dt.datetime.now()-start)\n",
    "    print('='*50)\n",
    "    \n",
    "    results_tr = dict()\n",
    "    y_tr_pred = model_name.predict(X_train)    \n",
    "    results_tr['precision'] = precision_score(Y_train, y_tr_pred,         average='weighted')\n",
    "    results_tr['recall'] = recall_score(Y_train, y_tr_pred, average='weighted')\n",
    "    results_tr['f1_score'] = f1_score(Y_train, y_tr_pred, average='weighted')\n",
    "    \n",
    "    results_test = dict()\n",
    "    print('Prediction on test data:')\n",
    "    start = dt.datetime.now()\n",
    "    y_test_pred = model_name.predict(X_test)\n",
    "    print('Completed')\n",
    "    print('Time taken:',dt.datetime.now()-start)\n",
    "    print('='*50)\n",
    "    \n",
    "    print('Performance metrics:')\n",
    "    print('='*50)\n",
    "    print('Confusion Matrix is:')\n",
    "    confusion_matrix_func(Y_test, y_test_pred)\n",
    "    print('='*50)\n",
    "    results_test['precision'] = precision_score(Y_test, y_test_pred, average='weighted')\n",
    "    print('Precision score is:')\n",
    "    print(precision_score(Y_test, y_test_pred, average='weighted'))\n",
    "    print('='*50)\n",
    "    results_test['recall'] = recall_score(Y_test, y_test_pred, average='weighted')\n",
    "    print('Recall score is:')\n",
    "    print(recall_score(Y_test, y_test_pred, average='weighted'))\n",
    "    print('='*50)\n",
    "    results_test['f1_score'] = f1_score(Y_test, y_test_pred, average='weighted')\n",
    "    print('F1-score is:')\n",
    "    print(f1_score(Y_test, y_test_pred, average='weighted'))\n",
    "    # add the trained  model to the results\n",
    "    results_test['model'] = model\n",
    "    \n",
    "    return results_tr, results_test, y_test_pred"
   ]
  },
  {
   "cell_type": "code",
   "execution_count": 21,
   "metadata": {},
   "outputs": [],
   "source": [
    "def confusion_matrix_func(Y_test, y_test_pred):\n",
    "    \n",
    "    C = confusion_matrix(Y_test, y_test_pred)\n",
    "    cm_df = pd.DataFrame(C)\n",
    "    labels = ['Exploits', 'Reconnaissance', 'DoS', 'Generic', 'Shellcode', ' Fuzzers', 'Worms', 'Backdoors', 'Analysis']\n",
    "    plt.figure(figsize=(30,25))\n",
    "    sns.set(font_scale=1.4)\n",
    "    sns.heatmap(cm_df, annot=True, annot_kws={\"size\":12}, fmt='g',       xticklabels=labels, yticklabels=labels)\n",
    "    plt.ylabel('Actual Class')\n",
    "    plt.xlabel('Predicted Class')\n",
    "    \n",
    "    plt.show()"
   ]
  },
  {
   "cell_type": "code",
   "execution_count": 22,
   "metadata": {},
   "outputs": [],
   "source": [
    "from sklearn.naive_bayes import GaussianNB\n",
    "from sklearn.metrics import accuracy_score, confusion_matrix, roc_auc_score, precision_score, recall_score, f1_score\n",
    "from sklearn.model_selection import GridSearchCV"
   ]
  },
  {
   "cell_type": "code",
   "execution_count": 23,
   "metadata": {},
   "outputs": [
    {
     "name": "stdout",
     "output_type": "stream",
     "text": [
      "Fitting the model and prediction on train data:\n",
      "Completed\n",
      "Time taken: 0:00:38.001763\n",
      "==================================================\n",
      "Prediction on test data:\n",
      "Completed\n",
      "Time taken: 0:00:01.683692\n",
      "==================================================\n",
      "Performance metrics:\n",
      "==================================================\n",
      "Confusion Matrix is:\n"
     ]
    },
    {
     "data": {
      "image/png": "[encoded data removed]",
      "text/plain": [
       "<Figure size 2160x1800 with 2 Axes>"
      ]
     },
     "metadata": {
      "needs_background": "light"
     },
     "output_type": "display_data"
    },
    {
     "name": "stdout",
     "output_type": "stream",
     "text": [
      "==================================================\n",
      "Precision score is:\n",
      "1.0\n",
      "==================================================\n",
      "Recall score is:\n",
      "1.0\n",
      "==================================================\n",
      "F1-score is:\n",
      "1.0\n"
     ]
    }
   ],
   "source": [
    "hyperparameter = {'var_smoothing':[10**x for x in range(-9,3)]}\n",
    "nb = GaussianNB()\n",
    "nb_grid = GridSearchCV(nb, param_grid=hyperparameter, cv=5, verbose=1, n_jobs=-1)\n",
    "nb_results, a, Y_pred = model(nb, X_train, Y_train, X_test, Y_test)"
   ]
  },
  {
   "cell_type": "markdown",
   "metadata": {},
   "source": [
    "Naive Bayes has given us a supposed accuarcy of 100%. I say supposed as I am slighlty skeptical as to whether we have implemented this correctly due to the fact the model only took roughly 30 secs to train and make a prediction on the test data. In Assessment 1, it took roughly 3 minutes to train on 250k datapoints, i.e one tenth the size of our dataset we are currently using so one would expect a longer run-time. However, in this case we have significantly more classes for data to be classified into which perhaps has an affect on the run-time. In terms of the accuracy, we were also perhaps surprised. Naive Bayes as the name suggests is a naive approach designed to be quick and efficent while giving a good accuracy overall. The fact we have more classes and 10x the datapoints for the model to train itself on than in Assessment 1, this could explain the reason for our 100% accuracy so long that the model has been implemented correctly. "
   ]
  },
  {
   "cell_type": "markdown",
   "metadata": {},
   "source": [
    "# Auto Encoder Neural Network\n",
    "\n",
    "Autoencoder Neural Network is a model which seeks to learn a compressed representation of a given input and give a output which has the same representation. They are composed of an encoder and decoder and a 'loss' function and can be used for feature extraction on classification predicitive modelling problems which is how we aim to use them in this Assessment. The encoder and decoder can be parametric functions, generally neural networks and they must be differentiable we respect to the loss function, so the loss can me minimised by Stochastic Gradient Descent.\n",
    "\n",
    "In the following section we aim to build our model and hopefully run a few epochs on my home computer before sending a more in-depth run to the HPC for to obtain our results."
   ]
  },
  {
   "cell_type": "code",
   "execution_count": 24,
   "metadata": {},
   "outputs": [],
   "source": [
    "import keras\n",
    "from keras import layers, models\n",
    "from keras.layers import Dense"
   ]
  },
  {
   "cell_type": "code",
   "execution_count": 25,
   "metadata": {},
   "outputs": [],
   "source": [
    "#Using 32 floats hence:\n",
    "encoding_dim = 32\n",
    "\n",
    "input_data = keras.Input(shape=X_train.shape[1])\n",
    "#Encoded representation\n",
    "encoded = layers.Dense(encoding_dim, activation='relu')(input_data)\n",
    "#Loss reconstruction\n",
    "decoded = layers.Dense(X_train.shape[1], activation='softmax')(encoded)\n",
    "#Maps the input to its reconstruction\n",
    "autoencoder = keras.Model(input_data, decoded)"
   ]
  },
  {
   "cell_type": "code",
   "execution_count": 26,
   "metadata": {},
   "outputs": [
    {
     "name": "stdout",
     "output_type": "stream",
     "text": [
      "Model: \"model\"\n",
      "_________________________________________________________________\n",
      "Layer (type)                 Output Shape              Param #   \n",
      "=================================================================\n",
      "input_1 (InputLayer)         [(None, 49)]              0         \n",
      "_________________________________________________________________\n",
      "dense (Dense)                (None, 32)                1600      \n",
      "_________________________________________________________________\n",
      "dense_1 (Dense)              (None, 49)                1617      \n",
      "=================================================================\n",
      "Total params: 3,217\n",
      "Trainable params: 3,217\n",
      "Non-trainable params: 0\n",
      "_________________________________________________________________\n"
     ]
    }
   ],
   "source": [
    "autoencoder.summary()"
   ]
  },
  {
   "cell_type": "code",
   "execution_count": 27,
   "metadata": {},
   "outputs": [],
   "source": [
    "autoencoder.compile(metrics=['accuracy'], optimizer='adam', loss='mse')"
   ]
  },
  {
   "cell_type": "code",
   "execution_count": 28,
   "metadata": {},
   "outputs": [
    {
     "name": "stdout",
     "output_type": "stream",
     "text": [
      "Epoch 1/10\n",
      "8930/8930 [==============================] - 17s 2ms/step - loss: 0.9321 - accuracy: 0.5783 - val_loss: 0.8811 - val_accuracy: 0.7003\n",
      "Epoch 2/10\n",
      "8930/8930 [==============================] - 39s 4ms/step - loss: 0.9052 - accuracy: 0.6878 - val_loss: 0.8807 - val_accuracy: 0.6779\n",
      "Epoch 3/10\n",
      "8930/8930 [==============================] - 33s 4ms/step - loss: 0.9250 - accuracy: 0.6935 - val_loss: 0.8807 - val_accuracy: 0.7376\n",
      "Epoch 4/10\n",
      "8930/8930 [==============================] - 38s 4ms/step - loss: 0.9212 - accuracy: 0.6980 - val_loss: 0.8807 - val_accuracy: 0.7079\n",
      "Epoch 5/10\n",
      "8930/8930 [==============================] - 37s 4ms/step - loss: 0.9112 - accuracy: 0.6976 - val_loss: 0.8807 - val_accuracy: 0.7143\n",
      "Epoch 6/10\n",
      "8930/8930 [==============================] - 31s 4ms/step - loss: 0.8927 - accuracy: 0.6980 - val_loss: 0.8807 - val_accuracy: 0.6601\n",
      "Epoch 7/10\n",
      "8930/8930 [==============================] - 35s 4ms/step - loss: 0.9293 - accuracy: 0.7008 - val_loss: 0.8806 - val_accuracy: 0.6845\n",
      "Epoch 8/10\n",
      "8930/8930 [==============================] - 39s 4ms/step - loss: 0.9126 - accuracy: 0.7001 - val_loss: 0.8806 - val_accuracy: 0.6936\n",
      "Epoch 9/10\n",
      "8930/8930 [==============================] - 34s 4ms/step - loss: 0.8932 - accuracy: 0.6986 - val_loss: 0.8806 - val_accuracy: 0.7386\n",
      "Epoch 10/10\n",
      "8930/8930 [==============================] - 41s 5ms/step - loss: 0.9060 - accuracy: 0.6995 - val_loss: 0.8806 - val_accuracy: 0.6937\n"
     ]
    },
    {
     "data": {
      "text/plain": [
       "<tensorflow.python.keras.callbacks.History at 0x7fe830bb72d0>"
      ]
     },
     "execution_count": 28,
     "metadata": {},
     "output_type": "execute_result"
    }
   ],
   "source": [
    "autoencoder.fit(X_train, X_train, epochs=10, batch_size=256, shuffle= True, validation_data=(X_test, X_test))"
   ]
  },
  {
   "cell_type": "markdown",
   "metadata": {},
   "source": [
    "Intially, after 40 epochs, we obtain a accuracy of of 0.81 which is ok but we would obviously like this to be much higher but as a proof of concept, this is plenty sufficent to begin with. I messed around briefly changing the activation and loss functions to see if I could obtain any increases in accuracy but to little avail. From what I found in my research it appears 'sigmoid' is more suited to binary classification problems and we shall be using 'softmax' in our decoder as we have a multi-class classification problem.\n",
    "\n",
    "Next, we try a few different methods to try and improve the accuracy."
   ]
  },
  {
   "cell_type": "code",
   "execution_count": 29,
   "metadata": {},
   "outputs": [],
   "source": [
    "#First we change the dimension to 64 to see if we have any improvements.\n",
    "\n",
    "encoding_dim = 64\n",
    "\n",
    "input_data = keras.Input(shape=X_train.shape[1])\n",
    "#Encoded representation\n",
    "encoded = layers.Dense(encoding_dim, activation='relu')(input_data)\n",
    "#Loss reconstruction\n",
    "decoded = layers.Dense(X_train.shape[1], activation='softmax')(encoded)\n",
    "#Maps the input to its reconstruction\n",
    "autoencoder = keras.Model(input_data, decoded)\n",
    "\n",
    "autoencoder.compile(metrics=['accuracy'], optimizer='adam', loss='mse')"
   ]
  },
  {
   "cell_type": "code",
   "execution_count": 30,
   "metadata": {},
   "outputs": [
    {
     "name": "stdout",
     "output_type": "stream",
     "text": [
      "Model: \"model_1\"\n",
      "_________________________________________________________________\n",
      "Layer (type)                 Output Shape              Param #   \n",
      "=================================================================\n",
      "input_2 (InputLayer)         [(None, 49)]              0         \n",
      "_________________________________________________________________\n",
      "dense_2 (Dense)              (None, 64)                3200      \n",
      "_________________________________________________________________\n",
      "dense_3 (Dense)              (None, 49)                3185      \n",
      "=================================================================\n",
      "Total params: 6,385\n",
      "Trainable params: 6,385\n",
      "Non-trainable params: 0\n",
      "_________________________________________________________________\n"
     ]
    }
   ],
   "source": [
    "autoencoder.summary()"
   ]
  },
  {
   "cell_type": "code",
   "execution_count": 31,
   "metadata": {
    "scrolled": true
   },
   "outputs": [
    {
     "name": "stdout",
     "output_type": "stream",
     "text": [
      "Epoch 1/10\n",
      "8930/8930 [==============================] - 32s 3ms/step - loss: 0.9009 - accuracy: 0.7208 - val_loss: 0.8756 - val_accuracy: 0.8208\n",
      "Epoch 2/10\n",
      "8930/8930 [==============================] - 25s 3ms/step - loss: 0.9055 - accuracy: 0.8405 - val_loss: 0.8754 - val_accuracy: 0.8435\n",
      "Epoch 3/10\n",
      "8930/8930 [==============================] - 16s 2ms/step - loss: 0.8936 - accuracy: 0.8448 - val_loss: 0.8747 - val_accuracy: 0.8327\n",
      "Epoch 4/10\n",
      "8930/8930 [==============================] - 17s 2ms/step - loss: 0.8990 - accuracy: 0.8487 - val_loss: 0.8746 - val_accuracy: 0.8664\n",
      "Epoch 5/10\n",
      "8930/8930 [==============================] - 16s 2ms/step - loss: 0.8966 - accuracy: 0.8485 - val_loss: 0.8746 - val_accuracy: 0.8068\n",
      "Epoch 6/10\n",
      "8930/8930 [==============================] - 17s 2ms/step - loss: 0.9148 - accuracy: 0.8472 - val_loss: 0.8746 - val_accuracy: 0.8831\n",
      "Epoch 7/10\n",
      "8930/8930 [==============================] - 21s 2ms/step - loss: 0.8987 - accuracy: 0.8488 - val_loss: 0.8746 - val_accuracy: 0.8143\n",
      "Epoch 8/10\n",
      "8930/8930 [==============================] - 23s 3ms/step - loss: 0.9197 - accuracy: 0.8503 - val_loss: 0.8746 - val_accuracy: 0.8526\n",
      "Epoch 9/10\n",
      "8930/8930 [==============================] - 17s 2ms/step - loss: 0.8914 - accuracy: 0.8510 - val_loss: 0.8746 - val_accuracy: 0.8522\n",
      "Epoch 10/10\n",
      "8930/8930 [==============================] - 17s 2ms/step - loss: 0.9114 - accuracy: 0.8514 - val_loss: 0.8746 - val_accuracy: 0.8284\n"
     ]
    },
    {
     "data": {
      "text/plain": [
       "<tensorflow.python.keras.callbacks.History at 0x7fe837109590>"
      ]
     },
     "execution_count": 31,
     "metadata": {},
     "output_type": "execute_result"
    }
   ],
   "source": [
    "autoencoder.fit(X_train, X_train, epochs=10, batch_size=256, shuffle= True, validation_data=(X_test, X_test))"
   ]
  },
  {
   "cell_type": "markdown",
   "metadata": {},
   "source": [
    "Now we add new layers"
   ]
  },
  {
   "cell_type": "code",
   "execution_count": 32,
   "metadata": {},
   "outputs": [],
   "source": [
    "encoding_dim = 128\n",
    "\n",
    "input_data = keras.Input(shape=X_train.shape[1])\n",
    "#Encoded representation\n",
    "encoded = layers.Dense(encoding_dim, activation='relu')(input_data)\n",
    "#Adding layers\n",
    "encoded = layers.Dense(64, activation='relu')(encoded)\n",
    "encoded = layers.Dense(32, activation='relu')(encoded)\n",
    "#Loss reconstruction\n",
    "decoded = layers.Dense(64, activation='relu')(encoded)\n",
    "decoded = layers.Dense(128, activation='relu')(decoded)\n",
    "decoded = layers.Dense(X_train.shape[1], activation='softmax')(decoded)\n",
    "#Maps the input to its reconstruction\n",
    "autoencoder = keras.Model(input_data, decoded)\n",
    "\n",
    "autoencoder.compile(metrics=['accuracy'], optimizer='adam', loss='mse')"
   ]
  },
  {
   "cell_type": "code",
   "execution_count": 38,
   "metadata": {
    "scrolled": true
   },
   "outputs": [
    {
     "name": "stdout",
     "output_type": "stream",
     "text": [
      "Epoch 1/5\n",
      "8930/8930 [==============================] - 29s 3ms/step - loss: 0.9154 - accuracy: 0.7877 - val_loss: 0.8845 - val_accuracy: 0.7448\n",
      "Epoch 2/5\n",
      "8930/8930 [==============================] - 28s 3ms/step - loss: 0.9156 - accuracy: 0.7872 - val_loss: 0.8845 - val_accuracy: 0.7744\n",
      "Epoch 3/5\n",
      "8930/8930 [==============================] - 29s 3ms/step - loss: 0.9154 - accuracy: 0.7885 - val_loss: 0.8845 - val_accuracy: 0.7775\n",
      "Epoch 4/5\n",
      "8930/8930 [==============================] - 34s 4ms/step - loss: 0.9154 - accuracy: 0.7890 - val_loss: 0.8845 - val_accuracy: 0.7634\n",
      "Epoch 5/5\n",
      "8930/8930 [==============================] - 31s 3ms/step - loss: 0.9154 - accuracy: 0.7890 - val_loss: 0.8845 - val_accuracy: 0.7757\n"
     ]
    }
   ],
   "source": [
    "auto_fit = autoencoder.fit(X_train, X_train, epochs=5, batch_size=256, shuffle= True, validation_data=(X_test, X_test))"
   ]
  },
  {
   "cell_type": "code",
   "execution_count": 47,
   "metadata": {
    "scrolled": true
   },
   "outputs": [
    {
     "data": {
      "image/png": "[encoded data removed]",
      "text/plain": [
       "<Figure size 432x288 with 1 Axes>"
      ]
     },
     "metadata": {},
     "output_type": "display_data"
    }
   ],
   "source": [
    "loss = auto_fit.history['loss']\n",
    "val_loss = auto_fit.history['val_loss']\n",
    "accuracy = auto_fit.history['accuracy']\n",
    "epochs = range(5)\n",
    "plt.figure()\n",
    "plt.plot(epochs, accuracy, 'g', label='Accuracy')\n",
    "plt.plot(epochs, loss, 'bo', label='Training loss')\n",
    "plt.plot(epochs, val_loss, 'b', label='Validation loss')\n",
    "plt.title('Training and Validation loss')\n",
    "plt.legend()\n",
    "plt.show()"
   ]
  },
  {
   "cell_type": "code",
   "execution_count": null,
   "metadata": {},
   "outputs": [],
   "source": [
    "pickle.dump(epochs, open('epochs.p','wb'))\n",
    "pickle.dump(loss, open('loss.p','wb'))\n",
    "pickle.dump(val_loss, open('val_loss.p','wb'))\n",
    "pickle.dump(accuracy, open('accuracy.p'.'wb'))"
   ]
  },
  {
   "cell_type": "code",
   "execution_count": null,
   "metadata": {},
   "outputs": [],
   "source": [
    "epochs = pickle.read(open('epochs.p','rb'))"
   ]
  },
  {
   "cell_type": "code",
   "execution_count": null,
   "metadata": {},
   "outputs": [],
   "source": [
    "plt.figure()\n",
    "plt.plot(epochs, accuracy, 'g', label='Accuracy')\n",
    "plt.plot(epochs, loss, 'bo', label='Training loss')\n",
    "plt.plot(epochs, val_loss, 'b', label='Validation loss')\n",
    "plt.title('Training and Validation loss')\n",
    "plt.legend()\n",
    "plt.show()"
   ]
  },
  {
   "cell_type": "code",
   "execution_count": 56,
   "metadata": {},
   "outputs": [
    {
     "name": "stderr",
     "output_type": "stream",
     "text": [
      "/Users/lukehawley/opt/anaconda3/lib/python3.7/site-packages/sklearn/metrics/_classification.py:1272: UndefinedMetricWarning: Precision and F-score are ill-defined and being set to 0.0 in labels with no predicted samples. Use `zero_division` parameter to control this behavior.\n",
      "  _warn_prf(average, modifier, msg_start, len(result))\n",
      "/Users/lukehawley/opt/anaconda3/lib/python3.7/site-packages/sklearn/metrics/_classification.py:1272: UndefinedMetricWarning: Recall and F-score are ill-defined and being set to 0.0 in labels with no true samples. Use `zero_division` parameter to control this behavior.\n",
      "  _warn_prf(average, modifier, msg_start, len(result))\n"
     ]
    },
    {
     "name": "stdout",
     "output_type": "stream",
     "text": [
      "              precision    recall  f1-score   support\n",
      "\n",
      "           0       0.80      0.00      0.00    221772\n",
      "           1       0.00      0.00      0.00      4411\n",
      "           2       0.00      0.00      0.00       164\n",
      "           3       0.00      0.00      0.00      1647\n",
      "           4       0.03      0.01      0.02     21642\n",
      "           5       0.00      0.00      0.00        22\n",
      "           6       0.00      0.00      0.00       483\n",
      "           7       0.00      0.00      0.00         6\n",
      "           8       0.00      0.00      0.00        48\n",
      "           9       0.00      0.00      0.00       269\n",
      "          10       0.00      0.00      0.00      1247\n",
      "          11       0.00      0.00      0.00       202\n",
      "          12       0.00      0.00      0.00      1954\n",
      "          13       0.00      0.00      0.00       138\n",
      "          14       0.00      0.00      0.00         0\n",
      "          15       0.00      0.00      0.00         0\n",
      "          16       0.00      0.00      0.00         0\n",
      "          17       0.00      0.00      0.00         0\n",
      "          19       0.00      0.00      0.00         0\n",
      "          21       0.00      0.00      0.00         0\n",
      "          22       0.00      0.00      0.00         0\n",
      "          24       0.00      0.00      0.00         0\n",
      "          28       0.00      0.00      0.00         0\n",
      "          29       0.00      0.00      0.00         0\n",
      "          32       0.00      0.00      0.00         0\n",
      "          33       0.00      0.00      0.00         0\n",
      "          34       0.00      0.00      0.00         0\n",
      "          35       0.00      0.00      0.00         0\n",
      "          36       0.00      0.00      0.00         0\n",
      "          37       0.00      0.00      0.00         0\n",
      "          38       0.00      0.00      0.00         0\n",
      "          39       0.00      0.00      0.00         0\n",
      "          40       0.00      0.00      0.00         0\n",
      "          41       0.00      0.00      0.00         0\n",
      "          42       0.00      0.00      0.00         0\n",
      "          43       0.00      0.00      0.00         0\n",
      "          45       0.00      0.00      0.00         0\n",
      "          46       0.00      0.00      0.00         0\n",
      "          47       0.00      0.00      0.00         0\n",
      "\n",
      "    accuracy                           0.00    254005\n",
      "   macro avg       0.02      0.00      0.00    254005\n",
      "weighted avg       0.70      0.00      0.00    254005\n",
      "\n"
     ]
    }
   ],
   "source": [
    "from sklearn.metrics import classification_report\n",
    "\n",
    "predicted_classes = autoencoder.predict(X_test)\n",
    "\n",
    "target_names = [\"Class {}\".format(i) for i in (ac_dict.keys())]\n",
    "print(classification_report(Y_test, predicted_classes.argmax(axis=1)))"
   ]
  },
  {
   "cell_type": "code",
   "execution_count": 52,
   "metadata": {},
   "outputs": [
    {
     "data": {
      "text/plain": [
       "439"
      ]
     },
     "execution_count": 52,
     "metadata": {},
     "output_type": "execute_result"
    }
   ],
   "source": [
    "np.argmax(predicted_classes)"
   ]
  },
  {
   "cell_type": "code",
   "execution_count": 54,
   "metadata": {},
   "outputs": [
    {
     "data": {
      "text/plain": [
       "{0: 0,\n",
       " 'Exploits': 1,\n",
       " 'Reconnaissance': 2,\n",
       " 'DoS': 3,\n",
       " 'Generic': 4,\n",
       " 'Shellcode': 5,\n",
       " ' Fuzzers': 6,\n",
       " 'Worms': 7,\n",
       " 'Backdoors': 8,\n",
       " 'Analysis': 9,\n",
       " ' Reconnaissance ': 10,\n",
       " 'Backdoor': 11,\n",
       " ' Fuzzers ': 12,\n",
       " ' Shellcode ': 13}"
      ]
     },
     "execution_count": 54,
     "metadata": {},
     "output_type": "execute_result"
    }
   ],
   "source": [
    "ac_dict"
   ]
  },
  {
   "cell_type": "code",
   "execution_count": 55,
   "metadata": {},
   "outputs": [
    {
     "data": {
      "text/plain": [
       "dict_keys([0, 'Exploits', 'Reconnaissance', 'DoS', 'Generic', 'Shellcode', ' Fuzzers', 'Worms', 'Backdoors', 'Analysis', ' Reconnaissance ', 'Backdoor', ' Fuzzers ', ' Shellcode '])"
      ]
     },
     "execution_count": 55,
     "metadata": {},
     "output_type": "execute_result"
    }
   ],
   "source": [
    "ac_dict.keys()"
   ]
  },
  {
   "cell_type": "code",
   "execution_count": null,
   "metadata": {},
   "outputs": [],
   "source": []
  }
 ],
 "metadata": {
  "kernelspec": {
   "display_name": "Python 3",
   "language": "python",
   "name": "python3"
  },
  "language_info": {
   "codemirror_mode": {
    "name": "ipython",
    "version": 3
   },
   "file_extension": ".py",
   "mimetype": "text/x-python",
   "name": "python",
   "nbconvert_exporter": "python",
   "pygments_lexer": "ipython3",
   "version": "3.7.6"
  }
 },
 "nbformat": 4,
 "nbformat_minor": 4
}
