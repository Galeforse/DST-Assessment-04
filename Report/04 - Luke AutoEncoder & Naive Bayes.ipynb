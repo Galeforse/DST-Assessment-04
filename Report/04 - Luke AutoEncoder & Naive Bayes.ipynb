{
 "cells": [
  {
   "cell_type": "markdown",
   "metadata": {},
   "source": [
    "# Assessment 4 \n"
   ]
  },
  {
   "cell_type": "markdown",
   "metadata": {},
   "source": [
    "# Importing HPC Files\n",
    "\n",
    "Here we just import all of our data sets and we later combine them into one suitable data frame for our Neural Network and then perform some pre-processing of the data."
   ]
  },
  {
   "cell_type": "code",
   "execution_count": 2,
   "metadata": {},
   "outputs": [
    {
     "name": "stderr",
     "output_type": "stream",
     "text": [
      "/Users/lukehawley/opt/anaconda3/lib/python3.7/site-packages/IPython/core/interactiveshell.py:3156: DtypeWarning: Columns (1,3,47) have mixed types.Specify dtype option on import or set low_memory=False.\n",
      "  interactivity=interactivity, compiler=compiler, result=result)\n",
      "/Users/lukehawley/opt/anaconda3/lib/python3.7/site-packages/IPython/core/interactiveshell.py:3156: DtypeWarning: Columns (3,39,47) have mixed types.Specify dtype option on import or set low_memory=False.\n",
      "  interactivity=interactivity, compiler=compiler, result=result)\n"
     ]
    }
   ],
   "source": [
    "import pandas as pd\n",
    "import numpy as np\n",
    "import matplotlib.pyplot as plt\n",
    "np.random.seed(10)\n",
    "import pickle\n",
    "import matplotlib.pyplot as plt\n",
    "\n",
    "\n",
    "df_1 = pd.read_csv(\"https://github.com/Galeforse/DST-Assessment-04/raw/main/Data/UNS1.zip\",header=None)\n",
    "df_2 = pd.read_csv(\"https://github.com/Galeforse/DST-Assessment-04/raw/main/Data/UNS2.zip\",header=None)\n",
    "df_3 = pd.read_csv(\"https://github.com/Galeforse/DST-Assessment-04/raw/main/Data/UNS3.zip\",header=None)\n",
    "df_4 = pd.read_csv(\"https://github.com/Galeforse/DST-Assessment-04/raw/main/Data/UNS4.zip\",header=None)"
   ]
  },
  {
   "cell_type": "markdown",
   "metadata": {},
   "source": [
    "At this point we saw that the header names are not exactly easy to read so we just slightly adjust them from the original headers."
   ]
  },
  {
   "cell_type": "code",
   "execution_count": 3,
   "metadata": {},
   "outputs": [],
   "source": [
    "colnames = (['source_ip', 'source_port', 'dest_ip', 'dest_port', 'proto', 'state', 'duration', 'source_bytes', 'dest_bytes', 'source_ttl',\n",
    "             'dest_ttl', 'source_loss', 'dest_loss', 'service', 'source_load', 'dest_load', 'source_pkts', 'dest_pkts', 'source_TP_win', 'dest_TP_win', \n",
    "             'source_tcp_bn', 'dest_tcp_bn', 'source_mean_sz', 'dest_mean_sz', 'trans_depth', 'res_bdy_len', 'source_jitter', 'dest_jitter', 'start_time',\n",
    "             'last_time', 'source_int_pk_time', 'dest_int_pk_time', 'tcp_rtt', 'synack', 'ackdat', 'is_sm_ips_ports', 'count_state_ttl', \n",
    "             'count_flw_http_mthd', 'is_ftp_login', 'count_ftp_cmd', 'count_srv_source', 'count_srv_dest', 'count_dest_ltm',\n",
    "             'count_source_ltm', 'count_source_destport_ltm', 'count_dest_sourceport_ltm', 'counts_dest_source_ltm', 'attack_cat', 'Label'])\n",
    "df_1.columns = colnames\n",
    "df_2.columns = colnames\n",
    "df_3.columns = colnames\n",
    "df_4.columns = colnames"
   ]
  },
  {
   "cell_type": "code",
   "execution_count": 4,
   "metadata": {},
   "outputs": [],
   "source": [
    "data_frames = [df_1,df_2,df_3,df_4]\n",
    "data = pd.concat(data_frames)"
   ]
  },
  {
   "cell_type": "markdown",
   "metadata": {},
   "source": [
    "# EDA \n",
    "\n",
    "In this section, the aim is to get our data into a suitable format for running a neural network on it. This will involve checking for inf and NaN values, any missingnss in our data, scaling appropriately and ensuring our data is of the correct type to be classified, namely integer or float."
   ]
  },
  {
   "cell_type": "code",
   "execution_count": 5,
   "metadata": {},
   "outputs": [
    {
     "data": {
      "text/html": [
       "<div>\n",
       "<style scoped>\n",
       "    .dataframe tbody tr th:only-of-type {\n",
       "        vertical-align: middle;\n",
       "    }\n",
       "\n",
       "    .dataframe tbody tr th {\n",
       "        vertical-align: top;\n",
       "    }\n",
       "\n",
       "    .dataframe thead th {\n",
       "        text-align: right;\n",
       "    }\n",
       "</style>\n",
       "<table border=\"1\" class=\"dataframe\">\n",
       "  <thead>\n",
       "    <tr style=\"text-align: right;\">\n",
       "      <th></th>\n",
       "      <th>source_ip</th>\n",
       "      <th>source_port</th>\n",
       "      <th>dest_ip</th>\n",
       "      <th>dest_port</th>\n",
       "      <th>proto</th>\n",
       "      <th>state</th>\n",
       "      <th>duration</th>\n",
       "      <th>source_bytes</th>\n",
       "      <th>dest_bytes</th>\n",
       "      <th>source_ttl</th>\n",
       "      <th>...</th>\n",
       "      <th>count_ftp_cmd</th>\n",
       "      <th>count_srv_source</th>\n",
       "      <th>count_srv_dest</th>\n",
       "      <th>count_dest_ltm</th>\n",
       "      <th>count_source_ltm</th>\n",
       "      <th>count_source_destport_ltm</th>\n",
       "      <th>count_dest_sourceport_ltm</th>\n",
       "      <th>counts_dest_source_ltm</th>\n",
       "      <th>attack_cat</th>\n",
       "      <th>Label</th>\n",
       "    </tr>\n",
       "  </thead>\n",
       "  <tbody>\n",
       "    <tr>\n",
       "      <th>0</th>\n",
       "      <td>59.166.0.0</td>\n",
       "      <td>1390</td>\n",
       "      <td>149.171.126.6</td>\n",
       "      <td>53</td>\n",
       "      <td>udp</td>\n",
       "      <td>CON</td>\n",
       "      <td>0.001055</td>\n",
       "      <td>132</td>\n",
       "      <td>164</td>\n",
       "      <td>31</td>\n",
       "      <td>...</td>\n",
       "      <td>0</td>\n",
       "      <td>3</td>\n",
       "      <td>7</td>\n",
       "      <td>1</td>\n",
       "      <td>3</td>\n",
       "      <td>1</td>\n",
       "      <td>1</td>\n",
       "      <td>1</td>\n",
       "      <td>NaN</td>\n",
       "      <td>0</td>\n",
       "    </tr>\n",
       "    <tr>\n",
       "      <th>1</th>\n",
       "      <td>59.166.0.0</td>\n",
       "      <td>33661</td>\n",
       "      <td>149.171.126.9</td>\n",
       "      <td>1024</td>\n",
       "      <td>udp</td>\n",
       "      <td>CON</td>\n",
       "      <td>0.036133</td>\n",
       "      <td>528</td>\n",
       "      <td>304</td>\n",
       "      <td>31</td>\n",
       "      <td>...</td>\n",
       "      <td>0</td>\n",
       "      <td>2</td>\n",
       "      <td>4</td>\n",
       "      <td>2</td>\n",
       "      <td>3</td>\n",
       "      <td>1</td>\n",
       "      <td>1</td>\n",
       "      <td>2</td>\n",
       "      <td>NaN</td>\n",
       "      <td>0</td>\n",
       "    </tr>\n",
       "    <tr>\n",
       "      <th>2</th>\n",
       "      <td>59.166.0.6</td>\n",
       "      <td>1464</td>\n",
       "      <td>149.171.126.7</td>\n",
       "      <td>53</td>\n",
       "      <td>udp</td>\n",
       "      <td>CON</td>\n",
       "      <td>0.001119</td>\n",
       "      <td>146</td>\n",
       "      <td>178</td>\n",
       "      <td>31</td>\n",
       "      <td>...</td>\n",
       "      <td>0</td>\n",
       "      <td>12</td>\n",
       "      <td>8</td>\n",
       "      <td>1</td>\n",
       "      <td>2</td>\n",
       "      <td>2</td>\n",
       "      <td>1</td>\n",
       "      <td>1</td>\n",
       "      <td>NaN</td>\n",
       "      <td>0</td>\n",
       "    </tr>\n",
       "    <tr>\n",
       "      <th>3</th>\n",
       "      <td>59.166.0.5</td>\n",
       "      <td>3593</td>\n",
       "      <td>149.171.126.5</td>\n",
       "      <td>53</td>\n",
       "      <td>udp</td>\n",
       "      <td>CON</td>\n",
       "      <td>0.001209</td>\n",
       "      <td>132</td>\n",
       "      <td>164</td>\n",
       "      <td>31</td>\n",
       "      <td>...</td>\n",
       "      <td>0</td>\n",
       "      <td>6</td>\n",
       "      <td>9</td>\n",
       "      <td>1</td>\n",
       "      <td>1</td>\n",
       "      <td>1</td>\n",
       "      <td>1</td>\n",
       "      <td>1</td>\n",
       "      <td>NaN</td>\n",
       "      <td>0</td>\n",
       "    </tr>\n",
       "    <tr>\n",
       "      <th>4</th>\n",
       "      <td>59.166.0.3</td>\n",
       "      <td>49664</td>\n",
       "      <td>149.171.126.0</td>\n",
       "      <td>53</td>\n",
       "      <td>udp</td>\n",
       "      <td>CON</td>\n",
       "      <td>0.001169</td>\n",
       "      <td>146</td>\n",
       "      <td>178</td>\n",
       "      <td>31</td>\n",
       "      <td>...</td>\n",
       "      <td>0</td>\n",
       "      <td>7</td>\n",
       "      <td>9</td>\n",
       "      <td>1</td>\n",
       "      <td>1</td>\n",
       "      <td>1</td>\n",
       "      <td>1</td>\n",
       "      <td>1</td>\n",
       "      <td>NaN</td>\n",
       "      <td>0</td>\n",
       "    </tr>\n",
       "  </tbody>\n",
       "</table>\n",
       "<p>5 rows × 49 columns</p>\n",
       "</div>"
      ],
      "text/plain": [
       "    source_ip source_port        dest_ip dest_port proto state  duration  \\\n",
       "0  59.166.0.0        1390  149.171.126.6        53   udp   CON  0.001055   \n",
       "1  59.166.0.0       33661  149.171.126.9      1024   udp   CON  0.036133   \n",
       "2  59.166.0.6        1464  149.171.126.7        53   udp   CON  0.001119   \n",
       "3  59.166.0.5        3593  149.171.126.5        53   udp   CON  0.001209   \n",
       "4  59.166.0.3       49664  149.171.126.0        53   udp   CON  0.001169   \n",
       "\n",
       "   source_bytes  dest_bytes  source_ttl  ...  count_ftp_cmd  count_srv_source  \\\n",
       "0           132         164          31  ...              0                 3   \n",
       "1           528         304          31  ...              0                 2   \n",
       "2           146         178          31  ...              0                12   \n",
       "3           132         164          31  ...              0                 6   \n",
       "4           146         178          31  ...              0                 7   \n",
       "\n",
       "   count_srv_dest count_dest_ltm  count_source_ltm  count_source_destport_ltm  \\\n",
       "0               7              1                 3                          1   \n",
       "1               4              2                 3                          1   \n",
       "2               8              1                 2                          2   \n",
       "3               9              1                 1                          1   \n",
       "4               9              1                 1                          1   \n",
       "\n",
       "   count_dest_sourceport_ltm  counts_dest_source_ltm  attack_cat  Label  \n",
       "0                          1                       1         NaN      0  \n",
       "1                          1                       2         NaN      0  \n",
       "2                          1                       1         NaN      0  \n",
       "3                          1                       1         NaN      0  \n",
       "4                          1                       1         NaN      0  \n",
       "\n",
       "[5 rows x 49 columns]"
      ]
     },
     "execution_count": 5,
     "metadata": {},
     "output_type": "execute_result"
    }
   ],
   "source": [
    "data.head()"
   ]
  },
  {
   "cell_type": "code",
   "execution_count": 6,
   "metadata": {},
   "outputs": [
    {
     "name": "stdout",
     "output_type": "stream",
     "text": [
      "Data Quality Report\n"
     ]
    },
    {
     "data": {
      "text/html": [
       "<div>\n",
       "<style scoped>\n",
       "    .dataframe tbody tr th:only-of-type {\n",
       "        vertical-align: middle;\n",
       "    }\n",
       "\n",
       "    .dataframe tbody tr th {\n",
       "        vertical-align: top;\n",
       "    }\n",
       "\n",
       "    .dataframe thead th {\n",
       "        text-align: right;\n",
       "    }\n",
       "</style>\n",
       "<table border=\"1\" class=\"dataframe\">\n",
       "  <thead>\n",
       "    <tr style=\"text-align: right;\">\n",
       "      <th></th>\n",
       "      <th>Data Type</th>\n",
       "      <th>Unique Values</th>\n",
       "      <th>Missing Values</th>\n",
       "    </tr>\n",
       "  </thead>\n",
       "  <tbody>\n",
       "    <tr>\n",
       "      <th>source_ip</th>\n",
       "      <td>object</td>\n",
       "      <td>43</td>\n",
       "      <td>0</td>\n",
       "    </tr>\n",
       "    <tr>\n",
       "      <th>source_port</th>\n",
       "      <td>object</td>\n",
       "      <td>100341</td>\n",
       "      <td>0</td>\n",
       "    </tr>\n",
       "    <tr>\n",
       "      <th>dest_ip</th>\n",
       "      <td>object</td>\n",
       "      <td>47</td>\n",
       "      <td>0</td>\n",
       "    </tr>\n",
       "    <tr>\n",
       "      <th>dest_port</th>\n",
       "      <td>object</td>\n",
       "      <td>128297</td>\n",
       "      <td>0</td>\n",
       "    </tr>\n",
       "    <tr>\n",
       "      <th>proto</th>\n",
       "      <td>object</td>\n",
       "      <td>135</td>\n",
       "      <td>0</td>\n",
       "    </tr>\n",
       "    <tr>\n",
       "      <th>state</th>\n",
       "      <td>object</td>\n",
       "      <td>16</td>\n",
       "      <td>0</td>\n",
       "    </tr>\n",
       "    <tr>\n",
       "      <th>duration</th>\n",
       "      <td>float64</td>\n",
       "      <td>587303</td>\n",
       "      <td>0</td>\n",
       "    </tr>\n",
       "    <tr>\n",
       "      <th>source_bytes</th>\n",
       "      <td>int64</td>\n",
       "      <td>14155</td>\n",
       "      <td>0</td>\n",
       "    </tr>\n",
       "    <tr>\n",
       "      <th>dest_bytes</th>\n",
       "      <td>int64</td>\n",
       "      <td>19166</td>\n",
       "      <td>0</td>\n",
       "    </tr>\n",
       "    <tr>\n",
       "      <th>source_ttl</th>\n",
       "      <td>int64</td>\n",
       "      <td>13</td>\n",
       "      <td>0</td>\n",
       "    </tr>\n",
       "    <tr>\n",
       "      <th>dest_ttl</th>\n",
       "      <td>int64</td>\n",
       "      <td>11</td>\n",
       "      <td>0</td>\n",
       "    </tr>\n",
       "    <tr>\n",
       "      <th>source_loss</th>\n",
       "      <td>int64</td>\n",
       "      <td>544</td>\n",
       "      <td>0</td>\n",
       "    </tr>\n",
       "    <tr>\n",
       "      <th>dest_loss</th>\n",
       "      <td>int64</td>\n",
       "      <td>707</td>\n",
       "      <td>0</td>\n",
       "    </tr>\n",
       "    <tr>\n",
       "      <th>service</th>\n",
       "      <td>object</td>\n",
       "      <td>13</td>\n",
       "      <td>0</td>\n",
       "    </tr>\n",
       "    <tr>\n",
       "      <th>source_load</th>\n",
       "      <td>float64</td>\n",
       "      <td>1100258</td>\n",
       "      <td>0</td>\n",
       "    </tr>\n",
       "    <tr>\n",
       "      <th>dest_load</th>\n",
       "      <td>float64</td>\n",
       "      <td>1173739</td>\n",
       "      <td>0</td>\n",
       "    </tr>\n",
       "    <tr>\n",
       "      <th>source_pkts</th>\n",
       "      <td>int64</td>\n",
       "      <td>933</td>\n",
       "      <td>0</td>\n",
       "    </tr>\n",
       "    <tr>\n",
       "      <th>dest_pkts</th>\n",
       "      <td>int64</td>\n",
       "      <td>1255</td>\n",
       "      <td>0</td>\n",
       "    </tr>\n",
       "    <tr>\n",
       "      <th>source_TP_win</th>\n",
       "      <td>int64</td>\n",
       "      <td>36</td>\n",
       "      <td>0</td>\n",
       "    </tr>\n",
       "    <tr>\n",
       "      <th>dest_TP_win</th>\n",
       "      <td>int64</td>\n",
       "      <td>32</td>\n",
       "      <td>0</td>\n",
       "    </tr>\n",
       "    <tr>\n",
       "      <th>source_tcp_bn</th>\n",
       "      <td>int64</td>\n",
       "      <td>1429571</td>\n",
       "      <td>0</td>\n",
       "    </tr>\n",
       "    <tr>\n",
       "      <th>dest_tcp_bn</th>\n",
       "      <td>int64</td>\n",
       "      <td>1429031</td>\n",
       "      <td>0</td>\n",
       "    </tr>\n",
       "    <tr>\n",
       "      <th>source_mean_sz</th>\n",
       "      <td>int64</td>\n",
       "      <td>1415</td>\n",
       "      <td>0</td>\n",
       "    </tr>\n",
       "    <tr>\n",
       "      <th>dest_mean_sz</th>\n",
       "      <td>int64</td>\n",
       "      <td>1417</td>\n",
       "      <td>0</td>\n",
       "    </tr>\n",
       "    <tr>\n",
       "      <th>trans_depth</th>\n",
       "      <td>int64</td>\n",
       "      <td>14</td>\n",
       "      <td>0</td>\n",
       "    </tr>\n",
       "    <tr>\n",
       "      <th>res_bdy_len</th>\n",
       "      <td>int64</td>\n",
       "      <td>2907</td>\n",
       "      <td>0</td>\n",
       "    </tr>\n",
       "    <tr>\n",
       "      <th>source_jitter</th>\n",
       "      <td>float64</td>\n",
       "      <td>1381001</td>\n",
       "      <td>0</td>\n",
       "    </tr>\n",
       "    <tr>\n",
       "      <th>dest_jitter</th>\n",
       "      <td>float64</td>\n",
       "      <td>1424689</td>\n",
       "      <td>0</td>\n",
       "    </tr>\n",
       "    <tr>\n",
       "      <th>start_time</th>\n",
       "      <td>int64</td>\n",
       "      <td>85348</td>\n",
       "      <td>0</td>\n",
       "    </tr>\n",
       "    <tr>\n",
       "      <th>last_time</th>\n",
       "      <td>int64</td>\n",
       "      <td>85361</td>\n",
       "      <td>0</td>\n",
       "    </tr>\n",
       "    <tr>\n",
       "      <th>source_int_pk_time</th>\n",
       "      <td>float64</td>\n",
       "      <td>975275</td>\n",
       "      <td>0</td>\n",
       "    </tr>\n",
       "    <tr>\n",
       "      <th>dest_int_pk_time</th>\n",
       "      <td>float64</td>\n",
       "      <td>960353</td>\n",
       "      <td>0</td>\n",
       "    </tr>\n",
       "    <tr>\n",
       "      <th>tcp_rtt</th>\n",
       "      <td>float64</td>\n",
       "      <td>76931</td>\n",
       "      <td>0</td>\n",
       "    </tr>\n",
       "    <tr>\n",
       "      <th>synack</th>\n",
       "      <td>float64</td>\n",
       "      <td>66997</td>\n",
       "      <td>0</td>\n",
       "    </tr>\n",
       "    <tr>\n",
       "      <th>ackdat</th>\n",
       "      <td>float64</td>\n",
       "      <td>60844</td>\n",
       "      <td>0</td>\n",
       "    </tr>\n",
       "    <tr>\n",
       "      <th>is_sm_ips_ports</th>\n",
       "      <td>int64</td>\n",
       "      <td>2</td>\n",
       "      <td>0</td>\n",
       "    </tr>\n",
       "    <tr>\n",
       "      <th>count_state_ttl</th>\n",
       "      <td>int64</td>\n",
       "      <td>7</td>\n",
       "      <td>0</td>\n",
       "    </tr>\n",
       "    <tr>\n",
       "      <th>count_flw_http_mthd</th>\n",
       "      <td>float64</td>\n",
       "      <td>16</td>\n",
       "      <td>1348145</td>\n",
       "    </tr>\n",
       "    <tr>\n",
       "      <th>is_ftp_login</th>\n",
       "      <td>float64</td>\n",
       "      <td>4</td>\n",
       "      <td>1429879</td>\n",
       "    </tr>\n",
       "    <tr>\n",
       "      <th>count_ftp_cmd</th>\n",
       "      <td>object</td>\n",
       "      <td>13</td>\n",
       "      <td>0</td>\n",
       "    </tr>\n",
       "    <tr>\n",
       "      <th>count_srv_source</th>\n",
       "      <td>int64</td>\n",
       "      <td>65</td>\n",
       "      <td>0</td>\n",
       "    </tr>\n",
       "    <tr>\n",
       "      <th>count_srv_dest</th>\n",
       "      <td>int64</td>\n",
       "      <td>66</td>\n",
       "      <td>0</td>\n",
       "    </tr>\n",
       "    <tr>\n",
       "      <th>count_dest_ltm</th>\n",
       "      <td>int64</td>\n",
       "      <td>62</td>\n",
       "      <td>0</td>\n",
       "    </tr>\n",
       "    <tr>\n",
       "      <th>count_source_ltm</th>\n",
       "      <td>int64</td>\n",
       "      <td>62</td>\n",
       "      <td>0</td>\n",
       "    </tr>\n",
       "    <tr>\n",
       "      <th>count_source_destport_ltm</th>\n",
       "      <td>int64</td>\n",
       "      <td>62</td>\n",
       "      <td>0</td>\n",
       "    </tr>\n",
       "    <tr>\n",
       "      <th>count_dest_sourceport_ltm</th>\n",
       "      <td>int64</td>\n",
       "      <td>55</td>\n",
       "      <td>0</td>\n",
       "    </tr>\n",
       "    <tr>\n",
       "      <th>counts_dest_source_ltm</th>\n",
       "      <td>int64</td>\n",
       "      <td>65</td>\n",
       "      <td>0</td>\n",
       "    </tr>\n",
       "    <tr>\n",
       "      <th>attack_cat</th>\n",
       "      <td>object</td>\n",
       "      <td>13</td>\n",
       "      <td>2218764</td>\n",
       "    </tr>\n",
       "    <tr>\n",
       "      <th>Label</th>\n",
       "      <td>int64</td>\n",
       "      <td>2</td>\n",
       "      <td>0</td>\n",
       "    </tr>\n",
       "  </tbody>\n",
       "</table>\n",
       "</div>"
      ],
      "text/plain": [
       "                          Data Type Unique Values  Missing Values\n",
       "source_ip                    object            43               0\n",
       "source_port                  object        100341               0\n",
       "dest_ip                      object            47               0\n",
       "dest_port                    object        128297               0\n",
       "proto                        object           135               0\n",
       "state                        object            16               0\n",
       "duration                    float64        587303               0\n",
       "source_bytes                  int64         14155               0\n",
       "dest_bytes                    int64         19166               0\n",
       "source_ttl                    int64            13               0\n",
       "dest_ttl                      int64            11               0\n",
       "source_loss                   int64           544               0\n",
       "dest_loss                     int64           707               0\n",
       "service                      object            13               0\n",
       "source_load                 float64       1100258               0\n",
       "dest_load                   float64       1173739               0\n",
       "source_pkts                   int64           933               0\n",
       "dest_pkts                     int64          1255               0\n",
       "source_TP_win                 int64            36               0\n",
       "dest_TP_win                   int64            32               0\n",
       "source_tcp_bn                 int64       1429571               0\n",
       "dest_tcp_bn                   int64       1429031               0\n",
       "source_mean_sz                int64          1415               0\n",
       "dest_mean_sz                  int64          1417               0\n",
       "trans_depth                   int64            14               0\n",
       "res_bdy_len                   int64          2907               0\n",
       "source_jitter               float64       1381001               0\n",
       "dest_jitter                 float64       1424689               0\n",
       "start_time                    int64         85348               0\n",
       "last_time                     int64         85361               0\n",
       "source_int_pk_time          float64        975275               0\n",
       "dest_int_pk_time            float64        960353               0\n",
       "tcp_rtt                     float64         76931               0\n",
       "synack                      float64         66997               0\n",
       "ackdat                      float64         60844               0\n",
       "is_sm_ips_ports               int64             2               0\n",
       "count_state_ttl               int64             7               0\n",
       "count_flw_http_mthd         float64            16         1348145\n",
       "is_ftp_login                float64             4         1429879\n",
       "count_ftp_cmd                object            13               0\n",
       "count_srv_source              int64            65               0\n",
       "count_srv_dest                int64            66               0\n",
       "count_dest_ltm                int64            62               0\n",
       "count_source_ltm              int64            62               0\n",
       "count_source_destport_ltm     int64            62               0\n",
       "count_dest_sourceport_ltm     int64            55               0\n",
       "counts_dest_source_ltm        int64            65               0\n",
       "attack_cat                   object            13         2218764\n",
       "Label                         int64             2               0"
      ]
     },
     "execution_count": 6,
     "metadata": {},
     "output_type": "execute_result"
    }
   ],
   "source": [
    "#DataFrame with columns\n",
    "columns = pd.DataFrame(list(data.columns.values[1:]))\n",
    "\n",
    "#DataFrame with data types\n",
    "data_types = pd.DataFrame(data.dtypes, columns=['Data Type'])\n",
    "\n",
    "#DataFrame with unique values\n",
    "unique_value_counts = pd.DataFrame(columns=['Unique Values'])\n",
    "for v in list(data.columns.values):\n",
    "    unique_value_counts.loc[v] = [data[v].nunique()]\n",
    "\n",
    "missing_data_counts = pd.DataFrame(data.isnull().sum(), columns=['Missing Values'])\n",
    "data_quality_report = data_types.join(unique_value_counts).join(missing_data_counts)\n",
    "print('Data Quality Report')\n",
    "data_quality_report"
   ]
  },
  {
   "cell_type": "markdown",
   "metadata": {},
   "source": [
    "From this we can see that there are a number of columns of the wrong data type and several with missing values. Attack_cat is expected to have NaN values as this was touched upon into the introduction for the data. From Alex's analysis we know that count_flw_http_mthd and is_ftp_login are missing values and have NaN values which we know how to fix. \n",
    "\n",
    "Let us first try and replace some missing values."
   ]
  },
  {
   "cell_type": "markdown",
   "metadata": {},
   "source": [
    "From the description for is_ftp_login we see that the values should only be 0 or 1 but we have 2 and 4 and we are not quite sure why but since its median is 0 we will jsut impute the data as 0. Similarily for Count_flw_http_mthd, its median is also 0 so we also impute missing values as 0."
   ]
  },
  {
   "cell_type": "code",
   "execution_count": 7,
   "metadata": {},
   "outputs": [],
   "source": [
    "data = data.fillna(0)"
   ]
  },
  {
   "cell_type": "code",
   "execution_count": 8,
   "metadata": {},
   "outputs": [
    {
     "data": {
      "text/plain": [
       "count_flw_http_mthd\n",
       "0.0     2334936\n",
       "1.0      188008\n",
       "2.0         588\n",
       "3.0         738\n",
       "4.0        6564\n",
       "5.0         430\n",
       "6.0        7902\n",
       "8.0          56\n",
       "9.0         270\n",
       "10.0         30\n",
       "12.0        132\n",
       "14.0        224\n",
       "16.0         48\n",
       "25.0         25\n",
       "30.0         60\n",
       "36.0         36\n",
       "dtype: int64"
      ]
     },
     "execution_count": 8,
     "metadata": {},
     "output_type": "execute_result"
    }
   ],
   "source": [
    "data.groupby('count_flw_http_mthd').size()"
   ]
  },
  {
   "cell_type": "code",
   "execution_count": 9,
   "metadata": {},
   "outputs": [
    {
     "data": {
      "text/plain": [
       "is_ftp_login\n",
       "0.0    2496472\n",
       "1.0      43389\n",
       "2.0         30\n",
       "4.0        156\n",
       "dtype: int64"
      ]
     },
     "execution_count": 9,
     "metadata": {},
     "output_type": "execute_result"
    }
   ],
   "source": [
    "data.groupby('is_ftp_login').size()"
   ]
  },
  {
   "cell_type": "markdown",
   "metadata": {},
   "source": [
    "Lets see how count_ftp_cmd is made up."
   ]
  },
  {
   "cell_type": "code",
   "execution_count": 10,
   "metadata": {},
   "outputs": [
    {
     "data": {
      "text/plain": [
       "count_ftp_cmd\n",
       "0    1056339\n",
       "1      17087\n",
       "2       1234\n",
       "3        729\n",
       "4        804\n",
       "5        290\n",
       "6        332\n",
       "8         18\n",
       "     1429879\n",
       "0      10159\n",
       "1      22990\n",
       "2         30\n",
       "4        156\n",
       "dtype: int64"
      ]
     },
     "execution_count": 10,
     "metadata": {},
     "output_type": "execute_result"
    }
   ],
   "source": [
    "data.groupby('count_ftp_cmd').size()\n"
   ]
  },
  {
   "cell_type": "markdown",
   "metadata": {},
   "source": [
    "As there are just missing values we simply replace them with 0."
   ]
  },
  {
   "cell_type": "code",
   "execution_count": 11,
   "metadata": {
    "scrolled": true
   },
   "outputs": [
    {
     "data": {
      "text/plain": [
       "count_ftp_cmd\n",
       "0    2486218\n",
       "1      17087\n",
       "2       1234\n",
       "3        729\n",
       "4        804\n",
       "5        290\n",
       "6        332\n",
       "8         18\n",
       "0      10159\n",
       "1      22990\n",
       "2         30\n",
       "4        156\n",
       "dtype: int64"
      ]
     },
     "execution_count": 11,
     "metadata": {},
     "output_type": "execute_result"
    }
   ],
   "source": [
    "data['count_ftp_cmd'] = data['count_ftp_cmd'].replace(' ',0)\n",
    "data.groupby('count_ftp_cmd').size()\n"
   ]
  },
  {
   "cell_type": "code",
   "execution_count": 12,
   "metadata": {},
   "outputs": [],
   "source": [
    "data['attack_cat'] = data['attack_cat'].map({'Normal': 'Normal', 'Exploits': 'Exploits', ' Fuzzers ': 'Fuzzers', 'DoS': 'DoS',\n",
    "                                          ' Reconnaissance ': 'Reconnaissance', ' Fuzzers': 'Fuzzers', 'Analysis': 'Analysis',\n",
    "                                         'Backdoor': 'Backdoor', 'Reconnaissance': 'Reconnaissance',  ' Shellcode ': 'Shellcode',\n",
    "                                         'Backdoors': 'Backdoor', 'Shellcode': 'Shellcode',  'Worms': 'Worms', 'Generic': 'Generic'})"
   ]
  },
  {
   "cell_type": "markdown",
   "metadata": {},
   "source": [
    "Now we must replace all the object data types to either float or integer types. I tried using to.numeric from pandas but due to the values we have, this proved more hassle than it was worth, especially given Matt has a tried and tested method which involes mapping the data to new columns and removing the old columns as follows."
   ]
  },
  {
   "cell_type": "code",
   "execution_count": 13,
   "metadata": {},
   "outputs": [],
   "source": [
    "data_source_ip = pd.DataFrame(data['source_ip'])\n",
    "data_source_port = pd.DataFrame(data['source_port'])\n",
    "data_dest_ip = pd.DataFrame(data['dest_ip'])\n",
    "data_dest_port = pd.DataFrame(data['dest_port'])\n",
    "data_proto = pd.DataFrame(data['proto'])\n",
    "data_state = pd.DataFrame(data['state'])\n",
    "data_service = pd.DataFrame(data['service'])\n",
    "data_count_ftp_cmd = pd.DataFrame(data['count_ftp_cmd'])\n",
    "data_attack_cat = pd.DataFrame(data['attack_cat'])"
   ]
  },
  {
   "cell_type": "code",
   "execution_count": 14,
   "metadata": {},
   "outputs": [],
   "source": [
    "sips = data.source_ip.unique()\n",
    "sip_dict = dict(zip(sips,range(len(sips))))\n",
    "\n",
    "sp = data.source_port.unique()\n",
    "sp_dict = dict(zip(sp,range(len(sp))))\n",
    "               \n",
    "dips = data.dest_ip.unique()\n",
    "dip_dict = dict(zip(dips,range(len(dips))))\n",
    "\n",
    "dp = data.dest_port.unique()\n",
    "dp_dict = dict(zip(dp,range(len(dp))))\n",
    "\n",
    "p = data.proto.unique()\n",
    "p_dict = dict(zip(p,range(len(p))))\n",
    "\n",
    "states = data.state.unique()\n",
    "state_dict = dict(zip(states,range(len(states))))\n",
    "\n",
    "services = data.service.unique()\n",
    "service_dict = dict(zip(services,range(len(services))))\n",
    "\n",
    "cfc = data.count_ftp_cmd.unique()\n",
    "cfc_dict = dict(zip(cfc,range(len(cfc))))\n",
    "\n",
    "ac = data.attack_cat.unique()\n",
    "ac_dict = dict(zip(ac,range(len(ac))))"
   ]
  },
  {
   "cell_type": "code",
   "execution_count": 15,
   "metadata": {},
   "outputs": [],
   "source": [
    "#Mapping the dictionaries to data frames \n",
    "data['source_ip_int'] = data['source_ip'].map(sip_dict)\n",
    "data['source_port_int'] = data['source_port'].map(sp_dict)\n",
    "data['dest_ip_int'] = data['dest_ip'].map(dip_dict)\n",
    "data['dest_port_int'] = data['dest_port'].map(dp_dict)\n",
    "data['proto_int'] = data['proto'].map(p_dict)\n",
    "data['state_int'] = data['state'].map(state_dict)\n",
    "data['service_int'] = data['service'].map(service_dict)\n",
    "data['count_ftp_cmd_int'] = data['count_ftp_cmd'].map(cfc_dict)\n",
    "data['attack_cat_int'] = data['attack_cat'].map(ac_dict)"
   ]
  },
  {
   "cell_type": "code",
   "execution_count": 16,
   "metadata": {},
   "outputs": [],
   "source": [
    "#Reomving the old data frames\n",
    "data = data.drop('source_ip',axis=1)\n",
    "data = data.drop('source_port',axis=1)\n",
    "data = data.drop('dest_ip',axis=1)\n",
    "data = data.drop('dest_port',axis=1)\n",
    "data = data.drop('proto',axis=1)\n",
    "data = data.drop('state',axis=1)\n",
    "data = data.drop('service',axis=1)\n",
    "data = data.drop('count_ftp_cmd',axis=1)\n",
    "data = data.drop('attack_cat',axis=1)"
   ]
  },
  {
   "cell_type": "code",
   "execution_count": 17,
   "metadata": {},
   "outputs": [],
   "source": [
    "Y = data['attack_cat_int']\n",
    "X = data.drop('attack_cat_int',axis=1)"
   ]
  },
  {
   "cell_type": "code",
   "execution_count": 18,
   "metadata": {
    "scrolled": true
   },
   "outputs": [
    {
     "name": "stdout",
     "output_type": "stream",
     "text": [
      "Data Quality Report\n"
     ]
    },
    {
     "data": {
      "text/html": [
       "<div>\n",
       "<style scoped>\n",
       "    .dataframe tbody tr th:only-of-type {\n",
       "        vertical-align: middle;\n",
       "    }\n",
       "\n",
       "    .dataframe tbody tr th {\n",
       "        vertical-align: top;\n",
       "    }\n",
       "\n",
       "    .dataframe thead th {\n",
       "        text-align: right;\n",
       "    }\n",
       "</style>\n",
       "<table border=\"1\" class=\"dataframe\">\n",
       "  <thead>\n",
       "    <tr style=\"text-align: right;\">\n",
       "      <th></th>\n",
       "      <th>Data Type</th>\n",
       "      <th>Unique Values</th>\n",
       "      <th>Missing Values</th>\n",
       "    </tr>\n",
       "  </thead>\n",
       "  <tbody>\n",
       "    <tr>\n",
       "      <th>duration</th>\n",
       "      <td>float64</td>\n",
       "      <td>587303</td>\n",
       "      <td>0</td>\n",
       "    </tr>\n",
       "    <tr>\n",
       "      <th>source_bytes</th>\n",
       "      <td>int64</td>\n",
       "      <td>14155</td>\n",
       "      <td>0</td>\n",
       "    </tr>\n",
       "    <tr>\n",
       "      <th>dest_bytes</th>\n",
       "      <td>int64</td>\n",
       "      <td>19166</td>\n",
       "      <td>0</td>\n",
       "    </tr>\n",
       "    <tr>\n",
       "      <th>source_ttl</th>\n",
       "      <td>int64</td>\n",
       "      <td>13</td>\n",
       "      <td>0</td>\n",
       "    </tr>\n",
       "    <tr>\n",
       "      <th>dest_ttl</th>\n",
       "      <td>int64</td>\n",
       "      <td>11</td>\n",
       "      <td>0</td>\n",
       "    </tr>\n",
       "    <tr>\n",
       "      <th>source_loss</th>\n",
       "      <td>int64</td>\n",
       "      <td>544</td>\n",
       "      <td>0</td>\n",
       "    </tr>\n",
       "    <tr>\n",
       "      <th>dest_loss</th>\n",
       "      <td>int64</td>\n",
       "      <td>707</td>\n",
       "      <td>0</td>\n",
       "    </tr>\n",
       "    <tr>\n",
       "      <th>source_load</th>\n",
       "      <td>float64</td>\n",
       "      <td>1100258</td>\n",
       "      <td>0</td>\n",
       "    </tr>\n",
       "    <tr>\n",
       "      <th>dest_load</th>\n",
       "      <td>float64</td>\n",
       "      <td>1173739</td>\n",
       "      <td>0</td>\n",
       "    </tr>\n",
       "    <tr>\n",
       "      <th>source_pkts</th>\n",
       "      <td>int64</td>\n",
       "      <td>933</td>\n",
       "      <td>0</td>\n",
       "    </tr>\n",
       "    <tr>\n",
       "      <th>dest_pkts</th>\n",
       "      <td>int64</td>\n",
       "      <td>1255</td>\n",
       "      <td>0</td>\n",
       "    </tr>\n",
       "    <tr>\n",
       "      <th>source_TP_win</th>\n",
       "      <td>int64</td>\n",
       "      <td>36</td>\n",
       "      <td>0</td>\n",
       "    </tr>\n",
       "    <tr>\n",
       "      <th>dest_TP_win</th>\n",
       "      <td>int64</td>\n",
       "      <td>32</td>\n",
       "      <td>0</td>\n",
       "    </tr>\n",
       "    <tr>\n",
       "      <th>source_tcp_bn</th>\n",
       "      <td>int64</td>\n",
       "      <td>1429571</td>\n",
       "      <td>0</td>\n",
       "    </tr>\n",
       "    <tr>\n",
       "      <th>dest_tcp_bn</th>\n",
       "      <td>int64</td>\n",
       "      <td>1429031</td>\n",
       "      <td>0</td>\n",
       "    </tr>\n",
       "    <tr>\n",
       "      <th>source_mean_sz</th>\n",
       "      <td>int64</td>\n",
       "      <td>1415</td>\n",
       "      <td>0</td>\n",
       "    </tr>\n",
       "    <tr>\n",
       "      <th>dest_mean_sz</th>\n",
       "      <td>int64</td>\n",
       "      <td>1417</td>\n",
       "      <td>0</td>\n",
       "    </tr>\n",
       "    <tr>\n",
       "      <th>trans_depth</th>\n",
       "      <td>int64</td>\n",
       "      <td>14</td>\n",
       "      <td>0</td>\n",
       "    </tr>\n",
       "    <tr>\n",
       "      <th>res_bdy_len</th>\n",
       "      <td>int64</td>\n",
       "      <td>2907</td>\n",
       "      <td>0</td>\n",
       "    </tr>\n",
       "    <tr>\n",
       "      <th>source_jitter</th>\n",
       "      <td>float64</td>\n",
       "      <td>1381001</td>\n",
       "      <td>0</td>\n",
       "    </tr>\n",
       "    <tr>\n",
       "      <th>dest_jitter</th>\n",
       "      <td>float64</td>\n",
       "      <td>1424689</td>\n",
       "      <td>0</td>\n",
       "    </tr>\n",
       "    <tr>\n",
       "      <th>start_time</th>\n",
       "      <td>int64</td>\n",
       "      <td>85348</td>\n",
       "      <td>0</td>\n",
       "    </tr>\n",
       "    <tr>\n",
       "      <th>last_time</th>\n",
       "      <td>int64</td>\n",
       "      <td>85361</td>\n",
       "      <td>0</td>\n",
       "    </tr>\n",
       "    <tr>\n",
       "      <th>source_int_pk_time</th>\n",
       "      <td>float64</td>\n",
       "      <td>975275</td>\n",
       "      <td>0</td>\n",
       "    </tr>\n",
       "    <tr>\n",
       "      <th>dest_int_pk_time</th>\n",
       "      <td>float64</td>\n",
       "      <td>960353</td>\n",
       "      <td>0</td>\n",
       "    </tr>\n",
       "    <tr>\n",
       "      <th>tcp_rtt</th>\n",
       "      <td>float64</td>\n",
       "      <td>76931</td>\n",
       "      <td>0</td>\n",
       "    </tr>\n",
       "    <tr>\n",
       "      <th>synack</th>\n",
       "      <td>float64</td>\n",
       "      <td>66997</td>\n",
       "      <td>0</td>\n",
       "    </tr>\n",
       "    <tr>\n",
       "      <th>ackdat</th>\n",
       "      <td>float64</td>\n",
       "      <td>60844</td>\n",
       "      <td>0</td>\n",
       "    </tr>\n",
       "    <tr>\n",
       "      <th>is_sm_ips_ports</th>\n",
       "      <td>int64</td>\n",
       "      <td>2</td>\n",
       "      <td>0</td>\n",
       "    </tr>\n",
       "    <tr>\n",
       "      <th>count_state_ttl</th>\n",
       "      <td>int64</td>\n",
       "      <td>7</td>\n",
       "      <td>0</td>\n",
       "    </tr>\n",
       "    <tr>\n",
       "      <th>count_flw_http_mthd</th>\n",
       "      <td>float64</td>\n",
       "      <td>16</td>\n",
       "      <td>0</td>\n",
       "    </tr>\n",
       "    <tr>\n",
       "      <th>is_ftp_login</th>\n",
       "      <td>float64</td>\n",
       "      <td>4</td>\n",
       "      <td>0</td>\n",
       "    </tr>\n",
       "    <tr>\n",
       "      <th>count_srv_source</th>\n",
       "      <td>int64</td>\n",
       "      <td>65</td>\n",
       "      <td>0</td>\n",
       "    </tr>\n",
       "    <tr>\n",
       "      <th>count_srv_dest</th>\n",
       "      <td>int64</td>\n",
       "      <td>66</td>\n",
       "      <td>0</td>\n",
       "    </tr>\n",
       "    <tr>\n",
       "      <th>count_dest_ltm</th>\n",
       "      <td>int64</td>\n",
       "      <td>62</td>\n",
       "      <td>0</td>\n",
       "    </tr>\n",
       "    <tr>\n",
       "      <th>count_source_ltm</th>\n",
       "      <td>int64</td>\n",
       "      <td>62</td>\n",
       "      <td>0</td>\n",
       "    </tr>\n",
       "    <tr>\n",
       "      <th>count_source_destport_ltm</th>\n",
       "      <td>int64</td>\n",
       "      <td>62</td>\n",
       "      <td>0</td>\n",
       "    </tr>\n",
       "    <tr>\n",
       "      <th>count_dest_sourceport_ltm</th>\n",
       "      <td>int64</td>\n",
       "      <td>55</td>\n",
       "      <td>0</td>\n",
       "    </tr>\n",
       "    <tr>\n",
       "      <th>counts_dest_source_ltm</th>\n",
       "      <td>int64</td>\n",
       "      <td>65</td>\n",
       "      <td>0</td>\n",
       "    </tr>\n",
       "    <tr>\n",
       "      <th>Label</th>\n",
       "      <td>int64</td>\n",
       "      <td>2</td>\n",
       "      <td>0</td>\n",
       "    </tr>\n",
       "    <tr>\n",
       "      <th>source_ip_int</th>\n",
       "      <td>int64</td>\n",
       "      <td>43</td>\n",
       "      <td>0</td>\n",
       "    </tr>\n",
       "    <tr>\n",
       "      <th>source_port_int</th>\n",
       "      <td>int64</td>\n",
       "      <td>100341</td>\n",
       "      <td>0</td>\n",
       "    </tr>\n",
       "    <tr>\n",
       "      <th>dest_ip_int</th>\n",
       "      <td>int64</td>\n",
       "      <td>47</td>\n",
       "      <td>0</td>\n",
       "    </tr>\n",
       "    <tr>\n",
       "      <th>dest_port_int</th>\n",
       "      <td>int64</td>\n",
       "      <td>128297</td>\n",
       "      <td>0</td>\n",
       "    </tr>\n",
       "    <tr>\n",
       "      <th>proto_int</th>\n",
       "      <td>int64</td>\n",
       "      <td>135</td>\n",
       "      <td>0</td>\n",
       "    </tr>\n",
       "    <tr>\n",
       "      <th>state_int</th>\n",
       "      <td>int64</td>\n",
       "      <td>16</td>\n",
       "      <td>0</td>\n",
       "    </tr>\n",
       "    <tr>\n",
       "      <th>service_int</th>\n",
       "      <td>int64</td>\n",
       "      <td>13</td>\n",
       "      <td>0</td>\n",
       "    </tr>\n",
       "    <tr>\n",
       "      <th>count_ftp_cmd_int</th>\n",
       "      <td>int64</td>\n",
       "      <td>12</td>\n",
       "      <td>0</td>\n",
       "    </tr>\n",
       "    <tr>\n",
       "      <th>attack_cat_int</th>\n",
       "      <td>int64</td>\n",
       "      <td>10</td>\n",
       "      <td>0</td>\n",
       "    </tr>\n",
       "  </tbody>\n",
       "</table>\n",
       "</div>"
      ],
      "text/plain": [
       "                          Data Type Unique Values  Missing Values\n",
       "duration                    float64        587303               0\n",
       "source_bytes                  int64         14155               0\n",
       "dest_bytes                    int64         19166               0\n",
       "source_ttl                    int64            13               0\n",
       "dest_ttl                      int64            11               0\n",
       "source_loss                   int64           544               0\n",
       "dest_loss                     int64           707               0\n",
       "source_load                 float64       1100258               0\n",
       "dest_load                   float64       1173739               0\n",
       "source_pkts                   int64           933               0\n",
       "dest_pkts                     int64          1255               0\n",
       "source_TP_win                 int64            36               0\n",
       "dest_TP_win                   int64            32               0\n",
       "source_tcp_bn                 int64       1429571               0\n",
       "dest_tcp_bn                   int64       1429031               0\n",
       "source_mean_sz                int64          1415               0\n",
       "dest_mean_sz                  int64          1417               0\n",
       "trans_depth                   int64            14               0\n",
       "res_bdy_len                   int64          2907               0\n",
       "source_jitter               float64       1381001               0\n",
       "dest_jitter                 float64       1424689               0\n",
       "start_time                    int64         85348               0\n",
       "last_time                     int64         85361               0\n",
       "source_int_pk_time          float64        975275               0\n",
       "dest_int_pk_time            float64        960353               0\n",
       "tcp_rtt                     float64         76931               0\n",
       "synack                      float64         66997               0\n",
       "ackdat                      float64         60844               0\n",
       "is_sm_ips_ports               int64             2               0\n",
       "count_state_ttl               int64             7               0\n",
       "count_flw_http_mthd         float64            16               0\n",
       "is_ftp_login                float64             4               0\n",
       "count_srv_source              int64            65               0\n",
       "count_srv_dest                int64            66               0\n",
       "count_dest_ltm                int64            62               0\n",
       "count_source_ltm              int64            62               0\n",
       "count_source_destport_ltm     int64            62               0\n",
       "count_dest_sourceport_ltm     int64            55               0\n",
       "counts_dest_source_ltm        int64            65               0\n",
       "Label                         int64             2               0\n",
       "source_ip_int                 int64            43               0\n",
       "source_port_int               int64        100341               0\n",
       "dest_ip_int                   int64            47               0\n",
       "dest_port_int                 int64        128297               0\n",
       "proto_int                     int64           135               0\n",
       "state_int                     int64            16               0\n",
       "service_int                   int64            13               0\n",
       "count_ftp_cmd_int             int64            12               0\n",
       "attack_cat_int                int64            10               0"
      ]
     },
     "execution_count": 18,
     "metadata": {},
     "output_type": "execute_result"
    }
   ],
   "source": [
    "#DataFrame with columns\n",
    "columns = pd.DataFrame(list(data.columns.values[1:]))\n",
    "\n",
    "#DataFrame with data types\n",
    "data_types = pd.DataFrame(data.dtypes, columns=['Data Type'])\n",
    "\n",
    "#DataFrame with unique values\n",
    "unique_value_counts = pd.DataFrame(columns=['Unique Values'])\n",
    "for v in list(data.columns.values):\n",
    "    unique_value_counts.loc[v] = [data[v].nunique()]\n",
    "\n",
    "missing_data_counts = pd.DataFrame(data.isnull().sum(), columns=['Missing Values'])\n",
    "data_quality_report = data_types.join(unique_value_counts).join(missing_data_counts)\n",
    "print('Data Quality Report')\n",
    "data_quality_report"
   ]
  },
  {
   "cell_type": "markdown",
   "metadata": {},
   "source": [
    "As we can see from the data report, we have removed all of the missing values and all of the data types are now correct, allowing us to move onto the scaling stage for our data."
   ]
  },
  {
   "cell_type": "markdown",
   "metadata": {},
   "source": [
    "# Scaling"
   ]
  },
  {
   "cell_type": "markdown",
   "metadata": {},
   "source": [
    "We aim to get our data to be as similar as possible to the data we would feed into a Neural Network to ensure a direct comparison between our Naive Bayes (NB) classification model and our Neural Networks which will allow us to directly assess which method is optimal for such a problem.  "
   ]
  },
  {
   "cell_type": "markdown",
   "metadata": {},
   "source": [
    "Obviously for our classification problem we need some classes. Choosing Normal and Non-Normal traffic would be intutitive and we can draw upon similar things we used from Assessment 1. However, we have many types of attacks but fortunately Naive Bayes is equipped to handle this. We can see all our categories by calling ac_dict which was generated during the re-mapping of columns so we have all we need to feed this through the classifier and we can still use alot from what we learned in Assessment 1.\n",
    "\n",
    "For Neural Networks, certain data scaling is imposed as unscaled input variables can result in a slow learning process and sometimes causing the learning to fail completely and what to scale the data to depends on the activation function being used in the case. As we mentioned before we will be manipulating our data to be the same for Naive Bayes and Neural Networks. Luckily for us, this scaling will have minimal impact on NB since NB sets the priors based on the data we feed it and scale them to match our data."
   ]
  },
  {
   "cell_type": "code",
   "execution_count": 19,
   "metadata": {},
   "outputs": [],
   "source": [
    "from sklearn import preprocessing\n",
    "from sklearn.preprocessing import StandardScaler"
   ]
  },
  {
   "cell_type": "code",
   "execution_count": 20,
   "metadata": {},
   "outputs": [
    {
     "data": {
      "text/plain": [
       "(2540047, 48)"
      ]
     },
     "execution_count": 20,
     "metadata": {},
     "output_type": "execute_result"
    }
   ],
   "source": [
    "scaler = preprocessing.StandardScaler().fit(X)\n",
    "data_scaled = scaler.transform(X)\n",
    "data_scaled.shape"
   ]
  },
  {
   "cell_type": "markdown",
   "metadata": {},
   "source": [
    "# Classifier - Naive Bayes"
   ]
  },
  {
   "cell_type": "markdown",
   "metadata": {},
   "source": [
    "After our data is scaled we spilt it into training and test data sets as before in Assessment 1 and we would do the same for our Neural Network to see how well the model is able to learn and classify data."
   ]
  },
  {
   "cell_type": "code",
   "execution_count": 21,
   "metadata": {},
   "outputs": [],
   "source": [
    "from sklearn.model_selection import train_test_split\n",
    "import datetime as dt\n",
    "import seaborn as sns\n",
    "import matplotlib.pyplot as plt"
   ]
  },
  {
   "cell_type": "code",
   "execution_count": 22,
   "metadata": {},
   "outputs": [],
   "source": [
    "X_train, X_test, Y_train, Y_test = train_test_split(data_scaled, Y, test_size = 0.1, random_state = 10)"
   ]
  },
  {
   "cell_type": "code",
   "execution_count": 23,
   "metadata": {},
   "outputs": [],
   "source": [
    "def model(model_name, X_train, Y_train, X_test, Y_test):\n",
    "    '''\n",
    "     Fits the model on train data and predict the performance on train and test data.\n",
    "     '''\n",
    "    print('Fitting the model and prediction on train data:')\n",
    "    start = dt.datetime.now()\n",
    "    model_name.fit(X_train, Y_train)\n",
    "    y_tr_pred = model_name.predict(X_train)\n",
    "    print('Completed')\n",
    "    print('Time taken:',dt.datetime.now()-start)\n",
    "    print('='*50)\n",
    "    \n",
    "    results_tr = dict()\n",
    "    y_tr_pred = model_name.predict(X_train)    \n",
    "    results_tr['precision'] = precision_score(Y_train, y_tr_pred,         average='weighted')\n",
    "    results_tr['recall'] = recall_score(Y_train, y_tr_pred, average='weighted')\n",
    "    results_tr['f1_score'] = f1_score(Y_train, y_tr_pred, average='weighted')\n",
    "    \n",
    "    results_test = dict()\n",
    "    print('Prediction on test data:')\n",
    "    start = dt.datetime.now()\n",
    "    y_test_pred = model_name.predict(X_test)\n",
    "    print('Completed')\n",
    "    print('Time taken:',dt.datetime.now()-start)\n",
    "    print('='*50)\n",
    "    \n",
    "    print('Performance metrics:')\n",
    "    print('='*50)\n",
    "    print('Confusion Matrix is:')\n",
    "    confusion_matrix_func(Y_test, y_test_pred)\n",
    "    print('='*50)\n",
    "    results_test['precision'] = precision_score(Y_test, y_test_pred, average='weighted')\n",
    "    print('Precision score is:')\n",
    "    print(precision_score(Y_test, y_test_pred, average='weighted'))\n",
    "    print('='*50)\n",
    "    results_test['recall'] = recall_score(Y_test, y_test_pred, average='weighted')\n",
    "    print('Recall score is:')\n",
    "    print(recall_score(Y_test, y_test_pred, average='weighted'))\n",
    "    print('='*50)\n",
    "    results_test['f1_score'] = f1_score(Y_test, y_test_pred, average='weighted')\n",
    "    print('F1-score is:')\n",
    "    print(f1_score(Y_test, y_test_pred, average='weighted'))\n",
    "    # add the trained  model to the results\n",
    "    results_test['model'] = model\n",
    "    \n",
    "    return results_tr, results_test, y_test_pred"
   ]
  },
  {
   "cell_type": "code",
   "execution_count": 24,
   "metadata": {},
   "outputs": [],
   "source": [
    "def confusion_matrix_func(Y_test, y_test_pred):\n",
    "    \n",
    "    C = confusion_matrix(Y_test, y_test_pred)\n",
    "    cm_df = pd.DataFrame(C)\n",
    "    labels = ['Exploits', 'Reconnaissance', 'DoS', 'Generic', 'Shellcode', ' Fuzzers', 'Worms', 'Backdoors', 'Analysis']\n",
    "    plt.figure(figsize=(30,25))\n",
    "    sns.set(font_scale=1.4)\n",
    "    sns.heatmap(cm_df, annot=True, annot_kws={\"size\":12}, fmt='g',       xticklabels=labels, yticklabels=labels)\n",
    "    plt.ylabel('Actual Class')\n",
    "    plt.xlabel('Predicted Class')\n",
    "    \n",
    "    plt.show()"
   ]
  },
  {
   "cell_type": "code",
   "execution_count": 25,
   "metadata": {},
   "outputs": [],
   "source": [
    "from sklearn.naive_bayes import GaussianNB\n",
    "from sklearn.metrics import accuracy_score, confusion_matrix, roc_auc_score, precision_score, recall_score, f1_score\n",
    "from sklearn.model_selection import GridSearchCV"
   ]
  },
  {
   "cell_type": "code",
   "execution_count": 26,
   "metadata": {
    "scrolled": true
   },
   "outputs": [
    {
     "name": "stdout",
     "output_type": "stream",
     "text": [
      "Fitting the model and prediction on train data:\n",
      "Completed\n",
      "Time taken: 0:00:21.211699\n",
      "==================================================\n",
      "Prediction on test data:\n",
      "Completed\n",
      "Time taken: 0:00:00.910308\n",
      "==================================================\n",
      "Performance metrics:\n",
      "==================================================\n",
      "Confusion Matrix is:\n"
     ]
    },
    {
     "data": {
      "image/png": "[encoded data removed]",
      "text/plain": [
       "<Figure size 2160x1800 with 2 Axes>"
      ]
     },
     "metadata": {
      "needs_background": "light"
     },
     "output_type": "display_data"
    },
    {
     "name": "stdout",
     "output_type": "stream",
     "text": [
      "==================================================\n",
      "Precision score is:\n",
      "0.984511606281223\n",
      "==================================================\n",
      "Recall score is:\n",
      "0.9587921497608315\n",
      "==================================================\n",
      "F1-score is:\n",
      "0.9637483892789629\n"
     ]
    }
   ],
   "source": [
    "hyperparameter = {'var_smoothing':[10**x for x in range(-9,3)]}\n",
    "nb = GaussianNB()\n",
    "nb_grid = GridSearchCV(nb, param_grid=hyperparameter, cv=5, verbose=1, n_jobs=-1)\n",
    "nb_results, a, Y_pred = model(nb, X_train, Y_train, X_test, Y_test)"
   ]
  },
  {
   "cell_type": "code",
   "execution_count": 27,
   "metadata": {},
   "outputs": [],
   "source": [
    "pickle.dump(Y_pred, open('Y_predictions_Luke.p', 'wb'))\n",
    "pickle.dump(Y_test, open('Y_test_Luke.p', 'wb'))"
   ]
  },
  {
   "cell_type": "markdown",
   "metadata": {},
   "source": [
    "Naive Bayes has given us a supposed accuarcy of 98.5%. I say supposed as I am slighlty skeptical as to whether we have implemented this correctly due to the fact the model only took roughly 30 secs to train and make a prediction on the test data. In Assessment 1, it took roughly 5 minutes to train on 250k datapoints, i.e one tenth the size of our dataset we are currently using so one would expect a longer run-time. However, in this case we have significantly more classes for data to be classified into which perhaps has an affect on the run-time. In terms of the accuracy, we were also perhaps surprised. Naive Bayes as the name suggests is a naive approach designed to be quick and efficent while giving a good accuracy overall. The fact we have more classes and 10x the datapoints for the model to train itself on than in Assessment 1, this could explain the reason for our 98.5% accuracy so long that the model has been implemented correctly. "
   ]
  },
  {
   "cell_type": "markdown",
   "metadata": {},
   "source": [
    "# Auto Encoder Neural Network\n",
    "\n",
    "Autoencoder Neural Network is a model which seeks to learn a compressed representation of a given input and give a output which has the same representation. They are composed of an encoder and decoder and a 'loss' function and can be used for feature extraction on classification predicitive modelling problems which is how we aim to use them in this Assessment. The encoder and decoder can be parametric functions, generally neural networks and they must be differentiable we respect to the loss function, so the loss can me minimised by Stochastic Gradient Descent.\n",
    "\n",
    "In the following section we aim to build our model and hopefully run a few epochs on my home computer before sending a more in-depth run to the HPC for to obtain our results."
   ]
  },
  {
   "cell_type": "code",
   "execution_count": 28,
   "metadata": {},
   "outputs": [],
   "source": [
    "import keras\n",
    "from keras import layers, models\n",
    "from keras.layers import Dense"
   ]
  },
  {
   "cell_type": "code",
   "execution_count": 29,
   "metadata": {},
   "outputs": [],
   "source": [
    "#Using 32 floats hence:\n",
    "encoding_dim = 32\n",
    "\n",
    "input_data = keras.Input(shape=X_train.shape[1])\n",
    "#Encoded representation\n",
    "encoded = layers.Dense(encoding_dim, activation='relu')(input_data)\n",
    "#Loss reconstruction\n",
    "decoded = layers.Dense(X_train.shape[1], activation='softmax')(encoded)\n",
    "#Maps the input to its reconstruction\n",
    "autoencoder = keras.Model(input_data, decoded)"
   ]
  },
  {
   "cell_type": "code",
   "execution_count": 30,
   "metadata": {},
   "outputs": [
    {
     "name": "stdout",
     "output_type": "stream",
     "text": [
      "Model: \"model\"\n",
      "_________________________________________________________________\n",
      "Layer (type)                 Output Shape              Param #   \n",
      "=================================================================\n",
      "input_1 (InputLayer)         [(None, 48)]              0         \n",
      "_________________________________________________________________\n",
      "dense (Dense)                (None, 32)                1568      \n",
      "_________________________________________________________________\n",
      "dense_1 (Dense)              (None, 48)                1584      \n",
      "=================================================================\n",
      "Total params: 3,152\n",
      "Trainable params: 3,152\n",
      "Non-trainable params: 0\n",
      "_________________________________________________________________\n"
     ]
    }
   ],
   "source": [
    "autoencoder.summary()"
   ]
  },
  {
   "cell_type": "code",
   "execution_count": 31,
   "metadata": {},
   "outputs": [],
   "source": [
    "autoencoder.compile(metrics=['accuracy'], optimizer='adam', loss='mse')"
   ]
  },
  {
   "cell_type": "code",
   "execution_count": 32,
   "metadata": {},
   "outputs": [
    {
     "name": "stdout",
     "output_type": "stream",
     "text": [
      "Epoch 1/10\n",
      "8930/8930 [==============================] - 16s 2ms/step - loss: 0.9525 - accuracy: 0.6574 - val_loss: 0.8806 - val_accuracy: 0.7664\n",
      "Epoch 2/10\n",
      "8930/8930 [==============================] - 14s 2ms/step - loss: 0.9130 - accuracy: 0.7494 - val_loss: 0.8796 - val_accuracy: 0.7472\n",
      "Epoch 3/10\n",
      "8930/8930 [==============================] - 14s 2ms/step - loss: 0.9185 - accuracy: 0.7519 - val_loss: 0.8796 - val_accuracy: 0.7315\n",
      "Epoch 4/10\n",
      "8930/8930 [==============================] - 14s 2ms/step - loss: 0.9163 - accuracy: 0.7523 - val_loss: 0.8796 - val_accuracy: 0.7729\n",
      "Epoch 5/10\n",
      "8930/8930 [==============================] - 14s 2ms/step - loss: 0.9132 - accuracy: 0.7522 - val_loss: 0.8796 - val_accuracy: 0.7776\n",
      "Epoch 6/10\n",
      "8930/8930 [==============================] - 14s 2ms/step - loss: 0.8909 - accuracy: 0.7529 - val_loss: 0.8795 - val_accuracy: 0.7393\n",
      "Epoch 7/10\n",
      "8930/8930 [==============================] - 14s 2ms/step - loss: 0.9022 - accuracy: 0.7523 - val_loss: 0.8795 - val_accuracy: 0.7634\n",
      "Epoch 8/10\n",
      "8930/8930 [==============================] - 14s 2ms/step - loss: 0.9018 - accuracy: 0.7532 - val_loss: 0.8795 - val_accuracy: 0.7374\n",
      "Epoch 9/10\n",
      "8930/8930 [==============================] - 14s 2ms/step - loss: 0.9305 - accuracy: 0.7531 - val_loss: 0.8795 - val_accuracy: 0.7566\n",
      "Epoch 10/10\n",
      "8930/8930 [==============================] - 15s 2ms/step - loss: 0.9267 - accuracy: 0.7535 - val_loss: 0.8795 - val_accuracy: 0.7527\n"
     ]
    },
    {
     "data": {
      "text/plain": [
       "<tensorflow.python.keras.callbacks.History at 0x7ff30ccc91d0>"
      ]
     },
     "execution_count": 32,
     "metadata": {},
     "output_type": "execute_result"
    }
   ],
   "source": [
    "autoencoder.fit(X_train, X_train, epochs=10, batch_size=256, shuffle= True, validation_data=(X_test, X_test))"
   ]
  },
  {
   "cell_type": "markdown",
   "metadata": {},
   "source": [
    "Intially, after 10 epochs, we obtain a accuracy of of 0.753 which is ok but we would obviously like this to be much higher but as a proof of concept, this is plenty sufficent to begin with. This already gives us an idea as to how successful this model will be i.e not very in my opinion in comparison to the other models, but we discuss that more later. \n",
    "\n",
    "I messed around briefly changing the activation and loss functions to see if I could obtain any increases in accuracy but to little avail. From what I found in my research it appears 'sigmoid' is more suited to binary classification problems and we shall be using 'softmax' in our decoder as we have a multi-class classification problem.\n",
    "\n",
    "Next, we try a few different methods to try and improve the accuracy."
   ]
  },
  {
   "cell_type": "code",
   "execution_count": 33,
   "metadata": {},
   "outputs": [],
   "source": [
    "#Firstly we increase the dimension.\n",
    "encoding_dim = 128\n",
    "\n",
    "input_data = keras.Input(shape=X_train.shape[1])\n",
    "#Encoded representation\n",
    "encoded = layers.Dense(encoding_dim, activation='relu')(input_data)\n",
    "#Adding extra layers to our model\n",
    "encoded = layers.Dense(64, activation='relu')(encoded)\n",
    "encoded = layers.Dense(32, activation='relu')(encoded)\n",
    "#Loss reconstruction\n",
    "decoded = layers.Dense(64, activation='relu')(encoded)\n",
    "decoded = layers.Dense(128, activation='relu')(decoded)\n",
    "decoded = layers.Dense(X_train.shape[1], activation='softmax')(decoded)\n",
    "#Maps the input to its reconstruction\n",
    "autoencoder = keras.Model(input_data, decoded)\n",
    "\n",
    "autoencoder.compile(metrics=['accuracy'], optimizer='adam', loss='mse')"
   ]
  },
  {
   "cell_type": "code",
   "execution_count": 34,
   "metadata": {
    "scrolled": true
   },
   "outputs": [
    {
     "name": "stdout",
     "output_type": "stream",
     "text": [
      "Epoch 1/10\n",
      "8930/8930 [==============================] - 32s 4ms/step - loss: 0.9039 - accuracy: 0.6126 - val_loss: 0.8778 - val_accuracy: 0.7626\n",
      "Epoch 2/10\n",
      "8930/8930 [==============================] - 29s 3ms/step - loss: 0.9058 - accuracy: 0.7539 - val_loss: 0.8798 - val_accuracy: 0.7581\n",
      "Epoch 3/10\n",
      "8930/8930 [==============================] - 27s 3ms/step - loss: 0.9001 - accuracy: 0.7843 - val_loss: 0.8770 - val_accuracy: 0.8116\n",
      "Epoch 4/10\n",
      "8930/8930 [==============================] - 26s 3ms/step - loss: 0.9094 - accuracy: 0.8012 - val_loss: 0.8770 - val_accuracy: 0.7823\n",
      "Epoch 5/10\n",
      "8930/8930 [==============================] - 27s 3ms/step - loss: 0.8935 - accuracy: 0.8048 - val_loss: 0.8774 - val_accuracy: 0.8259\n",
      "Epoch 6/10\n",
      "8930/8930 [==============================] - 28s 3ms/step - loss: 0.9111 - accuracy: 0.8056 - val_loss: 0.8765 - val_accuracy: 0.8631\n",
      "Epoch 7/10\n",
      "8930/8930 [==============================] - 30s 3ms/step - loss: 0.9194 - accuracy: 0.8306 - val_loss: 0.8755 - val_accuracy: 0.8649\n",
      "Epoch 8/10\n",
      "8930/8930 [==============================] - 31s 3ms/step - loss: 0.8945 - accuracy: 0.8303 - val_loss: 0.8747 - val_accuracy: 0.8484\n",
      "Epoch 9/10\n",
      "8930/8930 [==============================] - 28s 3ms/step - loss: 0.9115 - accuracy: 0.8344 - val_loss: 0.8746 - val_accuracy: 0.7998\n",
      "Epoch 10/10\n",
      "8930/8930 [==============================] - 28s 3ms/step - loss: 0.8888 - accuracy: 0.8361 - val_loss: 0.8745 - val_accuracy: 0.8043\n"
     ]
    }
   ],
   "source": [
    "auto_fit = autoencoder.fit(X_train, X_train, epochs=10, batch_size=256, shuffle= True, validation_data=(X_test, X_test))"
   ]
  },
  {
   "cell_type": "code",
   "execution_count": 35,
   "metadata": {},
   "outputs": [
    {
     "name": "stdout",
     "output_type": "stream",
     "text": [
      "Model: \"model_1\"\n",
      "_________________________________________________________________\n",
      "Layer (type)                 Output Shape              Param #   \n",
      "=================================================================\n",
      "input_2 (InputLayer)         [(None, 48)]              0         \n",
      "_________________________________________________________________\n",
      "dense_2 (Dense)              (None, 128)               6272      \n",
      "_________________________________________________________________\n",
      "dense_3 (Dense)              (None, 64)                8256      \n",
      "_________________________________________________________________\n",
      "dense_4 (Dense)              (None, 32)                2080      \n",
      "_________________________________________________________________\n",
      "dense_5 (Dense)              (None, 64)                2112      \n",
      "_________________________________________________________________\n",
      "dense_6 (Dense)              (None, 128)               8320      \n",
      "_________________________________________________________________\n",
      "dense_7 (Dense)              (None, 48)                6192      \n",
      "=================================================================\n",
      "Total params: 33,232\n",
      "Trainable params: 33,232\n",
      "Non-trainable params: 0\n",
      "_________________________________________________________________\n"
     ]
    }
   ],
   "source": [
    "autoencoder.summary()"
   ]
  },
  {
   "cell_type": "markdown",
   "metadata": {},
   "source": [
    "So we clearly have already made some improvements with our changes with our accuracy at 83.6% now. Adding extra encoding and decoding layers increases the number of trainable parameters, as we see from above, from 3152 to 33232, but of course we must train our model more to see good improvements if we have this many more parameters.\n",
    "\n",
    "To further increase this (beisdes training on the HPC) I would need to do some further research in the hyperparameters of the model and I will touch on this at the end of this report.\n"
   ]
  },
  {
   "cell_type": "code",
   "execution_count": 36,
   "metadata": {
    "scrolled": false
   },
   "outputs": [
    {
     "data": {
      "image/png": "[encoded data removed]",
      "text/plain": [
       "<Figure size 432x288 with 1 Axes>"
      ]
     },
     "metadata": {},
     "output_type": "display_data"
    }
   ],
   "source": [
    "loss = auto_fit.history['loss']\n",
    "val_loss = auto_fit.history['val_loss']\n",
    "accuracy = auto_fit.history['accuracy']\n",
    "epochs = range(10)\n",
    "plt.figure()\n",
    "plt.plot(epochs, accuracy, 'g', label='Accuracy')\n",
    "plt.plot(epochs, loss, 'r', label='Training loss')\n",
    "plt.plot(epochs, val_loss, 'b', label='Validation loss')\n",
    "plt.title('Training and Validation loss')\n",
    "plt.legend()\n",
    "plt.show()"
   ]
  },
  {
   "cell_type": "markdown",
   "metadata": {},
   "source": [
    "# HPC additional code"
   ]
  },
  {
   "cell_type": "markdown",
   "metadata": {},
   "source": [
    "Here we make use of a compile function Matts report which compiles and runs the model and produces outputs epochs, trainacc, testacc so that we can plot similar graphs and draw some useful visual conclusions about the accuracy and rate of convergence for the accuracy.\n",
    "\n",
    "I'm also only going to run over 750 epochs instead of 1000 on the HPC to simply save on time. This shouldn't harm the accuracy to significantly, if at all, since from all the other models we've ran as a group, the accuracy tends to level off after 300 epochs at most it seems. In the code below I just ran 6 for proof of concept and to get an idea about the accuracy before sending it to the HPC.\n",
    "\n",
    "PLEASE SEE\n",
    "\n",
    "At this point, late on into the assessment, I noticed that running the below function provided by Matt but with the loss function changed to Mean Squared Error produced an accuracy tending towards zero! I am not to sure why and to make things more interesting, when I try to run the Sparse Categorical Crossentropy loss function in any model above this segment, they give an error code I am unable to trouble shoot. When I run the below code on my home computer I obtain a significantly better accuracy than we have seen before. Combining this together, I have decided to keep the loss function as Sparse Categorical Crossentropy instead of MSE and intend to reflect on this."
   ]
  },
  {
   "cell_type": "code",
   "execution_count": 37,
   "metadata": {},
   "outputs": [],
   "source": [
    " def compile_fit(model, max_epochs, step_size):\n",
    "    \n",
    "    model.compile(loss=keras.losses.SparseCategoricalCrossentropy(), optimizer='adam', metrics=['accuracy'])\n",
    "    \n",
    "    model.summary()\n",
    "    \n",
    "    epochs_list=list()\n",
    "    trainacc=list()\n",
    "    testacc=list()\n",
    "    \n",
    "    epochs = 0\n",
    "    \n",
    "    for i in range(0, int(max_epochs / step_size)):\n",
    "        \n",
    "        print(\"epoch : \" + str(epochs))\n",
    "        \n",
    "        model.fit(X_train, Y_train, epochs=step_size, batch_size=256, validation_data=(X_test, Y_test))\n",
    "        trainscores = model.evaluate(X_train, Y_train)\n",
    "        testscores = model.evaluate(X_test, Y_test)\n",
    "        \n",
    "        trainacc.append(trainscores[1])\n",
    "        testacc.append(testscores[1])\n",
    "        epochs = epochs + step_size\n",
    "        epochs_list.append(epochs)\n",
    "        \n",
    "    return epochs_list, trainacc, testacc"
   ]
  },
  {
   "cell_type": "code",
   "execution_count": 39,
   "metadata": {
    "scrolled": false
   },
   "outputs": [
    {
     "name": "stdout",
     "output_type": "stream",
     "text": [
      "Model: \"model_1\"\n",
      "_________________________________________________________________\n",
      "Layer (type)                 Output Shape              Param #   \n",
      "=================================================================\n",
      "input_2 (InputLayer)         [(None, 48)]              0         \n",
      "_________________________________________________________________\n",
      "dense_2 (Dense)              (None, 128)               6272      \n",
      "_________________________________________________________________\n",
      "dense_3 (Dense)              (None, 64)                8256      \n",
      "_________________________________________________________________\n",
      "dense_4 (Dense)              (None, 32)                2080      \n",
      "_________________________________________________________________\n",
      "dense_5 (Dense)              (None, 64)                2112      \n",
      "_________________________________________________________________\n",
      "dense_6 (Dense)              (None, 128)               8320      \n",
      "_________________________________________________________________\n",
      "dense_7 (Dense)              (None, 48)                6192      \n",
      "=================================================================\n",
      "Total params: 33,232\n",
      "Trainable params: 33,232\n",
      "Non-trainable params: 0\n",
      "_________________________________________________________________\n",
      "epoch : 0\n",
      "Epoch 1/2\n",
      "8930/8930 [==============================] - 34s 4ms/step - loss: 0.0551 - accuracy: 0.9815 - val_loss: 0.0454 - val_accuracy: 0.9833\n",
      "Epoch 2/2\n",
      "8930/8930 [==============================] - 30s 3ms/step - loss: 0.0433 - accuracy: 0.9841 - val_loss: 0.0423 - val_accuracy: 0.9844\n",
      "71439/71439 [==============================] - 73s 1ms/step - loss: 0.0418 - accuracy: 0.9847\n",
      "7938/7938 [==============================] - 8s 1ms/step - loss: 0.0423 - accuracy: 0.9844\n",
      "epoch : 2\n",
      "Epoch 1/2\n",
      "8930/8930 [==============================] - 27s 3ms/step - loss: 0.0416 - accuracy: 0.9846 - val_loss: 0.0406 - val_accuracy: 0.9847\n",
      "Epoch 2/2\n",
      "8930/8930 [==============================] - 27s 3ms/step - loss: 0.0407 - accuracy: 0.9850 - val_loss: 0.0399 - val_accuracy: 0.9849\n",
      "71439/71439 [==============================] - 75s 1ms/step - loss: 0.0398 - accuracy: 0.9850\n",
      "7938/7938 [==============================] - 8s 1ms/step - loss: 0.0399 - accuracy: 0.9849\n",
      "epoch : 4\n",
      "Epoch 1/2\n",
      "8930/8930 [==============================] - 27s 3ms/step - loss: 0.0394 - accuracy: 0.9853 - val_loss: 0.0390 - val_accuracy: 0.9852\n",
      "Epoch 2/2\n",
      "8930/8930 [==============================] - 27s 3ms/step - loss: 0.0391 - accuracy: 0.9854 - val_loss: 0.0391 - val_accuracy: 0.9853\n",
      "71439/71439 [==============================] - 77s 1ms/step - loss: 0.0383 - accuracy: 0.9856\n",
      "7938/7938 [==============================] - 8s 1ms/step - loss: 0.0391 - accuracy: 0.9853\n"
     ]
    }
   ],
   "source": [
    "epochs, trainacc, testacc = compile_fit(autoencoder, 6, 2)"
   ]
  },
  {
   "cell_type": "markdown",
   "metadata": {},
   "source": [
    "So our accuracy has skyrocketted to 98.56% mainly from just changing our loss function and is very close to the 98.5% provided by our Naive Bayes model earlier!"
   ]
  },
  {
   "cell_type": "markdown",
   "metadata": {},
   "source": [
    "# HPC Results"
   ]
  },
  {
   "cell_type": "code",
   "execution_count": 40,
   "metadata": {},
   "outputs": [],
   "source": [
    "trainacc = pickle.load(open('../lukehawley/HPC files/trainacc_auto.pkl','rb'))\n",
    "testacc = pickle.load(open('../lukehawley/HPC files/testacc_auto.pkl','rb'))"
   ]
  },
  {
   "cell_type": "code",
   "execution_count": 44,
   "metadata": {},
   "outputs": [
    {
     "data": {
      "image/png": "[encoded data removed]",
      "text/plain": [
       "<Figure size 432x288 with 1 Axes>"
      ]
     },
     "metadata": {},
     "output_type": "display_data"
    }
   ],
   "source": [
    "epochs = np.arange(0,750,2)\n",
    "plt.figure()\n",
    "plt.plot(epochs, trainacc, 'g', label='Training Accuracy')\n",
    "plt.plot(epochs, testacc, 'b', label='Test Accuracy')\n",
    "plt.title('Training and Test accuracy')\n",
    "plt.legend()\n",
    "plt.show()"
   ]
  },
  {
   "cell_type": "code",
   "execution_count": 45,
   "metadata": {},
   "outputs": [
    {
     "name": "stdout",
     "output_type": "stream",
     "text": [
      "              precision    recall  f1-score   support\n",
      "\n",
      "           0       1.00      1.00      1.00    221772\n",
      "           1       0.59      0.89      0.71      4411\n",
      "           2       0.83      0.75      0.79      1411\n",
      "           3       0.47      0.01      0.03      1647\n",
      "           4       1.00      0.98      0.99     21642\n",
      "           5       0.71      0.68      0.69       160\n",
      "           6       0.79      0.87      0.83      2437\n",
      "           7       0.00      0.00      0.00         6\n",
      "           8       0.83      0.02      0.04       250\n",
      "           9       0.71      0.14      0.23       269\n",
      "\n",
      "    accuracy                           0.99    254005\n",
      "   macro avg       0.69      0.53      0.53    254005\n",
      "weighted avg       0.99      0.99      0.98    254005\n",
      "\n"
     ]
    },
    {
     "name": "stderr",
     "output_type": "stream",
     "text": [
      "/Users/lukehawley/opt/anaconda3/lib/python3.7/site-packages/sklearn/metrics/_classification.py:1272: UndefinedMetricWarning: Precision and F-score are ill-defined and being set to 0.0 in labels with no predicted samples. Use `zero_division` parameter to control this behavior.\n",
      "  _warn_prf(average, modifier, msg_start, len(result))\n"
     ]
    }
   ],
   "source": [
    "from sklearn.metrics import classification_report\n",
    "\n",
    "predicted_classes = autoencoder.predict(X_test)\n",
    "\n",
    "target_names = [\"Class {}\".format(i) for i in (ac_dict.keys())]\n",
    "print(classification_report(Y_test, predicted_classes.argmax(axis=1)))"
   ]
  },
  {
   "cell_type": "code",
   "execution_count": 46,
   "metadata": {},
   "outputs": [
    {
     "data": {
      "text/plain": [
       "<matplotlib.axes._subplots.AxesSubplot at 0x7ff3075b6290>"
      ]
     },
     "execution_count": 46,
     "metadata": {},
     "output_type": "execute_result"
    },
    {
     "data": {
      "image/png": "[encoded data removed]",
      "text/plain": [
       "<Figure size 720x504 with 2 Axes>"
      ]
     },
     "metadata": {},
     "output_type": "display_data"
    }
   ],
   "source": [
    "from sklearn.metrics import confusion_matrix, classification_report, matthews_corrcoef, cohen_kappa_score, accuracy_score, average_precision_score, roc_auc_score\n",
    "import seaborn as sn\n",
    "cm = confusion_matrix(Y_test, predicted_classes.argmax(axis=1))\n",
    "\n",
    "plt.figure(figsize = (10,7))\n",
    "sn.heatmap(cm, annot=True)"
   ]
  },
  {
   "cell_type": "markdown",
   "metadata": {},
   "source": [
    "# Conclusions\n",
    "\n",
    "Naive Bayes:\n",
    "\n",
    "Naive Bayes (NB) performed exceptionally well on this problem of using Neural Networks for classification of attacks. From its easy implementation, quick run-time and use of memory (compared to running NNs on the HPC), it produced a rather impressive 99%. As mentioned before, I am still slightly skeptical of the run-time being ~30 secs overall, however I am confident it is implemented correctly. Given that we have many more classes to predict than the last time we used NB, I believe this is the main reason for the success of this model especailly considering this is for a 'Naive' approach.\n",
    "\n",
    "Auto-Encoder Neural Network:\n",
    "\n",
    "This presented a few challenges for me. Manipulating the data into a suitable format wasn't to difficult nor time consuming. What I found to be the most difficult aspect was the hyperparameters. I tried several different loss functions and all them produced drastically different results. The Mean-squared Error function would produce accuracies of ~4x10-4 on the final version of the model which is of no use to anyone. Whereas, Sparce Categorical Crossentropy (SCC) wouldn't run on the first models and did on the final model producing much better results of 98.4%. From the Classification Report we see that the model predicited the classes with larger number of attacks with 100% and was let down when trying to predict smaller classes (>5k data points), with it not able to successfully predict any of Class 7 although it only had 6 points. We also see that after ~400 epochs the accuracy starts to decrease and then begins to fluctuate heavily.\n",
    "\n",
    "For the time I spent on this building and increasing the efficency of the model, the difference in results, in my opionion, is not substanial enough. However, now that the 'heavy-lifting' of the model is out of the way, one could save this model and use it for any classification in the future, cutting down on the overall time consumption which is something to consider. If one has more understand of the hyperparameters this could further increase the accuracy and this is an area where I personally would be looking to improve upon. Time consumption is still an issue with the first draft of the final model taking 14 hours and the second version taking 8 hours."
   ]
  },
  {
   "cell_type": "markdown",
   "metadata": {},
   "source": [
    "# Useful Sources\n",
    "\n",
    "Here are the following websites I used to help build the NN:\n",
    "\n",
    "1. https://radicalrafi.github.io/posts/autoencoders-as-classifiers/\n",
    "2. https://www.datacamp.com/community/tutorials/autoencoder-classifier-python\n",
    "3. https://machinelearningmastery.com/autoencoder-for-classification/\n",
    "4. https://blog.keras.io/building-autoencoders-in-keras.html\n",
    "\n",
    "Info on the best batchsize:\n",
    "https://stats.stackexchange.com/questions/164876/what-is-the-trade-off-between-batch-size-and-number-of-iterations-to-train-a-neu#:~:text=In%20general%2C%20batch%20size%20of,best%20to%20start%20experimenting%20with."
   ]
  },
  {
   "cell_type": "code",
   "execution_count": null,
   "metadata": {},
   "outputs": [],
   "source": []
  }
 ],
 "metadata": {
  "kernelspec": {
   "display_name": "Python 3",
   "language": "python",
   "name": "python3"
  }
 },
 "nbformat": 4,
 "nbformat_minor": 4
}
