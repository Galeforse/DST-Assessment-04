{
 "cells": [
  {
   "cell_type": "code",
   "execution_count": 5,
   "id": "material-legislation",
   "metadata": {},
   "outputs": [],
   "source": [
    "import keras\n",
    "from keras import models, layers\n",
    "from keras.models import Sequential\n",
    "from keras.layers import Dense\n",
    "import pickle\n",
    "import gzip"
   ]
  },
  {
   "cell_type": "code",
   "execution_count": 6,
   "id": "proprietary-right",
   "metadata": {},
   "outputs": [],
   "source": [
    "fp=gzip.open('X_train.pkl.gz','rb')\n",
    "X_train=pickle.load(fp)\n",
    "fp.close()\n",
    "fp=gzip.open('X_test.pkl.gz','rb')\n",
    "X_test=pickle.load(fp)\n",
    "fp.close()\n",
    "fp=gzip.open('Y_train.pkl.gz','rb')\n",
    "Y_train=pickle.load(fp)\n",
    "fp.close()\n",
    "fp=gzip.open('Y_test.pkl.gz','rb')\n",
    "Y_test=pickle.load(fp)\n",
    "fp.close()"
   ]
  },
  {
   "cell_type": "code",
   "execution_count": 7,
   "id": "preceding-disposal",
   "metadata": {},
   "outputs": [],
   "source": [
    "def compile_fit(model, max_epochs, step_size):\n",
    "    \n",
    "    model.compile(loss=keras.losses.SparseCategoricalCrossentropy(), optimizer='adam', metrics=['accuracy'])\n",
    "    \n",
    "    model.summary()\n",
    "    \n",
    "    epochs_list=list()\n",
    "    trainacc=list()\n",
    "    testacc=list()\n",
    "    \n",
    "    epochs = 0\n",
    "    \n",
    "    for i in range(0, int(max_epochs / step_size)):\n",
    "        \n",
    "        print(\"epoch : \" + str(epochs))\n",
    "        \n",
    "        model.fit(X_train, Y_train, epochs=step_size, batch_size=256, validation_data=(X_test, Y_test))\n",
    "        trainscores = model.evaluate(X_train, Y_train)\n",
    "        testscores = model.evaluate(X_test, Y_test)\n",
    "        \n",
    "        trainacc.append(trainscores[1])\n",
    "        testacc.append(testscores[1])\n",
    "        epochs = epochs + step_size\n",
    "        epochs_list.append(epochs)\n",
    "        \n",
    "    return epochs_list, trainacc, testacc"
   ]
  },
  {
   "cell_type": "code",
   "execution_count": 9,
   "id": "statewide-redhead",
   "metadata": {},
   "outputs": [
    {
     "name": "stdout",
     "output_type": "stream",
     "text": [
      "Model: \"sequential_2\"\n",
      "_________________________________________________________________\n",
      "Layer (type)                 Output Shape              Param #   \n",
      "=================================================================\n",
      "dense_2 (Dense)              (None, 24)                1152      \n",
      "_________________________________________________________________\n",
      "dense_3 (Dense)              (None, 10)                250       \n",
      "=================================================================\n",
      "Total params: 1,402\n",
      "Trainable params: 1,402\n",
      "Non-trainable params: 0\n",
      "_________________________________________________________________\n",
      "epoch : 0\n",
      "Train on 2286042 samples, validate on 254005 samples\n",
      "Epoch 1/2\n",
      "2286042/2286042 [==============================] - 12s 5us/step - loss: 0.0925 - accuracy: 0.9684 - val_loss: 0.0652 - val_accuracy: 0.9746\n",
      "Epoch 2/2\n",
      "2286042/2286042 [==============================] - 11s 5us/step - loss: 0.0638 - accuracy: 0.9751 - val_loss: 0.0617 - val_accuracy: 0.9757\n",
      "2286042/2286042 [==============================] - 30s 13us/step\n",
      "254005/254005 [==============================] - 3s 14us/step\n"
     ]
    }
   ],
   "source": [
    "model = Sequential()\n",
    "model.add(Dense(24, input_dim=X_train.shape[1], activation='relu'))   \n",
    "model.add(Dense(10, activation='softmax'))\n",
    "\n",
    "\n",
    "epochs, trainacc, testacc = compile_fit(model, 2, 2) # HPC version\n",
    "\n",
    "\n",
    "model.save('NoHiddenModelHPC')\n",
    "pickle.dump(epochs, open('epochs_nohidden.pkl','wb'))\n",
    "pickle.dump(trainacc, open('trainacc_nohidden.pkl','wb'))\n",
    "pickle.dump(testacc, open('testacc_nohidden.pkl','wb'))"
   ]
  }
 ],
 "metadata": {
  "kernelspec": {
   "display_name": "Python 3",
   "language": "python",
   "name": "python3"
  },
  "language_info": {
   "codemirror_mode": {
    "name": "ipython",
    "version": 3
   },
   "file_extension": ".py",
   "mimetype": "text/x-python",
   "name": "python",
   "nbconvert_exporter": "python",
   "pygments_lexer": "ipython3",
   "version": "3.6.12"
  }
 },
 "nbformat": 4,
 "nbformat_minor": 5
}
