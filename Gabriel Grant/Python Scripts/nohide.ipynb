{
 "cells": [
  {
   "cell_type": "code",
   "execution_count": 7,
   "id": "disabled-acrylic",
   "metadata": {},
   "outputs": [],
   "source": [
    "import keras\n",
    "from keras import models, layers\n",
    "from keras.models import Sequential\n",
    "from keras.layers import Dense\n",
    "import gzip\n",
    "import pandas as pd\n",
    "import pickle"
   ]
  },
  {
   "cell_type": "code",
   "execution_count": 2,
   "id": "smaller-disabled",
   "metadata": {},
   "outputs": [],
   "source": [
    "fp=gzip.open('X_train.pkl.gz','rb')\n",
    "X_train=pickle.load(fp)\n",
    "fp.close()\n",
    "fp=gzip.open('X_test.pkl.gz','rb')\n",
    "X_test=pickle.load(fp)\n",
    "fp.close()\n",
    "fp=gzip.open('Y_train.pkl.gz','rb')\n",
    "Y_train=pickle.load(fp)\n",
    "fp.close()\n",
    "fp=gzip.open('Y_test.pkl.gz','rb')\n",
    "Y_test=pickle.load(fp)\n",
    "fp.close()"
   ]
  },
  {
   "cell_type": "code",
   "execution_count": 5,
   "id": "iraqi-advertising",
   "metadata": {},
   "outputs": [
    {
     "data": {
      "text/plain": [
       "pandas.core.series.Series"
      ]
     },
     "execution_count": 5,
     "metadata": {},
     "output_type": "execute_result"
    }
   ],
   "source": [
    "type(Y_train)"
   ]
  },
  {
   "cell_type": "code",
   "execution_count": 8,
   "id": "severe-xerox",
   "metadata": {},
   "outputs": [
    {
     "name": "stdout",
     "output_type": "stream",
     "text": [
      "1.1.3\n"
     ]
    }
   ],
   "source": [
    "print(pd.__version__)"
   ]
  }
 ],
 "metadata": {
  "kernelspec": {
   "display_name": "Python 3",
   "language": "python",
   "name": "python3"
  },
  "language_info": {
   "codemirror_mode": {
    "name": "ipython",
    "version": 3
   },
   "file_extension": ".py",
   "mimetype": "text/x-python",
   "name": "python",
   "nbconvert_exporter": "python",
   "pygments_lexer": "ipython3",
   "version": "3.6.12"
  }
 },
 "nbformat": 4,
 "nbformat_minor": 5
}
