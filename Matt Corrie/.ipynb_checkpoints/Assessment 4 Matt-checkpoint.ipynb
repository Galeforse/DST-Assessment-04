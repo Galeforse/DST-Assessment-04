{
 "cells": [
  {
   "cell_type": "markdown",
   "metadata": {},
   "source": [
    "# Assessment 4"
   ]
  },
  {
   "cell_type": "code",
   "execution_count": 1,
   "metadata": {},
   "outputs": [],
   "source": [
    "import pandas as pd\n",
    "import numpy as np\n",
    "import matplotlib.pyplot as plt\n",
    "np.random.seed(10)\n",
    "import pickle"
   ]
  },
  {
   "cell_type": "markdown",
   "metadata": {},
   "source": [
    "We first import all the data sets and combine them into one data frame to be used later on (while making some immaterial adjustments to the data)."
   ]
  },
  {
   "cell_type": "code",
   "execution_count": 2,
   "metadata": {
    "scrolled": true
   },
   "outputs": [
    {
     "name": "stderr",
     "output_type": "stream",
     "text": [
      "C:\\Users\\corri\\anaconda3\\lib\\site-packages\\IPython\\core\\interactiveshell.py:3146: DtypeWarning: Columns (1,3,47) have mixed types.Specify dtype option on import or set low_memory=False.\n",
      "  has_raised = await self.run_ast_nodes(code_ast.body, cell_name,\n",
      "C:\\Users\\corri\\anaconda3\\lib\\site-packages\\IPython\\core\\interactiveshell.py:3146: DtypeWarning: Columns (3,39,47) have mixed types.Specify dtype option on import or set low_memory=False.\n",
      "  has_raised = await self.run_ast_nodes(code_ast.body, cell_name,\n"
     ]
    }
   ],
   "source": [
    "df_1 = pd.read_csv(\"https://github.com/Galeforse/DST-Assessment-04/raw/main/Data/UNS1.zip\",header=None)\n",
    "df_2 = pd.read_csv(\"https://github.com/Galeforse/DST-Assessment-04/raw/main/Data/UNS2.zip\",header=None)\n",
    "df_3 = pd.read_csv(\"https://github.com/Galeforse/DST-Assessment-04/raw/main/Data/UNS3.zip\",header=None)\n",
    "df_4 = pd.read_csv(\"https://github.com/Galeforse/DST-Assessment-04/raw/main/Data/UNS4.zip\",header=None)"
   ]
  },
  {
   "cell_type": "markdown",
   "metadata": {},
   "source": [
    "We need to add headers to each data set. The headers below are based off of the headers given with the data set but expanded slightly to allow for easier reading and understanding of the column."
   ]
  },
  {
   "cell_type": "code",
   "execution_count": 3,
   "metadata": {},
   "outputs": [],
   "source": [
    "colnames = (['source_ip', 'source_port', 'dest_ip', 'dest_port', 'proto', 'state', 'duration', 'source_bytes', 'dest_bytes', 'source_ttl',\n",
    "             'dest_ttl', 'source_loss', 'dest_loss', 'service', 'source_load', 'dest_load', 'source_pkts', 'dest_pkts', 'source_TP_win', 'dest_TP_win', \n",
    "             'source_tcp_bn', 'dest_tcp_bn', 'source_mean_sz', 'dest_mean_sz', 'trans_depth', 'res_bdy_len', 'source_jitter', 'dest_jitter', 'start_time',\n",
    "             'last_time', 'source_int_pk_time', 'dest_int_pk_time', 'tcp_rtt', 'synack', 'ackdat', 'is_sm_ips_ports', 'count_state_ttl', \n",
    "             'count_flw_http_mthd', 'is_ftp_login', 'count_ftp_cmd', 'count_srv_source', 'count_srv_dest', 'count_dest_ltm',\n",
    "             'count_source_ltm', 'count_source_destport_ltm', 'count_dest_sourceport_ltm', 'counts_dest_source_ltm', 'attack_cat', 'Label'])"
   ]
  },
  {
   "cell_type": "code",
   "execution_count": 4,
   "metadata": {},
   "outputs": [],
   "source": [
    "df_1.columns = colnames\n",
    "df_2.columns = colnames\n",
    "df_3.columns = colnames\n",
    "df_4.columns = colnames"
   ]
  },
  {
   "cell_type": "code",
   "execution_count": 5,
   "metadata": {},
   "outputs": [],
   "source": [
    "frames = [df_1,df_2,df_3,df_4]\n",
    "df = pd.concat(frames)"
   ]
  },
  {
   "cell_type": "code",
   "execution_count": 6,
   "metadata": {},
   "outputs": [
    {
     "data": {
      "text/html": [
       "<div>\n",
       "<style scoped>\n",
       "    .dataframe tbody tr th:only-of-type {\n",
       "        vertical-align: middle;\n",
       "    }\n",
       "\n",
       "    .dataframe tbody tr th {\n",
       "        vertical-align: top;\n",
       "    }\n",
       "\n",
       "    .dataframe thead th {\n",
       "        text-align: right;\n",
       "    }\n",
       "</style>\n",
       "<table border=\"1\" class=\"dataframe\">\n",
       "  <thead>\n",
       "    <tr style=\"text-align: right;\">\n",
       "      <th></th>\n",
       "      <th>source_ip</th>\n",
       "      <th>source_port</th>\n",
       "      <th>dest_ip</th>\n",
       "      <th>dest_port</th>\n",
       "      <th>proto</th>\n",
       "      <th>state</th>\n",
       "      <th>duration</th>\n",
       "      <th>source_bytes</th>\n",
       "      <th>dest_bytes</th>\n",
       "      <th>source_ttl</th>\n",
       "      <th>...</th>\n",
       "      <th>count_ftp_cmd</th>\n",
       "      <th>count_srv_source</th>\n",
       "      <th>count_srv_dest</th>\n",
       "      <th>count_dest_ltm</th>\n",
       "      <th>count_source_ltm</th>\n",
       "      <th>count_source_destport_ltm</th>\n",
       "      <th>count_dest_sourceport_ltm</th>\n",
       "      <th>counts_dest_source_ltm</th>\n",
       "      <th>attack_cat</th>\n",
       "      <th>Label</th>\n",
       "    </tr>\n",
       "  </thead>\n",
       "  <tbody>\n",
       "    <tr>\n",
       "      <th>0</th>\n",
       "      <td>59.166.0.0</td>\n",
       "      <td>1390</td>\n",
       "      <td>149.171.126.6</td>\n",
       "      <td>53</td>\n",
       "      <td>udp</td>\n",
       "      <td>CON</td>\n",
       "      <td>0.001055</td>\n",
       "      <td>132</td>\n",
       "      <td>164</td>\n",
       "      <td>31</td>\n",
       "      <td>...</td>\n",
       "      <td>0</td>\n",
       "      <td>3</td>\n",
       "      <td>7</td>\n",
       "      <td>1</td>\n",
       "      <td>3</td>\n",
       "      <td>1</td>\n",
       "      <td>1</td>\n",
       "      <td>1</td>\n",
       "      <td>NaN</td>\n",
       "      <td>0</td>\n",
       "    </tr>\n",
       "    <tr>\n",
       "      <th>1</th>\n",
       "      <td>59.166.0.0</td>\n",
       "      <td>33661</td>\n",
       "      <td>149.171.126.9</td>\n",
       "      <td>1024</td>\n",
       "      <td>udp</td>\n",
       "      <td>CON</td>\n",
       "      <td>0.036133</td>\n",
       "      <td>528</td>\n",
       "      <td>304</td>\n",
       "      <td>31</td>\n",
       "      <td>...</td>\n",
       "      <td>0</td>\n",
       "      <td>2</td>\n",
       "      <td>4</td>\n",
       "      <td>2</td>\n",
       "      <td>3</td>\n",
       "      <td>1</td>\n",
       "      <td>1</td>\n",
       "      <td>2</td>\n",
       "      <td>NaN</td>\n",
       "      <td>0</td>\n",
       "    </tr>\n",
       "    <tr>\n",
       "      <th>2</th>\n",
       "      <td>59.166.0.6</td>\n",
       "      <td>1464</td>\n",
       "      <td>149.171.126.7</td>\n",
       "      <td>53</td>\n",
       "      <td>udp</td>\n",
       "      <td>CON</td>\n",
       "      <td>0.001119</td>\n",
       "      <td>146</td>\n",
       "      <td>178</td>\n",
       "      <td>31</td>\n",
       "      <td>...</td>\n",
       "      <td>0</td>\n",
       "      <td>12</td>\n",
       "      <td>8</td>\n",
       "      <td>1</td>\n",
       "      <td>2</td>\n",
       "      <td>2</td>\n",
       "      <td>1</td>\n",
       "      <td>1</td>\n",
       "      <td>NaN</td>\n",
       "      <td>0</td>\n",
       "    </tr>\n",
       "    <tr>\n",
       "      <th>3</th>\n",
       "      <td>59.166.0.5</td>\n",
       "      <td>3593</td>\n",
       "      <td>149.171.126.5</td>\n",
       "      <td>53</td>\n",
       "      <td>udp</td>\n",
       "      <td>CON</td>\n",
       "      <td>0.001209</td>\n",
       "      <td>132</td>\n",
       "      <td>164</td>\n",
       "      <td>31</td>\n",
       "      <td>...</td>\n",
       "      <td>0</td>\n",
       "      <td>6</td>\n",
       "      <td>9</td>\n",
       "      <td>1</td>\n",
       "      <td>1</td>\n",
       "      <td>1</td>\n",
       "      <td>1</td>\n",
       "      <td>1</td>\n",
       "      <td>NaN</td>\n",
       "      <td>0</td>\n",
       "    </tr>\n",
       "    <tr>\n",
       "      <th>4</th>\n",
       "      <td>59.166.0.3</td>\n",
       "      <td>49664</td>\n",
       "      <td>149.171.126.0</td>\n",
       "      <td>53</td>\n",
       "      <td>udp</td>\n",
       "      <td>CON</td>\n",
       "      <td>0.001169</td>\n",
       "      <td>146</td>\n",
       "      <td>178</td>\n",
       "      <td>31</td>\n",
       "      <td>...</td>\n",
       "      <td>0</td>\n",
       "      <td>7</td>\n",
       "      <td>9</td>\n",
       "      <td>1</td>\n",
       "      <td>1</td>\n",
       "      <td>1</td>\n",
       "      <td>1</td>\n",
       "      <td>1</td>\n",
       "      <td>NaN</td>\n",
       "      <td>0</td>\n",
       "    </tr>\n",
       "  </tbody>\n",
       "</table>\n",
       "<p>5 rows × 49 columns</p>\n",
       "</div>"
      ],
      "text/plain": [
       "    source_ip source_port        dest_ip dest_port proto state  duration  \\\n",
       "0  59.166.0.0        1390  149.171.126.6        53   udp   CON  0.001055   \n",
       "1  59.166.0.0       33661  149.171.126.9      1024   udp   CON  0.036133   \n",
       "2  59.166.0.6        1464  149.171.126.7        53   udp   CON  0.001119   \n",
       "3  59.166.0.5        3593  149.171.126.5        53   udp   CON  0.001209   \n",
       "4  59.166.0.3       49664  149.171.126.0        53   udp   CON  0.001169   \n",
       "\n",
       "   source_bytes  dest_bytes  source_ttl  ...  count_ftp_cmd  count_srv_source  \\\n",
       "0           132         164          31  ...              0                 3   \n",
       "1           528         304          31  ...              0                 2   \n",
       "2           146         178          31  ...              0                12   \n",
       "3           132         164          31  ...              0                 6   \n",
       "4           146         178          31  ...              0                 7   \n",
       "\n",
       "   count_srv_dest count_dest_ltm  count_source_ltm  count_source_destport_ltm  \\\n",
       "0               7              1                 3                          1   \n",
       "1               4              2                 3                          1   \n",
       "2               8              1                 2                          2   \n",
       "3               9              1                 1                          1   \n",
       "4               9              1                 1                          1   \n",
       "\n",
       "   count_dest_sourceport_ltm  counts_dest_source_ltm  attack_cat  Label  \n",
       "0                          1                       1         NaN      0  \n",
       "1                          1                       2         NaN      0  \n",
       "2                          1                       1         NaN      0  \n",
       "3                          1                       1         NaN      0  \n",
       "4                          1                       1         NaN      0  \n",
       "\n",
       "[5 rows x 49 columns]"
      ]
     },
     "execution_count": 6,
     "metadata": {},
     "output_type": "execute_result"
    }
   ],
   "source": [
    "df.head()"
   ]
  },
  {
   "cell_type": "code",
   "execution_count": 7,
   "metadata": {},
   "outputs": [
    {
     "data": {
      "text/plain": [
       "(2540047, 49)"
      ]
     },
     "execution_count": 7,
     "metadata": {},
     "output_type": "execute_result"
    }
   ],
   "source": [
    "df.shape"
   ]
  },
  {
   "cell_type": "markdown",
   "metadata": {},
   "source": [
    "So we have the right headers on the data and have the correct shape so we've done the right steps to get our data into one data frame."
   ]
  },
  {
   "cell_type": "markdown",
   "metadata": {},
   "source": [
    "### EDA"
   ]
  },
  {
   "cell_type": "markdown",
   "metadata": {},
   "source": [
    "The properties of our data can cause errors when running neural networks on them. We look into the problems we may have with our data below during our elementary data analysis."
   ]
  },
  {
   "cell_type": "markdown",
   "metadata": {},
   "source": [
    "First we want to look for outliers to determine if we will have issues with too large values e.g. inf, or NaN values. Uncomment/comment the below code to allow visibility of all columns or the normal amount of columns (we need this since we have too many columns to display with normal options)."
   ]
  },
  {
   "cell_type": "code",
   "execution_count": 8,
   "metadata": {},
   "outputs": [],
   "source": [
    "# pd.options.display.max_columns = None\n",
    "pd.options.display.max_columns = 20"
   ]
  },
  {
   "cell_type": "code",
   "execution_count": 9,
   "metadata": {},
   "outputs": [
    {
     "data": {
      "text/html": [
       "<div>\n",
       "<style scoped>\n",
       "    .dataframe tbody tr th:only-of-type {\n",
       "        vertical-align: middle;\n",
       "    }\n",
       "\n",
       "    .dataframe tbody tr th {\n",
       "        vertical-align: top;\n",
       "    }\n",
       "\n",
       "    .dataframe thead th {\n",
       "        text-align: right;\n",
       "    }\n",
       "</style>\n",
       "<table border=\"1\" class=\"dataframe\">\n",
       "  <thead>\n",
       "    <tr style=\"text-align: right;\">\n",
       "      <th></th>\n",
       "      <th>duration</th>\n",
       "      <th>source_bytes</th>\n",
       "      <th>dest_bytes</th>\n",
       "      <th>source_ttl</th>\n",
       "      <th>dest_ttl</th>\n",
       "      <th>source_loss</th>\n",
       "      <th>dest_loss</th>\n",
       "      <th>source_load</th>\n",
       "      <th>dest_load</th>\n",
       "      <th>source_pkts</th>\n",
       "      <th>...</th>\n",
       "      <th>count_flw_http_mthd</th>\n",
       "      <th>is_ftp_login</th>\n",
       "      <th>count_srv_source</th>\n",
       "      <th>count_srv_dest</th>\n",
       "      <th>count_dest_ltm</th>\n",
       "      <th>count_source_ltm</th>\n",
       "      <th>count_source_destport_ltm</th>\n",
       "      <th>count_dest_sourceport_ltm</th>\n",
       "      <th>counts_dest_source_ltm</th>\n",
       "      <th>Label</th>\n",
       "    </tr>\n",
       "  </thead>\n",
       "  <tbody>\n",
       "    <tr>\n",
       "      <th>count</th>\n",
       "      <td>2.540047e+06</td>\n",
       "      <td>2.540047e+06</td>\n",
       "      <td>2.540047e+06</td>\n",
       "      <td>2.540047e+06</td>\n",
       "      <td>2.540047e+06</td>\n",
       "      <td>2.540047e+06</td>\n",
       "      <td>2.540047e+06</td>\n",
       "      <td>2.540047e+06</td>\n",
       "      <td>2.540047e+06</td>\n",
       "      <td>2.540047e+06</td>\n",
       "      <td>...</td>\n",
       "      <td>1.191902e+06</td>\n",
       "      <td>1.110168e+06</td>\n",
       "      <td>2.540047e+06</td>\n",
       "      <td>2.540047e+06</td>\n",
       "      <td>2.540047e+06</td>\n",
       "      <td>2.540047e+06</td>\n",
       "      <td>2.540047e+06</td>\n",
       "      <td>2.540047e+06</td>\n",
       "      <td>2.540047e+06</td>\n",
       "      <td>2.540047e+06</td>\n",
       "    </tr>\n",
       "    <tr>\n",
       "      <th>mean</th>\n",
       "      <td>6.587916e-01</td>\n",
       "      <td>4.339600e+03</td>\n",
       "      <td>3.642759e+04</td>\n",
       "      <td>6.278197e+01</td>\n",
       "      <td>3.076681e+01</td>\n",
       "      <td>5.163921e+00</td>\n",
       "      <td>1.632944e+01</td>\n",
       "      <td>3.695645e+07</td>\n",
       "      <td>2.450861e+06</td>\n",
       "      <td>3.328884e+01</td>\n",
       "      <td>...</td>\n",
       "      <td>2.345856e-01</td>\n",
       "      <td>3.969940e-02</td>\n",
       "      <td>9.206988e+00</td>\n",
       "      <td>8.988958e+00</td>\n",
       "      <td>6.439103e+00</td>\n",
       "      <td>6.900986e+00</td>\n",
       "      <td>4.642139e+00</td>\n",
       "      <td>3.592729e+00</td>\n",
       "      <td>6.845886e+00</td>\n",
       "      <td>1.264870e-01</td>\n",
       "    </tr>\n",
       "    <tr>\n",
       "      <th>std</th>\n",
       "      <td>1.392493e+01</td>\n",
       "      <td>5.640599e+04</td>\n",
       "      <td>1.610960e+05</td>\n",
       "      <td>7.462277e+01</td>\n",
       "      <td>4.285089e+01</td>\n",
       "      <td>2.251707e+01</td>\n",
       "      <td>5.659474e+01</td>\n",
       "      <td>1.186043e+08</td>\n",
       "      <td>4.224863e+06</td>\n",
       "      <td>7.628388e+01</td>\n",
       "      <td>...</td>\n",
       "      <td>7.940924e-01</td>\n",
       "      <td>1.996589e-01</td>\n",
       "      <td>1.083676e+01</td>\n",
       "      <td>1.082249e+01</td>\n",
       "      <td>8.162034e+00</td>\n",
       "      <td>8.205062e+00</td>\n",
       "      <td>8.477579e+00</td>\n",
       "      <td>6.174445e+00</td>\n",
       "      <td>1.125828e+01</td>\n",
       "      <td>3.323975e-01</td>\n",
       "    </tr>\n",
       "    <tr>\n",
       "      <th>min</th>\n",
       "      <td>0.000000e+00</td>\n",
       "      <td>0.000000e+00</td>\n",
       "      <td>0.000000e+00</td>\n",
       "      <td>0.000000e+00</td>\n",
       "      <td>0.000000e+00</td>\n",
       "      <td>0.000000e+00</td>\n",
       "      <td>0.000000e+00</td>\n",
       "      <td>0.000000e+00</td>\n",
       "      <td>0.000000e+00</td>\n",
       "      <td>0.000000e+00</td>\n",
       "      <td>...</td>\n",
       "      <td>0.000000e+00</td>\n",
       "      <td>0.000000e+00</td>\n",
       "      <td>1.000000e+00</td>\n",
       "      <td>1.000000e+00</td>\n",
       "      <td>1.000000e+00</td>\n",
       "      <td>1.000000e+00</td>\n",
       "      <td>1.000000e+00</td>\n",
       "      <td>1.000000e+00</td>\n",
       "      <td>1.000000e+00</td>\n",
       "      <td>0.000000e+00</td>\n",
       "    </tr>\n",
       "    <tr>\n",
       "      <th>25%</th>\n",
       "      <td>1.037000e-03</td>\n",
       "      <td>2.000000e+02</td>\n",
       "      <td>1.780000e+02</td>\n",
       "      <td>3.100000e+01</td>\n",
       "      <td>2.900000e+01</td>\n",
       "      <td>0.000000e+00</td>\n",
       "      <td>0.000000e+00</td>\n",
       "      <td>1.353963e+05</td>\n",
       "      <td>1.191594e+04</td>\n",
       "      <td>2.000000e+00</td>\n",
       "      <td>...</td>\n",
       "      <td>0.000000e+00</td>\n",
       "      <td>0.000000e+00</td>\n",
       "      <td>2.000000e+00</td>\n",
       "      <td>2.000000e+00</td>\n",
       "      <td>2.000000e+00</td>\n",
       "      <td>2.000000e+00</td>\n",
       "      <td>1.000000e+00</td>\n",
       "      <td>1.000000e+00</td>\n",
       "      <td>1.000000e+00</td>\n",
       "      <td>0.000000e+00</td>\n",
       "    </tr>\n",
       "    <tr>\n",
       "      <th>50%</th>\n",
       "      <td>1.586100e-02</td>\n",
       "      <td>1.470000e+03</td>\n",
       "      <td>1.820000e+03</td>\n",
       "      <td>3.100000e+01</td>\n",
       "      <td>2.900000e+01</td>\n",
       "      <td>3.000000e+00</td>\n",
       "      <td>4.000000e+00</td>\n",
       "      <td>5.893038e+05</td>\n",
       "      <td>5.893179e+05</td>\n",
       "      <td>1.200000e+01</td>\n",
       "      <td>...</td>\n",
       "      <td>0.000000e+00</td>\n",
       "      <td>0.000000e+00</td>\n",
       "      <td>5.000000e+00</td>\n",
       "      <td>5.000000e+00</td>\n",
       "      <td>3.000000e+00</td>\n",
       "      <td>4.000000e+00</td>\n",
       "      <td>1.000000e+00</td>\n",
       "      <td>1.000000e+00</td>\n",
       "      <td>2.000000e+00</td>\n",
       "      <td>0.000000e+00</td>\n",
       "    </tr>\n",
       "    <tr>\n",
       "      <th>75%</th>\n",
       "      <td>2.145545e-01</td>\n",
       "      <td>3.182000e+03</td>\n",
       "      <td>1.489400e+04</td>\n",
       "      <td>3.100000e+01</td>\n",
       "      <td>2.900000e+01</td>\n",
       "      <td>7.000000e+00</td>\n",
       "      <td>1.400000e+01</td>\n",
       "      <td>2.039923e+06</td>\n",
       "      <td>2.925974e+06</td>\n",
       "      <td>4.400000e+01</td>\n",
       "      <td>...</td>\n",
       "      <td>0.000000e+00</td>\n",
       "      <td>0.000000e+00</td>\n",
       "      <td>1.000000e+01</td>\n",
       "      <td>1.000000e+01</td>\n",
       "      <td>6.000000e+00</td>\n",
       "      <td>7.000000e+00</td>\n",
       "      <td>2.000000e+00</td>\n",
       "      <td>1.000000e+00</td>\n",
       "      <td>5.000000e+00</td>\n",
       "      <td>0.000000e+00</td>\n",
       "    </tr>\n",
       "    <tr>\n",
       "      <th>max</th>\n",
       "      <td>8.786638e+03</td>\n",
       "      <td>1.435577e+07</td>\n",
       "      <td>1.465753e+07</td>\n",
       "      <td>2.550000e+02</td>\n",
       "      <td>2.540000e+02</td>\n",
       "      <td>5.319000e+03</td>\n",
       "      <td>5.507000e+03</td>\n",
       "      <td>5.988000e+09</td>\n",
       "      <td>1.287619e+08</td>\n",
       "      <td>1.064600e+04</td>\n",
       "      <td>...</td>\n",
       "      <td>3.600000e+01</td>\n",
       "      <td>4.000000e+00</td>\n",
       "      <td>6.700000e+01</td>\n",
       "      <td>6.700000e+01</td>\n",
       "      <td>6.700000e+01</td>\n",
       "      <td>6.700000e+01</td>\n",
       "      <td>6.700000e+01</td>\n",
       "      <td>6.000000e+01</td>\n",
       "      <td>6.700000e+01</td>\n",
       "      <td>1.000000e+00</td>\n",
       "    </tr>\n",
       "  </tbody>\n",
       "</table>\n",
       "<p>8 rows × 40 columns</p>\n",
       "</div>"
      ],
      "text/plain": [
       "           duration  source_bytes    dest_bytes    source_ttl      dest_ttl  \\\n",
       "count  2.540047e+06  2.540047e+06  2.540047e+06  2.540047e+06  2.540047e+06   \n",
       "mean   6.587916e-01  4.339600e+03  3.642759e+04  6.278197e+01  3.076681e+01   \n",
       "std    1.392493e+01  5.640599e+04  1.610960e+05  7.462277e+01  4.285089e+01   \n",
       "min    0.000000e+00  0.000000e+00  0.000000e+00  0.000000e+00  0.000000e+00   \n",
       "25%    1.037000e-03  2.000000e+02  1.780000e+02  3.100000e+01  2.900000e+01   \n",
       "50%    1.586100e-02  1.470000e+03  1.820000e+03  3.100000e+01  2.900000e+01   \n",
       "75%    2.145545e-01  3.182000e+03  1.489400e+04  3.100000e+01  2.900000e+01   \n",
       "max    8.786638e+03  1.435577e+07  1.465753e+07  2.550000e+02  2.540000e+02   \n",
       "\n",
       "        source_loss     dest_loss   source_load     dest_load   source_pkts  \\\n",
       "count  2.540047e+06  2.540047e+06  2.540047e+06  2.540047e+06  2.540047e+06   \n",
       "mean   5.163921e+00  1.632944e+01  3.695645e+07  2.450861e+06  3.328884e+01   \n",
       "std    2.251707e+01  5.659474e+01  1.186043e+08  4.224863e+06  7.628388e+01   \n",
       "min    0.000000e+00  0.000000e+00  0.000000e+00  0.000000e+00  0.000000e+00   \n",
       "25%    0.000000e+00  0.000000e+00  1.353963e+05  1.191594e+04  2.000000e+00   \n",
       "50%    3.000000e+00  4.000000e+00  5.893038e+05  5.893179e+05  1.200000e+01   \n",
       "75%    7.000000e+00  1.400000e+01  2.039923e+06  2.925974e+06  4.400000e+01   \n",
       "max    5.319000e+03  5.507000e+03  5.988000e+09  1.287619e+08  1.064600e+04   \n",
       "\n",
       "       ...  count_flw_http_mthd  is_ftp_login  count_srv_source  \\\n",
       "count  ...         1.191902e+06  1.110168e+06      2.540047e+06   \n",
       "mean   ...         2.345856e-01  3.969940e-02      9.206988e+00   \n",
       "std    ...         7.940924e-01  1.996589e-01      1.083676e+01   \n",
       "min    ...         0.000000e+00  0.000000e+00      1.000000e+00   \n",
       "25%    ...         0.000000e+00  0.000000e+00      2.000000e+00   \n",
       "50%    ...         0.000000e+00  0.000000e+00      5.000000e+00   \n",
       "75%    ...         0.000000e+00  0.000000e+00      1.000000e+01   \n",
       "max    ...         3.600000e+01  4.000000e+00      6.700000e+01   \n",
       "\n",
       "       count_srv_dest  count_dest_ltm  count_source_ltm  \\\n",
       "count    2.540047e+06    2.540047e+06      2.540047e+06   \n",
       "mean     8.988958e+00    6.439103e+00      6.900986e+00   \n",
       "std      1.082249e+01    8.162034e+00      8.205062e+00   \n",
       "min      1.000000e+00    1.000000e+00      1.000000e+00   \n",
       "25%      2.000000e+00    2.000000e+00      2.000000e+00   \n",
       "50%      5.000000e+00    3.000000e+00      4.000000e+00   \n",
       "75%      1.000000e+01    6.000000e+00      7.000000e+00   \n",
       "max      6.700000e+01    6.700000e+01      6.700000e+01   \n",
       "\n",
       "       count_source_destport_ltm  count_dest_sourceport_ltm  \\\n",
       "count               2.540047e+06               2.540047e+06   \n",
       "mean                4.642139e+00               3.592729e+00   \n",
       "std                 8.477579e+00               6.174445e+00   \n",
       "min                 1.000000e+00               1.000000e+00   \n",
       "25%                 1.000000e+00               1.000000e+00   \n",
       "50%                 1.000000e+00               1.000000e+00   \n",
       "75%                 2.000000e+00               1.000000e+00   \n",
       "max                 6.700000e+01               6.000000e+01   \n",
       "\n",
       "       counts_dest_source_ltm         Label  \n",
       "count            2.540047e+06  2.540047e+06  \n",
       "mean             6.845886e+00  1.264870e-01  \n",
       "std              1.125828e+01  3.323975e-01  \n",
       "min              1.000000e+00  0.000000e+00  \n",
       "25%              1.000000e+00  0.000000e+00  \n",
       "50%              2.000000e+00  0.000000e+00  \n",
       "75%              5.000000e+00  0.000000e+00  \n",
       "max              6.700000e+01  1.000000e+00  \n",
       "\n",
       "[8 rows x 40 columns]"
      ]
     },
     "execution_count": 9,
     "metadata": {},
     "output_type": "execute_result"
    }
   ],
   "source": [
    "df.describe()"
   ]
  },
  {
   "cell_type": "markdown",
   "metadata": {},
   "source": [
    "From this we see that we have no concerns with infinite values and no conerns with NaN values. Standardisation may still be an issue here but this at least rules out complications with these specific values."
   ]
  },
  {
   "cell_type": "markdown",
   "metadata": {},
   "source": [
    "One of the considerations in the Neural Network workshop is floating point fragility. Below shows the maximum values in our data and also our maximum values running on both a GPU and a CPU."
   ]
  },
  {
   "cell_type": "code",
   "execution_count": 10,
   "metadata": {},
   "outputs": [
    {
     "data": {
      "text/plain": [
       "source_ip                     59.166.0.9\n",
       "dest_ip                       59.166.0.9\n",
       "proto                               zero\n",
       "state                                 no\n",
       "duration                         8786.64\n",
       "source_bytes                    14355774\n",
       "dest_bytes                      14657531\n",
       "source_ttl                           255\n",
       "dest_ttl                             254\n",
       "source_loss                         5319\n",
       "dest_loss                           5507\n",
       "service                              ssl\n",
       "source_load                    5.988e+09\n",
       "dest_load                    1.28762e+08\n",
       "source_pkts                        10646\n",
       "dest_pkts                          11018\n",
       "source_TP_win                        255\n",
       "dest_TP_win                          255\n",
       "source_tcp_bn                 4294958913\n",
       "dest_tcp_bn                   4294953724\n",
       "source_mean_sz                      1504\n",
       "dest_mean_sz                        1500\n",
       "trans_depth                          172\n",
       "res_bdy_len                      6558056\n",
       "source_jitter                1.48383e+06\n",
       "dest_jitter                       781221\n",
       "start_time                    1424262068\n",
       "last_time                     1424262069\n",
       "source_int_pk_time               84371.5\n",
       "dest_int_pk_time                 59485.3\n",
       "tcp_rtt                          10.0375\n",
       "synack                           4.52527\n",
       "ackdat                           5.51223\n",
       "is_sm_ips_ports                        1\n",
       "count_state_ttl                        6\n",
       "count_flw_http_mthd                   36\n",
       "is_ftp_login                           4\n",
       "count_srv_source                      67\n",
       "count_srv_dest                        67\n",
       "count_dest_ltm                        67\n",
       "count_source_ltm                      67\n",
       "count_source_destport_ltm             67\n",
       "count_dest_sourceport_ltm             60\n",
       "counts_dest_source_ltm                67\n",
       "Label                                  1\n",
       "dtype: object"
      ]
     },
     "execution_count": 10,
     "metadata": {},
     "output_type": "execute_result"
    }
   ],
   "source": [
    "df.max()"
   ]
  },
  {
   "cell_type": "code",
   "execution_count": 11,
   "metadata": {},
   "outputs": [
    {
     "data": {
      "text/plain": [
       "[3.4028235e+38, 1.7976931348623157e+308]"
      ]
     },
     "execution_count": 11,
     "metadata": {},
     "output_type": "execute_result"
    }
   ],
   "source": [
    "[np.finfo(np.float32).max, np.finfo(np.float64).max]"
   ]
  },
  {
   "cell_type": "markdown",
   "metadata": {},
   "source": [
    "Thus we see that our maximums are much smaller than the maximum we can process and thus we should be fine."
   ]
  },
  {
   "cell_type": "code",
   "execution_count": 12,
   "metadata": {},
   "outputs": [],
   "source": [
    "attack_cat_counts = pd.DataFrame(df['attack_cat'].value_counts())\n",
    "ac_names = attack_cat_counts.index.values\n",
    "ac_names = np.delete(ac_names,0)\n",
    "ac_counts = np.array(attack_cat_counts['attack_cat'])\n",
    "ac_counts = np.delete(ac_counts,0)\n",
    "\n",
    "label_counts = pd.DataFrame(df['Label'].value_counts())\n",
    "label_names = ['normal','attack']\n",
    "label_counts = np.array(label_counts['Label'])"
   ]
  },
  {
   "cell_type": "code",
   "execution_count": 13,
   "metadata": {},
   "outputs": [
    {
     "data": {
      "image/png": "[encoded data removed]",
      "text/plain": [
       "<Figure size 864x864 with 2 Axes>"
      ]
     },
     "metadata": {},
     "output_type": "display_data"
    }
   ],
   "source": [
    "fig, ax = plt.subplots(1,2, figsize=(12,12))\n",
    "\n",
    "ax[0].pie(label_counts, labels=label_names, autopct='%1.1f%%')\n",
    "\n",
    "ax[1].pie(ac_counts, labels=ac_names, autopct='%1.1f%%')\n",
    "\n",
    "ax[0].set_title('Pie charts showing the ratio of normal traffic vs attacks')\n",
    "ax[1].set_title('Pie charts showing the frequency of attacks')\n",
    "\n",
    "plt.show()"
   ]
  },
  {
   "cell_type": "code",
   "execution_count": 14,
   "metadata": {},
   "outputs": [
    {
     "data": {
      "text/plain": [
       "array(['Exploits', ' Fuzzers ', 'DoS', ' Reconnaissance ', ' Fuzzers',\n",
       "       'Analysis', 'Backdoor', 'Reconnaissance', ' Shellcode ',\n",
       "       'Backdoors', 'Shellcode', 'Worms'], dtype=object)"
      ]
     },
     "execution_count": 14,
     "metadata": {},
     "output_type": "execute_result"
    }
   ],
   "source": [
    "ac_names"
   ]
  },
  {
   "cell_type": "markdown",
   "metadata": {},
   "source": [
    "### Pre-Processing"
   ]
  },
  {
   "cell_type": "markdown",
   "metadata": {},
   "source": [
    "We need to pre-process our data before putting it into our neural network. This process takes place here."
   ]
  },
  {
   "cell_type": "markdown",
   "metadata": {},
   "source": [
    "Neural networks process mathematical data e.g. float64 or int64 so we want to turn all of our data into these data types. We'll check the data types we've got to work with and change these to the correct data types where they are objects."
   ]
  },
  {
   "cell_type": "code",
   "execution_count": 15,
   "metadata": {},
   "outputs": [
    {
     "name": "stdout",
     "output_type": "stream",
     "text": [
      "The following columns need their data type changed to integer/float: \n",
      "---------------------------------------------------------------------\n"
     ]
    },
    {
     "data": {
      "text/plain": [
       "['source_ip',\n",
       " 'source_port',\n",
       " 'dest_ip',\n",
       " 'dest_port',\n",
       " 'proto',\n",
       " 'state',\n",
       " 'service',\n",
       " 'count_ftp_cmd',\n",
       " 'attack_cat']"
      ]
     },
     "execution_count": 15,
     "metadata": {},
     "output_type": "execute_result"
    }
   ],
   "source": [
    "lst = []\n",
    "\n",
    "for head in colnames:\n",
    "    if df[head].dtypes == 'O':\n",
    "        lst.append(head)\n",
    "        \n",
    "print('The following columns need their data type changed to integer/float: ')\n",
    "print('---------------------------------------------------------------------')\n",
    "lst"
   ]
  },
  {
   "cell_type": "markdown",
   "metadata": {},
   "source": [
    "The first adjustment we want to make is to sort the attack_cat column. Whenever there is no attack, we have NaN in this column so we're going to swap this for 'Normal' instead to make life easier down the road."
   ]
  },
  {
   "cell_type": "code",
   "execution_count": 16,
   "metadata": {},
   "outputs": [],
   "source": [
    "for i in range(2540047):\n",
    "    if df.iloc[i,47] == 'NaN':\n",
    "        df.iloc[i,47] = 'normal'"
   ]
  },
  {
   "cell_type": "markdown",
   "metadata": {},
   "source": [
    "We now look at the columns with non integer entries and convert them to such so that they can be used in our neural networks. This is similar to the process I carried out in assessment 1 and may not be the quickest but is fairly foolproof so I'll keep using it here unless it creates issues with time."
   ]
  },
  {
   "cell_type": "code",
   "execution_count": 17,
   "metadata": {},
   "outputs": [],
   "source": [
    "df_source_ip = pd.DataFrame(df['source_ip'])\n",
    "df_source_port = pd.DataFrame(df['source_port'])\n",
    "df_dest_ip = pd.DataFrame(df['dest_ip'])\n",
    "df_dest_port = pd.DataFrame(df['dest_port'])\n",
    "df_proto = pd.DataFrame(df['proto'])\n",
    "df_state = pd.DataFrame(df['state'])\n",
    "df_service = pd.DataFrame(df['service'])\n",
    "df_count_ftp_cmd = pd.DataFrame(df['count_ftp_cmd'])\n",
    "df_attack_cat = pd.DataFrame(df['attack_cat'])"
   ]
  },
  {
   "cell_type": "code",
   "execution_count": 18,
   "metadata": {},
   "outputs": [],
   "source": [
    "# we now create dictionaries to allow us to map onto the data frame\n",
    "\n",
    "sip_dict = dict(zip(df_source_ip.index,df_source_ip['source_ip']))\n",
    "sip_dict = {v: k for k, v in sip_dict.items()}\n",
    "\n",
    "sp_dict = dict(zip(df_source_port.index,df_source_port['source_port']))\n",
    "sp_dict = {v: k for k, v in sp_dict.items()}\n",
    "\n",
    "dip_dict = dict(zip(df_dest_ip.index,df_dest_ip['dest_ip']))\n",
    "dip_dict = {v: k for k, v in dip_dict.items()}\n",
    "\n",
    "dp_dict = dict(zip(df_dest_port.index,df_dest_port['dest_port']))\n",
    "dp_dict = {v: k for k, v in dp_dict.items()}\n",
    "\n",
    "p_dict = dict(zip(df_proto.index,df_proto['proto']))\n",
    "p_dict = {v: k for k, v in p_dict.items()}\n",
    "\n",
    "state_dict = dict(zip(df_state.index,df_state['state']))\n",
    "state_dict = {v: k for k, v in state_dict.items()}\n",
    "\n",
    "service_dict = dict(zip(df_service.index,df_service['service']))\n",
    "service_dict = {v: k for k, v in service_dict.items()}\n",
    "\n",
    "cfc_dict = dict(zip(df_count_ftp_cmd.index,df_count_ftp_cmd['count_ftp_cmd']))\n",
    "cfc_dict = {v: k for k, v in cfc_dict.items()}\n",
    "\n",
    "ac_dict = dict(zip(df_attack_cat.index,df_attack_cat['attack_cat']))\n",
    "ac_dict = {v: k for k, v in ac_dict.items()}"
   ]
  },
  {
   "cell_type": "code",
   "execution_count": 19,
   "metadata": {},
   "outputs": [],
   "source": [
    "# we map these dictionaries onto our data frames\n",
    "df['source_ip_int'] = df['source_ip'].map(sip_dict)\n",
    "df['source_port_int'] = df['source_port'].map(sp_dict)\n",
    "df['dest_ip_int'] = df['dest_ip'].map(dip_dict)\n",
    "df['dest_port_int'] = df['dest_port'].map(dp_dict)\n",
    "df['proto_int'] = df['proto'].map(p_dict)\n",
    "df['state_int'] = df['state'].map(state_dict)\n",
    "df['service_int'] = df['service'].map(service_dict)\n",
    "df['count_ftp_cmd_int'] = df['count_ftp_cmd'].map(cfc_dict)\n",
    "df['attack_cat_int'] = df['attack_cat'].map(ac_dict)"
   ]
  },
  {
   "cell_type": "code",
   "execution_count": 20,
   "metadata": {},
   "outputs": [],
   "source": [
    "# we now drop the original columns since they are replicated in the above columns\n",
    "df = df.drop('source_ip',axis=1)\n",
    "df = df.drop('source_port',axis=1)\n",
    "df = df.drop('dest_ip',axis=1)\n",
    "df = df.drop('dest_port',axis=1)\n",
    "df = df.drop('proto',axis=1)\n",
    "df = df.drop('state',axis=1)\n",
    "df = df.drop('service',axis=1)\n",
    "df = df.drop('count_ftp_cmd',axis=1)\n",
    "df = df.drop('attack_cat',axis=1)"
   ]
  },
  {
   "cell_type": "code",
   "execution_count": 21,
   "metadata": {},
   "outputs": [
    {
     "data": {
      "text/plain": [
       "duration                     float64\n",
       "source_bytes                   int64\n",
       "dest_bytes                     int64\n",
       "source_ttl                     int64\n",
       "dest_ttl                       int64\n",
       "source_loss                    int64\n",
       "dest_loss                      int64\n",
       "source_load                  float64\n",
       "dest_load                    float64\n",
       "source_pkts                    int64\n",
       "dest_pkts                      int64\n",
       "source_TP_win                  int64\n",
       "dest_TP_win                    int64\n",
       "source_tcp_bn                  int64\n",
       "dest_tcp_bn                    int64\n",
       "source_mean_sz                 int64\n",
       "dest_mean_sz                   int64\n",
       "trans_depth                    int64\n",
       "res_bdy_len                    int64\n",
       "source_jitter                float64\n",
       "dest_jitter                  float64\n",
       "start_time                     int64\n",
       "last_time                      int64\n",
       "source_int_pk_time           float64\n",
       "dest_int_pk_time             float64\n",
       "tcp_rtt                      float64\n",
       "synack                       float64\n",
       "ackdat                       float64\n",
       "is_sm_ips_ports                int64\n",
       "count_state_ttl                int64\n",
       "count_flw_http_mthd          float64\n",
       "is_ftp_login                 float64\n",
       "count_srv_source               int64\n",
       "count_srv_dest                 int64\n",
       "count_dest_ltm                 int64\n",
       "count_source_ltm               int64\n",
       "count_source_destport_ltm      int64\n",
       "count_dest_sourceport_ltm      int64\n",
       "counts_dest_source_ltm         int64\n",
       "Label                          int64\n",
       "source_ip_int                float64\n",
       "source_port_int              float64\n",
       "dest_ip_int                  float64\n",
       "dest_port_int                float64\n",
       "proto_int                    float64\n",
       "state_int                    float64\n",
       "service_int                    int64\n",
       "count_ftp_cmd_int            float64\n",
       "attack_cat_int               float64\n",
       "dtype: object"
      ]
     },
     "execution_count": 21,
     "metadata": {},
     "output_type": "execute_result"
    }
   ],
   "source": [
    "df.dtypes"
   ]
  },
  {
   "cell_type": "markdown",
   "metadata": {},
   "source": [
    "So we now have all of the data in the correct type to be able to use in a neural network!"
   ]
  },
  {
   "cell_type": "markdown",
   "metadata": {},
   "source": [
    "### Scaling"
   ]
  },
  {
   "cell_type": "code",
   "execution_count": 22,
   "metadata": {},
   "outputs": [],
   "source": [
    "from sklearn import preprocessing\n",
    "from sklearn.preprocessing import StandardScaler"
   ]
  },
  {
   "cell_type": "code",
   "execution_count": 23,
   "metadata": {},
   "outputs": [],
   "source": [
    "def preprocess(data,scaling=None):\n",
    "    data = data.astype(np.float)\n",
    "    if(scaling == None):\n",
    "        scaling = StandardScaler()\n",
    "        datat=scaling.fit_transform(data)\n",
    "    else:\n",
    "        datat=scaling.transform(data)\n",
    "    return(datat,scaling)"
   ]
  },
  {
   "cell_type": "code",
   "execution_count": 24,
   "metadata": {},
   "outputs": [],
   "source": [
    "dfscaled = preprocess(df)"
   ]
  },
  {
   "cell_type": "markdown",
   "metadata": {},
   "source": [
    "### Model"
   ]
  },
  {
   "cell_type": "code",
   "execution_count": 25,
   "metadata": {},
   "outputs": [],
   "source": [
    "#!pip3 install tensorflow-gpu keras"
   ]
  },
  {
   "cell_type": "code",
   "execution_count": 26,
   "metadata": {},
   "outputs": [],
   "source": [
    "import tensorflow as tf"
   ]
  },
  {
   "cell_type": "code",
   "execution_count": 27,
   "metadata": {},
   "outputs": [
    {
     "data": {
      "text/plain": [
       "[]"
      ]
     },
     "execution_count": 27,
     "metadata": {},
     "output_type": "execute_result"
    }
   ],
   "source": [
    "tf.config.list_physical_devices('GPU')"
   ]
  },
  {
   "cell_type": "code",
   "execution_count": 28,
   "metadata": {},
   "outputs": [],
   "source": [
    "from keras.models import Sequential\n",
    "from keras.layers import Dense"
   ]
  },
  {
   "cell_type": "code",
   "execution_count": 35,
   "metadata": {},
   "outputs": [],
   "source": [
    "Y = np.array(df['attack_cat_int'])\n",
    "X = df\n",
    "X = X.drop('attack_cat_int', axis = 1)\n",
    "X = X.values"
   ]
  },
  {
   "cell_type": "code",
   "execution_count": 39,
   "metadata": {},
   "outputs": [],
   "source": [
    "U = np.array(df['Label'])\n",
    "Z = df\n",
    "Z = Z.drop('Label', axis = 1)\n",
    "Z = Z.values"
   ]
  },
  {
   "cell_type": "code",
   "execution_count": 36,
   "metadata": {},
   "outputs": [],
   "source": [
    "model = Sequential()\n",
    "model.add(Dense(24, input_dim=X.shape[1], activation='relu'))\n",
    "model.add(Dense(X.shape[1], activation='relu'))\n",
    "model.add(Dense(1, activation='sigmoid'))\n",
    "model.compile(loss='categorical_crossentropy', optimizer='adam', metrics=['accuracy'])"
   ]
  },
  {
   "cell_type": "code",
   "execution_count": 37,
   "metadata": {},
   "outputs": [
    {
     "name": "stdout",
     "output_type": "stream",
     "text": [
      "Epoch 1/10\n",
      "25401/25401 [==============================] - 12s 474us/step - loss: nan - accuracy: 0.0000e+00\n",
      "Epoch 2/10\n",
      "25401/25401 [==============================] - 12s 492us/step - loss: nan - accuracy: 0.0000e+00\n",
      "Epoch 3/10\n",
      "25401/25401 [==============================] - 12s 483us/step - loss: nan - accuracy: 0.0000e+00\n",
      "Epoch 4/10\n",
      "25401/25401 [==============================] - 12s 476us/step - loss: nan - accuracy: 0.0000e+00\n",
      "Epoch 5/10\n",
      "25401/25401 [==============================] - 12s 474us/step - loss: nan - accuracy: 0.0000e+00\n",
      "Epoch 6/10\n",
      "25401/25401 [==============================] - 12s 474us/step - loss: nan - accuracy: 0.0000e+00\n",
      "Epoch 7/10\n",
      "25401/25401 [==============================] - 12s 469us/step - loss: nan - accuracy: 0.0000e+00\n",
      "Epoch 8/10\n",
      "25401/25401 [==============================] - 12s 473us/step - loss: nan - accuracy: 0.0000e+00\n",
      "Epoch 9/10\n",
      "25401/25401 [==============================] - 12s 476us/step - loss: nan - accuracy: 0.0000e+00\n",
      "Epoch 10/10\n",
      "25401/25401 [==============================] - 12s 478us/step - loss: nan - accuracy: 0.0000e+00\n"
     ]
    },
    {
     "data": {
      "text/plain": [
       "<tensorflow.python.keras.callbacks.History at 0x1282ff4d5e0>"
      ]
     },
     "execution_count": 37,
     "metadata": {},
     "output_type": "execute_result"
    }
   ],
   "source": [
    "model.fit(X, Y, epochs=10, batch_size = 100)"
   ]
  },
  {
   "cell_type": "markdown",
   "metadata": {},
   "source": [
    "First attempt and we ended up with nan loss! Need to look into what went wrong!"
   ]
  },
  {
   "cell_type": "code",
   "execution_count": 40,
   "metadata": {},
   "outputs": [],
   "source": [
    "model2 = Sequential()\n",
    "model2.add(Dense(24, input_dim=Z.shape[1], activation='relu'))\n",
    "model2.add(Dense(Z.shape[1], activation='relu'))\n",
    "model2.add(Dense(1, activation='sigmoid'))\n",
    "model2.compile(loss='binary_crossentropy', optimizer='adam', metrics=['accuracy'])"
   ]
  },
  {
   "cell_type": "code",
   "execution_count": 41,
   "metadata": {},
   "outputs": [
    {
     "name": "stdout",
     "output_type": "stream",
     "text": [
      "25401/25401 [==============================] - 14s 516us/step - loss: nan - accuracy: 0.8737\n"
     ]
    },
    {
     "data": {
      "text/plain": [
       "<tensorflow.python.keras.callbacks.History at 0x12830373190>"
      ]
     },
     "execution_count": 41,
     "metadata": {},
     "output_type": "execute_result"
    }
   ],
   "source": [
    "model2.fit(Z, U, epochs=1, batch_size = 100)"
   ]
  },
  {
   "cell_type": "markdown",
   "metadata": {},
   "source": [
    "So using binary labels instead of attack types at least gets us an accuracy. We sill have a nan loss though!"
   ]
  }
 ],
 "metadata": {
  "kernelspec": {
   "display_name": "Python 3",
   "language": "python",
   "name": "python3"
  },
  "language_info": {
   "codemirror_mode": {
    "name": "ipython",
    "version": 3
   },
   "file_extension": ".py",
   "mimetype": "text/x-python",
   "name": "python",
   "nbconvert_exporter": "python",
   "pygments_lexer": "ipython3",
   "version": "3.8.5"
  }
 },
 "nbformat": 4,
 "nbformat_minor": 4
}
