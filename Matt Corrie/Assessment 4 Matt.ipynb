{
 "cells": [
  {
   "cell_type": "markdown",
   "metadata": {},
   "source": [
    "# Assessment 4"
   ]
  },
  {
   "cell_type": "markdown",
   "metadata": {},
   "source": [
    "### HPC Files"
   ]
  },
  {
   "cell_type": "markdown",
   "metadata": {},
   "source": [
    "Within my folder are zipped folders. These are the .log outputs of running the code below on the HPC! I'll keep them up to date but will probably only run this on the final code now. The commented code below the actual code in this notebook are the substitutions made for HPC i.e. chaning the number of epochs of my NN from 10 for my computer to 1000 for the HPC to run."
   ]
  },
  {
   "cell_type": "code",
   "execution_count": 1,
   "metadata": {},
   "outputs": [],
   "source": [
    "import pandas as pd\n",
    "import numpy as np\n",
    "import matplotlib.pyplot as plt\n",
    "np.random.seed(10)\n",
    "import pickle\n",
    "\n",
    "%load_ext tensorboard"
   ]
  },
  {
   "cell_type": "markdown",
   "metadata": {},
   "source": [
    "We first import all the data sets and combine them into one data frame to be used later on (while making some immaterial adjustments to the data)."
   ]
  },
  {
   "cell_type": "code",
   "execution_count": 2,
   "metadata": {
    "scrolled": true
   },
   "outputs": [
    {
     "name": "stderr",
     "output_type": "stream",
     "text": [
      "C:\\Users\\corri\\anaconda3\\lib\\site-packages\\IPython\\core\\interactiveshell.py:3146: DtypeWarning: Columns (1,3,47) have mixed types.Specify dtype option on import or set low_memory=False.\n",
      "  has_raised = await self.run_ast_nodes(code_ast.body, cell_name,\n",
      "C:\\Users\\corri\\anaconda3\\lib\\site-packages\\IPython\\core\\interactiveshell.py:3146: DtypeWarning: Columns (3,39,47) have mixed types.Specify dtype option on import or set low_memory=False.\n",
      "  has_raised = await self.run_ast_nodes(code_ast.body, cell_name,\n"
     ]
    }
   ],
   "source": [
    "df_1 = pd.read_csv(\"https://github.com/Galeforse/DST-Assessment-04/raw/main/Data/UNS1.zip\",header=None)\n",
    "df_2 = pd.read_csv(\"https://github.com/Galeforse/DST-Assessment-04/raw/main/Data/UNS2.zip\",header=None)\n",
    "df_3 = pd.read_csv(\"https://github.com/Galeforse/DST-Assessment-04/raw/main/Data/UNS3.zip\",header=None)\n",
    "df_4 = pd.read_csv(\"https://github.com/Galeforse/DST-Assessment-04/raw/main/Data/UNS4.zip\",header=None)"
   ]
  },
  {
   "cell_type": "markdown",
   "metadata": {},
   "source": [
    "We need to add headers to each data set. The headers below are based off of the headers given with the data set but expanded slightly to allow for easier reading and understanding of the column."
   ]
  },
  {
   "cell_type": "code",
   "execution_count": 3,
   "metadata": {},
   "outputs": [],
   "source": [
    "colnames = (['source_ip', 'source_port', 'dest_ip', 'dest_port', 'proto', 'state', 'duration', 'source_bytes', 'dest_bytes', 'source_ttl',\n",
    "             'dest_ttl', 'source_loss', 'dest_loss', 'service', 'source_load', 'dest_load', 'source_pkts', 'dest_pkts', 'source_TP_win', 'dest_TP_win', \n",
    "             'source_tcp_bn', 'dest_tcp_bn', 'source_mean_sz', 'dest_mean_sz', 'trans_depth', 'res_bdy_len', 'source_jitter', 'dest_jitter', 'start_time',\n",
    "             'last_time', 'source_int_pk_time', 'dest_int_pk_time', 'tcp_rtt', 'synack', 'ackdat', 'is_sm_ips_ports', 'count_state_ttl', \n",
    "             'count_flw_http_mthd', 'is_ftp_login', 'count_ftp_cmd', 'count_srv_source', 'count_srv_dest', 'count_dest_ltm',\n",
    "             'count_source_ltm', 'count_source_destport_ltm', 'count_dest_sourceport_ltm', 'counts_dest_source_ltm', 'attack_cat', 'Label'])"
   ]
  },
  {
   "cell_type": "code",
   "execution_count": 4,
   "metadata": {},
   "outputs": [],
   "source": [
    "df_1.columns = colnames\n",
    "df_2.columns = colnames\n",
    "df_3.columns = colnames\n",
    "df_4.columns = colnames"
   ]
  },
  {
   "cell_type": "code",
   "execution_count": 5,
   "metadata": {},
   "outputs": [],
   "source": [
    "frames = [df_1,df_2,df_3,df_4]\n",
    "df = pd.concat(frames)"
   ]
  },
  {
   "cell_type": "code",
   "execution_count": 6,
   "metadata": {},
   "outputs": [
    {
     "data": {
      "text/html": [
       "<div>\n",
       "<style scoped>\n",
       "    .dataframe tbody tr th:only-of-type {\n",
       "        vertical-align: middle;\n",
       "    }\n",
       "\n",
       "    .dataframe tbody tr th {\n",
       "        vertical-align: top;\n",
       "    }\n",
       "\n",
       "    .dataframe thead th {\n",
       "        text-align: right;\n",
       "    }\n",
       "</style>\n",
       "<table border=\"1\" class=\"dataframe\">\n",
       "  <thead>\n",
       "    <tr style=\"text-align: right;\">\n",
       "      <th></th>\n",
       "      <th>source_ip</th>\n",
       "      <th>source_port</th>\n",
       "      <th>dest_ip</th>\n",
       "      <th>dest_port</th>\n",
       "      <th>proto</th>\n",
       "      <th>state</th>\n",
       "      <th>duration</th>\n",
       "      <th>source_bytes</th>\n",
       "      <th>dest_bytes</th>\n",
       "      <th>source_ttl</th>\n",
       "      <th>...</th>\n",
       "      <th>count_ftp_cmd</th>\n",
       "      <th>count_srv_source</th>\n",
       "      <th>count_srv_dest</th>\n",
       "      <th>count_dest_ltm</th>\n",
       "      <th>count_source_ltm</th>\n",
       "      <th>count_source_destport_ltm</th>\n",
       "      <th>count_dest_sourceport_ltm</th>\n",
       "      <th>counts_dest_source_ltm</th>\n",
       "      <th>attack_cat</th>\n",
       "      <th>Label</th>\n",
       "    </tr>\n",
       "  </thead>\n",
       "  <tbody>\n",
       "    <tr>\n",
       "      <th>0</th>\n",
       "      <td>59.166.0.0</td>\n",
       "      <td>1390</td>\n",
       "      <td>149.171.126.6</td>\n",
       "      <td>53</td>\n",
       "      <td>udp</td>\n",
       "      <td>CON</td>\n",
       "      <td>0.001055</td>\n",
       "      <td>132</td>\n",
       "      <td>164</td>\n",
       "      <td>31</td>\n",
       "      <td>...</td>\n",
       "      <td>0</td>\n",
       "      <td>3</td>\n",
       "      <td>7</td>\n",
       "      <td>1</td>\n",
       "      <td>3</td>\n",
       "      <td>1</td>\n",
       "      <td>1</td>\n",
       "      <td>1</td>\n",
       "      <td>NaN</td>\n",
       "      <td>0</td>\n",
       "    </tr>\n",
       "    <tr>\n",
       "      <th>1</th>\n",
       "      <td>59.166.0.0</td>\n",
       "      <td>33661</td>\n",
       "      <td>149.171.126.9</td>\n",
       "      <td>1024</td>\n",
       "      <td>udp</td>\n",
       "      <td>CON</td>\n",
       "      <td>0.036133</td>\n",
       "      <td>528</td>\n",
       "      <td>304</td>\n",
       "      <td>31</td>\n",
       "      <td>...</td>\n",
       "      <td>0</td>\n",
       "      <td>2</td>\n",
       "      <td>4</td>\n",
       "      <td>2</td>\n",
       "      <td>3</td>\n",
       "      <td>1</td>\n",
       "      <td>1</td>\n",
       "      <td>2</td>\n",
       "      <td>NaN</td>\n",
       "      <td>0</td>\n",
       "    </tr>\n",
       "    <tr>\n",
       "      <th>2</th>\n",
       "      <td>59.166.0.6</td>\n",
       "      <td>1464</td>\n",
       "      <td>149.171.126.7</td>\n",
       "      <td>53</td>\n",
       "      <td>udp</td>\n",
       "      <td>CON</td>\n",
       "      <td>0.001119</td>\n",
       "      <td>146</td>\n",
       "      <td>178</td>\n",
       "      <td>31</td>\n",
       "      <td>...</td>\n",
       "      <td>0</td>\n",
       "      <td>12</td>\n",
       "      <td>8</td>\n",
       "      <td>1</td>\n",
       "      <td>2</td>\n",
       "      <td>2</td>\n",
       "      <td>1</td>\n",
       "      <td>1</td>\n",
       "      <td>NaN</td>\n",
       "      <td>0</td>\n",
       "    </tr>\n",
       "    <tr>\n",
       "      <th>3</th>\n",
       "      <td>59.166.0.5</td>\n",
       "      <td>3593</td>\n",
       "      <td>149.171.126.5</td>\n",
       "      <td>53</td>\n",
       "      <td>udp</td>\n",
       "      <td>CON</td>\n",
       "      <td>0.001209</td>\n",
       "      <td>132</td>\n",
       "      <td>164</td>\n",
       "      <td>31</td>\n",
       "      <td>...</td>\n",
       "      <td>0</td>\n",
       "      <td>6</td>\n",
       "      <td>9</td>\n",
       "      <td>1</td>\n",
       "      <td>1</td>\n",
       "      <td>1</td>\n",
       "      <td>1</td>\n",
       "      <td>1</td>\n",
       "      <td>NaN</td>\n",
       "      <td>0</td>\n",
       "    </tr>\n",
       "    <tr>\n",
       "      <th>4</th>\n",
       "      <td>59.166.0.3</td>\n",
       "      <td>49664</td>\n",
       "      <td>149.171.126.0</td>\n",
       "      <td>53</td>\n",
       "      <td>udp</td>\n",
       "      <td>CON</td>\n",
       "      <td>0.001169</td>\n",
       "      <td>146</td>\n",
       "      <td>178</td>\n",
       "      <td>31</td>\n",
       "      <td>...</td>\n",
       "      <td>0</td>\n",
       "      <td>7</td>\n",
       "      <td>9</td>\n",
       "      <td>1</td>\n",
       "      <td>1</td>\n",
       "      <td>1</td>\n",
       "      <td>1</td>\n",
       "      <td>1</td>\n",
       "      <td>NaN</td>\n",
       "      <td>0</td>\n",
       "    </tr>\n",
       "  </tbody>\n",
       "</table>\n",
       "<p>5 rows × 49 columns</p>\n",
       "</div>"
      ],
      "text/plain": [
       "    source_ip source_port        dest_ip dest_port proto state  duration  \\\n",
       "0  59.166.0.0        1390  149.171.126.6        53   udp   CON  0.001055   \n",
       "1  59.166.0.0       33661  149.171.126.9      1024   udp   CON  0.036133   \n",
       "2  59.166.0.6        1464  149.171.126.7        53   udp   CON  0.001119   \n",
       "3  59.166.0.5        3593  149.171.126.5        53   udp   CON  0.001209   \n",
       "4  59.166.0.3       49664  149.171.126.0        53   udp   CON  0.001169   \n",
       "\n",
       "   source_bytes  dest_bytes  source_ttl  ...  count_ftp_cmd  count_srv_source  \\\n",
       "0           132         164          31  ...              0                 3   \n",
       "1           528         304          31  ...              0                 2   \n",
       "2           146         178          31  ...              0                12   \n",
       "3           132         164          31  ...              0                 6   \n",
       "4           146         178          31  ...              0                 7   \n",
       "\n",
       "   count_srv_dest count_dest_ltm  count_source_ltm  count_source_destport_ltm  \\\n",
       "0               7              1                 3                          1   \n",
       "1               4              2                 3                          1   \n",
       "2               8              1                 2                          2   \n",
       "3               9              1                 1                          1   \n",
       "4               9              1                 1                          1   \n",
       "\n",
       "   count_dest_sourceport_ltm  counts_dest_source_ltm  attack_cat  Label  \n",
       "0                          1                       1         NaN      0  \n",
       "1                          1                       2         NaN      0  \n",
       "2                          1                       1         NaN      0  \n",
       "3                          1                       1         NaN      0  \n",
       "4                          1                       1         NaN      0  \n",
       "\n",
       "[5 rows x 49 columns]"
      ]
     },
     "execution_count": 6,
     "metadata": {},
     "output_type": "execute_result"
    }
   ],
   "source": [
    "df.head()"
   ]
  },
  {
   "cell_type": "code",
   "execution_count": 7,
   "metadata": {},
   "outputs": [
    {
     "data": {
      "text/plain": [
       "(2540047, 49)"
      ]
     },
     "execution_count": 7,
     "metadata": {},
     "output_type": "execute_result"
    }
   ],
   "source": [
    "df.shape"
   ]
  },
  {
   "cell_type": "markdown",
   "metadata": {},
   "source": [
    "So we have the right headers on the data and have the correct shape so we've done the right steps to get our data into one data frame."
   ]
  },
  {
   "cell_type": "markdown",
   "metadata": {},
   "source": [
    "### EDA"
   ]
  },
  {
   "cell_type": "markdown",
   "metadata": {},
   "source": [
    "The properties of our data can cause errors when running neural networks on them. We look into the problems we may have with our data below during our elementary data analysis."
   ]
  },
  {
   "cell_type": "markdown",
   "metadata": {},
   "source": [
    "First we want to look for outliers to determine if we will have issues with too large values e.g. inf, or NaN values. Uncomment/comment the below code to allow visibility of all columns or the normal amount of columns (we need this since we have too many columns to display with normal options)."
   ]
  },
  {
   "cell_type": "code",
   "execution_count": 8,
   "metadata": {},
   "outputs": [],
   "source": [
    "# pd.options.display.max_columns = None\n",
    "pd.options.display.max_columns = 20"
   ]
  },
  {
   "cell_type": "code",
   "execution_count": 9,
   "metadata": {},
   "outputs": [
    {
     "data": {
      "text/html": [
       "<div>\n",
       "<style scoped>\n",
       "    .dataframe tbody tr th:only-of-type {\n",
       "        vertical-align: middle;\n",
       "    }\n",
       "\n",
       "    .dataframe tbody tr th {\n",
       "        vertical-align: top;\n",
       "    }\n",
       "\n",
       "    .dataframe thead th {\n",
       "        text-align: right;\n",
       "    }\n",
       "</style>\n",
       "<table border=\"1\" class=\"dataframe\">\n",
       "  <thead>\n",
       "    <tr style=\"text-align: right;\">\n",
       "      <th></th>\n",
       "      <th>duration</th>\n",
       "      <th>source_bytes</th>\n",
       "      <th>dest_bytes</th>\n",
       "      <th>source_ttl</th>\n",
       "      <th>dest_ttl</th>\n",
       "      <th>source_loss</th>\n",
       "      <th>dest_loss</th>\n",
       "      <th>source_load</th>\n",
       "      <th>dest_load</th>\n",
       "      <th>source_pkts</th>\n",
       "      <th>...</th>\n",
       "      <th>count_flw_http_mthd</th>\n",
       "      <th>is_ftp_login</th>\n",
       "      <th>count_srv_source</th>\n",
       "      <th>count_srv_dest</th>\n",
       "      <th>count_dest_ltm</th>\n",
       "      <th>count_source_ltm</th>\n",
       "      <th>count_source_destport_ltm</th>\n",
       "      <th>count_dest_sourceport_ltm</th>\n",
       "      <th>counts_dest_source_ltm</th>\n",
       "      <th>Label</th>\n",
       "    </tr>\n",
       "  </thead>\n",
       "  <tbody>\n",
       "    <tr>\n",
       "      <th>count</th>\n",
       "      <td>2.540047e+06</td>\n",
       "      <td>2.540047e+06</td>\n",
       "      <td>2.540047e+06</td>\n",
       "      <td>2.540047e+06</td>\n",
       "      <td>2.540047e+06</td>\n",
       "      <td>2.540047e+06</td>\n",
       "      <td>2.540047e+06</td>\n",
       "      <td>2.540047e+06</td>\n",
       "      <td>2.540047e+06</td>\n",
       "      <td>2.540047e+06</td>\n",
       "      <td>...</td>\n",
       "      <td>1.191902e+06</td>\n",
       "      <td>1.110168e+06</td>\n",
       "      <td>2.540047e+06</td>\n",
       "      <td>2.540047e+06</td>\n",
       "      <td>2.540047e+06</td>\n",
       "      <td>2.540047e+06</td>\n",
       "      <td>2.540047e+06</td>\n",
       "      <td>2.540047e+06</td>\n",
       "      <td>2.540047e+06</td>\n",
       "      <td>2.540047e+06</td>\n",
       "    </tr>\n",
       "    <tr>\n",
       "      <th>mean</th>\n",
       "      <td>6.587916e-01</td>\n",
       "      <td>4.339600e+03</td>\n",
       "      <td>3.642759e+04</td>\n",
       "      <td>6.278197e+01</td>\n",
       "      <td>3.076681e+01</td>\n",
       "      <td>5.163921e+00</td>\n",
       "      <td>1.632944e+01</td>\n",
       "      <td>3.695645e+07</td>\n",
       "      <td>2.450861e+06</td>\n",
       "      <td>3.328884e+01</td>\n",
       "      <td>...</td>\n",
       "      <td>2.345856e-01</td>\n",
       "      <td>3.969940e-02</td>\n",
       "      <td>9.206988e+00</td>\n",
       "      <td>8.988958e+00</td>\n",
       "      <td>6.439103e+00</td>\n",
       "      <td>6.900986e+00</td>\n",
       "      <td>4.642139e+00</td>\n",
       "      <td>3.592729e+00</td>\n",
       "      <td>6.845886e+00</td>\n",
       "      <td>1.264870e-01</td>\n",
       "    </tr>\n",
       "    <tr>\n",
       "      <th>std</th>\n",
       "      <td>1.392493e+01</td>\n",
       "      <td>5.640599e+04</td>\n",
       "      <td>1.610960e+05</td>\n",
       "      <td>7.462277e+01</td>\n",
       "      <td>4.285089e+01</td>\n",
       "      <td>2.251707e+01</td>\n",
       "      <td>5.659474e+01</td>\n",
       "      <td>1.186043e+08</td>\n",
       "      <td>4.224863e+06</td>\n",
       "      <td>7.628388e+01</td>\n",
       "      <td>...</td>\n",
       "      <td>7.940924e-01</td>\n",
       "      <td>1.996589e-01</td>\n",
       "      <td>1.083676e+01</td>\n",
       "      <td>1.082249e+01</td>\n",
       "      <td>8.162034e+00</td>\n",
       "      <td>8.205062e+00</td>\n",
       "      <td>8.477579e+00</td>\n",
       "      <td>6.174445e+00</td>\n",
       "      <td>1.125828e+01</td>\n",
       "      <td>3.323975e-01</td>\n",
       "    </tr>\n",
       "    <tr>\n",
       "      <th>min</th>\n",
       "      <td>0.000000e+00</td>\n",
       "      <td>0.000000e+00</td>\n",
       "      <td>0.000000e+00</td>\n",
       "      <td>0.000000e+00</td>\n",
       "      <td>0.000000e+00</td>\n",
       "      <td>0.000000e+00</td>\n",
       "      <td>0.000000e+00</td>\n",
       "      <td>0.000000e+00</td>\n",
       "      <td>0.000000e+00</td>\n",
       "      <td>0.000000e+00</td>\n",
       "      <td>...</td>\n",
       "      <td>0.000000e+00</td>\n",
       "      <td>0.000000e+00</td>\n",
       "      <td>1.000000e+00</td>\n",
       "      <td>1.000000e+00</td>\n",
       "      <td>1.000000e+00</td>\n",
       "      <td>1.000000e+00</td>\n",
       "      <td>1.000000e+00</td>\n",
       "      <td>1.000000e+00</td>\n",
       "      <td>1.000000e+00</td>\n",
       "      <td>0.000000e+00</td>\n",
       "    </tr>\n",
       "    <tr>\n",
       "      <th>25%</th>\n",
       "      <td>1.037000e-03</td>\n",
       "      <td>2.000000e+02</td>\n",
       "      <td>1.780000e+02</td>\n",
       "      <td>3.100000e+01</td>\n",
       "      <td>2.900000e+01</td>\n",
       "      <td>0.000000e+00</td>\n",
       "      <td>0.000000e+00</td>\n",
       "      <td>1.353963e+05</td>\n",
       "      <td>1.191594e+04</td>\n",
       "      <td>2.000000e+00</td>\n",
       "      <td>...</td>\n",
       "      <td>0.000000e+00</td>\n",
       "      <td>0.000000e+00</td>\n",
       "      <td>2.000000e+00</td>\n",
       "      <td>2.000000e+00</td>\n",
       "      <td>2.000000e+00</td>\n",
       "      <td>2.000000e+00</td>\n",
       "      <td>1.000000e+00</td>\n",
       "      <td>1.000000e+00</td>\n",
       "      <td>1.000000e+00</td>\n",
       "      <td>0.000000e+00</td>\n",
       "    </tr>\n",
       "    <tr>\n",
       "      <th>50%</th>\n",
       "      <td>1.586100e-02</td>\n",
       "      <td>1.470000e+03</td>\n",
       "      <td>1.820000e+03</td>\n",
       "      <td>3.100000e+01</td>\n",
       "      <td>2.900000e+01</td>\n",
       "      <td>3.000000e+00</td>\n",
       "      <td>4.000000e+00</td>\n",
       "      <td>5.893038e+05</td>\n",
       "      <td>5.893179e+05</td>\n",
       "      <td>1.200000e+01</td>\n",
       "      <td>...</td>\n",
       "      <td>0.000000e+00</td>\n",
       "      <td>0.000000e+00</td>\n",
       "      <td>5.000000e+00</td>\n",
       "      <td>5.000000e+00</td>\n",
       "      <td>3.000000e+00</td>\n",
       "      <td>4.000000e+00</td>\n",
       "      <td>1.000000e+00</td>\n",
       "      <td>1.000000e+00</td>\n",
       "      <td>2.000000e+00</td>\n",
       "      <td>0.000000e+00</td>\n",
       "    </tr>\n",
       "    <tr>\n",
       "      <th>75%</th>\n",
       "      <td>2.145545e-01</td>\n",
       "      <td>3.182000e+03</td>\n",
       "      <td>1.489400e+04</td>\n",
       "      <td>3.100000e+01</td>\n",
       "      <td>2.900000e+01</td>\n",
       "      <td>7.000000e+00</td>\n",
       "      <td>1.400000e+01</td>\n",
       "      <td>2.039923e+06</td>\n",
       "      <td>2.925974e+06</td>\n",
       "      <td>4.400000e+01</td>\n",
       "      <td>...</td>\n",
       "      <td>0.000000e+00</td>\n",
       "      <td>0.000000e+00</td>\n",
       "      <td>1.000000e+01</td>\n",
       "      <td>1.000000e+01</td>\n",
       "      <td>6.000000e+00</td>\n",
       "      <td>7.000000e+00</td>\n",
       "      <td>2.000000e+00</td>\n",
       "      <td>1.000000e+00</td>\n",
       "      <td>5.000000e+00</td>\n",
       "      <td>0.000000e+00</td>\n",
       "    </tr>\n",
       "    <tr>\n",
       "      <th>max</th>\n",
       "      <td>8.786638e+03</td>\n",
       "      <td>1.435577e+07</td>\n",
       "      <td>1.465753e+07</td>\n",
       "      <td>2.550000e+02</td>\n",
       "      <td>2.540000e+02</td>\n",
       "      <td>5.319000e+03</td>\n",
       "      <td>5.507000e+03</td>\n",
       "      <td>5.988000e+09</td>\n",
       "      <td>1.287619e+08</td>\n",
       "      <td>1.064600e+04</td>\n",
       "      <td>...</td>\n",
       "      <td>3.600000e+01</td>\n",
       "      <td>4.000000e+00</td>\n",
       "      <td>6.700000e+01</td>\n",
       "      <td>6.700000e+01</td>\n",
       "      <td>6.700000e+01</td>\n",
       "      <td>6.700000e+01</td>\n",
       "      <td>6.700000e+01</td>\n",
       "      <td>6.000000e+01</td>\n",
       "      <td>6.700000e+01</td>\n",
       "      <td>1.000000e+00</td>\n",
       "    </tr>\n",
       "  </tbody>\n",
       "</table>\n",
       "<p>8 rows × 40 columns</p>\n",
       "</div>"
      ],
      "text/plain": [
       "           duration  source_bytes    dest_bytes    source_ttl      dest_ttl  \\\n",
       "count  2.540047e+06  2.540047e+06  2.540047e+06  2.540047e+06  2.540047e+06   \n",
       "mean   6.587916e-01  4.339600e+03  3.642759e+04  6.278197e+01  3.076681e+01   \n",
       "std    1.392493e+01  5.640599e+04  1.610960e+05  7.462277e+01  4.285089e+01   \n",
       "min    0.000000e+00  0.000000e+00  0.000000e+00  0.000000e+00  0.000000e+00   \n",
       "25%    1.037000e-03  2.000000e+02  1.780000e+02  3.100000e+01  2.900000e+01   \n",
       "50%    1.586100e-02  1.470000e+03  1.820000e+03  3.100000e+01  2.900000e+01   \n",
       "75%    2.145545e-01  3.182000e+03  1.489400e+04  3.100000e+01  2.900000e+01   \n",
       "max    8.786638e+03  1.435577e+07  1.465753e+07  2.550000e+02  2.540000e+02   \n",
       "\n",
       "        source_loss     dest_loss   source_load     dest_load   source_pkts  \\\n",
       "count  2.540047e+06  2.540047e+06  2.540047e+06  2.540047e+06  2.540047e+06   \n",
       "mean   5.163921e+00  1.632944e+01  3.695645e+07  2.450861e+06  3.328884e+01   \n",
       "std    2.251707e+01  5.659474e+01  1.186043e+08  4.224863e+06  7.628388e+01   \n",
       "min    0.000000e+00  0.000000e+00  0.000000e+00  0.000000e+00  0.000000e+00   \n",
       "25%    0.000000e+00  0.000000e+00  1.353963e+05  1.191594e+04  2.000000e+00   \n",
       "50%    3.000000e+00  4.000000e+00  5.893038e+05  5.893179e+05  1.200000e+01   \n",
       "75%    7.000000e+00  1.400000e+01  2.039923e+06  2.925974e+06  4.400000e+01   \n",
       "max    5.319000e+03  5.507000e+03  5.988000e+09  1.287619e+08  1.064600e+04   \n",
       "\n",
       "       ...  count_flw_http_mthd  is_ftp_login  count_srv_source  \\\n",
       "count  ...         1.191902e+06  1.110168e+06      2.540047e+06   \n",
       "mean   ...         2.345856e-01  3.969940e-02      9.206988e+00   \n",
       "std    ...         7.940924e-01  1.996589e-01      1.083676e+01   \n",
       "min    ...         0.000000e+00  0.000000e+00      1.000000e+00   \n",
       "25%    ...         0.000000e+00  0.000000e+00      2.000000e+00   \n",
       "50%    ...         0.000000e+00  0.000000e+00      5.000000e+00   \n",
       "75%    ...         0.000000e+00  0.000000e+00      1.000000e+01   \n",
       "max    ...         3.600000e+01  4.000000e+00      6.700000e+01   \n",
       "\n",
       "       count_srv_dest  count_dest_ltm  count_source_ltm  \\\n",
       "count    2.540047e+06    2.540047e+06      2.540047e+06   \n",
       "mean     8.988958e+00    6.439103e+00      6.900986e+00   \n",
       "std      1.082249e+01    8.162034e+00      8.205062e+00   \n",
       "min      1.000000e+00    1.000000e+00      1.000000e+00   \n",
       "25%      2.000000e+00    2.000000e+00      2.000000e+00   \n",
       "50%      5.000000e+00    3.000000e+00      4.000000e+00   \n",
       "75%      1.000000e+01    6.000000e+00      7.000000e+00   \n",
       "max      6.700000e+01    6.700000e+01      6.700000e+01   \n",
       "\n",
       "       count_source_destport_ltm  count_dest_sourceport_ltm  \\\n",
       "count               2.540047e+06               2.540047e+06   \n",
       "mean                4.642139e+00               3.592729e+00   \n",
       "std                 8.477579e+00               6.174445e+00   \n",
       "min                 1.000000e+00               1.000000e+00   \n",
       "25%                 1.000000e+00               1.000000e+00   \n",
       "50%                 1.000000e+00               1.000000e+00   \n",
       "75%                 2.000000e+00               1.000000e+00   \n",
       "max                 6.700000e+01               6.000000e+01   \n",
       "\n",
       "       counts_dest_source_ltm         Label  \n",
       "count            2.540047e+06  2.540047e+06  \n",
       "mean             6.845886e+00  1.264870e-01  \n",
       "std              1.125828e+01  3.323975e-01  \n",
       "min              1.000000e+00  0.000000e+00  \n",
       "25%              1.000000e+00  0.000000e+00  \n",
       "50%              2.000000e+00  0.000000e+00  \n",
       "75%              5.000000e+00  0.000000e+00  \n",
       "max              6.700000e+01  1.000000e+00  \n",
       "\n",
       "[8 rows x 40 columns]"
      ]
     },
     "execution_count": 9,
     "metadata": {},
     "output_type": "execute_result"
    }
   ],
   "source": [
    "df.describe()"
   ]
  },
  {
   "cell_type": "markdown",
   "metadata": {},
   "source": [
    "From this we see that we have no concerns with infinite values and no conerns with NaN values. Standardisation may still be an issue here but this at least rules out complications with these specific values."
   ]
  },
  {
   "cell_type": "markdown",
   "metadata": {},
   "source": [
    "One of the considerations in the Neural Network workshop is floating point fragility. Below shows the maximum values in our data and also our maximum values running on both a GPU and a CPU."
   ]
  },
  {
   "cell_type": "code",
   "execution_count": 10,
   "metadata": {},
   "outputs": [
    {
     "data": {
      "text/plain": [
       "source_ip                     59.166.0.9\n",
       "dest_ip                       59.166.0.9\n",
       "proto                               zero\n",
       "state                                 no\n",
       "duration                         8786.64\n",
       "source_bytes                    14355774\n",
       "dest_bytes                      14657531\n",
       "source_ttl                           255\n",
       "dest_ttl                             254\n",
       "source_loss                         5319\n",
       "dest_loss                           5507\n",
       "service                              ssl\n",
       "source_load                    5.988e+09\n",
       "dest_load                    1.28762e+08\n",
       "source_pkts                        10646\n",
       "dest_pkts                          11018\n",
       "source_TP_win                        255\n",
       "dest_TP_win                          255\n",
       "source_tcp_bn                 4294958913\n",
       "dest_tcp_bn                   4294953724\n",
       "source_mean_sz                      1504\n",
       "dest_mean_sz                        1500\n",
       "trans_depth                          172\n",
       "res_bdy_len                      6558056\n",
       "source_jitter                1.48383e+06\n",
       "dest_jitter                       781221\n",
       "start_time                    1424262068\n",
       "last_time                     1424262069\n",
       "source_int_pk_time               84371.5\n",
       "dest_int_pk_time                 59485.3\n",
       "tcp_rtt                          10.0375\n",
       "synack                           4.52527\n",
       "ackdat                           5.51223\n",
       "is_sm_ips_ports                        1\n",
       "count_state_ttl                        6\n",
       "count_flw_http_mthd                   36\n",
       "is_ftp_login                           4\n",
       "count_srv_source                      67\n",
       "count_srv_dest                        67\n",
       "count_dest_ltm                        67\n",
       "count_source_ltm                      67\n",
       "count_source_destport_ltm             67\n",
       "count_dest_sourceport_ltm             60\n",
       "counts_dest_source_ltm                67\n",
       "Label                                  1\n",
       "dtype: object"
      ]
     },
     "execution_count": 10,
     "metadata": {},
     "output_type": "execute_result"
    }
   ],
   "source": [
    "df.max()"
   ]
  },
  {
   "cell_type": "code",
   "execution_count": 11,
   "metadata": {},
   "outputs": [
    {
     "data": {
      "text/plain": [
       "[3.4028235e+38, 1.7976931348623157e+308]"
      ]
     },
     "execution_count": 11,
     "metadata": {},
     "output_type": "execute_result"
    }
   ],
   "source": [
    "[np.finfo(np.float32).max, np.finfo(np.float64).max]"
   ]
  },
  {
   "cell_type": "markdown",
   "metadata": {},
   "source": [
    "Thus we see that our maximums are much smaller than the maximum we can process and thus we should be fine."
   ]
  },
  {
   "cell_type": "markdown",
   "metadata": {},
   "source": [
    "We first take a look at the attacks in the data set."
   ]
  },
  {
   "cell_type": "code",
   "execution_count": 12,
   "metadata": {},
   "outputs": [],
   "source": [
    "df['attack_cat'] = df['attack_cat'].fillna('Normal')"
   ]
  },
  {
   "cell_type": "code",
   "execution_count": 13,
   "metadata": {},
   "outputs": [],
   "source": [
    "attack_cat_counts = pd.DataFrame(df['attack_cat'].value_counts())\n",
    "ac_names = attack_cat_counts.index.values\n",
    "ac_names = np.delete(ac_names,0)\n",
    "ac_counts = np.array(attack_cat_counts['attack_cat'])\n",
    "ac_counts = np.delete(ac_counts,0)\n",
    "\n",
    "label_counts = pd.DataFrame(df['Label'].value_counts())\n",
    "label_names = ['normal','attack']\n",
    "label_counts = np.array(label_counts['Label'])"
   ]
  },
  {
   "cell_type": "code",
   "execution_count": 14,
   "metadata": {},
   "outputs": [
    {
     "data": {
      "image/png": "[encoded data removed]",
      "text/plain": [
       "<Figure size 864x864 with 2 Axes>"
      ]
     },
     "metadata": {},
     "output_type": "display_data"
    }
   ],
   "source": [
    "fig, ax = plt.subplots(1,2, figsize=(12,12))\n",
    "\n",
    "ax[0].pie(label_counts, labels=label_names, autopct='%1.1f%%')\n",
    "\n",
    "ax[1].pie(ac_counts, labels=ac_names, autopct='%1.1f%%')\n",
    "\n",
    "ax[0].set_title('Pie charts showing the ratio of normal traffic vs attacks')\n",
    "ax[1].set_title('Pie charts showing the frequency of attacks')\n",
    "\n",
    "plt.show()"
   ]
  },
  {
   "cell_type": "code",
   "execution_count": 15,
   "metadata": {},
   "outputs": [
    {
     "data": {
      "text/plain": [
       "array(['Generic', 'Exploits', ' Fuzzers ', 'DoS', ' Reconnaissance ',\n",
       "       ' Fuzzers', 'Analysis', 'Backdoor', 'Reconnaissance',\n",
       "       ' Shellcode ', 'Backdoors', 'Shellcode', 'Worms'], dtype=object)"
      ]
     },
     "execution_count": 15,
     "metadata": {},
     "output_type": "execute_result"
    }
   ],
   "source": [
    "ac_names"
   ]
  },
  {
   "cell_type": "markdown",
   "metadata": {},
   "source": [
    "Here we can see that there are inconsistencies between the attack types. This leads to errors later on which we need to fix. This involves replacing ' Fuzzers ' with 'Fuzzers' etc."
   ]
  },
  {
   "cell_type": "markdown",
   "metadata": {},
   "source": [
    "We want to have a look at missingness in our data, especially NaN values."
   ]
  },
  {
   "cell_type": "code",
   "execution_count": 16,
   "metadata": {},
   "outputs": [
    {
     "name": "stdout",
     "output_type": "stream",
     "text": [
      "The columns with na/nan values in them are: ['count_flw_http_mthd', 'is_ftp_login']\n"
     ]
    }
   ],
   "source": [
    "l = []\n",
    "colnames = df.columns\n",
    "\n",
    "for name in colnames:\n",
    "    if df[name].isnull().values.any():\n",
    "        l.append(name)\n",
    "        \n",
    "print('The columns with na/nan values in them are: ' + str(l))"
   ]
  },
  {
   "cell_type": "markdown",
   "metadata": {},
   "source": [
    "We expect attack_cat to have NaN values there as this is specified in the introduction for the data (anything that isn't an attack gets assigned the value NaN). With the help of Alex's analysis, we find that count_flw_http_mthd, is_ftp_login and count_ftp_cmd are missing values, and have NaN values. The first two are easily handled but we want to look into count_ftp_cmd to see what this is actually represented as."
   ]
  },
  {
   "cell_type": "code",
   "execution_count": 17,
   "metadata": {},
   "outputs": [
    {
     "data": {
      "text/plain": [
       "count_ftp_cmd\n",
       "0    1056339\n",
       "1      17087\n",
       "2       1234\n",
       "3        729\n",
       "4        804\n",
       "5        290\n",
       "6        332\n",
       "8         18\n",
       "     1429879\n",
       "0      10159\n",
       "1      22990\n",
       "2         30\n",
       "4        156\n",
       "dtype: int64"
      ]
     },
     "execution_count": 17,
     "metadata": {},
     "output_type": "execute_result"
    }
   ],
   "source": [
    "df.groupby('count_ftp_cmd').size()"
   ]
  },
  {
   "cell_type": "markdown",
   "metadata": {},
   "source": [
    "So they're just empty values, we handle this later!"
   ]
  },
  {
   "cell_type": "markdown",
   "metadata": {},
   "source": [
    "### Pre-Processing"
   ]
  },
  {
   "cell_type": "markdown",
   "metadata": {},
   "source": [
    "We need to pre-process our data before putting it into our neural network. This process takes place here."
   ]
  },
  {
   "cell_type": "markdown",
   "metadata": {},
   "source": [
    "From the EDA above, we realised (after some awful effort) that there are NaN in our data so we sort this first. \n",
    "\n",
    "Count_flw_http_mthd is: 'No. of flows that has methods such as Get and Post in http service.'. Due to this and the fact that the median value for this is 0, we impute the missing values as 0. \n",
    "\n",
    "Is_ftp_login is: 'If the ftp session is accessed by user and password then 1 else 0.' For some reason this doesnt match our data above (we have values of 2 and 4 in this column) but we will assume that the description is correct and therefore similarly impute as 0.\n",
    "\n",
    "Finally, we need to adjust the count_ftp_cmd which is: 'No of flows that has a command in ftp session.'. Since again the median is 0, and to follow Alex's work, we impute with 0's since there is no easy way to determine the size of these (note that we could run a model to predict these but since that's not the main purpose of this project we'll omit this with the knowledge that with more time we should do this for better work)."
   ]
  },
  {
   "cell_type": "code",
   "execution_count": 18,
   "metadata": {},
   "outputs": [],
   "source": [
    "df = df.fillna(0)"
   ]
  },
  {
   "cell_type": "code",
   "execution_count": 19,
   "metadata": {},
   "outputs": [
    {
     "data": {
      "text/plain": [
       "count_flw_http_mthd\n",
       "0.0     2334936\n",
       "1.0      188008\n",
       "2.0         588\n",
       "3.0         738\n",
       "4.0        6564\n",
       "5.0         430\n",
       "6.0        7902\n",
       "8.0          56\n",
       "9.0         270\n",
       "10.0         30\n",
       "12.0        132\n",
       "14.0        224\n",
       "16.0         48\n",
       "25.0         25\n",
       "30.0         60\n",
       "36.0         36\n",
       "dtype: int64"
      ]
     },
     "execution_count": 19,
     "metadata": {},
     "output_type": "execute_result"
    }
   ],
   "source": [
    "df.groupby('count_flw_http_mthd').size()"
   ]
  },
  {
   "cell_type": "code",
   "execution_count": 20,
   "metadata": {
    "scrolled": true
   },
   "outputs": [
    {
     "data": {
      "text/plain": [
       "is_ftp_login\n",
       "0.0    2496472\n",
       "1.0      43389\n",
       "2.0         30\n",
       "4.0        156\n",
       "dtype: int64"
      ]
     },
     "execution_count": 20,
     "metadata": {},
     "output_type": "execute_result"
    }
   ],
   "source": [
    "df.groupby('is_ftp_login').size()"
   ]
  },
  {
   "cell_type": "code",
   "execution_count": 21,
   "metadata": {},
   "outputs": [],
   "source": [
    "df['count_ftp_cmd'] = df['count_ftp_cmd'].replace(' ',0)"
   ]
  },
  {
   "cell_type": "code",
   "execution_count": 22,
   "metadata": {},
   "outputs": [
    {
     "data": {
      "text/plain": [
       "count_ftp_cmd\n",
       "0    2486218\n",
       "1      17087\n",
       "2       1234\n",
       "3        729\n",
       "4        804\n",
       "5        290\n",
       "6        332\n",
       "8         18\n",
       "0      10159\n",
       "1      22990\n",
       "2         30\n",
       "4        156\n",
       "dtype: int64"
      ]
     },
     "execution_count": 22,
     "metadata": {},
     "output_type": "execute_result"
    }
   ],
   "source": [
    "df.groupby('count_ftp_cmd').size()"
   ]
  },
  {
   "cell_type": "markdown",
   "metadata": {},
   "source": [
    "So it looks like we've handled these!\n",
    "\n",
    "We now look into replacing the attack categories so that there is consistency between the naming."
   ]
  },
  {
   "cell_type": "code",
   "execution_count": 23,
   "metadata": {},
   "outputs": [
    {
     "data": {
      "text/plain": [
       "attack_cat\n",
       " Fuzzers               5051\n",
       " Fuzzers              19195\n",
       " Reconnaissance       12228\n",
       " Shellcode             1288\n",
       "Analysis               2677\n",
       "Backdoor               1795\n",
       "Backdoors               534\n",
       "DoS                   16353\n",
       "Exploits              44525\n",
       "Generic              215481\n",
       "Normal              2218764\n",
       "Reconnaissance         1759\n",
       "Shellcode               223\n",
       "Worms                   174\n",
       "dtype: int64"
      ]
     },
     "execution_count": 23,
     "metadata": {},
     "output_type": "execute_result"
    }
   ],
   "source": [
    "df.groupby('attack_cat').size()"
   ]
  },
  {
   "cell_type": "code",
   "execution_count": 24,
   "metadata": {},
   "outputs": [],
   "source": [
    "df['attack_cat'] = df['attack_cat'].map({'Normal': 'Normal', 'Exploits': 'Exploits', ' Fuzzers ': 'Fuzzers', 'DoS': 'DoS',\n",
    "                                          ' Reconnaissance ': 'Reconnaissance', ' Fuzzers': 'Fuzzers', 'Analysis': 'Analysis',\n",
    "                                         'Backdoor': 'Backdoor', 'Reconnaissance': 'Reconnaissance',  ' Shellcode ': 'Shellcode',\n",
    "                                         'Backdoors': 'Backdoor', 'Shellcode': 'Shellcode',  'Worms': 'Worms', 'Generic': 'Generic'})"
   ]
  },
  {
   "cell_type": "code",
   "execution_count": 25,
   "metadata": {},
   "outputs": [
    {
     "data": {
      "text/plain": [
       "attack_cat\n",
       "Analysis             2677\n",
       "Backdoor             2329\n",
       "DoS                 16353\n",
       "Exploits            44525\n",
       "Fuzzers             24246\n",
       "Generic            215481\n",
       "Normal            2218764\n",
       "Reconnaissance      13987\n",
       "Shellcode            1511\n",
       "Worms                 174\n",
       "dtype: int64"
      ]
     },
     "execution_count": 25,
     "metadata": {},
     "output_type": "execute_result"
    }
   ],
   "source": [
    "df.groupby('attack_cat').size()"
   ]
  },
  {
   "cell_type": "markdown",
   "metadata": {},
   "source": [
    "So we've fixed this issue and merged everything correctly!"
   ]
  },
  {
   "cell_type": "markdown",
   "metadata": {},
   "source": [
    "Neural networks process mathematical data e.g. float64 or int64 so we want to turn all of our data into these data types. We'll check the data types we've got to work with and change these to the correct data types where they are objects."
   ]
  },
  {
   "cell_type": "code",
   "execution_count": 26,
   "metadata": {},
   "outputs": [
    {
     "name": "stdout",
     "output_type": "stream",
     "text": [
      "The following columns need their data type changed to integer/float: \n",
      "---------------------------------------------------------------------\n"
     ]
    },
    {
     "data": {
      "text/plain": [
       "['source_ip',\n",
       " 'source_port',\n",
       " 'dest_ip',\n",
       " 'dest_port',\n",
       " 'proto',\n",
       " 'state',\n",
       " 'service',\n",
       " 'count_ftp_cmd',\n",
       " 'attack_cat']"
      ]
     },
     "execution_count": 26,
     "metadata": {},
     "output_type": "execute_result"
    }
   ],
   "source": [
    "lst = []\n",
    "\n",
    "for head in colnames:\n",
    "    if df[head].dtypes == 'O':\n",
    "        lst.append(head)\n",
    "        \n",
    "print('The following columns need their data type changed to integer/float: ')\n",
    "print('---------------------------------------------------------------------')\n",
    "lst"
   ]
  },
  {
   "cell_type": "markdown",
   "metadata": {},
   "source": [
    "We now look at the columns with non integer entries and convert them to such so that they can be used in our neural networks. This is similar to the process I carried out in assessment 1 and may not be the quickest but is fairly foolproof so I'll keep using it here unless it creates issues with time."
   ]
  },
  {
   "cell_type": "code",
   "execution_count": 27,
   "metadata": {},
   "outputs": [],
   "source": [
    "df_source_ip = pd.DataFrame(df['source_ip'])\n",
    "df_source_port = pd.DataFrame(df['source_port'])\n",
    "df_dest_ip = pd.DataFrame(df['dest_ip'])\n",
    "df_dest_port = pd.DataFrame(df['dest_port'])\n",
    "df_proto = pd.DataFrame(df['proto'])\n",
    "df_state = pd.DataFrame(df['state'])\n",
    "df_service = pd.DataFrame(df['service'])\n",
    "df_count_ftp_cmd = pd.DataFrame(df['count_ftp_cmd'])\n",
    "df_attack_cat = pd.DataFrame(df['attack_cat'])"
   ]
  },
  {
   "cell_type": "code",
   "execution_count": 28,
   "metadata": {},
   "outputs": [],
   "source": [
    "# we now create dictionaries to allow us to map onto the data frame\n",
    "\n",
    "sips = df.source_ip.unique()\n",
    "sip_dict = dict(zip(sips,range(len(sips))))\n",
    "\n",
    "sp = df.source_port.unique()\n",
    "sp_dict = dict(zip(sp,range(len(sp))))\n",
    "               \n",
    "dips = df.dest_ip.unique()\n",
    "dip_dict = dict(zip(dips,range(len(dips))))\n",
    "\n",
    "dp = df.dest_port.unique()\n",
    "dp_dict = dict(zip(dp,range(len(dp))))\n",
    "\n",
    "p = df.proto.unique()\n",
    "p_dict = dict(zip(p,range(len(p))))\n",
    "\n",
    "states = df.state.unique()\n",
    "state_dict = dict(zip(states,range(len(states))))\n",
    "\n",
    "services = df.service.unique()\n",
    "service_dict = dict(zip(services,range(len(services))))\n",
    "\n",
    "cfc = df.count_ftp_cmd.unique()\n",
    "cfc_dict = dict(zip(cfc,range(len(cfc))))\n",
    "\n",
    "ac = df.attack_cat.unique()\n",
    "ac_dict = dict(zip(ac,range(len(ac))))"
   ]
  },
  {
   "cell_type": "code",
   "execution_count": 29,
   "metadata": {},
   "outputs": [],
   "source": [
    "# we map these dictionaries onto our data frames\n",
    "#df['source_ip_int'] = df['source_ip'].replace(sip_dict)\n",
    "#df['source_port_int'] = df['source_port'].replace(sp_dict)\n",
    "#df['dest_ip_int'] = df['dest_ip'].replace(dip_dict)\n",
    "#df['dest_port_int'] = df['dest_port'].replace(dp_dict)\n",
    "#df['proto_int'] = df['proto'].replace(p_dict)\n",
    "#df['state_int'] = df['state'].replace(state_dict)\n",
    "#df['service_int'] = df['service'].replace(service_dict)\n",
    "#df['count_ftp_cmd_int'] = df['count_ftp_cmd'].replace(cfc_dict)\n",
    "#df['attack_cat_int'] = df['attack_cat'].replace(ac_dict)\n",
    "\n",
    "df['source_ip_int'] = df['source_ip'].map(sip_dict)\n",
    "df['source_port_int'] = df['source_port'].map(sp_dict)\n",
    "df['dest_ip_int'] = df['dest_ip'].map(dip_dict)\n",
    "df['dest_port_int'] = df['dest_port'].map(dp_dict)\n",
    "df['proto_int'] = df['proto'].map(p_dict)\n",
    "df['state_int'] = df['state'].map(state_dict)\n",
    "df['service_int'] = df['service'].map(service_dict)\n",
    "df['count_ftp_cmd_int'] = df['count_ftp_cmd'].map(cfc_dict)\n",
    "df['attack_cat_int'] = df['attack_cat'].map(ac_dict)"
   ]
  },
  {
   "cell_type": "code",
   "execution_count": 30,
   "metadata": {},
   "outputs": [],
   "source": [
    "# we now drop the original columns since they are replicated in the above columns\n",
    "df = df.drop('source_ip',axis=1)\n",
    "df = df.drop('source_port',axis=1)\n",
    "df = df.drop('dest_ip',axis=1)\n",
    "df = df.drop('dest_port',axis=1)\n",
    "df = df.drop('proto',axis=1)\n",
    "df = df.drop('state',axis=1)\n",
    "df = df.drop('service',axis=1)\n",
    "df = df.drop('count_ftp_cmd',axis=1)\n",
    "df = df.drop('attack_cat',axis=1)"
   ]
  },
  {
   "cell_type": "code",
   "execution_count": 31,
   "metadata": {},
   "outputs": [
    {
     "data": {
      "text/plain": [
       "duration                     float64\n",
       "source_bytes                   int64\n",
       "dest_bytes                     int64\n",
       "source_ttl                     int64\n",
       "dest_ttl                       int64\n",
       "source_loss                    int64\n",
       "dest_loss                      int64\n",
       "source_load                  float64\n",
       "dest_load                    float64\n",
       "source_pkts                    int64\n",
       "dest_pkts                      int64\n",
       "source_TP_win                  int64\n",
       "dest_TP_win                    int64\n",
       "source_tcp_bn                  int64\n",
       "dest_tcp_bn                    int64\n",
       "source_mean_sz                 int64\n",
       "dest_mean_sz                   int64\n",
       "trans_depth                    int64\n",
       "res_bdy_len                    int64\n",
       "source_jitter                float64\n",
       "dest_jitter                  float64\n",
       "start_time                     int64\n",
       "last_time                      int64\n",
       "source_int_pk_time           float64\n",
       "dest_int_pk_time             float64\n",
       "tcp_rtt                      float64\n",
       "synack                       float64\n",
       "ackdat                       float64\n",
       "is_sm_ips_ports                int64\n",
       "count_state_ttl                int64\n",
       "count_flw_http_mthd          float64\n",
       "is_ftp_login                 float64\n",
       "count_srv_source               int64\n",
       "count_srv_dest                 int64\n",
       "count_dest_ltm                 int64\n",
       "count_source_ltm               int64\n",
       "count_source_destport_ltm      int64\n",
       "count_dest_sourceport_ltm      int64\n",
       "counts_dest_source_ltm         int64\n",
       "Label                          int64\n",
       "source_ip_int                  int64\n",
       "source_port_int                int64\n",
       "dest_ip_int                    int64\n",
       "dest_port_int                  int64\n",
       "proto_int                      int64\n",
       "state_int                      int64\n",
       "service_int                    int64\n",
       "count_ftp_cmd_int              int64\n",
       "attack_cat_int                 int64\n",
       "dtype: object"
      ]
     },
     "execution_count": 31,
     "metadata": {},
     "output_type": "execute_result"
    }
   ],
   "source": [
    "df.dtypes"
   ]
  },
  {
   "cell_type": "markdown",
   "metadata": {},
   "source": [
    "So we now have all of the data in the correct type to be able to use in a neural network!"
   ]
  },
  {
   "cell_type": "code",
   "execution_count": 32,
   "metadata": {},
   "outputs": [
    {
     "name": "stdout",
     "output_type": "stream",
     "text": [
      "The columns with na/nan values in them are: []\n"
     ]
    }
   ],
   "source": [
    "l = []\n",
    "colnames = df.columns\n",
    "\n",
    "for name in colnames:\n",
    "    if df[name].isnull().values.any():\n",
    "        l.append(name)\n",
    "        \n",
    "print('The columns with na/nan values in them are: ' + str(l))"
   ]
  },
  {
   "cell_type": "markdown",
   "metadata": {},
   "source": [
    "We're focusing on attack classification, not binary classification so we're going to remove the label feature."
   ]
  },
  {
   "cell_type": "code",
   "execution_count": 33,
   "metadata": {},
   "outputs": [],
   "source": [
    "df = df.drop('Label',axis=1)"
   ]
  },
  {
   "cell_type": "markdown",
   "metadata": {},
   "source": [
    "### Scaling"
   ]
  },
  {
   "cell_type": "code",
   "execution_count": 34,
   "metadata": {},
   "outputs": [],
   "source": [
    "from sklearn import preprocessing\n",
    "from sklearn.preprocessing import StandardScaler"
   ]
  },
  {
   "cell_type": "code",
   "execution_count": 35,
   "metadata": {},
   "outputs": [],
   "source": [
    "def preprocess(data,scaling=None):\n",
    "    data = data.astype(np.float)\n",
    "    if(scaling == None):\n",
    "        scaling = StandardScaler()\n",
    "        datat=scaling.fit_transform(data)\n",
    "    else:\n",
    "        datat=scaling.transform(data)\n",
    "    return(datat,scaling)"
   ]
  },
  {
   "cell_type": "code",
   "execution_count": 36,
   "metadata": {},
   "outputs": [],
   "source": [
    "Y = df['attack_cat_int']\n",
    "X = df.drop('attack_cat_int',axis=1)"
   ]
  },
  {
   "cell_type": "code",
   "execution_count": 37,
   "metadata": {},
   "outputs": [],
   "source": [
    "X_scaled, scaling = preprocess(X.values)"
   ]
  },
  {
   "cell_type": "code",
   "execution_count": 38,
   "metadata": {},
   "outputs": [
    {
     "data": {
      "text/plain": [
       "(2540047, 47)"
      ]
     },
     "execution_count": 38,
     "metadata": {},
     "output_type": "execute_result"
    }
   ],
   "source": [
    "X_scaled.shape"
   ]
  },
  {
   "cell_type": "code",
   "execution_count": 39,
   "metadata": {},
   "outputs": [
    {
     "data": {
      "text/plain": [
       "(2540047,)"
      ]
     },
     "execution_count": 39,
     "metadata": {},
     "output_type": "execute_result"
    }
   ],
   "source": [
    "Y.shape"
   ]
  },
  {
   "cell_type": "code",
   "execution_count": 40,
   "metadata": {},
   "outputs": [],
   "source": [
    "# arbitrary test/train split currently"
   ]
  },
  {
   "cell_type": "code",
   "execution_count": 41,
   "metadata": {},
   "outputs": [],
   "source": [
    "from sklearn.model_selection import train_test_split"
   ]
  },
  {
   "cell_type": "code",
   "execution_count": 42,
   "metadata": {},
   "outputs": [],
   "source": [
    "X_train, X_test, Y_train, Y_test = train_test_split(X_scaled ,Y, test_size = 0.1, random_state = 10)"
   ]
  },
  {
   "cell_type": "markdown",
   "metadata": {},
   "source": [
    "### Types of Neural Network"
   ]
  },
  {
   "cell_type": "markdown",
   "metadata": {},
   "source": [
    "Before creating a model, one thing that I want to comment on is the choice of neural network. In lectures we discuss many types incluidng: perceptron, Feed Forward, Auto-Encoder, Recurrent, Convolutional, etc. When doing research ([7], [12]) it looks like only Feed Forward, Auto-Encoders and Boltzmann are used when it comes to classification. Since we are aiming to classify with this project these seem like the main ones to apply and although using recurrent and convolutional neural networks would be interesting and is definitely possible within Keras using layers such as Pooling, LSTM and Convolutional2D, since we have neither time-series data, nor image data, it would be incorrect to apply these in this case despite the general interest they pose.\n",
    "\n",
    "For reference, a Boltzmann machine implementation is not possible through Keras since as is pointed out in [16] and in other areas, the Boltzmann machine has fallen out of favour and is no longer on the cutting edge and therefore cannot be implemented within Keras. It can be implemented through SKLearn if we want to implement it as an example."
   ]
  },
  {
   "cell_type": "markdown",
   "metadata": {},
   "source": [
    "### Model"
   ]
  },
  {
   "cell_type": "markdown",
   "metadata": {},
   "source": [
    "We first look at making a standard Feed Forward Neural Network. These are produced using the Dense layers from Keras and allow us to create an 'easy' model to run as a first try of our Neural Network. We run this for 100 epochs on my computer as a proof of concept and then run it properly on the HPC."
   ]
  },
  {
   "cell_type": "code",
   "execution_count": 43,
   "metadata": {},
   "outputs": [],
   "source": [
    "import tensorflow as tf\n",
    "import keras"
   ]
  },
  {
   "cell_type": "code",
   "execution_count": 44,
   "metadata": {},
   "outputs": [],
   "source": [
    "from keras import models, layers\n",
    "from keras.layers import LSTM\n",
    "from keras.models import Sequential\n",
    "from keras.layers import Dense"
   ]
  },
  {
   "cell_type": "code",
   "execution_count": 45,
   "metadata": {},
   "outputs": [],
   "source": [
    "ffmodel = Sequential()\n",
    "ffmodel.add(Dense(24, input_dim=X_train.shape[1], activation='elu'))\n",
    "ffmodel.add(Dense(X_train.shape[1], activation='elu'))\n",
    "ffmodel.add(Dense(10, activation='sigmoid'))\n",
    "ffmodel.compile(loss=keras.losses.SparseCategoricalCrossentropy(), optimizer='adam', metrics=['accuracy'])"
   ]
  },
  {
   "cell_type": "code",
   "execution_count": 46,
   "metadata": {},
   "outputs": [
    {
     "name": "stdout",
     "output_type": "stream",
     "text": [
      "Model: \"sequential\"\n",
      "_________________________________________________________________\n",
      "Layer (type)                 Output Shape              Param #   \n",
      "=================================================================\n",
      "dense (Dense)                (None, 24)                1152      \n",
      "_________________________________________________________________\n",
      "dense_1 (Dense)              (None, 47)                1175      \n",
      "_________________________________________________________________\n",
      "dense_2 (Dense)              (None, 10)                480       \n",
      "=================================================================\n",
      "Total params: 2,807\n",
      "Trainable params: 2,807\n",
      "Non-trainable params: 0\n",
      "_________________________________________________________________\n"
     ]
    }
   ],
   "source": [
    "ffmodel.summary()"
   ]
  },
  {
   "cell_type": "markdown",
   "metadata": {},
   "source": [
    "From the summary above, we see that we have successfully created our Neural Network with the correct layers."
   ]
  },
  {
   "cell_type": "code",
   "execution_count": 47,
   "metadata": {},
   "outputs": [],
   "source": [
    "import datetime"
   ]
  },
  {
   "cell_type": "markdown",
   "metadata": {},
   "source": [
    "This function allows us to use the TensorBoard visualisation to better visualise our Neuarl Network to combat overfitting and understand the creation of the Neural Network."
   ]
  },
  {
   "cell_type": "code",
   "execution_count": 48,
   "metadata": {},
   "outputs": [],
   "source": [
    "# clearing previous logs\n",
    "import shutil\n",
    "try:\n",
    "    shutil.rmtree('C:/Users/corri/OneDrive\\Documents/GitHub/DST-Assessment-04/Matt Corrie/logs')\n",
    "except WindowsError:\n",
    "    pass"
   ]
  },
  {
   "cell_type": "code",
   "execution_count": 49,
   "metadata": {},
   "outputs": [],
   "source": [
    "log_dir = \"logs/fit/\" + datetime.datetime.now().strftime(\"%Y%m%d-%H%M%S\")\n",
    "tensorboard_callback = tf.keras.callbacks.TensorBoard(log_dir=log_dir, histogram_freq=1)"
   ]
  },
  {
   "cell_type": "markdown",
   "metadata": {},
   "source": [
    "The model is a proof of concept to figure out what works! From [8], one of the first things we should do is adjust our batch size. Large batch size's degrade the quality of the model due to an inability to generalise so instead in the paper referenced, a batch size of 32-512 data points is recommended. We'll use the middle so take a batch size of 256 (which is also recommended in [9]. \n",
    "\n",
    "Number of epochs is something we should consider but this is more of an analysis problem for overfitting. We define a function that allows us to check for over fitting below."
   ]
  },
  {
   "cell_type": "code",
   "execution_count": 50,
   "metadata": {},
   "outputs": [],
   "source": [
    "def compile_fit(model, max_epochs, step_size):\n",
    "    \n",
    "    model.compile(loss=keras.losses.SparseCategoricalCrossentropy(), optimizer='adam', metrics=['accuracy'])\n",
    "    \n",
    "    model.summary()\n",
    "    \n",
    "    epochs_list=list()\n",
    "    trainacc=list()\n",
    "    testacc=list()\n",
    "    \n",
    "    epochs = 0\n",
    "    \n",
    "    for i in range(0, int(max_epochs / step_size)):\n",
    "        \n",
    "        print(\"epoch : \" + str(epochs))\n",
    "        \n",
    "        model.fit(X_train, Y_train, epochs=step_size, batch_size=256, validation_data=(X_test, Y_test), \n",
    "          callbacks=[tensorboard_callback])\n",
    "        trainscores = model.evaluate(X_train, Y_train)\n",
    "        testscores = model.evaluate(X_test, Y_test)\n",
    "        \n",
    "        trainacc.append(trainscores[1])\n",
    "        testacc.append(testscores[1])\n",
    "        epochs = epochs + step_size\n",
    "        epochs_list.append(epochs)\n",
    "        \n",
    "    return epochs_list, trainacc, testacc"
   ]
  },
  {
   "cell_type": "code",
   "execution_count": 51,
   "metadata": {},
   "outputs": [
    {
     "name": "stdout",
     "output_type": "stream",
     "text": [
      "Model: \"sequential\"\n",
      "_________________________________________________________________\n",
      "Layer (type)                 Output Shape              Param #   \n",
      "=================================================================\n",
      "dense (Dense)                (None, 24)                1152      \n",
      "_________________________________________________________________\n",
      "dense_1 (Dense)              (None, 47)                1175      \n",
      "_________________________________________________________________\n",
      "dense_2 (Dense)              (None, 10)                480       \n",
      "=================================================================\n",
      "Total params: 2,807\n",
      "Trainable params: 2,807\n",
      "Non-trainable params: 0\n",
      "_________________________________________________________________\n",
      "epoch : 0\n",
      "Epoch 1/2\n",
      "8930/8930 [==============================] - 7s 759us/step - loss: 0.1262 - accuracy: 0.9610 - val_loss: 0.0628 - val_accuracy: 0.9754\n",
      "Epoch 2/2\n",
      "8930/8930 [==============================] - 6s 658us/step - loss: 0.0626 - accuracy: 0.9751 - val_loss: 0.0597 - val_accuracy: 0.9762\n",
      "71439/71439 [==============================] - 24s 336us/step - loss: 0.0598 - accuracy: 0.9761\n",
      "7938/7938 [==============================] - 3s 327us/step - loss: 0.0597 - accuracy: 0.9762\n",
      "epoch : 2\n",
      "Epoch 1/2\n",
      "8930/8930 [==============================] - 6s 692us/step - loss: 0.0592 - accuracy: 0.9762 - val_loss: 0.0578 - val_accuracy: 0.9760\n",
      "Epoch 2/2\n",
      "8930/8930 [==============================] - 6s 652us/step - loss: 0.0573 - accuracy: 0.9769 - val_loss: 0.0565 - val_accuracy: 0.9773\n",
      "71439/71439 [==============================] - 24s 338us/step - loss: 0.0563 - accuracy: 0.9775\n",
      "7938/7938 [==============================] - 3s 335us/step - loss: 0.0565 - accuracy: 0.9773\n",
      "epoch : 4\n",
      "Epoch 1/2\n",
      "8930/8930 [==============================] - 6s 680us/step - loss: 0.0557 - accuracy: 0.9775 - val_loss: 0.0547 - val_accuracy: 0.9779\n",
      "Epoch 2/2\n",
      "8930/8930 [==============================] - 6s 655us/step - loss: 0.0547 - accuracy: 0.9778 - val_loss: 0.0544 - val_accuracy: 0.9777\n",
      "71439/71439 [==============================] - 24s 333us/step - loss: 0.0542 - accuracy: 0.9778\n",
      "7938/7938 [==============================] - 3s 323us/step - loss: 0.0544 - accuracy: 0.9777\n",
      "epoch : 6\n",
      "Epoch 1/2\n",
      "8930/8930 [==============================] - 6s 679us/step - loss: 0.0539 - accuracy: 0.9782 - val_loss: 0.0542 - val_accuracy: 0.9784\n",
      "Epoch 2/2\n",
      "8930/8930 [==============================] - 6s 664us/step - loss: 0.0535 - accuracy: 0.9783 - val_loss: 0.0530 - val_accuracy: 0.9787\n",
      "71439/71439 [==============================] - 24s 331us/step - loss: 0.0528 - accuracy: 0.9787\n",
      "7938/7938 [==============================] - 3s 330us/step - loss: 0.0530 - accuracy: 0.9787\n",
      "epoch : 8\n",
      "Epoch 1/2\n",
      "8930/8930 [==============================] - 6s 661us/step - loss: 0.0530 - accuracy: 0.9785 - val_loss: 0.0528 - val_accuracy: 0.9786\n",
      "Epoch 2/2\n",
      "8930/8930 [==============================] - 6s 647us/step - loss: 0.0527 - accuracy: 0.9786 - val_loss: 0.0527 - val_accuracy: 0.9785\n",
      "71439/71439 [==============================] - 24s 336us/step - loss: 0.0523 - accuracy: 0.9789\n",
      "7938/7938 [==============================] - 3s 343us/step - loss: 0.0527 - accuracy: 0.9785\n"
     ]
    }
   ],
   "source": [
    "epochs, trainacc, testacc = compile_fit(ffmodel, 10, 2)"
   ]
  },
  {
   "cell_type": "code",
   "execution_count": 52,
   "metadata": {},
   "outputs": [
    {
     "data": {
      "image/png": "[encoded data removed]",
      "text/plain": [
       "<Figure size 432x288 with 1 Axes>"
      ]
     },
     "metadata": {
      "needs_background": "light"
     },
     "output_type": "display_data"
    }
   ],
   "source": [
    "plt.plot(epochs, trainacc, color = 'g', label='training accuracy')\n",
    "plt.plot(epochs, testacc, color = 'r', label='test accuracy')\n",
    "plt.xlabel('epochs')\n",
    "plt.ylabel('accuracy')\n",
    "plt.show()"
   ]
  },
  {
   "cell_type": "markdown",
   "metadata": {},
   "source": [
    "From the plot above "
   ]
  },
  {
   "cell_type": "markdown",
   "metadata": {},
   "source": [
    "### Tensorboard"
   ]
  },
  {
   "cell_type": "code",
   "execution_count": 53,
   "metadata": {},
   "outputs": [
    {
     "data": {
      "text/plain": [
       "Reusing TensorBoard on port 6006 (pid 340), started 11:18:51 ago. (Use '!kill 340' to kill it.)"
      ]
     },
     "metadata": {},
     "output_type": "display_data"
    },
    {
     "data": {
      "text/html": [
       "\n",
       "      <iframe id=\"tensorboard-frame-e4b2210c8de0fcf2\" width=\"100%\" height=\"800\" frameborder=\"0\">\n",
       "      </iframe>\n",
       "      <script>\n",
       "        (function() {\n",
       "          const frame = document.getElementById(\"tensorboard-frame-e4b2210c8de0fcf2\");\n",
       "          const url = new URL(\"/\", window.location);\n",
       "          const port = 6006;\n",
       "          if (port) {\n",
       "            url.port = port;\n",
       "          }\n",
       "          frame.src = url;\n",
       "        })();\n",
       "      </script>\n",
       "    "
      ],
      "text/plain": [
       "<IPython.core.display.HTML object>"
      ]
     },
     "metadata": {},
     "output_type": "display_data"
    }
   ],
   "source": [
    "%tensorboard --logdir logs/fit"
   ]
  },
  {
   "cell_type": "markdown",
   "metadata": {},
   "source": [
    "From the TensorBoard guide, a brief overview of the dashboards shown:\n",
    "\n",
    "- The **Scalars** dashboard shows how the loss and metrics change with every epoch. You can use it to also track training speed, learning rate, and other scalar values.\n",
    "- The **Graphs** dashboard helps you visualize your model. In this case, the Keras graph of layers is shown which can help you ensure it is built correctly.\n",
    "- The **Distributions** and **Histograms** dashboards show the distribution of a Tensor over time. This can be useful to visualize weights and biases and verify that they are changing in an expected way."
   ]
  },
  {
   "cell_type": "markdown",
   "metadata": {},
   "source": [
    "### Hyperparameter Tuning"
   ]
  },
  {
   "cell_type": "markdown",
   "metadata": {},
   "source": [
    "To decide on the correct hyperparameters, we use gridsearch."
   ]
  },
  {
   "cell_type": "code",
   "execution_count": 54,
   "metadata": {},
   "outputs": [],
   "source": [
    "from sklearn.model_selection import GridSearchCV\n",
    "from keras.wrappers.scikit_learn import KerasClassifier"
   ]
  },
  {
   "cell_type": "code",
   "execution_count": 55,
   "metadata": {},
   "outputs": [],
   "source": [
    "def create_model(hidden_layers, n_nodes, init_mode='uniform'):\n",
    "\n",
    "    model = Sequential()\n",
    "    model.add(Dense(24, input_dim=X_train.shape[1], activation='relu'))\n",
    "    \n",
    "    for i in range(int(hidden_layers)):\n",
    "        model.add(Dense(n_nodes, activation='relu'))\n",
    "    \n",
    "    model.add(Dense(10, kernel_initializer=init_mode, activation='sigmoid'))\n",
    "\n",
    "    model.compile(loss=keras.losses.SparseCategoricalCrossentropy(), optimizer='adam', metrics=['accuracy'])\n",
    "    return model"
   ]
  },
  {
   "cell_type": "code",
   "execution_count": 56,
   "metadata": {},
   "outputs": [],
   "source": [
    "modelHT = KerasClassifier(build_fn=create_model, verbose=0)"
   ]
  },
  {
   "cell_type": "code",
   "execution_count": 58,
   "metadata": {},
   "outputs": [],
   "source": [
    "#hidden_layers = [1,2,3,4,5,6,7,8,9,10]\n",
    "hidden_layers = [1,2]\n",
    "#n_nodes = [1,2,5,10,15,20,25]\n",
    "n_nodes = [1,2]\n",
    "param_grid = dict(hidden_layers=hidden_layers, n_nodes = n_nodes, batch_size = [256], epochs=[10])"
   ]
  },
  {
   "cell_type": "code",
   "execution_count": 59,
   "metadata": {},
   "outputs": [
    {
     "name": "stderr",
     "output_type": "stream",
     "text": [
      "C:\\Users\\corri\\anaconda3\\lib\\site-packages\\tensorflow\\python\\keras\\engine\\sequential.py:450: UserWarning: `model.predict_classes()` is deprecated and will be removed after 2021-01-01. Please use instead:* `np.argmax(model.predict(x), axis=-1)`,   if your model does multi-class classification   (e.g. if it uses a `softmax` last-layer activation).* `(model.predict(x) > 0.5).astype(\"int32\")`,   if your model does binary classification   (e.g. if it uses a `sigmoid` last-layer activation).\n",
      "  warnings.warn('`model.predict_classes()` is deprecated and '\n"
     ]
    }
   ],
   "source": [
    "grid = GridSearchCV(estimator=modelHT, param_grid=param_grid, scoring='accuracy')\n",
    "grid_result = grid.fit(X_train, Y_train)"
   ]
  },
  {
   "cell_type": "code",
   "execution_count": 60,
   "metadata": {},
   "outputs": [
    {
     "name": "stdout",
     "output_type": "stream",
     "text": [
      "Best: 0.968234 using {'batch_size': 256, 'epochs': 10, 'hidden_layers': 1, 'n_nodes': 1}\n",
      "0.968234 (0.004371) with: {'batch_size': 256, 'epochs': 10, 'hidden_layers': 1, 'n_nodes': 1}\n",
      "0.899909 (0.005610) with: {'batch_size': 256, 'epochs': 10, 'hidden_layers': 1, 'n_nodes': 2}\n",
      "0.890425 (0.034352) with: {'batch_size': 256, 'epochs': 10, 'hidden_layers': 2, 'n_nodes': 1}\n",
      "0.967053 (0.006751) with: {'batch_size': 256, 'epochs': 10, 'hidden_layers': 2, 'n_nodes': 2}\n"
     ]
    }
   ],
   "source": [
    "print(\"Best: %f using %s\" % (grid_result.best_score_, grid_result.best_params_))\n",
    "means = grid_result.cv_results_['mean_test_score']\n",
    "stds = grid_result.cv_results_['std_test_score']\n",
    "params = grid_result.cv_results_['params']\n",
    "for mean, stdev, param in zip(means, stds, params):\n",
    "    print(\"%f (%f) with: %r\" % (mean, stdev, param))"
   ]
  },
  {
   "cell_type": "code",
   "execution_count": 61,
   "metadata": {},
   "outputs": [
    {
     "data": {
      "text/html": [
       "<div>\n",
       "<style scoped>\n",
       "    .dataframe tbody tr th:only-of-type {\n",
       "        vertical-align: middle;\n",
       "    }\n",
       "\n",
       "    .dataframe tbody tr th {\n",
       "        vertical-align: top;\n",
       "    }\n",
       "\n",
       "    .dataframe thead th {\n",
       "        text-align: right;\n",
       "    }\n",
       "</style>\n",
       "<table border=\"1\" class=\"dataframe\">\n",
       "  <thead>\n",
       "    <tr style=\"text-align: right;\">\n",
       "      <th></th>\n",
       "      <th>mean_test_score</th>\n",
       "      <th>std_test_score</th>\n",
       "      <th>params</th>\n",
       "    </tr>\n",
       "  </thead>\n",
       "  <tbody>\n",
       "    <tr>\n",
       "      <th>0</th>\n",
       "      <td>0.968234</td>\n",
       "      <td>0.004371</td>\n",
       "      <td>{'batch_size': 256, 'epochs': 10, 'hidden_laye...</td>\n",
       "    </tr>\n",
       "    <tr>\n",
       "      <th>1</th>\n",
       "      <td>0.899909</td>\n",
       "      <td>0.005610</td>\n",
       "      <td>{'batch_size': 256, 'epochs': 10, 'hidden_laye...</td>\n",
       "    </tr>\n",
       "    <tr>\n",
       "      <th>2</th>\n",
       "      <td>0.890425</td>\n",
       "      <td>0.034352</td>\n",
       "      <td>{'batch_size': 256, 'epochs': 10, 'hidden_laye...</td>\n",
       "    </tr>\n",
       "    <tr>\n",
       "      <th>3</th>\n",
       "      <td>0.967053</td>\n",
       "      <td>0.006751</td>\n",
       "      <td>{'batch_size': 256, 'epochs': 10, 'hidden_laye...</td>\n",
       "    </tr>\n",
       "  </tbody>\n",
       "</table>\n",
       "</div>"
      ],
      "text/plain": [
       "   mean_test_score  std_test_score  \\\n",
       "0         0.968234        0.004371   \n",
       "1         0.899909        0.005610   \n",
       "2         0.890425        0.034352   \n",
       "3         0.967053        0.006751   \n",
       "\n",
       "                                              params  \n",
       "0  {'batch_size': 256, 'epochs': 10, 'hidden_laye...  \n",
       "1  {'batch_size': 256, 'epochs': 10, 'hidden_laye...  \n",
       "2  {'batch_size': 256, 'epochs': 10, 'hidden_laye...  \n",
       "3  {'batch_size': 256, 'epochs': 10, 'hidden_laye...  "
      ]
     },
     "execution_count": 61,
     "metadata": {},
     "output_type": "execute_result"
    }
   ],
   "source": [
    "pd.DataFrame(grid.cv_results_)[['mean_test_score', 'std_test_score', 'params']]"
   ]
  },
  {
   "cell_type": "markdown",
   "metadata": {},
   "source": [
    "### Recreating with our best parameters"
   ]
  },
  {
   "cell_type": "code",
   "execution_count": 63,
   "metadata": {},
   "outputs": [],
   "source": [
    "hl = grid.best_params_['hidden_layers']\n",
    "num_nod = grid.best_params_['n_nodes']\n",
    "\n",
    "tuned_ffmodel = create_model(hidden_layers = hl,n_nodes = num_nod)"
   ]
  },
  {
   "cell_type": "code",
   "execution_count": 65,
   "metadata": {},
   "outputs": [
    {
     "name": "stdout",
     "output_type": "stream",
     "text": [
      "Model: \"sequential_22\"\n",
      "_________________________________________________________________\n",
      "Layer (type)                 Output Shape              Param #   \n",
      "=================================================================\n",
      "dense_76 (Dense)             (None, 24)                1152      \n",
      "_________________________________________________________________\n",
      "dense_77 (Dense)             (None, 1)                 25        \n",
      "_________________________________________________________________\n",
      "dense_78 (Dense)             (None, 10)                20        \n",
      "=================================================================\n",
      "Total params: 1,197\n",
      "Trainable params: 1,197\n",
      "Non-trainable params: 0\n",
      "_________________________________________________________________\n",
      "epoch : 0\n",
      "Epoch 1/2\n",
      "8930/8930 [==============================] - 7s 704us/step - loss: 0.1482 - accuracy: 0.9579 - val_loss: 0.1471 - val_accuracy: 0.9577\n",
      "Epoch 2/2\n",
      "8930/8930 [==============================] - 6s 674us/step - loss: 0.1467 - accuracy: 0.9578 - val_loss: 0.1468 - val_accuracy: 0.9577\n",
      "71439/71439 [==============================] - 24s 335us/step - loss: 0.1457 - accuracy: 0.9579\n",
      "7938/7938 [==============================] - 3s 337us/step - loss: 0.1468 - accuracy: 0.9577\n",
      "epoch : 2\n",
      "Epoch 1/2\n",
      "8930/8930 [==============================] - 7s 728us/step - loss: 0.1454 - accuracy: 0.9580 - val_loss: 0.1437 - val_accuracy: 0.9582\n",
      "Epoch 2/2\n",
      "8930/8930 [==============================] - 6s 696us/step - loss: 0.1437 - accuracy: 0.9587 - val_loss: 0.1429 - val_accuracy: 0.9583\n",
      "71439/71439 [==============================] - 24s 330us/step - loss: 0.1423 - accuracy: 0.9586\n",
      "7938/7938 [==============================] - 3s 326us/step - loss: 0.1429 - accuracy: 0.9583\n",
      "epoch : 4\n",
      "Epoch 1/2\n",
      "8930/8930 [==============================] - 6s 710us/step - loss: 0.1422 - accuracy: 0.9587 - val_loss: 0.1420 - val_accuracy: 0.9586\n",
      "Epoch 2/2\n",
      "8930/8930 [==============================] - 6s 691us/step - loss: 0.1424 - accuracy: 0.9588 - val_loss: 0.1437 - val_accuracy: 0.9586\n",
      "71439/71439 [==============================] - 24s 341us/step - loss: 0.1418 - accuracy: 0.9589\n",
      "7938/7938 [==============================] - 3s 345us/step - loss: 0.1437 - accuracy: 0.9586\n",
      "epoch : 6\n",
      "Epoch 1/2\n",
      "8930/8930 [==============================] - 6s 707us/step - loss: 0.1422 - accuracy: 0.9588 - val_loss: 0.1424 - val_accuracy: 0.9584\n",
      "Epoch 2/2\n",
      "8930/8930 [==============================] - 6s 705us/step - loss: 0.1418 - accuracy: 0.9588 - val_loss: 0.1415 - val_accuracy: 0.9586\n",
      "71439/71439 [==============================] - 24s 342us/step - loss: 0.1411 - accuracy: 0.9589\n",
      "7938/7938 [==============================] - 3s 329us/step - loss: 0.1415 - accuracy: 0.9586\n",
      "epoch : 8\n",
      "Epoch 1/2\n",
      "8930/8930 [==============================] - 6s 709us/step - loss: 0.1409 - accuracy: 0.9590 - val_loss: 0.1385 - val_accuracy: 0.9595\n",
      "Epoch 2/2\n",
      "8930/8930 [==============================] - 7s 729us/step - loss: 0.1389 - accuracy: 0.9600 - val_loss: 0.1381 - val_accuracy: 0.9599\n",
      "71439/71439 [==============================] - 24s 336us/step - loss: 0.1379 - accuracy: 0.9600\n",
      "7938/7938 [==============================] - 3s 339us/step - loss: 0.1381 - accuracy: 0.9599\n"
     ]
    }
   ],
   "source": [
    "epochs, trainacc, testacc = compile_fit(tuned_ffmodel, 10, 2) # computer version\n",
    "# epochs, trainacc, testacc = compile_fit(tuned_ffmodel, 1000, 2) # HPC version"
   ]
  },
  {
   "cell_type": "markdown",
   "metadata": {},
   "source": [
    "The below code allows us to run this on the HPC and save our resulting files from this, the files in this folder are from running this on the HPC and not from running this on my own computer which is run with a smaller amount of epochs."
   ]
  },
  {
   "cell_type": "code",
   "execution_count": 66,
   "metadata": {},
   "outputs": [
    {
     "name": "stdout",
     "output_type": "stream",
     "text": [
      "INFO:tensorflow:Assets written to: MattFFNNHPC\\assets\n"
     ]
    }
   ],
   "source": [
    "tuned_ffmodel.save('MattFFNNHPC')\n",
    "pickle.dump(epochs, open('../epochs.p','wb'))\n",
    "pickle.dump(trainacc, open('../trainacc.p','wb'))\n",
    "pickle.dump(testacc, open('../testacc.p','wb'))"
   ]
  },
  {
   "cell_type": "markdown",
   "metadata": {},
   "source": [
    "### Predictions"
   ]
  },
  {
   "cell_type": "markdown",
   "metadata": {},
   "source": [
    "We can load our model that is produced by the HPC if we so choose. This model is saved as 'MattFFNNHPC'. Uncomment the first cell to do this."
   ]
  },
  {
   "cell_type": "code",
   "execution_count": 67,
   "metadata": {},
   "outputs": [],
   "source": [
    "#from keras.models import load_model\n",
    "#ffmodel = load_model('MattFFNNHPC')"
   ]
  },
  {
   "cell_type": "code",
   "execution_count": 68,
   "metadata": {},
   "outputs": [],
   "source": [
    "from sklearn.metrics import confusion_matrix\n",
    "import seaborn as sn"
   ]
  },
  {
   "cell_type": "code",
   "execution_count": 69,
   "metadata": {},
   "outputs": [],
   "source": [
    "predictions = tuned_ffmodel.predict(X_test)\n",
    "Y_pred = predictions.argmax(axis=1)\n",
    "Y_test_c = Y_test.values.tolist()\n",
    "\n",
    "pickle.dump(Y_pred, open('../Y_predictions.p','wb'))\n",
    "pickle.dump(Y_test_c, open('../Y_predictions.p','wb'))"
   ]
  },
  {
   "cell_type": "code",
   "execution_count": 70,
   "metadata": {},
   "outputs": [],
   "source": [
    "a = confusion_matrix(Y_test_c, Y_pred)"
   ]
  },
  {
   "cell_type": "code",
   "execution_count": 71,
   "metadata": {},
   "outputs": [
    {
     "data": {
      "text/plain": [
       "<AxesSubplot:>"
      ]
     },
     "execution_count": 71,
     "metadata": {},
     "output_type": "execute_result"
    },
    {
     "data": {
      "image/png": "[encoded data removed]",
      "text/plain": [
       "<Figure size 720x504 with 2 Axes>"
      ]
     },
     "metadata": {
      "needs_background": "light"
     },
     "output_type": "display_data"
    }
   ],
   "source": [
    "plt.figure(figsize = (10,7))\n",
    "sn.heatmap(a, annot=True)"
   ]
  },
  {
   "cell_type": "markdown",
   "metadata": {},
   "source": [
    "### Extreme Learning Machine"
   ]
  },
  {
   "cell_type": "code",
   "execution_count": 72,
   "metadata": {},
   "outputs": [],
   "source": [
    "from scipy.linalg import pinv2"
   ]
  },
  {
   "cell_type": "code",
   "execution_count": 73,
   "metadata": {},
   "outputs": [],
   "source": [
    "input_size = X_train.shape[1]\n",
    "hidden_size = 100\n",
    "input_weights = np.random.normal(size=[input_size,hidden_size])\n",
    "biases = np.random.normal(size=[hidden_size])"
   ]
  },
  {
   "cell_type": "code",
   "execution_count": 74,
   "metadata": {},
   "outputs": [],
   "source": [
    "def relu(x):\n",
    "    return np.maximum(x, 0, x)"
   ]
  },
  {
   "cell_type": "code",
   "execution_count": 75,
   "metadata": {},
   "outputs": [],
   "source": [
    "def hidden_nodes(X):\n",
    "    G = np.dot(X, input_weights)\n",
    "    G = G + biases\n",
    "    H = relu(G)\n",
    "    return H"
   ]
  },
  {
   "cell_type": "code",
   "execution_count": 76,
   "metadata": {},
   "outputs": [],
   "source": [
    "output_weights = np.dot(pinv2(hidden_nodes(X_train)), Y_train)"
   ]
  },
  {
   "cell_type": "code",
   "execution_count": 77,
   "metadata": {},
   "outputs": [],
   "source": [
    "def predict(X):\n",
    "    out = hidden_nodes(X)\n",
    "    out = np.dot(out, output_weights)\n",
    "    return out"
   ]
  },
  {
   "cell_type": "code",
   "execution_count": 78,
   "metadata": {},
   "outputs": [
    {
     "name": "stdout",
     "output_type": "stream",
     "text": [
      "Accuracy for  100  hidden nodes:  1.0\n"
     ]
    }
   ],
   "source": [
    "prediction = predict(X_test)\n",
    "correct = 0\n",
    "total = X_test.shape[0]\n",
    "for i in range(total):\n",
    "    predicted = np.argmax(prediction[i])\n",
    "    actual = np.argmax(Y_test.iloc[i])\n",
    "    correct += 1 if predicted == actual else 0\n",
    "accuracy = correct/total\n",
    "print('Accuracy for ', hidden_size, ' hidden nodes: ', accuracy)"
   ]
  },
  {
   "cell_type": "code",
   "execution_count": 79,
   "metadata": {},
   "outputs": [
    {
     "name": "stdout",
     "output_type": "stream",
     "text": [
      "Working with: 1.000000 hidden nodes.\n",
      "Working with: 2.000000 hidden nodes.\n",
      "Working with: 3.000000 hidden nodes.\n",
      "Working with: 4.000000 hidden nodes.\n",
      "Working with: 5.000000 hidden nodes.\n",
      "Working with: 6.000000 hidden nodes.\n",
      "Working with: 7.000000 hidden nodes.\n",
      "Working with: 8.000000 hidden nodes.\n",
      "Working with: 9.000000 hidden nodes.\n",
      "Working with: 10.000000 hidden nodes.\n",
      "Working with: 11.000000 hidden nodes.\n",
      "Working with: 12.000000 hidden nodes.\n",
      "Working with: 13.000000 hidden nodes.\n",
      "Working with: 14.000000 hidden nodes.\n",
      "Working with: 15.000000 hidden nodes.\n",
      "Working with: 16.000000 hidden nodes.\n",
      "Working with: 17.000000 hidden nodes.\n",
      "Working with: 18.000000 hidden nodes.\n",
      "Working with: 19.000000 hidden nodes.\n",
      "Working with: 20.000000 hidden nodes.\n",
      "Working with: 21.000000 hidden nodes.\n",
      "Working with: 22.000000 hidden nodes.\n",
      "Working with: 23.000000 hidden nodes.\n",
      "Working with: 24.000000 hidden nodes.\n",
      "Working with: 25.000000 hidden nodes.\n",
      "Working with: 26.000000 hidden nodes.\n",
      "Working with: 27.000000 hidden nodes.\n",
      "Working with: 28.000000 hidden nodes.\n",
      "Working with: 29.000000 hidden nodes.\n"
     ]
    },
    {
     "data": {
      "image/png": "[encoded data removed]",
      "text/plain": [
       "<Figure size 432x288 with 1 Axes>"
      ]
     },
     "metadata": {
      "needs_background": "light"
     },
     "output_type": "display_data"
    }
   ],
   "source": [
    "accuracys = np.zeros(29)\n",
    "\n",
    "for i in range(1,30):\n",
    "    \n",
    "    print('Working with: {:1f} hidden nodes.'.format(i))\n",
    "    \n",
    "    input_size = X_train.shape[1]\n",
    "    hidden_size = i\n",
    "    input_weights = np.random.normal(size=[input_size,hidden_size])\n",
    "    biases = np.random.normal(size=[hidden_size])\n",
    "    \n",
    "    output_weights = np.dot(pinv2(hidden_nodes(X_train)), Y_train)\n",
    "    \n",
    "    prediction = predict(X_test)\n",
    "    correct = 0\n",
    "    total = X_test.shape[0]\n",
    "    for j in range(total):\n",
    "        predicted = np.argmax(prediction[j])\n",
    "        actual = np.argmax(Y_test.iloc[j])\n",
    "        correct += 1 if predicted == actual else 0\n",
    "        accuracy = correct/total\n",
    "    accuracys[i-1] = accuracy\n",
    "    \n",
    "x = np.arange(1,30)\n",
    "\n",
    "plt.plot(x,accuracys)\n",
    "plt.show()"
   ]
  },
  {
   "cell_type": "markdown",
   "metadata": {},
   "source": [
    "So the accuracy of our ELM is supposedly perfect no matter how many hidden nodes we use. It's an easier model to train but I'm not confident this is working correctly since I would presume there should be *some* deviation from perfect even with Neural Networks."
   ]
  },
  {
   "cell_type": "markdown",
   "metadata": {},
   "source": [
    "### References"
   ]
  },
  {
   "cell_type": "markdown",
   "metadata": {},
   "source": [
    "1. [Data](https://www.unsw.adfa.edu.au/unsw-canberra-cyber/cybersecurity/ADFA-NB15-Datasets/)\n",
    "2. [Sanity check for .isnull vs isna](https://datascience.stackexchange.com/questions/37878/difference-between-isna-and-isnull-in-pandas)\n",
    "3. [NaN loss adjustments](https://stackoverflow.com/questions/37232782/nan-loss-when-training-regression-network)\n",
    "4. [Map functionality needed research due to NaN errors due to weird data](https://stackoverflow.com/questions/17114904/python-pandas-replacing-strings-in-dataframe-with-numbers)\n",
    "5. [Extreme Learning Machine](https://towardsdatascience.com/build-an-extreme-learning-machine-in-python-91d1e8958599)\n",
    "6. [Keras Layers](https://keras.io/api/layers/)\n",
    "7. [Types of NN](https://towardsdatascience.com/the-mostly-complete-chart-of-neural-networks-explained-3fb6f2367464)\n",
    "8. [Batch Size Importance](https://stats.stackexchange.com/questions/164876/what-is-the-trade-off-between-batch-size-and-number-of-iterations-to-train-a-neu#:~:text=In%20general%2C%20batch%20size%20of,best%20to%20start%20experimenting%20with.)\n",
    "9. [Optimal Bacth Size](https://ai.stackexchange.com/questions/8560/how-do-i-choose-the-optimal-batch-size)\n",
    "10. [Getting Started with TensorBoard](https://www.tensorflow.org/tensorboard/get_started)\n",
    "11. [Saving & Loading NN](https://machinelearningmastery.com/save-load-keras-deep-learning-models/)\n",
    "12. [Determining NN to use](https://pub.towardsai.net/main-types-of-neural-networks-and-its-applications-tutorial-734480d7ec8e)\n",
    "13. [Confusion Matrix Visualisation](https://stackoverflow.com/questions/35572000/how-can-i-plot-a-confusion-matrix)\n",
    "14. [Removing Logs](https://stackoverflow.com/questions/303200/how-do-i-remove-delete-a-folder-that-is-not-empty)\n",
    "15. [Catching Windows Errors](https://stackoverflow.com/questions/52541181/catch-a-specific-windows-error-number-python)\n",
    "16. [Boltzmann Machines](https://www.kaggle.com/residentmario/restricted-boltzmann-machines-and-pretraining)\n",
    "17. [Hyperparameter Tuning](https://machinelearningmastery.com/grid-search-hyperparameters-deep-learning-models-python-keras/)\n",
    "18. [Hyperparameter Tuning 2](https://www.datagraphi.com/blog/post/2019/12/17/how-to-find-the-optimum-number-of-hidden-layers-and-nodes-in-a-neural-network-model)"
   ]
  }
 ],
 "metadata": {
  "kernelspec": {
   "display_name": "Python 3",
   "language": "python",
   "name": "python3"
  },
  "language_info": {
   "codemirror_mode": {
    "name": "ipython",
    "version": 3
   },
   "file_extension": ".py",
   "mimetype": "text/x-python",
   "name": "python",
   "nbconvert_exporter": "python",
   "pygments_lexer": "ipython3",
   "version": "3.8.5"
  }
 },
 "nbformat": 4,
 "nbformat_minor": 4
}
